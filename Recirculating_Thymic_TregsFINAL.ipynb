{
 "cells": [
  {
   "cell_type": "raw",
   "id": "0716c3e9",
   "metadata": {},
   "source": [
    "## Notebook setup"
   ]
  },
  {
   "cell_type": "code",
   "execution_count": null,
   "id": "ce90833f",
   "metadata": {},
   "outputs": [],
   "source": [
    "import scanpy as sc\n",
    "import scanpy.external as sce\n",
    "import numpy as np\n",
    "import pandas as pd\n",
    "import warnings, scipy.sparse as sp, matplotlib, matplotlib.pyplot as plt\n",
    "from matplotlib.colors import LinearSegmentedColormap\n",
    "from matplotlib.pyplot import rc_context\n",
    "from collections import Counter\n",
    "import matplotlib.font_manager\n",
    "import openpyxl\n",
    "import pyreadr\n",
    "import rpy2\n",
    "import os\n",
    "os.environ['R_HOME'] = '/Library/Frameworks/R.framework/Resources/'\n",
    "os.environ['R_USER'] = '/Library/Frameworks/R.framework/Resources'\n",
    "import anndata2ri\n",
    "from rpy2.robjects.packages import importr\n",
    "import rpy2.robjects as robjects\n",
    "#import magic\n",
    "from scipy import sparse\n",
    "from sklearn.neighbors import NearestNeighbors\n",
    "#import seaborn as sns\n",
    "#import palantir\n",
    "import loompy\n",
    "#import feather\n",
    "import re\n",
    "#from scipy.sparse import csgraph\n",
    "\n",
    "matplotlib.rcParams['pdf.fonttype'] = 42\n",
    "matplotlib.rcParams['ps.fonttype'] = 42\n",
    "matplotlib.rcParams['font.family'] = 'sans-serif'\n",
    "matplotlib.rcParams['font.sans-serif'] = 'Arial'\n",
    "matplotlib.rc('font', size=14)\n",
    "import matplotlib.lines as lines\n",
    "\n",
    "pd.set_option('display.max_rows', 200)\n",
    "\n",
    "sc.set_figure_params(dpi=80, dpi_save=300, color_map='Spectral_r', vector_friendly=True, transparent=True)\n",
    "sc.settings.verbosity = 3 # verbosity: errors (0), warnings (1), info (2), hints (3)\n",
    "sc.logging.print_header()"
   ]
  },
  {
   "cell_type": "code",
   "execution_count": null,
   "id": "b2a9bd09-9e48-452e-ab1b-0e22636946e4",
   "metadata": {},
   "outputs": [],
   "source": [
    "import sys\n",
    "!{sys.executable} -m  pip install pyppeteer\n",
    "\n",
    "\n",
    "\n"
   ]
  },
  {
   "cell_type": "code",
   "execution_count": null,
   "id": "d513a16b",
   "metadata": {},
   "outputs": [],
   "source": [
    "# preset color palettes and color maps\n",
    "user_defined_palette =  [ '#F6222E', '#16FF32', '#3283FE', '#FEAF16', '#BDCDFF', '#3B00FB', '#1CFFCE', '#C075A6', '#F8A19F', '#B5EFB5', '#FBE426', '#C4451C', \n",
    "                          '#2ED9FF', '#c1c119', '#8b0000', '#FE00FA', '#1CBE4F', '#1C8356', '#0e452b', '#AA0DFE', '#B5EFB5', '#325A9B', '#90AD1C']\n",
    "\n",
    "user_defined_cmap_markers = LinearSegmentedColormap.from_list('mycmap', [\"#E6E6FF\", \"#CCCCFF\", \"#B2B2FF\", \"#9999FF\",  \"#6666FF\",   \"#3333FF\", \"#0000FF\"])\n",
    "user_defined_cmap_degs = LinearSegmentedColormap.from_list('mycmap', [\"#0000FF\", \"#3333FF\", \"#6666FF\", \"#9999FF\", \"#B2B2FF\", \"#CCCCFF\", \"#E6E6FF\", \"#E6FFE6\", \"#CCFFCC\", \"#B2FFB2\", \"#99FF99\", \"#66FF66\", \"#33FF33\", \"#00FF00\"])"
   ]
  },
  {
   "cell_type": "code",
   "execution_count": null,
   "id": "185bb91c",
   "metadata": {},
   "outputs": [],
   "source": [
    "%matplotlib inline "
   ]
  },
  {
   "cell_type": "markdown",
   "id": "c341386d",
   "metadata": {},
   "source": [
    "## Perform quality control and clean-up samples"
   ]
  },
  {
   "cell_type": "markdown",
   "id": "85381fcd",
   "metadata": {},
   "source": [
    "### Load cellranger output files"
   ]
  },
  {
   "cell_type": "code",
   "execution_count": null,
   "id": "c2aff027",
   "metadata": {},
   "outputs": [],
   "source": [
    "from pathlib import Path\n",
    "\n",
    "adatas_list=[]\n",
    "names_list=[]\n",
    "\n",
    "tenexdir = '/Users/alemarquis/Desktop//CD45/CD45new/'\n",
    "h5_path = Path(tenexdir).glob('**/**/**/**/filtered_feature_bc_matrix.h5')\n",
    "\n",
    "for path in h5_path:\n",
    "    tmp_adata = sc.read_10x_h5(path)\n",
    "    tmp_adata.var_names_make_unique()\n",
    "    tmp_adata.shape # check the number of cells and genes in sample 1\n",
    "    adatas_list.append(tmp_adata)"
   ]
  },
  {
   "cell_type": "code",
   "execution_count": null,
   "id": "45cfe922",
   "metadata": {},
   "outputs": [],
   "source": [
    "adata = sc.concat(\n",
    "    adatas_list, # add more annadata objects here separated by commas\n",
    "    join='outer', \n",
    "    label = 'sample', \n",
    "    keys = ['mo18_CD45pos1_d4', \"mo18_CD45pos1_d1\", \"mo18_CD45pos2_d7\", \"mo18_CD45pos1_d7\", \"mo02_CD45pos1_d4\", \"mo02_CD45pos2_d1\", \"mo02_CD45pos1_d1\",\n",
    "             \"mo02_CD45pos2_d4\", \"mo02_CD45pos1_d0\", \"mo02_CD45pos2_d0\", \"mo02_CD45pos1_d7\", \"mo02_CD45pos2_d7\", \"mo18_CD45pos2_d0\", \"mo18_CD45pos2_d1\",\n",
    "            \"mo18_CD45pos3_d1\", \"mo18_CD45pos1_d0\", \"mo18_CD45pos2_d4\", \"mo18_CD45pos3_d4\" \n",
    "           ], # or use your sample_names list (as used above) here. \n",
    "    # Make sure the order of the batch categories matches that of the AnnData objects \n",
    "    index_unique = '@'\n",
    ")"
   ]
  },
  {
   "cell_type": "code",
   "execution_count": null,
   "id": "e2ad11af",
   "metadata": {},
   "outputs": [],
   "source": [
    "adata2 = sc.concat(\n",
    "    adatas_list, # add more annadata objects here separated by commas\n",
    "    join='outer', \n",
    "    label = 'sample', \n",
    "    keys = ['mo18_CD45pos1_d4', \"mo18_CD45pos1_d1\", \"mo18_CD45pos2_d7\", \"mo18_CD45pos1_d7\", \"mo02_CD45pos1_d4\", \"mo02_CD45pos2_d1\", \"mo02_CD45pos1_d1\",\n",
    "             \"mo02_CD45pos2_d4\", \"mo02_CD45pos1_d0\", \"mo02_CD45pos2_d0\", \"mo02_CD45pos1_d7\", \"mo02_CD45pos2_d7\", \"mo18_CD45pos2_d0\", \"mo18_CD45pos2_d1\",\n",
    "            \"mo18_CD45pos3_d1\", \"mo18_CD45pos1_d0\", \"mo18_CD45pos2_d4\", \"mo18_CD45pos3_d4\" \n",
    "           ], # or use your sample_names list (as used above) here. \n",
    "    # Make sure the order of the batch categories matches that of the AnnData objects \n",
    "    index_unique = '@'\n",
    ")"
   ]
  },
  {
   "cell_type": "code",
   "execution_count": null,
   "id": "ea943308",
   "metadata": {},
   "outputs": [],
   "source": [
    "adata.raw = adata # keep a copy of the raw adata \n",
    "np.random.seed(42) \n",
    "index_list = np.arange(adata.shape[0]) # randomize the order of cells for plotting\n",
    "np.random.shuffle(index_list)\n",
    "adata = adata[index_list]"
   ]
  },
  {
   "cell_type": "code",
   "execution_count": null,
   "id": "d32d4208",
   "metadata": {},
   "outputs": [],
   "source": [
    "adata.shape"
   ]
  },
  {
   "cell_type": "code",
   "execution_count": null,
   "id": "897e67af-e732-40de-ac51-626006fc8c62",
   "metadata": {},
   "outputs": [],
   "source": [
    "adata.layers['raw_data'] = adata.X.copy()"
   ]
  },
  {
   "cell_type": "code",
   "execution_count": null,
   "id": "fbb18aef-22ee-4a21-b03e-ee916cfc6c4b",
   "metadata": {},
   "outputs": [],
   "source": [
    "rng = np.random.RandomState(42) # set seed "
   ]
  },
  {
   "cell_type": "code",
   "execution_count": null,
   "id": "818cf95e",
   "metadata": {},
   "outputs": [],
   "source": [
    "# metadata\n",
    "adata.obs['stage'] = ['02mo' if 'mo02' in x else '18mo' if 'mo18' in x else 'error' for x in adata.obs['sample'] ]\n",
    "adata.obs['day'] = ['d0' if 'd0' in x else 'd1' if 'd1' in x else 'd4' if 'd4' in x else 'd7' if 'd7' in x else 'error' for x in adata.obs['sample'] ]"
   ]
  },
  {
   "cell_type": "code",
   "execution_count": null,
   "id": "ac774bfc",
   "metadata": {},
   "outputs": [],
   "source": [
    "adata.uns['stage_colors'] =  [ '#76D6FF','#FF8072'] # ['#F5B4AE', '#8FD6D9']\n",
    "adata.uns['day_colors'] = ['#0080FF', '#FFA500',  '#FF00FF', '#00D6D8']"
   ]
  },
  {
   "cell_type": "code",
   "execution_count": null,
   "id": "cf2dcdff",
   "metadata": {},
   "outputs": [],
   "source": [
    "adata"
   ]
  },
  {
   "cell_type": "markdown",
   "id": "eeaae853",
   "metadata": {},
   "source": [
    "### Calculate quality control metrics and perform standard data clean-up"
   ]
  },
  {
   "cell_type": "code",
   "execution_count": null,
   "id": "f0b35eb1",
   "metadata": {},
   "outputs": [],
   "source": [
    "sc.pp.calculate_qc_metrics(adata, inplace=True)\n",
    "#store all unfiltered/unprocessed data prior to downstream analysis\n",
    "adata.obs['original_total_counts'] = adata.obs['total_counts']\n",
    "adata.obs['log10_original_total_counts'] = np.log10(adata.obs['original_total_counts'])"
   ]
  },
  {
   "cell_type": "code",
   "execution_count": null,
   "id": "e542ddbb",
   "metadata": {},
   "outputs": [],
   "source": [
    "# mitochondrial genes\n",
    "adata.var['mt'] = adata.var_names.str.startswith(('MT-', 'mt-')) \n",
    "# ribosomal genes\n",
    "adata.var['ribo'] = adata.var_names.str.startswith(('RPS','RPL', 'Rps', 'Rpl','Gm'))\n",
    "# hemoglobin genes.\n",
    "adata.var['hb'] = adata.var_names.str.startswith(('^Hb', '^HB'))\n",
    "\n",
    "# for each cell compute fraction of counts in mitochondrial genes and ribosomal genes vs. all genes \n",
    "adata.obs['mito_frac'] = np.sum(adata[:,adata.var['mt']==True].X, axis=1) / np.sum(adata.X, axis=1)\n",
    "adata.obs['ribo_frac'] = np.sum(adata[:,adata.var['ribo']==True].X, axis=1) / np.sum(adata.X, axis=1)\n",
    "adata.obs['hb_frac'] = np.sum(adata[:,adata.var['hb']==True].X, axis=1) / np.sum(adata.X, axis=1)"
   ]
  },
  {
   "cell_type": "markdown",
   "id": "3f57b092",
   "metadata": {},
   "source": [
    "#### Identify doublet cells"
   ]
  },
  {
   "cell_type": "code",
   "execution_count": null,
   "id": "909a11eb",
   "metadata": {},
   "outputs": [],
   "source": [
    "sc.external.pp.scrublet(adata, threshold=0.35, random_state=42) # choose threshold manually"
   ]
  },
  {
   "cell_type": "code",
   "execution_count": null,
   "id": "fefd96db",
   "metadata": {},
   "outputs": [],
   "source": [
    "# check manual threshold\n",
    "sc.external.pl.scrublet_score_distribution(adata)"
   ]
  },
  {
   "cell_type": "markdown",
   "id": "4217cc76",
   "metadata": {},
   "source": [
    "#### Remove not expressed genes"
   ]
  },
  {
   "cell_type": "code",
   "execution_count": null,
   "id": "7eac9207",
   "metadata": {},
   "outputs": [],
   "source": [
    "# remove genes that are not expressed in any cells (remove columns with all 0s)\n",
    "sc.pp.filter_genes(adata, min_cells=4)"
   ]
  },
  {
   "cell_type": "markdown",
   "id": "2c9a0f4e",
   "metadata": {},
   "source": [
    "#### Normalize for each cell's library size"
   ]
  },
  {
   "cell_type": "code",
   "execution_count": null,
   "id": "62323d80",
   "metadata": {},
   "outputs": [],
   "source": [
    "sc.pp.normalize_per_cell(adata, counts_per_cell_after=10**4)"
   ]
  },
  {
   "cell_type": "markdown",
   "id": "2ab99855",
   "metadata": {},
   "source": [
    "#### Log-transform counts"
   ]
  },
  {
   "cell_type": "code",
   "execution_count": null,
   "id": "74c77bf6",
   "metadata": {},
   "outputs": [],
   "source": [
    "sc.pp.log1p(adata)"
   ]
  },
  {
   "cell_type": "markdown",
   "id": "8230eacf",
   "metadata": {},
   "source": [
    "### Select subset of principal components "
   ]
  },
  {
   "cell_type": "code",
   "execution_count": null,
   "id": "ef9ff909",
   "metadata": {},
   "outputs": [],
   "source": [
    "sc.pp.highly_variable_genes(adata, n_top_genes=4000, n_bins=20, flavor='seurat_v3')"
   ]
  },
  {
   "cell_type": "code",
   "execution_count": null,
   "id": "c7f28036",
   "metadata": {},
   "outputs": [],
   "source": [
    "rng = np.random.RandomState(42)\n",
    "sc.tl.pca(adata, n_comps=50, svd_solver='arpack', random_state=rng, use_highly_variable=True)"
   ]
  },
  {
   "cell_type": "code",
   "execution_count": null,
   "id": "c9dd0b75",
   "metadata": {},
   "outputs": [],
   "source": [
    "def observe_variance(anndata_object):\n",
    "    fig = plt.figure(figsize=(10,5))\n",
    "    ax1 = fig.add_subplot(121)\n",
    "    ax2 = fig.add_subplot(122)\n",
    "    # variance per principal component\n",
    "    x = range(len(anndata_object.uns['pca']['variance_ratio']))\n",
    "    y = anndata_object.uns['pca']['variance_ratio']\n",
    "    ax1.scatter(x,y,s=4)\n",
    "    ax1.set_xlabel('PC')\n",
    "    ax1.set_ylabel('Fraction of variance explained\\n')\n",
    "    ax1.set_title('Fraction of variance explained per PC\\n')\n",
    "    # cumulative variance explained\n",
    "    cml_var_explained = np.cumsum(anndata_object.uns['pca']['variance_ratio'])\n",
    "    x = range(len(anndata_object.uns['pca']['variance_ratio']))\n",
    "    y = cml_var_explained\n",
    "    ax2.scatter(x,y,s=4)\n",
    "    ax2.set_xlabel('PC')\n",
    "    ax2.set_ylabel('Cumulative fraction of variance\\nexplained')\n",
    "    ax2.set_title('Cumulative fraction of variance\\nexplained by PCs')\n",
    "    fig.tight_layout()\n",
    "    plot = plt.show\n",
    "    return(plot)\n",
    "observe_variance(adata)"
   ]
  },
  {
   "cell_type": "code",
   "execution_count": null,
   "id": "74870e25",
   "metadata": {},
   "outputs": [],
   "source": [
    "adata.uns['pca']"
   ]
  },
  {
   "cell_type": "code",
   "execution_count": null,
   "id": "2fde4a35",
   "metadata": {},
   "outputs": [],
   "source": [
    "adata.uns['pca']['variance_ratio']"
   ]
  },
  {
   "cell_type": "code",
   "execution_count": null,
   "id": "bc38fe95",
   "metadata": {
    "scrolled": true
   },
   "outputs": [],
   "source": [
    "plt.plot(range(len(adata.uns['pca']['variance_ratio'])), np.cumsum(adata.uns['pca']['variance_ratio']) * 100, '.-')\n",
    "plt.axvline(30, color = 'r')\n",
    "plt.xlabel('Principal Component', fontsize = 14)\n",
    "plt.ylabel('% Variance Explained', fontsize = 14)"
   ]
  },
  {
   "cell_type": "code",
   "execution_count": null,
   "id": "61a7264f",
   "metadata": {},
   "outputs": [],
   "source": [
    "sc.pp.neighbors(adata, n_pcs=30, n_neighbors=30, random_state=42)"
   ]
  },
  {
   "cell_type": "code",
   "execution_count": null,
   "id": "9a1bf701",
   "metadata": {},
   "outputs": [],
   "source": [
    "sc.tl.umap(adata, min_dist=0.1)"
   ]
  },
  {
   "cell_type": "code",
   "execution_count": null,
   "id": "1f867e46",
   "metadata": {},
   "outputs": [],
   "source": [
    "\n",
    "# Define the new order for the categories\n",
    "new_order = [\"mo02_CD45pos1_d0\", \"mo02_CD45pos2_d0\", \"mo02_CD45pos1_d1\",\"mo02_CD45pos2_d1\",\n",
    "             \"mo02_CD45pos1_d4\",\"mo02_CD45pos2_d4\",  \"mo02_CD45pos1_d7\", \"mo02_CD45pos2_d7\",\n",
    "             \"mo18_CD45pos1_d0\",\"mo18_CD45pos2_d0\",\"mo18_CD45pos1_d1\", \"mo18_CD45pos2_d1\",\"mo18_CD45pos3_d1\",  \n",
    "             'mo18_CD45pos1_d4', \"mo18_CD45pos2_d4\", \"mo18_CD45pos3_d4\" ,\"mo18_CD45pos1_d7\",  \"mo18_CD45pos2_d7\",  ]\n",
    "\n",
    "# Assign the new order to the cell_type_subset column\n",
    "adata.obs['sample'] = pd.Categorical(adata.obs['sample'], categories=new_order, ordered=True)\n"
   ]
  },
  {
   "cell_type": "markdown",
   "id": "8c53e11e",
   "metadata": {},
   "source": [
    "#### Sample metadata"
   ]
  },
  {
   "cell_type": "code",
   "execution_count": null,
   "id": "491e6d60",
   "metadata": {},
   "outputs": [],
   "source": [
    "sc.set_figure_params(dpi=80, dpi_save=300, color_map='viridis', vector_friendly=True, transparent=True)\n",
    "sc.pl.umap(\n",
    "    adata, \n",
    "    color=['stage', 'day', 'sample'], \n",
    "    color_map='Spectral_r', \n",
    "    use_raw=False,\n",
    "    ncols=15,\n",
    "    wspace = 0.2,\n",
    "    outline_width=[0.6, 0.05],\n",
    "    size=15,\n",
    "    frameon=False,\n",
    "    add_outline=True,\n",
    "    sort_order = False,\n",
    "    save='_metadata_S1.pdf'\n",
    ")"
   ]
  },
  {
   "cell_type": "markdown",
   "id": "66d93006",
   "metadata": {},
   "source": [
    "#### QC metrics"
   ]
  },
  {
   "cell_type": "code",
   "execution_count": null,
   "id": "fd32c082",
   "metadata": {},
   "outputs": [],
   "source": [
    "sc.set_figure_params(dpi=80, dpi_save=300, color_map='viridis', vector_friendly=True, transparent=True)\n",
    "sc.pl.umap(\n",
    "    adata, \n",
    "    color=['log10_original_total_counts', 'n_genes_by_counts','ribo_frac', 'mito_frac'], \n",
    "    palette=user_defined_palette,  \n",
    "    color_map='Spectral_r',\n",
    "    use_raw=False,\n",
    "    ncols=5,\n",
    "    wspace = 0.2,\n",
    "    outline_width=[0.6, 0.05],\n",
    "    size=15,\n",
    "    frameon=False,\n",
    "    add_outline=True,\n",
    "    sort_order = False,\n",
    "    save='_QCmetrics_S1.pdf'\n",
    ")"
   ]
  },
  {
   "cell_type": "code",
   "execution_count": null,
   "id": "b111c73c",
   "metadata": {},
   "outputs": [],
   "source": [
    "sc.pl.violin(adata, ['n_genes_by_counts', 'log10_original_total_counts', 'ribo_frac', 'mito_frac'],  \n",
    "             palette=user_defined_palette,  jitter=0.4, groupby = 'sample', rotation= 90)"
   ]
  },
  {
   "cell_type": "markdown",
   "id": "1b2202ed",
   "metadata": {},
   "source": [
    "#### Potential contaminant populations"
   ]
  },
  {
   "cell_type": "code",
   "execution_count": null,
   "id": "465c6186",
   "metadata": {},
   "outputs": [],
   "source": [
    "sc.set_figure_params(dpi=80, dpi_save=300, color_map='viridis', vector_friendly=True, transparent=True)\n",
    "sc.pl.umap(\n",
    "    adata, \n",
    "    color=[ 'doublet_score'], \n",
    "    palette=user_defined_palette,  \n",
    "    color_map='Spectral_r',\n",
    "    use_raw=False,\n",
    "    ncols=4,\n",
    "    wspace = 0.1,\n",
    "    outline_width=[0.6, 0.05],\n",
    "    size=15,\n",
    "    frameon=False,\n",
    "    add_outline=True,\n",
    "    sort_order = False,\n",
    "    save='_contaminants_S1.pdf'\n",
    ")"
   ]
  },
  {
   "cell_type": "code",
   "execution_count": null,
   "id": "76a14498",
   "metadata": {},
   "outputs": [],
   "source": [
    "sc.set_figure_params(dpi=80, dpi_save=300, color_map='viridis', vector_friendly=True, transparent=True)\n",
    "sc.pl.umap(\n",
    "    adata, \n",
    "    color=[ \"stage\"], \n",
    "    palette=user_defined_palette,  \n",
    "    color_map='Spectral_r',\n",
    "    use_raw=False,\n",
    "    ncols=4,\n",
    "    wspace = 0.1,\n",
    "    outline_width=[0.6, 0.05],\n",
    "    size=15,\n",
    "    frameon=False,\n",
    "    add_outline=True,\n",
    "    sort_order = False,\n",
    "    save='_contaminants_S1.pdf'\n",
    ")"
   ]
  },
  {
   "cell_type": "code",
   "execution_count": null,
   "id": "65485003",
   "metadata": {},
   "outputs": [],
   "source": [
    "adata_total = adata"
   ]
  },
  {
   "cell_type": "markdown",
   "id": "538d97de",
   "metadata": {},
   "source": [
    "### Run unsupervised clustering analysis leiden"
   ]
  },
  {
   "cell_type": "code",
   "execution_count": null,
   "id": "22717eb3",
   "metadata": {
    "scrolled": true
   },
   "outputs": [],
   "source": [
    "for resolution_parameter in [0.6, 0.8, 1.0, 1.2]:\n",
    "    sc.tl.leiden(adata, resolution=resolution_parameter, random_state=42, \n",
    "                        key_added='leiden_'+str(resolution_parameter))"
   ]
  },
  {
   "cell_type": "markdown",
   "id": "b866a8fc",
   "metadata": {},
   "source": [
    "We can visualize the clustering to see which clusters match with the cells that we would like to filter out. Inspect the list of QC metrics and canonical markers to make your choice."
   ]
  },
  {
   "cell_type": "code",
   "execution_count": null,
   "id": "b8b7c996",
   "metadata": {},
   "outputs": [],
   "source": [
    "sc.set_figure_params(dpi=80, dpi_save=300, color_map='viridis', vector_friendly=True, transparent=True)\n",
    "sc.pl.umap(\n",
    "    adata, \n",
    "    color=['leiden_0.6', 'leiden_0.8', 'leiden_1.0','leiden_1.2'], \n",
    "    palette=user_defined_palette,  \n",
    "    color_map='Spectral_r', \n",
    "    use_raw=False,\n",
    "    ncols=5,\n",
    "    wspace = 0.7,\n",
    "    outline_width=[0.6, 0.05],\n",
    "    size=15,\n",
    "    frameon=False,\n",
    "    add_outline=True,\n",
    "    sort_order = False\n",
    ")"
   ]
  },
  {
   "cell_type": "code",
   "execution_count": null,
   "id": "209466de",
   "metadata": {},
   "outputs": [],
   "source": [
    "sc.set_figure_params(dpi=80, dpi_save=300, color_map='viridis', vector_friendly=True, transparent=True)\n",
    "sc.pl.umap(\n",
    "    adata, \n",
    "    color=['leiden_1.2'], \n",
    "    palette=user_defined_palette,  \n",
    "    color_map='Spectral_r', \n",
    "    use_raw=False,\n",
    "    ncols=5,\n",
    "    size=15,\n",
    "    wspace = 0.7,\n",
    "    outline_width=[0.6, 0.05],\n",
    "    frameon=False,\n",
    "    add_outline=True,\n",
    "    sort_order = False\n",
    ")\n",
    "\n",
    "sc.pl.umap(\n",
    "    adata, \n",
    "    color=['leiden_1.2','mito_frac'], \n",
    "    palette=user_defined_palette,  \n",
    "    color_map='Spectral_r', \n",
    "    use_raw=False,\n",
    "    ncols=5,\n",
    "    size=15,\n",
    "    wspace = 0.7,\n",
    "    outline_width=[0.6, 0.05],\n",
    "    frameon=False,\n",
    "    add_outline=True,\n",
    "    sort_order = False,\n",
    "    legend_loc=\"on data\"\n",
    ")"
   ]
  },
  {
   "cell_type": "code",
   "execution_count": null,
   "id": "e8ebc36b",
   "metadata": {},
   "outputs": [],
   "source": [
    "sc.tl.rank_genes_groups(adata, 'leiden_1.2', method='wilcoxon', use_raw=False)\n",
    "sc.pl.rank_genes_groups(adata, n_genes=25, sharey=False) "
   ]
  },
  {
   "cell_type": "code",
   "execution_count": null,
   "id": "cd7e1e4e-cb06-4095-a181-1f4765f8e1cf",
   "metadata": {},
   "outputs": [],
   "source": [
    "sc.pl.violin(adata, ['n_genes_by_counts', 'log10_original_total_counts', 'ribo_frac', 'mito_frac'],  \n",
    "             palette=user_defined_palette,  jitter=0.4, groupby = 'leiden_1.2', rotation= 90)"
   ]
  },
  {
   "cell_type": "markdown",
   "id": "c100adfc",
   "metadata": {},
   "source": [
    "### Filter out bad quality cells by cluster"
   ]
  },
  {
   "cell_type": "code",
   "execution_count": null,
   "id": "d2132c2c",
   "metadata": {},
   "outputs": [],
   "source": [
    "clusters_to_remove = ['10', '19' ,'25',] #\"12\", \"24\",\"27\", \"30\"]\n",
    "cluster_filter = [x not in clusters_to_remove for x in adata.obs['leiden_1.2']]\n",
    "print('Total number of cells pre-filtering: ' + str(adata.shape[0]))\n",
    "print('Number of cells to keep after filtering: ' + str(sum(cluster_filter)))\n",
    "adata_filtered = adata[cluster_filter]"
   ]
  },
  {
   "cell_type": "code",
   "execution_count": null,
   "id": "5cee8b87",
   "metadata": {},
   "outputs": [],
   "source": [
    "sc.set_figure_params(dpi=80, dpi_save=300, color_map='viridis', vector_friendly=True, transparent=True)\n",
    "sc.pl.umap(\n",
    "    adata_filtered, \n",
    "    color=['leiden_1.2'], \n",
    "    palette=user_defined_palette,  \n",
    "    color_map='Spectral_r', \n",
    "    use_raw=False,\n",
    "    ncols=5,\n",
    "    wspace = 0.5,\n",
    "    outline_width=[0.6, 0.05],\n",
    "    size=15,\n",
    "    frameon=False,\n",
    "    add_outline=True,\n",
    "    sort_order = False\n",
    ")"
   ]
  },
  {
   "cell_type": "code",
   "execution_count": null,
   "id": "3919aad0",
   "metadata": {},
   "outputs": [],
   "source": [
    "sc.pl.violin(adata_filtered, ['n_genes_by_counts', 'log10_original_total_counts', 'ribo_frac', 'mito_frac'],  \n",
    "             palette=user_defined_palette,  jitter=0.4, groupby = 'leiden_1.2', rotation= 90)"
   ]
  },
  {
   "cell_type": "code",
   "execution_count": null,
   "id": "7c6d1de8",
   "metadata": {},
   "outputs": [],
   "source": [
    "# filter for percent mito\n",
    "adata_filtered = adata_filtered[adata_filtered.obs['mito_frac'] <0.05, :]\n",
    "\n",
    "# filter for percent ribo > 0.05\n",
    "adata_filtered = adata_filtered[adata_filtered.obs['ribo_frac'] > 0.1, :]"
   ]
  },
  {
   "cell_type": "code",
   "execution_count": null,
   "id": "7e3e1f5c",
   "metadata": {},
   "outputs": [],
   "source": [
    "sc.pl.violin(adata_filtered, [ 'ribo_frac', 'mito_frac'],  \n",
    "             palette=user_defined_palette,  jitter=0.4, groupby = 'sample', rotation= 90)"
   ]
  },
  {
   "cell_type": "code",
   "execution_count": null,
   "id": "f4bbf1dc",
   "metadata": {},
   "outputs": [],
   "source": [
    "sc.set_figure_params(dpi=80, dpi_save=300, color_map='viridis', vector_friendly=True, transparent=True)\n",
    "sc.pl.umap(\n",
    "    adata_filtered, \n",
    "    color=['sample', 'ribo_frac'], \n",
    "    palette=user_defined_palette,  \n",
    "    color_map='Spectral_r', \n",
    "    use_raw=False,\n",
    "    ncols=5,\n",
    "    wspace = 1,\n",
    "    outline_width=[0.6, 0.05],\n",
    "    size=15,\n",
    "    frameon=False,\n",
    "    add_outline=True,\n",
    "    sort_order = False\n",
    ")"
   ]
  },
  {
   "cell_type": "code",
   "execution_count": null,
   "id": "28478777",
   "metadata": {
    "scrolled": true
   },
   "outputs": [],
   "source": [
    "sc.pl.violin(adata_filtered, [ 'ribo_frac', 'mito_frac', ],  \n",
    "             palette=user_defined_palette,  jitter=0.4, groupby = 'sample', rotation= 90)"
   ]
  },
  {
   "cell_type": "code",
   "execution_count": null,
   "id": "ce61bef2",
   "metadata": {},
   "outputs": [],
   "source": [
    "print(\"Original cell number %d\"%adata.n_obs)\n",
    "print(\"Remaining cells %d\"%adata_filtered.n_obs)\n"
   ]
  },
  {
   "cell_type": "code",
   "execution_count": null,
   "id": "4f3f5524",
   "metadata": {},
   "outputs": [],
   "source": [
    "adata = adata_filtered"
   ]
  },
  {
   "cell_type": "code",
   "execution_count": null,
   "id": "147dc88c",
   "metadata": {},
   "outputs": [],
   "source": [
    "adata.shape"
   ]
  },
  {
   "cell_type": "markdown",
   "id": "71f76e3b",
   "metadata": {},
   "source": [
    "#### Remove ribosomal protein genes"
   ]
  },
  {
   "cell_type": "code",
   "execution_count": null,
   "id": "5f0e0697",
   "metadata": {
    "scrolled": true
   },
   "outputs": [],
   "source": [
    "adata = adata[:,adata.var['ribo']==False]\n",
    "adata.shape\n",
    "adata = adata[:,adata.var['hb']==False]\n",
    "adata.shape"
   ]
  },
  {
   "cell_type": "markdown",
   "id": "170fe0cb",
   "metadata": {},
   "source": [
    "### Filter out doublets and cell contaminants"
   ]
  },
  {
   "cell_type": "code",
   "execution_count": null,
   "id": "9c78f39f-563e-40b5-a490-11ae3799bbed",
   "metadata": {},
   "outputs": [],
   "source": [
    "adata.obs['predicted_doublet'] = adata.obs['predicted_doublet'].astype('category')\n",
    "sc.pl.umap(\n",
    "    adata, \n",
    "    color=['predicted_doublet', 'doublet_score'], \n",
    "    palette=user_defined_palette,  \n",
    "    color_map='Spectral_r', \n",
    "    use_raw=False,\n",
    "    ncols=5,\n",
    "    wspace = 0.1,\n",
    "    outline_width=[0.6, 0.05],\n",
    "    size=15,\n",
    "    frameon=False,\n",
    "    add_outline=True,\n",
    "    sort_order = False\n",
    ")"
   ]
  },
  {
   "cell_type": "code",
   "execution_count": null,
   "id": "78693b39",
   "metadata": {},
   "outputs": [],
   "source": [
    "adata.obs['predicted_doublet'] = adata.obs['predicted_doublet'].astype('category')\n",
    "sc.pl.umap(\n",
    "    adata_total, \n",
    "    color=['doublet_score'], \n",
    "    palette=user_defined_palette,  \n",
    "    color_map='Spectral_r', \n",
    "    use_raw=False,\n",
    "    ncols=5,\n",
    "    wspace = 0.1,\n",
    "    outline_width=[0.6, 0.05],\n",
    "    size=15,\n",
    "    frameon=False,\n",
    "    add_outline=True,\n",
    "    sort_order = False\n",
    ")"
   ]
  },
  {
   "cell_type": "code",
   "execution_count": null,
   "id": "099b4fc7",
   "metadata": {},
   "outputs": [],
   "source": [
    "adata = adata[adata.obs['predicted_doublet'] == False]"
   ]
  },
  {
   "cell_type": "code",
   "execution_count": null,
   "id": "28474b8d",
   "metadata": {
    "scrolled": true
   },
   "outputs": [],
   "source": [
    "sc.pl.umap(\n",
    "    adata, \n",
    "    color=['predicted_doublet', 'doublet_score'], \n",
    "    palette=user_defined_palette,  \n",
    "    color_map='Spectral_r', \n",
    "    use_raw=False,\n",
    "    ncols=5,\n",
    "    wspace = 0.1,\n",
    "    outline_width=[0.6, 0.05],\n",
    "    size=15,\n",
    "    frameon=False,\n",
    "    add_outline=True,\n",
    "    sort_order = False\n",
    ")"
   ]
  },
  {
   "cell_type": "code",
   "execution_count": null,
   "id": "3589295f",
   "metadata": {},
   "outputs": [],
   "source": [
    "adata.obs['keep_cell'] = '0.yes'"
   ]
  },
  {
   "cell_type": "code",
   "execution_count": null,
   "id": "30b75fdf",
   "metadata": {},
   "outputs": [],
   "source": [
    "keep_cells = pd.concat([adata.obs['keep_cell']])"
   ]
  },
  {
   "cell_type": "code",
   "execution_count": null,
   "id": "54d0a4c1",
   "metadata": {},
   "outputs": [],
   "source": [
    "adata_total.obs['keep_cell'] = '1.no'"
   ]
  },
  {
   "cell_type": "code",
   "execution_count": null,
   "id": "ad6060a6",
   "metadata": {},
   "outputs": [],
   "source": [
    "adata_total.obs['keep_cell'][adata_total.obs.index.isin(keep_cells.index) == True] = '0.yes'"
   ]
  },
  {
   "cell_type": "code",
   "execution_count": null,
   "id": "8005081c",
   "metadata": {},
   "outputs": [],
   "source": [
    "sc.set_figure_params(dpi=80, dpi_save=300, color_map='viridis', vector_friendly=True, transparent=True)\n",
    "\n",
    "sc.pl.umap(\n",
    "    adata_total, \n",
    "    color=['keep_cell'], \n",
    "    palette=['blue', '#d3d3d3'],  \n",
    "    color_map='Spectral_r', \n",
    "    use_raw=False,\n",
    "    ncols=5,\n",
    "    wspace = 0.1,\n",
    "    outline_width=[0.6, 0.05],\n",
    "    size=15,\n",
    "    frameon=False,\n",
    "    add_outline=True,\n",
    "    sort_order = False,\n",
    "    save='_keepcells.pdf'\n",
    ")"
   ]
  },
  {
   "cell_type": "code",
   "execution_count": null,
   "id": "2eb4745a",
   "metadata": {},
   "outputs": [],
   "source": [
    "crosstb = pd.crosstab(adata_total.obs['sample'], adata_total.obs['keep_cell'])"
   ]
  },
  {
   "cell_type": "code",
   "execution_count": null,
   "id": "29d2d24a",
   "metadata": {
    "scrolled": true
   },
   "outputs": [],
   "source": [
    "with rc_context({'figure.figsize': (8, 3)}):\n",
    "    ax = crosstb.plot(kind=\"bar\", stacked=True, edgecolor = \"black\", width=0.8,  color=['blue', '#d3d3d3'])\n",
    "    ax.grid(False) \n",
    "    ax.legend(loc='center left', bbox_to_anchor=(1, 0.5))\n",
    "    plt.savefig('barplot_keepcells_S1.pdf')"
   ]
  },
  {
   "cell_type": "markdown",
   "id": "97cd5038-511a-43fe-86fa-873590f99aa6",
   "metadata": {},
   "source": [
    "### Reanalyze young data after removal of cells"
   ]
  },
  {
   "cell_type": "code",
   "execution_count": null,
   "id": "ba12ead5-5faf-4597-b291-ef550c1583ac",
   "metadata": {},
   "outputs": [],
   "source": [
    "adata.obs['stage']"
   ]
  },
  {
   "cell_type": "code",
   "execution_count": null,
   "id": "4a9e3b14-8aac-4d8d-9a2f-d4eaea4501c4",
   "metadata": {},
   "outputs": [],
   "source": [
    "young = adata[adata.obs['stage']==\"02mo\"]"
   ]
  },
  {
   "cell_type": "code",
   "execution_count": null,
   "id": "8f6dcd92-1258-445c-8be3-e5915517e364",
   "metadata": {
    "scrolled": true
   },
   "outputs": [],
   "source": [
    "sc.pp.highly_variable_genes(young, n_top_genes=2000, n_bins=20, flavor='seurat_v3')"
   ]
  },
  {
   "cell_type": "code",
   "execution_count": null,
   "id": "2f4aba3f-532e-4e9a-9c56-3aea0492c59e",
   "metadata": {},
   "outputs": [],
   "source": [
    "rng = np.random.RandomState(42)\n",
    "sc.tl.pca(young, n_comps=50, svd_solver='arpack', random_state=rng, use_highly_variable=True)"
   ]
  },
  {
   "cell_type": "code",
   "execution_count": null,
   "id": "dfe30665-b1c3-4881-afc6-14174107fb55",
   "metadata": {},
   "outputs": [],
   "source": [
    "observe_variance(young)\n"
   ]
  },
  {
   "cell_type": "code",
   "execution_count": null,
   "id": "14212c50-c002-4a13-9502-5a8cb10eed66",
   "metadata": {},
   "outputs": [],
   "source": [
    "plt.plot(range(len(young.uns['pca']['variance_ratio'])), np.cumsum(young.uns['pca']['variance_ratio']) * 100, '.-')\n",
    "plt.axvline(30, color = 'r')\n",
    "plt.xlabel('Principal Component', fontsize = 14)\n",
    "plt.ylabel('% Variance Explained', fontsize = 14)"
   ]
  },
  {
   "cell_type": "code",
   "execution_count": null,
   "id": "c1febfb4-06b8-42d5-9088-be70933e1ea4",
   "metadata": {},
   "outputs": [],
   "source": [
    "sc.pp.neighbors(young, n_neighbors=50,n_pcs=30)"
   ]
  },
  {
   "cell_type": "code",
   "execution_count": null,
   "id": "9bed4d57-fff3-4b17-897e-4645de0b9222",
   "metadata": {},
   "outputs": [],
   "source": [
    "sc.tl.umap(young, min_dist=0.6)"
   ]
  },
  {
   "cell_type": "code",
   "execution_count": null,
   "id": "27626fcb-8920-4344-b5b3-0407124020ed",
   "metadata": {
    "scrolled": true
   },
   "outputs": [],
   "source": [
    "sc.set_figure_params(dpi=80, dpi_save=300, color_map='viridis', vector_friendly=False, transparent=True)\n",
    "sc.pl.umap(\n",
    "    young, \n",
    "    color=[\"Sox4\",\"Rorc\",\"Ncr1\",\"Klrk1\",\"Cxcr6\", 'Cd8b1',\"Cd8a\",\"Cd4\",'Tnfrsf4',\"Foxp3\",\"H2-Aa\",\"Clec9a\",\"Xcr1\",\n",
    "           \"Sirpa\",\"Ccr7\",\"Fscn1\",'Cd79a', 'Ms4a1', \"Xbp1\",\"Igkc\",\"Msrb1\",\"stage\", 'day'], \n",
    "    palette=user_defined_palette,  \n",
    "    color_map='Spectral_r', \n",
    "    use_raw=False,\n",
    "    ncols=5,\n",
    "    wspace = 0.1,\n",
    "    outline_width=[0.6, 0.05],\n",
    "    size=15,\n",
    "    frameon=False,\n",
    "    add_outline=True,\n",
    "    sort_order = False\n",
    ")"
   ]
  },
  {
   "cell_type": "code",
   "execution_count": null,
   "id": "e04e8bb3-4772-467b-b4f3-de1849b0b5d2",
   "metadata": {
    "scrolled": true
   },
   "outputs": [],
   "source": [
    "for resolution_parameter in [ 0.1, 0.2, 0.3, 0.4,0.5]:\n",
    "    sc.tl.leiden(young, resolution=resolution_parameter, random_state=42, \n",
    "                        key_added='leiden_'+str(resolution_parameter))"
   ]
  },
  {
   "cell_type": "code",
   "execution_count": null,
   "id": "5838aa93-21d7-4b91-aae0-f9c2981ad44d",
   "metadata": {
    "scrolled": true
   },
   "outputs": [],
   "source": [
    "sc.set_figure_params(dpi=80, dpi_save=300, color_map='viridis', vector_friendly=False, transparent=True)\n",
    "sc.pl.umap(\n",
    "    young, \n",
    "    color=[ 'leiden_0.1', 'leiden_0.2', 'leiden_0.3','leiden_0.4','leiden_0.5',\n",
    "         ], \n",
    ")"
   ]
  },
  {
   "cell_type": "code",
   "execution_count": null,
   "id": "956afc35-6c43-4ba2-8943-5870ec78af09",
   "metadata": {
    "scrolled": true
   },
   "outputs": [],
   "source": [
    "sc.set_figure_params(dpi=80, dpi_save=300, color_map='viridis', vector_friendly=False, transparent=True)\n",
    "sc.pl.umap(\n",
    "    young, \n",
    "    color=[ 'leiden_0.2',\"day\",\"stage\",\"Foxp3\",\"Cd4\",], \n",
    ")"
   ]
  },
  {
   "cell_type": "code",
   "execution_count": null,
   "id": "8eb32899-8d7b-4c5c-9786-b8da2f0ec4b1",
   "metadata": {},
   "outputs": [],
   "source": [
    "sc.tl.rank_genes_groups(young, 'leiden_0.2', method='wilcoxon', use_raw=False)\n",
    "sc.pl.rank_genes_groups(young, n_genes=25, sharey=False)  "
   ]
  },
  {
   "cell_type": "code",
   "execution_count": null,
   "id": "626b28cc-937e-44a7-a343-236579b1a68f",
   "metadata": {},
   "outputs": [],
   "source": [
    "sc.set_figure_params(dpi=80, dpi_save=300, color_map='viridis', vector_friendly=True, transparent=True)\n",
    "\n",
    "sc.pl.umap(\n",
    "    young, \n",
    "    color=['leiden_0.4'], \n",
    "    palette=user_defined_palette,  \n",
    "    color_map='Spectral_r', \n",
    "    use_raw=False,\n",
    "    ncols=5,\n",
    "    size=5,\n",
    "    wspace = 0.7,\n",
    "    outline_width=[0.6, 0.05],\n",
    "    frameon=False,\n",
    "    add_outline=True,\n",
    "    sort_order = False,\n",
    "    legend_loc=\"on data\"\n",
    ")"
   ]
  },
  {
   "cell_type": "code",
   "execution_count": null,
   "id": "b59da808-7e05-444f-ab66-c896bb84f816",
   "metadata": {},
   "outputs": [],
   "source": [
    "young.obs['cell_type'] = ['T cells' if  (x=='1'or x=='3' or x=='4' ) else\n",
    "                          'B cells' if (x=='9'  ) else  \n",
    "                          'NKT and ILTCK' if (x=='0' or x=='2' or x=='8' )  else\n",
    "                          'NK cells' if (x=='7' ) else\n",
    "                          'DCs and Macrophages' if (x=='10' or x=='12' or x=='13')  else                             \n",
    "                          'DN/DPs' if (x=='6' or x=='11') else\n",
    "                          'ILC' if x=='5' else\n",
    "                          'ERROR' for x in young.obs['leiden_0.4']] "
   ]
  },
  {
   "cell_type": "code",
   "execution_count": null,
   "id": "af0d1087-3564-44c4-b1b1-df91253640ed",
   "metadata": {},
   "outputs": [],
   "source": [
    "sc.set_figure_params(dpi=80, dpi_save=300, color_map='viridis', vector_friendly=True, transparent=True)\n",
    "sc.pl.umap(\n",
    "    young, \n",
    "    color=['leiden_0.1','cell_type','stage','day',\"Foxp3\"], \n",
    "    palette=user_defined_palette,  \n",
    "    color_map='Spectral_r', \n",
    "    use_raw=False,\n",
    "    ncols=5,\n",
    "    wspace = 0.1,\n",
    "    outline_width=[0.3, 0.05],\n",
    "    size=15,\n",
    "    vmax=2,\n",
    "    frameon=False,\n",
    "    add_outline=True,\n",
    "    sort_order = False,\n",
    "    legend_loc=\"on data\"\n",
    ")"
   ]
  },
  {
   "cell_type": "code",
   "execution_count": null,
   "id": "028cf92b",
   "metadata": {},
   "outputs": [],
   "source": [
    "sc.set_figure_params(dpi=80, dpi_save=300, color_map='viridis', vector_friendly=True, transparent=True)\n",
    "sc.pl.umap(\n",
    "    young, \n",
    "    color=['cell_type'], \n",
    "    palette=user_defined_palette,  \n",
    "    color_map='Spectral_r', \n",
    "    use_raw=False,\n",
    "    ncols=5,\n",
    "    wspace = 0.1,\n",
    "    outline_width=[0.3, 0.05],\n",
    "    size=15,\n",
    "    vmax=2,\n",
    "    frameon=False,\n",
    "    add_outline=True,\n",
    "    sort_order = False\n",
    ")"
   ]
  },
  {
   "cell_type": "code",
   "execution_count": null,
   "id": "8f0e0335",
   "metadata": {},
   "outputs": [],
   "source": [
    "sc.pl.violin(young, [ 'ribo_frac', 'mito_frac', ],  \n",
    "             palette=user_defined_palette,  jitter=0.4, groupby = 'cell_type', rotation= 90)"
   ]
  },
  {
   "cell_type": "code",
   "execution_count": null,
   "id": "5cba07af",
   "metadata": {},
   "outputs": [],
   "source": [
    "sc.set_figure_params(dpi=80, dpi_save=300, color_map='viridis', vector_friendly=True, transparent=True)\n",
    "sc.pl.umap(\n",
    "    young, \n",
    "    color=['leiden_0.1','cell_type','stage','day',\"Foxp3\"], \n",
    "    palette=user_defined_palette,  \n",
    "    color_map='Spectral_r', \n",
    "    use_raw=False,\n",
    "    ncols=5,\n",
    "    wspace = 0.1,\n",
    "    outline_width=[0.3, 0.05],\n",
    "    size=15,\n",
    "    vmax=2,\n",
    "    frameon=False,\n",
    "    add_outline=True,\n",
    "    sort_order = False,\n",
    "    legend_loc=\"on data\"\n",
    ")"
   ]
  },
  {
   "cell_type": "code",
   "execution_count": null,
   "id": "a74471ff-9723-427a-9459-7faaf053a9f8",
   "metadata": {},
   "outputs": [],
   "source": [
    "sc.tl.rank_genes_groups(young, 'cell_type', method='wilcoxon', use_raw=False)\n",
    "sc.pl.rank_genes_groups(young, n_genes=25, sharey=False)  "
   ]
  },
  {
   "cell_type": "code",
   "execution_count": null,
   "id": "244e1f99-26c4-48a8-8ee2-d59c9fcf1805",
   "metadata": {},
   "outputs": [],
   "source": [
    "sc.set_figure_params(dpi=80, dpi_save=300, color_map='viridis', vector_friendly=False, transparent=True)\n",
    "sc.pl.umap(\n",
    "    young, \n",
    "    color=[\"Sox4\",\"Rorc\",\"Ncr1\",\"Klrk1\",\"Cxcr6\", 'Cd8b1',\"Cd4\",'Tnfrsf4',\"Foxp3\",\"H2-Aa\",\"Clec9a\",\"Xcr1\",\n",
    "           \"Sirpa\",\"Ccr7\",\"Fscn1\",'Cd79a', 'Ms4a1', \"Xbp1\",\"Igkc\",\"Msrb1\",'Fcer1g'], \n",
    "    palette=user_defined_palette,  \n",
    "    color_map='Spectral_r', \n",
    "    use_raw=False,\n",
    "    ncols=5,\n",
    "    wspace = 0.1,\n",
    "    outline_width=[0.6, 0.05],\n",
    "    size=15,\n",
    "    frameon=False,\n",
    "    add_outline=True,\n",
    "    sort_order = False\n",
    ")"
   ]
  },
  {
   "cell_type": "code",
   "execution_count": null,
   "id": "edbce380-e20d-442d-9580-14c272627d57",
   "metadata": {},
   "outputs": [],
   "source": [
    "genes = {'T-cells': ['Cd3e', 'Cd8a', 'Cd4', 'Il7r'], \n",
    "         'NKT and invariant cells':['Gzmb'],\n",
    "         'NK cells':['Ncr1','Nkg7',\t'Klrd1',],\n",
    "         'ILC':[],\n",
    "          'DN/DPs':[],\n",
    "         'B-cells': ['Ms4a1', 'Cd19'], \n",
    "         'Plasmacells': ['Ppbp'], \n",
    "         'NKT and invariant T cells': ['Nkg7'], \n",
    "         'Dendritic-cells': ['Cst3', 'Fcer1a'],\n",
    "         'Eosinophils':['Tyrobp']}"
   ]
  },
  {
   "cell_type": "code",
   "execution_count": null,
   "id": "fdd7a866-e038-47ab-8c95-cb1b223f9f1c",
   "metadata": {},
   "outputs": [],
   "source": [
    "genes ={ 'B cells_n':\t[\t'Cst3',\t'Cd79b',\t'Ms4a1',\t'H2-DMb2',\t'Bank1',\t'Ebf1',\t'Ly6d',\t'Mzb1',\t'Igkc',\t'Cd74',\t'Napsa',\t'Ighm',\t'H2-Eb1',\t'H2-Aa',\t'H2-Ab1',\t'Iglc3',\t'Iglc2',\t'Lyn',\t'Ly86',\t'Pkig',\t'Plac8',\t'Blnk',\t'Syk',\t'Cd37',\t'Siglecg',\t]\t,\n",
    "'DCs_n':\t[\t'Arpp21',\t'Cd74',\t'H2-Aa',\t'Atox1',\t'H2-Eb1',\t'Spi1',\t'Ifi30',\t'Tyrobp',\t'Psap',\t'H2-Ab1',\t'Tmsb4x',\t'Ftl1',\t'Syngr2',\t'Cxcl16',\t'Aif1',\t'Ctsh',\t'Ctsz',\t'Actg1',\t'Pkib',\t'Tbc1d8',\t'Atpif1',\t'Flt3',\t'Skap2',\t'Fmnl2',\t'Clic4',\t]\t,\n",
    "'DN/DPs_n':\t[\t'Msrb1',\t'Dntt',\t'Sox4',\t'Tcf7',\t'Endou',\t'Trbc2',\t'Themis',\t'Satb1',\t'Ccr9',\t'Rhoh',\t'Cyb5a',\t'Cd8b1',\t'Hmgb1',\t'H3f3a',\t'Aqp11',\t'Ramp1',\t'Ap3s1',\t'Cux1',\t'Mier1',\t'Edem1',\t'Cd8a',\t'Tcf12',\t'Desi1',\t'2610307P16Rik',\t'Trbc1',\t]\t,\n",
    "'EOS_n':\t[\t'Tmem176a',\t'Tyrobp',\t'Fcer1g',\t'Ifitm3',\t'Ftl1',\t'Srgn',\t'Il1b',\t'Isg15',\t'Fth1',\t'S100a9',\t'Rtp4',\t'Slfn4',\t'S100a8',\t'Hdc',\t'Csf3r',\t'Acod1',\t'Lst1',\t'Rsad2',\t'Ifitm2',\t'Ifit3',\t'Ifit1',\t'Mxd1',\t'Cebpb',\t'Isg20',\t'Txn1',\t]\t,\n",
    "'ILC_n':\t[\t'Fcer1g',\t'Tmem176b',\t'Ramp1',\t'Il23r',\t'Il1r1',\t'Emb',\t'Ikzf3',\t'Ckb',\t'Igf1r',\t'Lmo4',\t'Pxdc1',\t'Blk',\t'St6galnac3',\t'S100a4',\t'Cxcr6',\t'Il7r',\t'Furin',\t'Icos',\t'Tcrg-C1',\t'Rora',\t'Zbtb16',\t'Selenop',\t'Serpinb1a',\t'Avpi1',\t'Il18r1',\t]\t,\n",
    "'NK cells_n':\t[\t'Il12rb2',\t'Tyrobp',\t'Ncr1',\t'Klre1',\t'Klrb1c',\t'Gzma',\t'Xcl1',\t'AW112010',\t'Anxa2',\t'Nkg7',\t'Car2',\t'Irf8',\t'Klrk1',\t'Klrd1',\t'Prf1',\t'Il2rb',\t'Txk',\t'Ccl5',\t'Ccl4',\t'Myl6',\t'Klri2',\t'Clnk',\t'Serpinb9',\t'Gem',\t'Ptprc',\t]\t,\n",
    "'NKT and invariant cells_n':\t[\t'Tox',\t'Tmsb10',\t'Ly6c2',\t'Ctsw',\t'Sh3bgrl3',\t'Gzmb',\t'Klrk1',\t'Id2',\t'Il2rb',\t'Nkg7',\t'Klrd1',\t'Dennd4a',\t'Satb1',\t'Cxcr6',\t'Klra9',\t'Dusp2',\t'Gimap4',\t'Vps37b',\t'Chn2',\t'Pitpnc1',\t'Xcl1',\t'Klrb1c',\t'Cd7',\t'Inpp4b',\t'Zfp36l2',\t]\t,\n",
    "'T cells_n':\t[\t'Igkc',\t'Ctla4',\t'Themis',\t'Emb',\t'Prkca',\t'Fam169b',\t'Tnfrsf4',\t'Fyb',\t'Cd8b1',\t'Trbc2',\t'Sntb1',\t'Itga4',\t'Lat',\t'Cd3d',\t'Tnfsf8',\t'Cd8a',\t'Shisa5',\t'Ikzf2',\t'Ms4a6b',\t'Itgav',\t'Fyn',\t'Cd2',\t'Gzmk',\t'Trps1',\t'Smc4',\t]\t,\n",
    "'plasmacells_n':\t[\t\t'Jchain',\t'Xbp1',\t'Txndc5',\t'Mzb1',\t'Iglc2',\t'Eaf2',\t'Derl3',\t'Iglv1',\t'Pdia4',\t'Iglc3',\t'Creld2',\t'Herpud1',\t'Serp1',\t'Ssr4',\t'Ckap4',\t'Fkbp2',\t'Hsp90b1',\t'Prdx4',\t'Sec11c',\t'Edem2',\t'Edem1',\t'Iglc1',\t'Pou2af1']}"
   ]
  },
  {
   "cell_type": "code",
   "execution_count": null,
   "id": "91a76f1e-bd5c-4824-88e5-6ae6ef129e7d",
   "metadata": {
    "scrolled": true
   },
   "outputs": [],
   "source": [
    "sc.set_figure_params(scanpy=True, fontsize = 14)\n",
    "ac = sc.pl.matrixplot(young, genes, groupby = 'cell_type', show = False, standard_scale = 'var')\n",
    "ac['mainplot_ax'].set_xlabel('Genes')\n",
    "ac['mainplot_ax'].set_ylabel('Clusters')"
   ]
  },
  {
   "cell_type": "code",
   "execution_count": null,
   "id": "81e3a8c2-ed70-4905-8dc3-b68b6db7d93c",
   "metadata": {},
   "outputs": [],
   "source": [
    "result = young.uns['rank_genes_groups']\n",
    "groups = result['names'].dtype.names\n",
    "pd.DataFrame(\n",
    "    {group + '_' + key[:1]: result[key][group]\n",
    "    for group in groups for key in ['names']}).head(25)"
   ]
  },
  {
   "cell_type": "markdown",
   "id": "0ccaaae3-aeb9-4f8f-b2e9-a31dc9231251",
   "metadata": {},
   "source": [
    "## T cells young"
   ]
  },
  {
   "cell_type": "code",
   "execution_count": null,
   "id": "0df58b99-e812-4867-9fc7-02fa114073a2",
   "metadata": {},
   "outputs": [],
   "source": [
    "T = young[young.obs['cell_type'].isin(['T cells'])]"
   ]
  },
  {
   "cell_type": "code",
   "execution_count": null,
   "id": "658fa2cd-c098-4733-9fde-0561a11ddd22",
   "metadata": {},
   "outputs": [],
   "source": [
    "# Remove columns with all 0s\n",
    "sc.pp.filter_genes(T, min_cells=1)"
   ]
  },
  {
   "cell_type": "code",
   "execution_count": null,
   "id": "a01dae96-b1e1-41f9-9ff3-70eb1cc155ec",
   "metadata": {},
   "outputs": [],
   "source": [
    "sc.pp.highly_variable_genes(T, n_top_genes=2000, n_bins=20, flavor='seurat_v3')"
   ]
  },
  {
   "cell_type": "code",
   "execution_count": null,
   "id": "287729ae-91b3-4b5a-af99-ac3039089fcf",
   "metadata": {},
   "outputs": [],
   "source": [
    "rng = np.random.RandomState(42)\n",
    "sc.tl.pca(T, n_comps=50, svd_solver='arpack', random_state=rng, use_highly_variable=True)"
   ]
  },
  {
   "cell_type": "code",
   "execution_count": null,
   "id": "baa599d2-d825-4a50-8009-2472fa3a28ee",
   "metadata": {},
   "outputs": [],
   "source": [
    "def observe_variance(anndata_object):\n",
    "    fig = plt.figure(figsize=(10,5))\n",
    "    ax1 = fig.add_subplot(121)\n",
    "    ax2 = fig.add_subplot(122)\n",
    "    # variance per principal component\n",
    "    x = range(len(anndata_object.uns['pca']['variance_ratio']))\n",
    "    y = anndata_object.uns['pca']['variance_ratio']\n",
    "    ax1.scatter(x,y,s=4)\n",
    "    ax1.set_xlabel('PC')\n",
    "    ax1.set_ylabel('Fraction of variance explained\\n')\n",
    "    ax1.set_title('Fraction of variance explained per PC\\n')\n",
    "    # cumulative variance explained\n",
    "    cml_var_explained = np.cumsum(anndata_object.uns['pca']['variance_ratio'])\n",
    "    x = range(len(anndata_object.uns['pca']['variance_ratio']))\n",
    "    y = cml_var_explained\n",
    "    ax2.scatter(x,y,s=4)\n",
    "    ax2.set_xlabel('PC')\n",
    "    ax2.set_ylabel('Cumulative fraction of variance\\nexplained')\n",
    "    ax2.set_title('Cumulative fraction of variance\\nexplained by PCs')\n",
    "    fig.tight_layout()\n",
    "    plot = plt.show\n",
    "    return(plot)\n",
    "observe_variance(T)"
   ]
  },
  {
   "cell_type": "code",
   "execution_count": null,
   "id": "4b743f7e-b5b1-44ec-a4b6-9c4225de8154",
   "metadata": {},
   "outputs": [],
   "source": [
    "plt.plot(range(len(T.uns['pca']['variance_ratio'])), np.cumsum(T.uns['pca']['variance_ratio']) * 100, '.-')\n",
    "plt.axvline(30, color = 'r',)\n",
    "plt.xlabel('Principal Component', fontsize = 14)\n",
    "plt.ylabel('% Variance Explained', fontsize = 14)"
   ]
  },
  {
   "cell_type": "code",
   "execution_count": null,
   "id": "31af6e99-2042-4826-b284-96b21555694c",
   "metadata": {},
   "outputs": [],
   "source": [
    "sc.pp.neighbors(T, n_neighbors=30, n_pcs=30)\n",
    "sc.tl.umap(T, min_dist=0.5)"
   ]
  },
  {
   "cell_type": "markdown",
   "id": "8c63d3a9-e739-4533-9715-f37d8b803e82",
   "metadata": {},
   "source": [
    "### T cells clustering and annotation\n"
   ]
  },
  {
   "cell_type": "code",
   "execution_count": null,
   "id": "8d091c41-d962-41c3-888b-9b77cdd51e66",
   "metadata": {},
   "outputs": [],
   "source": [
    "for resolution_parameter in [0.1, 0.2, 0.3, 0.4, 0.5, 0.6, 0.7, 0.8, 0.9, 1.0]:\n",
    "    sc.tl.leiden(T, resolution=resolution_parameter, random_state=42, \n",
    "                        key_added='leiden_'+str(resolution_parameter))"
   ]
  },
  {
   "cell_type": "code",
   "execution_count": null,
   "id": "4573fb06-b4db-4e57-8fd5-934d0ad64e30",
   "metadata": {},
   "outputs": [],
   "source": [
    "sc.set_figure_params(dpi=80, dpi_save=300, color_map='viridis', vector_friendly=True, transparent=True)\n",
    "sc.pl.umap(\n",
    "    T, \n",
    "    color=['leiden_0.1', 'leiden_0.2', 'leiden_0.3', 'leiden_0.4', 'leiden_0.5', \n",
    "           'leiden_0.6', 'leiden_0.7', 'leiden_0.8','leiden_0.9', 'leiden_1.0'], \n",
    "    palette=user_defined_palette,  \n",
    "    color_map='Spectral_r', \n",
    "    use_raw=False,\n",
    "    ncols=5,\n",
    "    wspace = 0.7,\n",
    "    outline_width=[0.6, 0.05],\n",
    "    frameon=False,\n",
    "    add_outline=True,\n",
    "    sort_order = False\n",
    ")"
   ]
  },
  {
   "cell_type": "code",
   "execution_count": null,
   "id": "812ec2c6-14e7-4c43-b0f3-5a09621eef6b",
   "metadata": {},
   "outputs": [],
   "source": [
    "sc.set_figure_params(dpi=80, dpi_save=300, color_map='viridis', vector_friendly=True, transparent=True)\n",
    "sc.pl.umap(\n",
    "    T, \n",
    "    color=['leiden_0.4','day','Foxp3', 'Cd4',\"Cd8a\",\"Gzmk\",'Fcer1g'], \n",
    "    palette=user_defined_palette,  \n",
    "    color_map='Spectral_r', \n",
    "    use_raw=False,\n",
    "    ncols=5,\n",
    "    wspace = 0.7,\n",
    "    outline_width=[0.6, 0.05],\n",
    "    frameon=False,\n",
    "    add_outline=True,\n",
    "    sort_order = False\n",
    ")"
   ]
  },
  {
   "cell_type": "code",
   "execution_count": null,
   "id": "9a225c4e-668c-4100-bb1c-bb796f9deaa3",
   "metadata": {},
   "outputs": [],
   "source": [
    "T.obs['cell_type_subset'] = ['Tregs' if (x=='0' or x==\"2\") else \n",
    "                                'CD4' if (x=='3' ) else\n",
    "                              'Naive CD4' if ( x==\"6\" ) else\n",
    "                               'GZMK+ CD8' if (x=='5' ) else\n",
    "                                'Naive CD8' if ( x=='1'  or x=='4' ) else\n",
    "                      \n",
    "                               'ERROR' for x in T.obs['leiden_0.4']] "
   ]
  },
  {
   "cell_type": "code",
   "execution_count": null,
   "id": "22d7a303-944d-4940-92bf-6408281219e1",
   "metadata": {},
   "outputs": [],
   "source": [
    "\n",
    "# Define the new order for the categories\n",
    "new_order = ['Tregs', 'CD4','GZMK+ CD8','Naive CD4', 'Naive CD8', ]\n",
    "\n",
    "# Assign the new order to the cell_type_subset column\n",
    "T.obs['cell_type_subset'] = pd.Categorical(T.obs['cell_type_subset'], categories=new_order, ordered=True)\n"
   ]
  },
  {
   "cell_type": "code",
   "execution_count": null,
   "id": "1f060e08-e843-4574-8381-8c4d78926c5d",
   "metadata": {},
   "outputs": [],
   "source": [
    "sc.set_figure_params(dpi=80, dpi_save=300, color_map='viridis', vector_friendly=True, transparent=True)\n",
    "sc.pl.umap(\n",
    "    T, \n",
    "    color=['cell_type_subset','Cd8a',\"Cd4\",'Foxp3',\"Cd40lg\",\"Gzmk\"] , \n",
    "    palette=user_defined_palette,  \n",
    "\n",
    "    use_raw=False,\n",
    "    ncols=5,\n",
    "    wspace = 0.3,\n",
    "    outline_width=[0.6, 0.05],\n",
    "    frameon=False,\n",
    "    add_outline=True,\n",
    "    sort_order = False\n",
    ")"
   ]
  },
  {
   "cell_type": "code",
   "execution_count": null,
   "id": "683ee17e-4319-4d22-979d-8c52672b1d01",
   "metadata": {},
   "outputs": [],
   "source": [
    "sc.set_figure_params(dpi=80, dpi_save=300, color_map='viridis', vector_friendly=True, transparent=True)\n",
    "sc.pl.umap(\n",
    "    T, \n",
    "    color=['cell_type_subset', 'day'] , \n",
    "    palette=user_defined_palette,  \n",
    "\n",
    "    use_raw=False,\n",
    "    ncols=5,\n",
    "    wspace = 0.3,\n",
    "    outline_width=[0.6, 0.05],\n",
    "    frameon=False,\n",
    "    add_outline=True,\n",
    "    sort_order = False\n",
    ")"
   ]
  },
  {
   "cell_type": "code",
   "execution_count": null,
   "id": "f9a57507-53e1-492e-ba90-a814fe71a69b",
   "metadata": {
    "scrolled": true
   },
   "outputs": [],
   "source": [
    "sc.set_figure_params(dpi=80, dpi_save=300, color_map='viridis', vector_friendly=True, transparent=True)\n",
    "sc.pl.umap(\n",
    "    T, \n",
    "    color=['leiden_0.2',\"day\",\"stage\",\"Ly6a\",'Cd4', 'Cd40lg',\"Icos\",'Cd8a', \"Cd8b1\",\"Ccr7\", \"Stat1\", 'Lef1','Foxp1',\"Sell\",'Foxp3', 'Ikzf2', 'Ctla4','Gzmk',\"Nkg7\",\"Ccl5\",\"Foxp3\"] , \n",
    "    palette=user_defined_palette,  \n",
    "\n",
    "    use_raw=False,\n",
    "    ncols=5,\n",
    "    wspace = 0.3,\n",
    "    outline_width=[0.6, 0.05],\n",
    "    frameon=False,\n",
    "    add_outline=True,\n",
    "    sort_order = False\n",
    ")"
   ]
  },
  {
   "cell_type": "code",
   "execution_count": null,
   "id": "ee952696-bdba-4127-b83d-25bc50c65bdd",
   "metadata": {},
   "outputs": [],
   "source": [
    "sc.tl.rank_genes_groups(T, 'cell_type_subset', method='wilcoxon', use_raw=False)\n",
    "sc.pl.rank_genes_groups(T, n_genes=25, sharey=False) "
   ]
  },
  {
   "cell_type": "code",
   "execution_count": null,
   "id": "79944fcc-50cf-4be0-bdf7-d491d270e580",
   "metadata": {},
   "outputs": [],
   "source": [
    "marker_genes_dict = {    'Tregs': ['Foxp3', 'Ikzf2', 'Ctla4'],\n",
    "    \n",
    "                      'CD4': [\"Ly6a\",'Cd4', 'Cd40lg',\"Icos\"],\n",
    "                     'GZMK+ CD8': ['Gzmk',\"Nkg7\",\"Ccl5\"],\n",
    "        'CD8': ['Cd8a', \"Cd8b1\"], \n",
    "                     \n",
    "      'Naive CD8': [\"Lef1\",\"Sell\",\"Ccr7\"],\n",
    "                     'Naive CD4': [\"Bach2\"],\n",
    "    \n",
    "  \n",
    "}"
   ]
  },
  {
   "cell_type": "code",
   "execution_count": null,
   "id": "0c9862e0-69e4-4057-aeb5-bb059593f7be",
   "metadata": {
    "scrolled": true
   },
   "outputs": [],
   "source": [
    "sc.pl.dotplot(T, marker_genes_dict, 'cell_type_subset', dendrogram=True,log=True)\n"
   ]
  },
  {
   "cell_type": "code",
   "execution_count": null,
   "id": "1e517905-3239-4523-ae7b-ddc1e3202367",
   "metadata": {},
   "outputs": [],
   "source": [
    "sc.pl.matrixplot(T, marker_genes_dict, 'cell_type_subset', dendrogram=False, cmap='Blues', standard_scale='var', colorbar_title='column scaled\\nexpression')\n"
   ]
  },
  {
   "cell_type": "code",
   "execution_count": null,
   "id": "093bd19b-204c-4407-8727-6d4d82fb37b6",
   "metadata": {},
   "outputs": [],
   "source": [
    "genes = { 'Tregs': ['Foxp3', 'Ikzf2', 'Ctla4'],\n",
    "    \n",
    "                      'CD4': [\"Ly6a\",'Cd4', 'Cd40lg',\"Icos\"],\n",
    "                     'GZMK+ CD8': ['Gzmk',\"Nkg7\",\"Ccl5\",'Cd8a', \"Cd8b1\",\"Ccr7\"], \n",
    "                     \n",
    "      'Naive CD8': [\"Lef1\",\"Sell\"],\n",
    "                     'Naive CD4': [\"Bach2\"],}\n",
    "\n",
    "genes_unlist = [gene_name for item in genes.values() for gene_name in item]\n",
    "print(genes_unlist)"
   ]
  },
  {
   "cell_type": "code",
   "execution_count": null,
   "id": "328f0534-4eb5-4a10-903d-0ff8f8e9df21",
   "metadata": {},
   "outputs": [],
   "source": [
    "# Get the gene indices\n",
    "gene_ids = [T.var_names.get_loc(gene_name) for gene_name in ['Foxp3', 'Ikzf2', 'Ctla4', 'Ly6a', 'Cd4', 'Cd40lg', 'Icos', 'Gzmk', 'Nkg7', 'Ccl5', 'Cd8a', 'Cd8b1', 'Ccr7', 'Lef1', 'Sell', 'Bach2']]\n",
    "\n",
    "# Get the gene names\n",
    "gene_names = ['Foxp3', 'Ikzf2', 'Ctla4', 'Ly6a', 'Cd4', 'Cd40lg', 'Icos', 'Gzmk', 'Nkg7', 'Ccl5', 'Cd8a', 'Cd8b1', 'Ccr7', 'Lef1', 'Sell', 'Bach2']\n",
    "\n",
    "# Check the shape of the selected data\n",
    "selected_data_sparse = T.X[:, gene_ids]\n",
    "\n",
    "# Convert the sparse matrix to a dense array\n",
    "selected_data_dense = selected_data_sparse.toarray()\n",
    "print(selected_data_dense.shape)\n",
    "\n",
    "# Create a data matrix with only genes of interest \n",
    "data_matrix = pd.DataFrame(selected_data_dense, index=T.obs_names, columns=gene_names)"
   ]
  },
  {
   "cell_type": "code",
   "execution_count": null,
   "id": "3bcfceae-0420-419b-ad32-9204435a1cc6",
   "metadata": {},
   "outputs": [],
   "source": [
    "data_matrix"
   ]
  },
  {
   "cell_type": "code",
   "execution_count": null,
   "id": "9320393b-f21f-463d-b0f8-c2194aae320d",
   "metadata": {},
   "outputs": [],
   "source": [
    "\n",
    "# Add cluster labels to compute average\n",
    "data_matrix['cell_type_subset'] = T.obs['cell_type_subset']"
   ]
  },
  {
   "cell_type": "code",
   "execution_count": null,
   "id": "a6633b8a-0898-4a50-9c95-e0f5a7056571",
   "metadata": {},
   "outputs": [],
   "source": [
    "# Compute the average for each cluster\n",
    "avg_matrix = data_matrix.groupby(['cell_type_subset']).mean()"
   ]
  },
  {
   "cell_type": "code",
   "execution_count": null,
   "id": "6651e229-597e-4908-a479-42ac903d9f9c",
   "metadata": {},
   "outputs": [],
   "source": [
    "# Create a heatmap\n",
    "import seaborn as sns\n",
    "g = sns.clustermap(avg_matrix, col_cluster = False, standard_scale = 1, cbar_pos=(1.05, .3, .03, .4), \n",
    "                   linewidth = 0.02, figsize = (6, 6))\n",
    "g.ax_heatmap.set_xlabel('Genes')\n",
    "g.ax_heatmap.set_ylabel('Leiden Clusters')\n",
    "\n",
    "# To save figure:\n",
    "# g.savefig('/path/to/save/plot/clustermap.png', dpi = 150, bbox_inches = 'tight')"
   ]
  },
  {
   "cell_type": "code",
   "execution_count": null,
   "id": "f5d48747-eab1-48d1-a86f-5f76066e1649",
   "metadata": {},
   "outputs": [],
   "source": [
    "genes"
   ]
  },
  {
   "cell_type": "code",
   "execution_count": null,
   "id": "7fcf1338-529c-4ee0-8d09-54add49f4169",
   "metadata": {},
   "outputs": [],
   "source": [
    "color_set = ['#f6222e','#ff34ff','#060047','#ffbaba','#002FA7',    ]\n",
    "celltype_color_map = dict(zip(genes.keys(), color_set))"
   ]
  },
  {
   "cell_type": "code",
   "execution_count": null,
   "id": "4742ce0d-a928-4e91-84a9-62627ba1fc68",
   "metadata": {},
   "outputs": [],
   "source": [
    "celltype_color_map"
   ]
  },
  {
   "cell_type": "code",
   "execution_count": null,
   "id": "46c5ebb4-6e4d-433a-a8f1-69d239062846",
   "metadata": {},
   "outputs": [],
   "source": [
    "genes_color_map = {}\n",
    "for item, value in genes.items():\n",
    "    for k in value:\n",
    "        genes_color_map[k] = celltype_color_map[item]\n",
    "    \n",
    "genes_color_map"
   ]
  },
  {
   "cell_type": "code",
   "execution_count": null,
   "id": "cb04b703-70f0-43b1-9f89-720c8635fe37",
   "metadata": {},
   "outputs": [],
   "source": [
    "# Get the gene ids\n",
    "gene_ids = [T.var_names.get_loc(j) for j in genes_color_map.keys()]\n",
    "\n",
    "# Check the shape of the selected data\n",
    "selected_data_sparse = T.X[:, gene_ids]\n",
    "\n",
    "# Convert the sparse matrix to a dense array\n",
    "selected_data_dense = selected_data_sparse.toarray()\n",
    "print(selected_data_dense.shape)\n",
    "\n",
    "# Create a data matrix with only genes of interest \n",
    "data_matrix = pd.DataFrame(selected_data_dense, index = T.obs_names, columns = genes_color_map.keys())\n",
    "\n",
    "# Add cluster labels to compute average\n",
    "data_matrix['cell_type_subset'] = T.obs['cell_type_subset']"
   ]
  },
  {
   "cell_type": "code",
   "execution_count": null,
   "id": "e9a7625a-9664-4e04-8a29-93c653682e30",
   "metadata": {},
   "outputs": [],
   "source": [
    "# Compute the average for each cluster\n",
    "avg_matrix = data_matrix.groupby(['cell_type_subset']).mean()"
   ]
  },
  {
   "cell_type": "code",
   "execution_count": null,
   "id": "2db7837d-4a60-4b17-9aa8-12a321fed9a9",
   "metadata": {},
   "outputs": [],
   "source": [
    "# Assuming your data is in avg_matrix\n",
    "# You can create a transposed version of avg_matrix to switch x and y axes\n",
    "#avg_matrix = np.transpose(avg_matrix)"
   ]
  },
  {
   "cell_type": "code",
   "execution_count": null,
   "id": "c3bfa3c9-7a7a-4b30-ad90-d53c94394c64",
   "metadata": {
    "scrolled": true
   },
   "outputs": [],
   "source": [
    "import seaborn as sns\n",
    "\n",
    "# Assuming avg_matrix, genes_color_map, and celltype_color_map are defined\n",
    "\n",
    "# Create a heatmap\n",
    "g = sns.clustermap(avg_matrix,row_cluster=False, col_cluster=False, standard_scale=1, cbar_pos=(1.05, .3, .03, .4), \n",
    "                   linewidth=0.5, figsize=(6, 3.5),  \n",
    "                   col_colors=[color_use for color_use in genes_color_map.values()], row_colors=None)\n",
    "\n",
    "# Set labels for axes\n",
    "g.ax_heatmap.set_xlabel('Genes')\n",
    "g.ax_heatmap.set_ylabel('celltype')\n",
    "\n",
    "# Draw the legend bar for the classes                 \n",
    "for label in celltype_color_map.keys():\n",
    "    g.ax_col_dendrogram.bar(0, 0, color=celltype_color_map[label], label=label, linewidth=0)\n",
    "\n",
    "# Add legend to the dendrogram\n",
    "g.ax_col_dendrogram.legend(ncol=1, bbox_to_anchor=(0, 0.75))\n",
    "\n",
    "# To save figure:\n",
    "g.savefig('CD45new/spectra/clustermap.pdf', dpi = 6000, bbox_inches = 'tight')"
   ]
  },
  {
   "cell_type": "code",
   "execution_count": null,
   "id": "b4b36444-f488-4c7b-9225-63a07da9572c",
   "metadata": {},
   "outputs": [],
   "source": [
    "T.uns['cell_type_subset_colors']=['#f6222e', '#002FA7', '#060047','#b57edc', '#ffbaba',]"
   ]
  },
  {
   "cell_type": "code",
   "execution_count": null,
   "id": "d3e43f6d",
   "metadata": {},
   "outputs": [],
   "source": []
  },
  {
   "cell_type": "code",
   "execution_count": null,
   "id": "1d95374a-3679-4d6c-9099-4915c50f6a92",
   "metadata": {},
   "outputs": [],
   "source": [
    "sc.pl.umap(T, color='cell_type_subset') "
   ]
  },
  {
   "cell_type": "code",
   "execution_count": null,
   "id": "3db68974",
   "metadata": {},
   "outputs": [],
   "source": [
    "sc.pl.violin(T, [ 'ribo_frac', 'mito_frac', ],  \n",
    "             palette=user_defined_palette,  jitter=0.4, groupby = 'cell_type_subset', rotation= 90)"
   ]
  },
  {
   "cell_type": "code",
   "execution_count": null,
   "id": "38602446-c512-45da-a40c-49283ea46762",
   "metadata": {},
   "outputs": [],
   "source": [
    "sc.set_figure_params(dpi=150, dpi_save=300, vector_friendly=True, transparent=True)\n",
    "sc.pl.umap(\n",
    "    T, \n",
    "    color='cell_type_subset', \n",
    "    use_raw=False,\n",
    "    ncols=5,\n",
    "    frameon=False,\n",
    "    add_outline=False,\n",
    "    sort_order = False,\n",
    ")"
   ]
  },
  {
   "cell_type": "code",
   "execution_count": null,
   "id": "7274fb2f-c1fe-4be2-a1d0-f4432b99b8b7",
   "metadata": {
    "scrolled": true
   },
   "outputs": [],
   "source": [
    "# Create a heatmap\n",
    "a = sns.clustermap(avg_matrix, col_cluster = False,row_cluster = False, standard_scale = 1, cbar_pos=(1.05, .3, .03, .4), \n",
    "                   linewidth = 0.1, figsize = (6, 6), \n",
    "                   col_colors = [color_use for color_use in genes_color_map.values()])\n",
    "g.ax_heatmap.set_xlabel('Genes')\n",
    "g.ax_heatmap.set_ylabel('PhenoGraph Clusters')\n",
    "\n",
    "# Draw the legend bar for the classes                 \n",
    "for label in celltype_color_map.keys():\n",
    "    g.ax_col_dendrogram.bar(0, 0, color=celltype_color_map[label],\n",
    "                            label=label, linewidth=0)\n",
    "g.ax_col_dendrogram.legend(ncol=1, bbox_to_anchor = (0, 0.75))\n",
    "\n",
    "# To save figure:\n",
    "# g.savefig('path/to/save/plot/clustermap.png', dpi = 150, bbox_inches = 'tight')"
   ]
  },
  {
   "cell_type": "code",
   "execution_count": null,
   "id": "54426a7c-5ab2-4735-8a27-4ddba7d91cec",
   "metadata": {},
   "outputs": [],
   "source": [
    "sc.set_figure_params(dpi=80, dpi_save=300, color_map='viridis', vector_friendly=True, transparent=True)\n",
    "\n",
    "sc.pl.umap(\n",
    "    T, \n",
    "    color=[ 'cell_type_subset','stage', 'day',], \n",
    "    ncols=6,\n",
    "    outline_width=[0.6, 0.05],\n",
    "    frameon=False,\n",
    "    cmap='Spectral_r',\n",
    "    wspace = 0.4,\n",
    "    use_raw=False,\n",
    "    add_outline=True\n",
    ")"
   ]
  },
  {
   "cell_type": "code",
   "execution_count": null,
   "id": "7e8f07b5-8a0b-46e7-99c0-f874252b12e3",
   "metadata": {},
   "outputs": [],
   "source": [
    "colors = T.uns['cell_type_subset_colors']\n",
    "\n",
    "tmp = pd.crosstab(T.obs['day'],T.obs[\"cell_type_subset\"], normalize='index', )\n",
    "tmp.plot.area(stacked=True, color=colors).legend(loc='center left', bbox_to_anchor=(1, 0.5),frameon=False)\n",
    "plt.grid(False)\n",
    "plt.title(\"2 month-old\")\n"
   ]
  },
  {
   "cell_type": "code",
   "execution_count": null,
   "id": "a8e54c81-c8ba-4d75-b248-f5ab652eeca1",
   "metadata": {},
   "outputs": [],
   "source": [
    "Tregs= T[T.obs[\"cell_type_subset\"]==\"Tregs\"]"
   ]
  },
  {
   "cell_type": "code",
   "execution_count": null,
   "id": "6448c02a-67b7-4af7-b81b-027fa1873ddd",
   "metadata": {},
   "outputs": [],
   "source": [
    "sc.tl.rank_genes_groups(Tregs, 'day', groups=['d7'], reference='d0', method='wilcoxon', use_raw=False)\n",
    "result = Tregs.uns['rank_genes_groups']"
   ]
  },
  {
   "cell_type": "code",
   "execution_count": null,
   "id": "5ddf2b5c-1898-4f41-9568-7bb7b7b25e45",
   "metadata": {},
   "outputs": [],
   "source": [
    "sc.pl.rank_genes_groups(Tregs, n_genes=30, sharey=False)\n"
   ]
  },
  {
   "cell_type": "code",
   "execution_count": null,
   "id": "a8174eac-dc55-4558-93af-44deca73013a",
   "metadata": {},
   "outputs": [],
   "source": [
    "#path_to_h5ad = '/Users/alemarquis/Desktop/CD45/CD45new/CD45pos_02mo18mo_SLTBId147_T.h5ad'\n",
    "#T.write_h5ad(path_to_h5ad)"
   ]
  },
  {
   "cell_type": "code",
   "execution_count": null,
   "id": "6f23f649-ec80-4c55-9893-eb94d29a1c6a",
   "metadata": {},
   "outputs": [],
   "source": [
    "#T=sc.read_h5ad('/Users/xleana/Desktop/CD45/CD45new/CD45pos_02mo18mo_SLTBId147_T.h5ad')\n",
    "#T.uns['log1p']['base']=None\n"
   ]
  },
  {
   "cell_type": "code",
   "execution_count": null,
   "id": "cdfc54e0-8ab0-43df-9a87-3be051d0b8e9",
   "metadata": {},
   "outputs": [],
   "source": [
    "TyoungD0=T[T.obs[\"day\"]==\"d0\"]"
   ]
  },
  {
   "cell_type": "code",
   "execution_count": null,
   "id": "d595c812-6239-4c6f-bb75-53713261a717",
   "metadata": {},
   "outputs": [],
   "source": [
    "TyoungD1=T[T.obs[\"day\"]==\"d1\"]"
   ]
  },
  {
   "cell_type": "code",
   "execution_count": null,
   "id": "6214a7ff-735a-4e10-9b87-38dbc6fed9b4",
   "metadata": {},
   "outputs": [],
   "source": [
    "TyoungD4=T[T.obs[\"day\"]==\"d4\"]"
   ]
  },
  {
   "cell_type": "code",
   "execution_count": null,
   "id": "783b9314-38be-47f2-9e7a-004eb3a6bab2",
   "metadata": {},
   "outputs": [],
   "source": [
    "TyoungD7=T[T.obs[\"day\"]==\"d7\"]"
   ]
  },
  {
   "cell_type": "code",
   "execution_count": null,
   "id": "20cfaff9-8b8e-46c0-9a29-d7b44bb05d84",
   "metadata": {},
   "outputs": [],
   "source": [
    "sc.tl.rank_genes_groups(TyoungD0, groupby='cell_type_subset', method='wilcoxon',layers='norm_counts')\n",
    "sc.pl.rank_genes_groups_dotplot(TyoungD0, n_genes=50, dendrogram=False)\n"
   ]
  },
  {
   "cell_type": "code",
   "execution_count": null,
   "id": "12ae6078-bacf-47ba-8f2f-0b78be1693c7",
   "metadata": {},
   "outputs": [],
   "source": [
    "sc.tl.rank_genes_groups(TyoungD1, groupby='cell_type_subset', method='wilcoxon',layers='norm_counts')\n",
    "sc.pl.rank_genes_groups_dotplot(TyoungD1, n_genes=50, dendrogram=False)\n"
   ]
  },
  {
   "cell_type": "code",
   "execution_count": null,
   "id": "cf681a3d-90e3-4e0d-802b-e4fd71ce7ecf",
   "metadata": {},
   "outputs": [],
   "source": [
    "sc.tl.rank_genes_groups(TyoungD4, groupby='cell_type_subset', method='wilcoxon',layers='norm_counts')\n",
    "sc.pl.rank_genes_groups_dotplot(TyoungD4, n_genes=50, dendrogram=False)\n"
   ]
  },
  {
   "cell_type": "code",
   "execution_count": null,
   "id": "62c91a6b-b283-4804-aca1-7f3a8baf7320",
   "metadata": {},
   "outputs": [],
   "source": [
    "sc.tl.rank_genes_groups(TyoungD7, groupby='cell_type_subset', method='wilcoxon',layers='norm_counts')\n",
    "sc.pl.rank_genes_groups_dotplot(TyoungD7, n_genes=50, dendrogram=False)\n"
   ]
  },
  {
   "cell_type": "code",
   "execution_count": null,
   "id": "0f56986e-4b77-45c4-a387-5e4f7a342819",
   "metadata": {},
   "outputs": [],
   "source": [
    "result = TyoungD0.uns['rank_genes_groups']\n",
    "groups = result['names'].dtype.names\n",
    "df = pd.DataFrame(\n",
    "{group + '_' + key[:1]: result[key][group]\n",
    "for group in groups for key in ['names','logfoldchanges','pvals_adj','pvals',]})\n",
    "df.to_csv('/Users/alemarquis/Desktop/Tyoung/TyoungD0.csv')"
   ]
  },
  {
   "cell_type": "code",
   "execution_count": null,
   "id": "2fe5d538-35b4-48d1-a42f-2c069eb1dd1b",
   "metadata": {},
   "outputs": [],
   "source": [
    "result = TyoungD1.uns['rank_genes_groups']\n",
    "groups = result['names'].dtype.names\n",
    "df = pd.DataFrame(\n",
    "{group + '_' + key[:1]: result[key][group]\n",
    "for group in groups for key in ['names','logfoldchanges','pvals_adj','pvals',]})\n",
    "df.to_csv('/Users/alemarquis/Desktop/Tyoung/TyoungD1.csv')"
   ]
  },
  {
   "cell_type": "code",
   "execution_count": null,
   "id": "d26ec587-dfe1-4058-9372-74252c2e548b",
   "metadata": {},
   "outputs": [],
   "source": [
    "result = TyoungD4.uns['rank_genes_groups']\n",
    "groups = result['names'].dtype.names\n",
    "df = pd.DataFrame(\n",
    "{group + '_' + key[:1]: result[key][group]\n",
    "for group in groups for key in ['names','logfoldchanges','pvals_adj','pvals',]})\n",
    "df.to_csv('/Users/alemarquis/Desktop/Tyoung/TyoungD4.csv')"
   ]
  },
  {
   "cell_type": "code",
   "execution_count": null,
   "id": "5a5c0790-98a3-4500-81b2-d5730b679419",
   "metadata": {},
   "outputs": [],
   "source": [
    "result = TyoungD7.uns['rank_genes_groups']\n",
    "groups = result['names'].dtype.names\n",
    "df = pd.DataFrame(\n",
    "{group + '_' + key[:1]: result[key][group]\n",
    "for group in groups for key in ['names','logfoldchanges','pvals_adj','pvals',]})\n",
    "df.to_csv('/Users/alemarquis/Desktop/Tyoung/TyoungD7.csv')"
   ]
  },
  {
   "cell_type": "code",
   "execution_count": null,
   "id": "3685db28-f183-41d8-9c8b-a066e3b00be7",
   "metadata": {
    "scrolled": true
   },
   "outputs": [],
   "source": [
    "sc.pl.umap(young,color=\"cell_type\")"
   ]
  },
  {
   "cell_type": "markdown",
   "id": "62ce6a8a-6d3c-4a6f-853d-3f0299bb4119",
   "metadata": {},
   "source": [
    "## NKT cells"
   ]
  },
  {
   "cell_type": "code",
   "execution_count": null,
   "id": "17fbe6eb-637d-4c82-a724-7cda18cd6dd1",
   "metadata": {},
   "outputs": [],
   "source": [
    "NKT = young[young.obs['cell_type'].isin(['NKT and ILTCK'])]\n"
   ]
  },
  {
   "cell_type": "code",
   "execution_count": null,
   "id": "72ca0ec7-e64a-4f97-869d-1d9b54281df3",
   "metadata": {},
   "outputs": [],
   "source": [
    "# Remove columns with all 0s\n",
    "sc.pp.filter_genes(NKT, min_cells=4)"
   ]
  },
  {
   "cell_type": "code",
   "execution_count": null,
   "id": "2bfc155a-2463-4c09-a3c8-3fb684bec4b7",
   "metadata": {
    "scrolled": true
   },
   "outputs": [],
   "source": [
    "sc.pp.highly_variable_genes(NKT, n_top_genes=5000, n_bins=20, flavor='seurat_v3')"
   ]
  },
  {
   "cell_type": "code",
   "execution_count": null,
   "id": "1dd2eef6-70d8-488b-91e5-dce7a02c5780",
   "metadata": {},
   "outputs": [],
   "source": [
    "rng = np.random.RandomState(42)\n",
    "sc.tl.pca(NKT, n_comps=50, svd_solver='arpack', random_state=rng, use_highly_variable=True)"
   ]
  },
  {
   "cell_type": "code",
   "execution_count": null,
   "id": "6633a7ed-07bc-4db3-833e-eb3d6c7754b5",
   "metadata": {},
   "outputs": [],
   "source": [
    "observe_variance(NKT)"
   ]
  },
  {
   "cell_type": "code",
   "execution_count": null,
   "id": "89a1dac1-66f0-4c42-a57a-6f45eb1fb970",
   "metadata": {},
   "outputs": [],
   "source": [
    "plt.plot(range(len(T.uns['pca']['variance_ratio'])), np.cumsum(T.uns['pca']['variance_ratio']) * 100, '.-')\n",
    "plt.axvline(30, color = 'r')\n",
    "plt.xlabel('Principal Component', fontsize = 14)\n",
    "plt.ylabel('% Variance Explained', fontsize = 14)"
   ]
  },
  {
   "cell_type": "code",
   "execution_count": null,
   "id": "16c9617e-6499-4186-8ba6-9291500c7006",
   "metadata": {},
   "outputs": [],
   "source": [
    "sc.pp.neighbors(NKT, n_neighbors=30, n_pcs=30)\n",
    "sc.tl.umap(NKT, min_dist=0.9)"
   ]
  },
  {
   "cell_type": "code",
   "execution_count": null,
   "id": "61fc50b4-75ce-4621-8d0f-61cdfcd43f20",
   "metadata": {},
   "outputs": [],
   "source": [
    "for resolution_parameter in [0.1, 0.2, 0.3, 0.4, 0.5, 0.6, 0.7, 0.8, 0.9, 1.0]:\n",
    "    sc.tl.leiden(NKT, resolution=resolution_parameter, random_state=42, \n",
    "                        key_added='leiden_'+str(resolution_parameter))"
   ]
  },
  {
   "cell_type": "code",
   "execution_count": null,
   "id": "9de5c022-5f91-4954-b061-49220c2ad0ac",
   "metadata": {},
   "outputs": [],
   "source": [
    "sc.set_figure_params(dpi=80, dpi_save=300, color_map='viridis', vector_friendly=False, transparent=True)\n",
    "sc.pl.umap(\n",
    "    NKT, \n",
    "    color=['leiden_0.1', 'leiden_0.2', 'leiden_0.3', 'leiden_0.4', 'leiden_0.5', \n",
    "           'leiden_0.6', 'leiden_0.7', 'leiden_0.8','leiden_0.9', 'leiden_1.0'], \n",
    "    palette=user_defined_palette,  \n",
    "    color_map='Spectral_r', \n",
    "    use_raw=False,\n",
    "    ncols=5,\n",
    "    wspace = 0.7,\n",
    "    outline_width=[0.6, 0.05],\n",
    "    frameon=False,\n",
    "    add_outline=True,\n",
    "    sort_order = False\n",
    ")"
   ]
  },
  {
   "cell_type": "code",
   "execution_count": null,
   "id": "45f5d0e9-5bf9-4ecf-b045-2cacf3d0647c",
   "metadata": {},
   "outputs": [],
   "source": [
    "sc.set_figure_params(dpi=80, dpi_save=300, color_map='viridis', vector_friendly=True, transparent=True)\n",
    "sc.pl.umap(\n",
    "    NKT, \n",
    "    color=['leiden_0.1',\"stage\",\"Trac\",\"Trdc\",\"Cd8a\",\"Cd4\"], \n",
    "    palette=user_defined_palette,  \n",
    "    color_map='Spectral_r', \n",
    "    use_raw=False,\n",
    "    ncols=6,\n",
    "    size=15,\n",
    "    wspace = 0.2,\n",
    "    outline_width=[0.6, 0.05],\n",
    "    frameon=False,\n",
    "    add_outline=True,\n",
    "    sort_order = False\n",
    ")"
   ]
  },
  {
   "cell_type": "code",
   "execution_count": null,
   "id": "17439388-03cc-48ea-ac37-7de0fa8061d1",
   "metadata": {},
   "outputs": [],
   "source": [
    "sc.set_figure_params(dpi=80, dpi_save=300, color_map='viridis', vector_friendly=True, transparent=True)\n",
    "\n",
    "sc.pl.umap(\n",
    "    NKT, \n",
    "    color=['leiden_0.1','leiden_0.3', 'stage', 'day', 'sample', 'day',\"Il4\",\n",
    "           \"Rorc\",\"Il17a\",\"Icos\",\"Ncr1\",\"Cxcr6\",'Fcer1g',], \n",
    "    ncols=6,\n",
    "    use_raw=False,\n",
    "    outline_width=[0.6, 0.05],\n",
    "    frameon=False,\n",
    "    cmap='Spectral_r',\n",
    "    wspace = 0.5,\n",
    "    add_outline=True\n",
    ")"
   ]
  },
  {
   "cell_type": "code",
   "execution_count": null,
   "id": "99b29dfa-33b8-4040-965d-742db012c8a2",
   "metadata": {},
   "outputs": [],
   "source": [
    "NKT.obs['cell_type_subset'] = [  'Invariant T' if (x=='2' ) else\n",
    "                                #'NKT' if (x=='0' or x=='2' or x=='1'   )else\n",
    "                               'NKT' for x in NKT.obs['leiden_0.1']] "
   ]
  },
  {
   "cell_type": "code",
   "execution_count": null,
   "id": "de9556dd-02d4-48f1-9435-85d67c19f3f7",
   "metadata": {},
   "outputs": [],
   "source": [
    "sc.set_figure_params(dpi=80, dpi_save=300, color_map='viridis', vector_friendly=True, transparent=True)\n",
    "\n",
    "sc.pl.umap(\n",
    "    NKT, \n",
    "    color=['leiden_0.3','cell_type_subset',\"day\"], \n",
    "    ncols=6,\n",
    "    use_raw=False,\n",
    "    outline_width=[0.6, 0.05],\n",
    "    frameon=False,\n",
    "    cmap='Spectral_r',\n",
    "    wspace = 0.5,\n",
    "    add_outline=True\n",
    ")"
   ]
  },
  {
   "cell_type": "markdown",
   "id": "d24a5cd3-1db3-46f2-9c6f-e8932b2b8b2b",
   "metadata": {},
   "source": [
    "## B cells"
   ]
  },
  {
   "cell_type": "code",
   "execution_count": null,
   "id": "cdc16fd3-8468-49d3-90a3-2bb22269b196",
   "metadata": {},
   "outputs": [],
   "source": [
    "B = young[young.obs['cell_type'].isin(['B cells'])]"
   ]
  },
  {
   "cell_type": "code",
   "execution_count": null,
   "id": "0efb217e-3f84-400e-af48-0fe23b23650d",
   "metadata": {},
   "outputs": [],
   "source": [
    "# Remove columns with all 0s\n",
    "sc.pp.filter_genes(B, min_cells=1)"
   ]
  },
  {
   "cell_type": "code",
   "execution_count": null,
   "id": "a95be4c7-554d-4396-ade9-eb0a801572c2",
   "metadata": {},
   "outputs": [],
   "source": [
    "sc.pp.highly_variable_genes(B, n_top_genes=2000, n_bins=20, flavor='seurat_v3')"
   ]
  },
  {
   "cell_type": "code",
   "execution_count": null,
   "id": "8f131ee3-dd4c-4b84-a04b-f78d04f16a76",
   "metadata": {},
   "outputs": [],
   "source": [
    "rng = np.random.RandomState(42)\n",
    "sc.tl.pca(B, n_comps=200, svd_solver='arpack', random_state=rng, use_highly_variable=True)"
   ]
  },
  {
   "cell_type": "code",
   "execution_count": null,
   "id": "f62a1b36-b8bb-4b46-a03c-611acf6959e9",
   "metadata": {},
   "outputs": [],
   "source": [
    "observe_variance(B)"
   ]
  },
  {
   "cell_type": "code",
   "execution_count": null,
   "id": "1d32ede9-3446-42c0-b889-a0b2586e7813",
   "metadata": {},
   "outputs": [],
   "source": [
    "rng = np.random.RandomState(42)\n",
    "sc.tl.pca(B, n_comps=30, svd_solver='arpack', random_state=rng, use_highly_variable=True)"
   ]
  },
  {
   "cell_type": "code",
   "execution_count": null,
   "id": "8506a913-b8b1-4050-a746-d2e0ddb9913d",
   "metadata": {},
   "outputs": [],
   "source": [
    "sc.pp.neighbors(B, n_neighbors=15)\n",
    "sc.tl.umap(B)"
   ]
  },
  {
   "cell_type": "code",
   "execution_count": null,
   "id": "ee404d54-fa3d-4565-946b-16aa72368018",
   "metadata": {},
   "outputs": [],
   "source": [
    "for resolution_parameter in [0.1, 0.2, 0.3, 0.4, 0.5, 0.6, 0.7, 0.8, 0.9, 1.0]:\n",
    "    sc.tl.leiden(B, resolution=resolution_parameter, random_state=42, \n",
    "                        key_added='leiden_'+str(resolution_parameter))"
   ]
  },
  {
   "cell_type": "code",
   "execution_count": null,
   "id": "1a9d5b40-1f2a-4cce-bb56-bd3112b28dcd",
   "metadata": {},
   "outputs": [],
   "source": [
    "B"
   ]
  },
  {
   "cell_type": "code",
   "execution_count": null,
   "id": "19bac8ff-d334-4b3c-ac72-41bf0e22109f",
   "metadata": {
    "scrolled": true
   },
   "outputs": [],
   "source": [
    "sc.set_figure_params(dpi=80, dpi_save=300, color_map='viridis', vector_friendly=False, transparent=True)\n",
    "sc.pl.umap(\n",
    "    B, \n",
    "    color=['leiden_0.1', 'leiden_0.2', 'leiden_0.3', 'leiden_0.4', 'leiden_0.5', \n",
    "           'leiden_0.6', 'leiden_0.7', 'leiden_0.8','leiden_0.9', 'leiden_1.0',\"day\",\"Cd3e\"], \n",
    "    palette=user_defined_palette,  \n",
    "    color_map='Spectral_r', \n",
    "    use_raw=False,\n",
    "    ncols=5,\n",
    "    wspace = 0.7,\n",
    "    outline_width=[0.1, 0.05],\n",
    "    frameon=False,\n",
    "    add_outline=True,\n",
    "    sort_order = False\n",
    ")\n"
   ]
  },
  {
   "cell_type": "code",
   "execution_count": null,
   "id": "2588c14c-ef71-43d6-a5bf-eb4235dff6eb",
   "metadata": {},
   "outputs": [],
   "source": [
    "sc.tl.rank_genes_groups(B, 'leiden_0.1', method='wilcoxon', use_raw=False)\n",
    "sc.pl.rank_genes_groups(B, n_genes=25, sharey=False) "
   ]
  },
  {
   "cell_type": "code",
   "execution_count": null,
   "id": "487061dd-c9e3-461b-943d-f66665a68b6e",
   "metadata": {},
   "outputs": [],
   "source": [
    "B.obs['cell_type_subset'] = [  'B cells' if (x=='0' or x=='1' ) else                            \n",
    "                               'Plasma cells' if (x=='3'or x=='2'     )else\n",
    "                               'Error' for x in B.obs['leiden_0.1']] "
   ]
  },
  {
   "cell_type": "code",
   "execution_count": null,
   "id": "8d47ad87-0a82-46b7-aab9-605e67d724ed",
   "metadata": {},
   "outputs": [],
   "source": [
    "sc.set_figure_params(dpi=80, dpi_save=300, color_map='viridis', vector_friendly=False, transparent=True)\n",
    "sc.pl.umap(\n",
    "    B, \n",
    "    color=['cell_type_subset',\"Igha\",\"Ighm\" ], \n",
    "    palette=user_defined_palette,  \n",
    "    color_map='Spectral_r', \n",
    "    use_raw=False,\n",
    "    ncols=5,\n",
    "    wspace = 0.7,\n",
    "    outline_width=[0.1, 0.05],\n",
    "    frameon=False,\n",
    "    add_outline=True,\n",
    "    sort_order = False\n",
    ")\n"
   ]
  },
  {
   "cell_type": "code",
   "execution_count": null,
   "id": "88addeb1-efd0-46c1-a89f-672a368104fd",
   "metadata": {},
   "outputs": [],
   "source": [
    "sc.set_figure_params(dpi=80, dpi_save=300, color_map='viridis', vector_friendly=False, transparent=True)\n",
    "sc.pl.umap(\n",
    "    young, \n",
    "    color=['cell_type' ], \n",
    "    palette=user_defined_palette,  \n",
    "    color_map='Spectral_r', \n",
    "    use_raw=False,\n",
    "    ncols=5,\n",
    "    wspace = 0.7,\n",
    "    outline_width=[0.1, 0.05],\n",
    "    frameon=False,\n",
    "    add_outline=True,\n",
    "    sort_order = False\n",
    ")\n"
   ]
  },
  {
   "cell_type": "code",
   "execution_count": null,
   "id": "f53e440e-2998-4035-adca-bdd2c8811a97",
   "metadata": {},
   "outputs": [],
   "source": [
    "tmp = pd.crosstab(B.obs['day'],B.obs['cell_type_subset'], normalize='index')\n",
    "tmp.plot.area(stacked=True).legend(loc='center left', bbox_to_anchor=(1, 0.5),frameon=False)\n",
    "plt.grid(False)"
   ]
  },
  {
   "cell_type": "markdown",
   "id": "d6874855-9b9e-49f4-aacb-d0662af11ad5",
   "metadata": {},
   "source": [
    "## DCs"
   ]
  },
  {
   "cell_type": "code",
   "execution_count": null,
   "id": "f9df763a-e92d-4c5e-9fa5-3a30bdfc6cc8",
   "metadata": {},
   "outputs": [],
   "source": [
    "DC = young[young.obs['cell_type'].isin(['DCs and Macrophages'])]"
   ]
  },
  {
   "cell_type": "code",
   "execution_count": null,
   "id": "81182adb-5a11-431c-ac15-af38dfb05468",
   "metadata": {},
   "outputs": [],
   "source": [
    "# Remove columns with all 0s\n",
    "sc.pp.filter_genes(DC, min_cells=4)"
   ]
  },
  {
   "cell_type": "code",
   "execution_count": null,
   "id": "a454f0de-c4c4-49b7-9e7a-aacceb1fdb21",
   "metadata": {},
   "outputs": [],
   "source": [
    "sc.pp.highly_variable_genes(DC, n_top_genes=3000, n_bins=20, flavor='seurat_v3')"
   ]
  },
  {
   "cell_type": "code",
   "execution_count": null,
   "id": "00e0d094-746f-43c1-8b16-0754f3abc4c1",
   "metadata": {},
   "outputs": [],
   "source": [
    "rng = np.random.RandomState(42)\n",
    "sc.tl.pca(DC, n_comps=200, svd_solver='arpack', random_state=rng, use_highly_variable=True)"
   ]
  },
  {
   "cell_type": "code",
   "execution_count": null,
   "id": "d61ab140-ae68-46b8-aa6b-367bb9a5898c",
   "metadata": {},
   "outputs": [],
   "source": [
    "observe_variance(DC)"
   ]
  },
  {
   "cell_type": "code",
   "execution_count": null,
   "id": "d3279331-6dde-45f9-870c-d34d5adcd93f",
   "metadata": {},
   "outputs": [],
   "source": [
    "rng = np.random.RandomState(42)\n",
    "sc.tl.pca(DC, n_comps=30, svd_solver='arpack', random_state=rng, use_highly_variable=True)"
   ]
  },
  {
   "cell_type": "code",
   "execution_count": null,
   "id": "3d8ce67a-df34-4622-9b50-44adebe47da2",
   "metadata": {},
   "outputs": [],
   "source": [
    "sc.pp.neighbors(DC, n_neighbors=30, n_pcs=30)\n",
    "sc.tl.umap(DC,min_dist=0.5)"
   ]
  },
  {
   "cell_type": "code",
   "execution_count": null,
   "id": "f9345b90-5564-4555-9ca1-745606e95486",
   "metadata": {},
   "outputs": [],
   "source": [
    "for resolution_parameter in [0.1, 0.2, 0.3, 0.4, 0.5, 0.6, 0.7, 0.8, 0.9, 1.0]:\n",
    "    sc.tl.leiden(DC, resolution=resolution_parameter, random_state=42, \n",
    "                        key_added='leiden_'+str(resolution_parameter))"
   ]
  },
  {
   "cell_type": "code",
   "execution_count": null,
   "id": "cfe543f2-b7af-4ed5-bfe2-f7415d188c4a",
   "metadata": {
    "scrolled": true
   },
   "outputs": [],
   "source": [
    "sc.set_figure_params(dpi=80, dpi_save=300, color_map='viridis', vector_friendly=False, transparent=True)\n",
    "sc.pl.umap(\n",
    "    DC, \n",
    "    color=['leiden_0.1', 'leiden_0.2', 'leiden_0.3', 'leiden_0.4', 'leiden_0.5', \n",
    "           'leiden_0.6', 'leiden_0.7', 'leiden_0.8','leiden_0.9', 'leiden_1.0'], \n",
    "    palette=user_defined_palette,  \n",
    "    color_map='Spectral_r', \n",
    "    use_raw=False,\n",
    "    ncols=5,\n",
    "    wspace = 0.7,\n",
    "    outline_width=[0.1, 0.05],\n",
    "    frameon=False,\n",
    "    add_outline=True,\n",
    "    sort_order = False\n",
    ")\n"
   ]
  },
  {
   "cell_type": "code",
   "execution_count": null,
   "id": "4ba9236c-d903-4f7d-9cbd-587711264d50",
   "metadata": {
    "scrolled": true
   },
   "outputs": [],
   "source": [
    "sc.set_figure_params(dpi=80, dpi_save=300, color_map='viridis', vector_friendly=False, transparent=True)\n",
    "sc.pl.umap(\n",
    "    DC, \n",
    "    color=[\"H2-Aa\",\"Clec9a\",\"Xcr1\",\"Sirpa\",\"Ccr7\",\"Fscn1\",\"Msrb1\",\"Siglech\",\"Csf1r\",\"Zbtb46\",\"Mertk\",\"Spic\",\"Timd4\",\n",
    "          \"Vcam1\",\"Mafb\",\"Lyz2\",\"leiden_0.4\",\"day\"], \n",
    "    palette=user_defined_palette,  \n",
    "    color_map='Spectral_r', \n",
    "    use_raw=False,\n",
    "    ncols=5,\n",
    "    wspace = 0.1,\n",
    "    outline_width=[0.6, 0.05],\n",
    "    size=15,\n",
    "    frameon=False,\n",
    "    add_outline=True,\n",
    "    sort_order = False\n",
    ")"
   ]
  },
  {
   "cell_type": "code",
   "execution_count": null,
   "id": "d897ff52-70fd-4bf4-8cd6-093039c44215",
   "metadata": {},
   "outputs": [],
   "source": [
    "DC.obs['cell_type_subset'] = ['cDC1' if (x=='0'or x=='1'or x==\"4\" ) else \n",
    "                                 'cDC2' if (x=='3') else\n",
    "                                 'CCR7+ cDC' if (x=='2' ) else\n",
    "                                'p-DCs' if (x=='6') else\n",
    "                                 'Macrophages' if ( x=='5') else\n",
    "                                  'ERROR' for x in DC.obs['leiden_0.4']] "
   ]
  },
  {
   "cell_type": "code",
   "execution_count": null,
   "id": "1682eafb-885a-4813-914c-70312b182cb3",
   "metadata": {},
   "outputs": [],
   "source": [
    "sc.pl.umap(DC,color=['leiden_0.4','cell_type_subset',\"Ccr7\"],)"
   ]
  },
  {
   "cell_type": "code",
   "execution_count": null,
   "id": "eb43ccbb-4978-44f5-acc7-1efbff6a18b8",
   "metadata": {
    "scrolled": true
   },
   "outputs": [],
   "source": [
    "sc.set_figure_params(dpi=80, dpi_save=300, color_map='viridis', vector_friendly=False, transparent=True)\n",
    "sc.pl.umap(\n",
    "    DC, \n",
    "    color=[\"Clec9a\",\"Xcr1\",\"Irf8\",\"Clec10a\",\n",
    "           \"Sirpa\",\"Ccr7\",\"Fscn1\",'Cd79a', 'Ms4a1', \"Xbp1\",\"Igkc\",\"Msrb1\",\"Cd4\",\"Rorc\",\"Il22\",\n",
    "          \"Gata3\",\"Rorc\",\"Pxdc1\",\"Ahr\"], \n",
    "    ncols=6,\n",
    "    outline_width=[0.6, 0.05],\n",
    "    size=100,\n",
    "    frameon=False,\n",
    "    cmap='Spectral_r',\n",
    "    wspace = 0.3,\n",
    "    add_outline=True\n",
    ")\n",
    "\n",
    "#SIRPA DC2\n",
    "#CCR7+ DC2"
   ]
  },
  {
   "cell_type": "code",
   "execution_count": null,
   "id": "28431cbf-670f-41f6-b295-6900788f54ac",
   "metadata": {},
   "outputs": [],
   "source": [
    "DC.uns['cell_type_subset_colors'] = [\"#F1BB7B\", \"#FD6467\", \"#5B1A18\", \"#D67236\"]"
   ]
  },
  {
   "cell_type": "code",
   "execution_count": null,
   "id": "98c276c3-d5c2-4504-9faf-58a9178a0460",
   "metadata": {},
   "outputs": [],
   "source": [
    "DC"
   ]
  },
  {
   "cell_type": "code",
   "execution_count": null,
   "id": "b0ff1b49-36ec-4df8-886b-f1db37de1920",
   "metadata": {},
   "outputs": [],
   "source": [
    "DC.uns['Dendritic cell subsets_colors'] = [  \"#39312F\", \"#D67236\",\"#AA9486\", \"#EAD3BF\",\"#B6854D\", ]"
   ]
  },
  {
   "cell_type": "code",
   "execution_count": null,
   "id": "392db936-2333-4a30-92f3-00e4878e68fc",
   "metadata": {},
   "outputs": [],
   "source": [
    "sc.set_figure_params(dpi=80, dpi_save=300, color_map='viridis', vector_friendly=True, transparent=True)\n",
    "\n",
    "sc.pl.umap(\n",
    "    DC, \n",
    "    color=['cell_type_subset'], \n",
    "    ncols=6,\n",
    "    outline_width=[0.08, 0.06],\n",
    "    frameon=False,\n",
    "    cmap='Spectral_r',\n",
    "    wspace = 0.3,\n",
    "    add_outline=True,\n",
    ")"
   ]
  },
  {
   "cell_type": "code",
   "execution_count": null,
   "id": "2cdff5f0",
   "metadata": {},
   "outputs": [],
   "source": [
    "ccr7DCs=DC[DC.obs['cell_type_subset'].isin(['CCR7+ cDC'])]"
   ]
  },
  {
   "cell_type": "code",
   "execution_count": null,
   "id": "85768add",
   "metadata": {},
   "outputs": [],
   "source": [
    "sc.tl.rank_genes_groups(ccr7DCs, 'day', method='wilcoxon', use_raw=False)\n",
    "sc.pl.rank_genes_groups(ccr7DCs, n_genes=25, sharey=False) "
   ]
  },
  {
   "cell_type": "code",
   "execution_count": null,
   "id": "1315c05d-db0a-4b2c-bf96-9b5e44f3c765",
   "metadata": {},
   "outputs": [],
   "source": [
    "tmp = pd.crosstab(DC.obs['day'],DC.obs['cell_type_subset'], normalize='index')\n",
    "tmp.plot.area(stacked=True).legend(loc='center left', bbox_to_anchor=(1, 0.5),frameon=False)\n",
    "plt.grid(False)"
   ]
  },
  {
   "cell_type": "markdown",
   "id": "6c9706b9-c9dd-43e0-ba9c-e59ccb229c4d",
   "metadata": {},
   "source": [
    "## ILCs"
   ]
  },
  {
   "cell_type": "code",
   "execution_count": null,
   "id": "6899824a-54dc-4945-baa6-868c6402a120",
   "metadata": {},
   "outputs": [],
   "source": [
    "sc.pl.umap(young)"
   ]
  },
  {
   "cell_type": "code",
   "execution_count": null,
   "id": "7d74d97e-dd9c-4caa-bb25-70390c001128",
   "metadata": {},
   "outputs": [],
   "source": [
    "ILC = young[young.obs['cell_type'].isin(['ILC',\"NK cells\", \"DN/DPs\"])]\n",
    "#'DN/DPs',\"NK cells\""
   ]
  },
  {
   "cell_type": "code",
   "execution_count": null,
   "id": "396a2669-7d0f-4f18-83d8-62220d0d9926",
   "metadata": {},
   "outputs": [],
   "source": [
    "sc.pl.umap(ILC)"
   ]
  },
  {
   "cell_type": "code",
   "execution_count": null,
   "id": "c3fa5ea5-0740-4d37-8db2-6dacb27f1386",
   "metadata": {},
   "outputs": [],
   "source": [
    "# Remove columns with all 0s\n",
    "sc.pp.filter_genes(ILC, min_cells=1)"
   ]
  },
  {
   "cell_type": "code",
   "execution_count": null,
   "id": "7af2c717-3dc6-46c5-8c36-4148bb1160f7",
   "metadata": {},
   "outputs": [],
   "source": [
    "sc.pp.highly_variable_genes(ILC, n_top_genes=2000, n_bins=20, flavor='seurat_v3')"
   ]
  },
  {
   "cell_type": "code",
   "execution_count": null,
   "id": "fc23d18c-8e26-4539-9f33-d969649282b8",
   "metadata": {},
   "outputs": [],
   "source": [
    "rng = np.random.RandomState(42)\n",
    "sc.tl.pca(ILC, n_comps=200, svd_solver='arpack', random_state=rng, use_highly_variable=True)"
   ]
  },
  {
   "cell_type": "code",
   "execution_count": null,
   "id": "78ea8940-2008-4c07-b079-59129c6f5e23",
   "metadata": {},
   "outputs": [],
   "source": [
    "observe_variance(ILC)"
   ]
  },
  {
   "cell_type": "code",
   "execution_count": null,
   "id": "f3e02e6b-3eaa-4fe6-a972-9714d01d9ab7",
   "metadata": {},
   "outputs": [],
   "source": [
    "rng = np.random.RandomState(42)\n",
    "sc.tl.pca(ILC, n_comps=30, svd_solver='arpack', random_state=rng, use_highly_variable=True)"
   ]
  },
  {
   "cell_type": "code",
   "execution_count": null,
   "id": "248be8b3-5693-4b7a-9b06-3bd2739fdfcc",
   "metadata": {},
   "outputs": [],
   "source": [
    "sc.pp.neighbors(ILC, n_neighbors=30, n_pcs=30)\n",
    "sc.tl.umap(ILC,min_dist=0.5)"
   ]
  },
  {
   "cell_type": "code",
   "execution_count": null,
   "id": "28577b9e-0840-4fad-85b0-ba0fbf82142b",
   "metadata": {},
   "outputs": [],
   "source": [
    "for resolution_parameter in [0.1, 0.2, 0.3, 0.4, 0.5, 0.6, 0.7, 0.8, 0.9, 1.0]:\n",
    "    sc.tl.leiden(ILC, resolution=resolution_parameter, random_state=42, \n",
    "                        key_added='leiden_'+str(resolution_parameter))"
   ]
  },
  {
   "cell_type": "code",
   "execution_count": null,
   "id": "dc223a68-fa86-4e9d-830c-b77dd07ab0ee",
   "metadata": {
    "scrolled": true
   },
   "outputs": [],
   "source": [
    "sc.set_figure_params(dpi=80, dpi_save=300, color_map='viridis', vector_friendly=False, transparent=True)\n",
    "sc.pl.umap(\n",
    "    ILC, \n",
    "    color=['leiden_0.1', 'leiden_0.2', 'leiden_0.3', 'leiden_0.4', 'leiden_0.5', \n",
    "           'leiden_0.6', 'leiden_0.7', 'leiden_0.8','leiden_0.9', 'leiden_1.0'], \n",
    "    palette=user_defined_palette,  \n",
    "    color_map='Spectral_r', \n",
    "    use_raw=False,\n",
    "    ncols=5,\n",
    "    wspace = 0.7,\n",
    "    outline_width=[0.1, 0.05],\n",
    "    frameon=False,\n",
    "    add_outline=True,\n",
    "    sort_order = False\n",
    ")\n"
   ]
  },
  {
   "cell_type": "code",
   "execution_count": null,
   "id": "9fd8f4bd-b925-4834-a6f7-e821aa18e860",
   "metadata": {
    "scrolled": true
   },
   "outputs": [],
   "source": [
    "sc.set_figure_params(dpi=80, dpi_save=300, color_map='viridis', vector_friendly=False, transparent=True)\n",
    "sc.pl.umap(\n",
    "    ILC, \n",
    "    color=[\"Cd4\",\"Cd8a\",\"Sox4\",\"day\",\"Ncr1\",\"cell_type\",\"Rorc\",\"Ccr6\",\"stage\",\"Eomes\",\"Cd4\",\"Foxp3\",\"Il23r\"], \n",
    "    palette=user_defined_palette,  \n",
    "    color_map='Spectral_r', \n",
    "    use_raw=False,\n",
    "    ncols=5,\n",
    "    wspace = 0.1,\n",
    "    outline_width=[0.6, 0.05],\n",
    "    size=15,\n",
    "    frameon=False,\n",
    "    add_outline=True,\n",
    "    sort_order = False\n",
    ")"
   ]
  },
  {
   "cell_type": "code",
   "execution_count": null,
   "id": "78215373-7625-4d81-b03c-423cc3f70761",
   "metadata": {},
   "outputs": [],
   "source": [
    "ILC.obs['cell_type_subset'] = ['ILC3' if (x=='2' ) else \n",
    "                               'ILC2' if (x=='4') else\n",
    "                               'DN' if (x=='1') else\n",
    "                               'DP' if (x=='3' ) else\n",
    "                               'NK' if (x=='0') else\n",
    "                               'ERROR' for x in ILC.obs['leiden_0.1']] "
   ]
  },
  {
   "cell_type": "code",
   "execution_count": null,
   "id": "7efa5f38-403c-4a61-b792-9b6b88543271",
   "metadata": {
    "scrolled": true
   },
   "outputs": [],
   "source": [
    "sc.pl.umap(ILC, color=[\"leiden_0.1\",\"cell_type\",'cell_type_subset',\"day\"])"
   ]
  },
  {
   "cell_type": "code",
   "execution_count": null,
   "id": "0465b15f-370e-4342-8188-c19b2f246c05",
   "metadata": {},
   "outputs": [],
   "source": [
    "sc.tl.rank_genes_groups(ILC, 'leiden_0.4', method='wilcoxon', use_raw=False)\n",
    "sc.pl.rank_genes_groups(ILC, n_genes=25, sharey=False) "
   ]
  },
  {
   "cell_type": "code",
   "execution_count": null,
   "id": "8c904f4c-db30-4962-81ff-84a8765aa5a9",
   "metadata": {},
   "outputs": [],
   "source": [
    "sc.set_figure_params(dpi=80, dpi_save=300, color_map='viridis', vector_friendly=True, transparent=True)\n",
    "\n",
    "sc.pl.umap(\n",
    "    ILC, \n",
    "    color=['leiden_0.4','cell_type_subset','stage','day'], \n",
    "    ncols=6,\n",
    "    outline_width=[0.08, 0.06],\n",
    "    frameon=False,\n",
    "    cmap='Spectral_r',\n",
    "    wspace = 0.3,\n",
    "    add_outline=True\n",
    ")"
   ]
  },
  {
   "cell_type": "code",
   "execution_count": null,
   "id": "ef785065-8a2b-498c-8f9f-32a185126513",
   "metadata": {},
   "outputs": [],
   "source": [
    "ILC.uns['cell_type_subset_colors'] = [\"#F1BB7B\", \"#FD6467\", \"#5B1A18\", \"#D67236\"]"
   ]
  },
  {
   "cell_type": "code",
   "execution_count": null,
   "id": "f30a88a5-0401-4c93-a125-dd2e55fb5e9c",
   "metadata": {},
   "outputs": [],
   "source": [
    "tmp = pd.crosstab(ILC.obs['day'],ILC.obs['cell_type_subset'], normalize='index')\n",
    "tmp.plot.area(stacked=True).legend(loc='center left', bbox_to_anchor=(1, 0.5),frameon=False)\n",
    "plt.grid(False)"
   ]
  },
  {
   "cell_type": "code",
   "execution_count": null,
   "id": "fd5ec3a3",
   "metadata": {},
   "outputs": [],
   "source": [
    "young"
   ]
  },
  {
   "cell_type": "code",
   "execution_count": null,
   "id": "241ad5aa",
   "metadata": {},
   "outputs": [],
   "source": [
    "sc.pl.umap(young, color='cell_type')"
   ]
  },
  {
   "cell_type": "code",
   "execution_count": null,
   "id": "e14688cc-1598-43c3-9e03-e2a18513f490",
   "metadata": {},
   "outputs": [],
   "source": [
    "annotated_subsets = pd.concat([T.obs['cell_type_subset'], DC.obs['cell_type_subset'], \n",
    "                               NKT.obs['cell_type_subset'], B.obs['cell_type_subset'],\n",
    "                                ILC.obs['cell_type_subset']]\n",
    "                              )"
   ]
  },
  {
   "cell_type": "code",
   "execution_count": null,
   "id": "03e468d1-12fb-4fd4-9381-9f02b184e2f0",
   "metadata": {},
   "outputs": [],
   "source": [
    "young.obs['cell_type_subset']=''"
   ]
  },
  {
   "cell_type": "code",
   "execution_count": null,
   "id": "7e1925c7-a8d4-4ad8-91d0-6546f74c1934",
   "metadata": {},
   "outputs": [],
   "source": [
    "young.obs['cell_type_subset'][young.obs.index.isin(annotated_subsets.index) == True] = annotated_subsets"
   ]
  },
  {
   "cell_type": "code",
   "execution_count": null,
   "id": "b5c6a7e9",
   "metadata": {},
   "outputs": [],
   "source": [
    "young"
   ]
  },
  {
   "cell_type": "code",
   "execution_count": null,
   "id": "938c610f-a553-434c-9619-859fcf5133ac",
   "metadata": {},
   "outputs": [],
   "source": [
    "young=young[young.obs['cell_type_subset']!='']"
   ]
  },
  {
   "cell_type": "code",
   "execution_count": null,
   "id": "e5ede13c-d3fd-4be8-8e92-4a47ec507141",
   "metadata": {
    "scrolled": true
   },
   "outputs": [],
   "source": [
    "sc.pl.umap(young,color='cell_type_subset')"
   ]
  },
  {
   "cell_type": "code",
   "execution_count": null,
   "id": "965bb13c-52bd-4596-8860-4e2a5bc5d192",
   "metadata": {},
   "outputs": [],
   "source": [
    "young.uns['cell_type_subset_colors']=['#f6222e','#002FA7','#b57edc','#060047', '#ffbaba',#'#3283fe',\n",
    "                                      '#006fa6','#809693', '#bec1d4', '#F2BE22',\n",
    "                                      '#FFA200', '#BFDB38', '#00DFA2',\n",
    "       '#1F8A70', \n",
    "                                      '#DD8D29', '#5a0007', '#46ACC8', '#ffff00', '#B40F20', \n",
    "      '#4fc601', '#964B00'\n",
    "                ]\n",
    "\n",
    "\n"
   ]
  },
  {
   "cell_type": "code",
   "execution_count": null,
   "id": "bf80fb70-8aa2-4519-8a1a-ff356f031246",
   "metadata": {},
   "outputs": [],
   "source": [
    "\n",
    "# Define the new order for the categories\n",
    "new_order = [ 'Tregs', 'Naive CD4','CD4','GZMK+ CD8', 'Naive CD8', #'CD8',  \n",
    "             'Invariant T', 'DN',\"DP\",'NKT', 'NK','ILC2',\"ILC3\", 'B cells', 'Plasma cells','cDC1', 'CCR7+ cDC' ,'cDC2', 'p-DCs', 'Macrophages',]"
   ]
  },
  {
   "cell_type": "code",
   "execution_count": null,
   "id": "1384dd5e-d541-46d2-8b60-56f9840bb472",
   "metadata": {},
   "outputs": [],
   "source": [
    "\n",
    "# Assign the new order to the cell_type_subset column\n",
    "young.obs['cell_type_subset'] = pd.Categorical(young.obs['cell_type_subset'], categories=new_order, ordered=True)\n"
   ]
  },
  {
   "cell_type": "code",
   "execution_count": null,
   "id": "a69cf6ef-42f2-4e98-9f68-bfb6ac8d5b7d",
   "metadata": {
    "scrolled": true
   },
   "outputs": [],
   "source": [
    "sc.set_figure_params(dpi=300, dpi_save=300, color_map='viridis', vector_friendly=True, transparent=True)\n",
    "\n",
    "sc.pl.umap(young, color=['cell_type_subset'], \n",
    "                     color_map='Spectral_r',\n",
    "                     use_raw=False, \n",
    "         #  \"Cd4\",\"Cd8a\",\n",
    "                     ncols=4, \n",
    "                     wspace = 0.3,\n",
    "                     outline_width=[0.6, 0.01], \n",
    "                     size=5,  \n",
    "                     frameon=False, \n",
    "                     add_outline=False, \n",
    "                     sort_order = False, )\n",
    "\n"
   ]
  },
  {
   "cell_type": "code",
   "execution_count": null,
   "id": "49cb4c72-e97c-42dd-b563-47425bdf4943",
   "metadata": {},
   "outputs": [],
   "source": [
    "sc.pl.umap(young, color=['day'], \n",
    "                     color_map='Spectral_r',\n",
    "                     use_raw=False, \n",
    "         #  \"Cd4\",\"Cd8a\",\n",
    "                     ncols=4, \n",
    "                     wspace = 0.3,\n",
    "                     outline_width=[0.6, 0.01], \n",
    "                     size=5,  \n",
    "                     frameon=False, \n",
    "                     add_outline=False, \n",
    "                     sort_order = False)"
   ]
  },
  {
   "cell_type": "code",
   "execution_count": null,
   "id": "066a3db7",
   "metadata": {},
   "outputs": [],
   "source": [
    "sc.pl.violin(young, [ 'ribo_frac', 'mito_frac', ],  \n",
    "             palette=user_defined_palette,  jitter=0.6, groupby = 'cell_type_subset', rotation= 90)"
   ]
  },
  {
   "cell_type": "code",
   "execution_count": null,
   "id": "bd35451d-7c2a-49d7-9908-34d05caa6e35",
   "metadata": {},
   "outputs": [],
   "source": [
    "list(young.obs['cell_type_subset'].unique())\n"
   ]
  },
  {
   "cell_type": "code",
   "execution_count": null,
   "id": "556c8bf4-9437-4cf7-8bec-fce0233c0218",
   "metadata": {},
   "outputs": [],
   "source": [
    "adata.uns['cell_type_subset_colors']=['#f6222e','#bdcdff','#E90064','#3283fe', '#060047',\n",
    "                                      '#006fa6','#a30059', '#ffdbe5', '#F2BE22',\n",
    "                                      '#0000a6', '#D4ADFC', '#00DFA2',\n",
    "       '#1F8A70', '#BFDB38',\n",
    "                                      '#DD8D29', '#5a0007', '#46ACC8', '#E58601', '#B40F20', \n",
    "      '#4fc601',\n",
    "                ]\n"
   ]
  },
  {
   "cell_type": "code",
   "execution_count": null,
   "id": "990d12f1-7195-4348-ad26-ad65c951cdda",
   "metadata": {},
   "outputs": [],
   "source": [
    "sc.pl.umap(young, color=['cell_type_subset',\"stage\",\"day\"], \n",
    "                     color_map='Spectral_r',\n",
    "                     use_raw=False, \n",
    "         #  \"Cd4\",\"Cd8a\",\n",
    "                     ncols=4, \n",
    "                     wspace = 0.7,\n",
    "                     outline_width=[0.6, 0.05], \n",
    "                     size=15,  \n",
    "                     frameon=False, \n",
    "                     add_outline=True, \n",
    "\n",
    "                     sort_order = False)"
   ]
  },
  {
   "cell_type": "code",
   "execution_count": null,
   "id": "b8e5a2d8-3c65-4a40-a900-1f393258eab7",
   "metadata": {},
   "outputs": [],
   "source": [
    "\n",
    "\n",
    "colors = young.uns['cell_type_subset_colors']\n",
    "\n",
    "tmp = pd.crosstab(young[young.obs['stage']==\"02mo\"].obs['day'],young.obs[\"cell_type_subset\"], normalize='index', )\n",
    "tmp.plot.area(stacked=True, color=colors).legend(loc='center left', bbox_to_anchor=(1, 0.5),frameon=False)\n",
    "plt.grid(False)\n",
    "plt.title(\"2 month-old\")\n"
   ]
  },
  {
   "cell_type": "code",
   "execution_count": null,
   "id": "e37c1494-abcb-4960-9b51-047c4ea25aa9",
   "metadata": {},
   "outputs": [],
   "source": [
    "#path_to_h5ad = '/Users/alemarquis/Desktop/CD45/CD45new/youngnew.h5ad'"
   ]
  },
  {
   "cell_type": "code",
   "execution_count": null,
   "id": "5be1ec57-fff6-458d-823f-3622e6520cb8",
   "metadata": {
    "scrolled": false
   },
   "outputs": [],
   "source": [
    "#young.write(path_to_h5ad)"
   ]
  },
  {
   "cell_type": "code",
   "execution_count": null,
   "id": "7ff159e6-e227-4c6e-9115-055bf07ab6a9",
   "metadata": {},
   "outputs": [],
   "source": [
    "#young= sc.read('/Users/xleana/Desktop/CD45/CD45new/young.h5ad')"
   ]
  },
  {
   "cell_type": "code",
   "execution_count": null,
   "id": "522f9c16-7ce5-4f16-9ac1-59ae6b0506ef",
   "metadata": {},
   "outputs": [],
   "source": [
    "sc.pl.umap(young, color=\"cell_type_subset\")"
   ]
  },
  {
   "cell_type": "code",
   "execution_count": null,
   "id": "fd012b65-7234-4593-8d46-339f0ba8701d",
   "metadata": {},
   "outputs": [],
   "source": [
    "young = young[young.obs['cell_type_subset'] != 'CD8']\n"
   ]
  },
  {
   "cell_type": "code",
   "execution_count": null,
   "id": "fa0eed00-b2ea-4107-a51d-80bc25a3f29e",
   "metadata": {},
   "outputs": [],
   "source": [
    "TNFgenes = ['Tnfrsf1a', 'Tnfrsf1b', 'Tnfrsf10a', 'Tnfrsf10b', 'Tnfrsf10c', 'Tnfrsf10d', 'Tnfrsf11a', 'Tnfrsf11b', 'Tnfrsf12a', 'Tnfrsf13b', 'Tnfrsf13c', 'Tnfrsf14', 'Tnfrsf17', 'Tnfrsf18', 'Tnfrsf19', 'Tnfrsf21', 'Tnfrsf22', 'Tnfrsf23', 'Tnfrsf25', 'Tnfrsf4', 'Tnfrsf8', 'Tnfrsf9']\n",
    "\n"
   ]
  },
  {
   "cell_type": "code",
   "execution_count": null,
   "id": "ab81e7c5-9382-4ecf-bdc1-a7e6fd23959f",
   "metadata": {},
   "outputs": [],
   "source": [
    "sc.pl.dotplot(young[young.obs[\"day\"]=='d0'], ['Il1r1',\"Il1rl1\",'Il6ra',\"Il18r1\",\"Il18rap\",  'Il6st',\"Il18rap\",'Tnfrsf1a', 'Tnfrsf1b',  'Tnfrsf11a', 'Tnfrsf11b', 'Tnfrsf12a', 'Tnfrsf13b', 'Tnfrsf13c', 'Tnfrsf14', 'Tnfrsf17', 'Tnfrsf18', 'Tnfrsf19', 'Tnfrsf21', 'Tnfrsf22', 'Tnfrsf23', 'Tnfrsf25', 'Tnfrsf4', 'Tnfrsf8', 'Tnfrsf9', ], ['cell_type_subset',], dendrogram=False,standard_scale='var', swap_axes=False)\n"
   ]
  },
  {
   "cell_type": "code",
   "execution_count": null,
   "id": "3c346c18-2cbe-445a-8e46-82a04d4aa8ba",
   "metadata": {},
   "outputs": [],
   "source": [
    "sc.pl.dotplot(young[young.obs[\"day\"]=='d0'], ['Il1r1',\"Il1rl1\",'Il6ra',\"Il18r1\",\"Il18rap\" ], ['cell_type_subset',], dendrogram=False,standard_scale='var', swap_axes=False)\n"
   ]
  },
  {
   "cell_type": "code",
   "execution_count": null,
   "id": "9a4cb3e1-5f43-4c85-b75d-5649b8c358f9",
   "metadata": {},
   "outputs": [],
   "source": [
    "sc.pl.dotplot(young[young.obs[\"day\"]=='d1'], ['Il1r1',\"Il1rl1\",\"Il18r1\",\"Il18rap\",'Il6ra',  'Il6st',\"Il18rap\",'Tnfrsf1a', 'Tnfrsf1b',  'Tnfrsf11a', 'Tnfrsf11b', 'Tnfrsf12a', 'Tnfrsf13b', 'Tnfrsf13c', 'Tnfrsf14', 'Tnfrsf17', 'Tnfrsf18', 'Tnfrsf19', 'Tnfrsf21', 'Tnfrsf22', 'Tnfrsf23', 'Tnfrsf25', 'Tnfrsf4', 'Tnfrsf8', 'Tnfrsf9',], ['cell_type_subset',], dendrogram=False,standard_scale='var', swap_axes=True)\n"
   ]
  },
  {
   "cell_type": "code",
   "execution_count": null,
   "id": "24b49cdb-5783-48af-99ee-76ccfe595bde",
   "metadata": {},
   "outputs": [],
   "source": [
    "sc.pl.dotplot(young[young.obs[\"day\"]=='d4'], [\"Il18r1\",\"Il18rap\"], ['cell_type_subset',], dendrogram=False,standard_scale='var', swap_axes=True)\n"
   ]
  },
  {
   "cell_type": "code",
   "execution_count": null,
   "id": "3d130b04-3cc1-494e-a146-efb1c5097be4",
   "metadata": {},
   "outputs": [],
   "source": [
    "sc.pl.dotplot(young[young.obs[\"day\"]=='d7'], [\"Il18r1\",\"Il18rap\"], ['cell_type_subset',], dendrogram=False,standard_scale='var', swap_axes=True)\n"
   ]
  },
  {
   "cell_type": "code",
   "execution_count": null,
   "id": "ebdd8f11",
   "metadata": {},
   "outputs": [],
   "source": [
    "Tregs= young[young.obs[\"cell_type_subset\"]=='Tregs']"
   ]
  },
  {
   "cell_type": "code",
   "execution_count": null,
   "id": "db465f89",
   "metadata": {},
   "outputs": [],
   "source": [
    "Treggenes= {'Treg activation': ['Foxp3','Il2ra', 'Cd81','Tnfrsf4',  'Ctla4','Ikzf2','Ikzf4','Rora', 'Tnfrsf18']}\n",
    "Regeneration= { 'Regeneration': [ 'Areg', 'Tff1','Penk',]}\n",
    "Cellstability= {'Stability': ['Zfp36l1','Cish','Sdc4',\"Klrg1\"]}"
   ]
  },
  {
   "cell_type": "code",
   "execution_count": null,
   "id": "e6feb8cf",
   "metadata": {},
   "outputs": [],
   "source": [
    "sc.pl.matrixplot(Tregs[Tregs.obs['stage']==\"02mo\"],Treggenes , 'day', dendrogram=False,  standard_scale='var', swap_axes=True,title=\"2 mo old\")\n"
   ]
  },
  {
   "cell_type": "code",
   "execution_count": null,
   "id": "c14a0103",
   "metadata": {},
   "outputs": [],
   "source": [
    "sc.pl.matrixplot(Tregs[Tregs.obs['stage']==\"02mo\"], Regeneration , 'day', dendrogram=False,   swap_axes=True,title=\"2 mo old\")\n"
   ]
  },
  {
   "cell_type": "code",
   "execution_count": null,
   "id": "34a35a94",
   "metadata": {},
   "outputs": [],
   "source": [
    "sc.pl.matrixplot(Tregs[Tregs.obs['stage']==\"02mo\"], Cellstability , 'day', dendrogram=False,   swap_axes=True,title=\"2 mo old\",colorbar_title='column scaled\\nexpression',)\n"
   ]
  },
  {
   "cell_type": "markdown",
   "id": "acccc028",
   "metadata": {},
   "source": [
    "### Reanalyze old only data after removal of bad quality cells"
   ]
  },
  {
   "cell_type": "code",
   "execution_count": null,
   "id": "ef6f31da-4061-4201-b00f-24ba091d07d0",
   "metadata": {},
   "outputs": [],
   "source": [
    "old=adata[adata.obs[\"stage\"]==\"18mo\"]"
   ]
  },
  {
   "cell_type": "code",
   "execution_count": null,
   "id": "87118427-d78b-42ea-8d82-33c6978f650b",
   "metadata": {},
   "outputs": [],
   "source": [
    "old"
   ]
  },
  {
   "cell_type": "code",
   "execution_count": null,
   "id": "eeee6872-7366-49fd-8727-3dc696f7eb2e",
   "metadata": {
    "scrolled": false
   },
   "outputs": [],
   "source": [
    "sc.pp.highly_variable_genes(old, n_top_genes=2000, n_bins=20, flavor='seurat_v3')"
   ]
  },
  {
   "cell_type": "code",
   "execution_count": null,
   "id": "cd13d302-7e6a-406d-93d9-2bbeaa54b498",
   "metadata": {},
   "outputs": [],
   "source": [
    "rng = np.random.RandomState(42)\n",
    "sc.tl.pca(old, n_comps=50, svd_solver='arpack', random_state=rng, use_highly_variable=True)"
   ]
  },
  {
   "cell_type": "code",
   "execution_count": null,
   "id": "158c463a-c2e4-420c-822e-7fcae53d7e87",
   "metadata": {},
   "outputs": [],
   "source": [
    "observe_variance(old)\n"
   ]
  },
  {
   "cell_type": "code",
   "execution_count": null,
   "id": "4711876e-fb35-4858-ae4d-4cbfccb6ef87",
   "metadata": {},
   "outputs": [],
   "source": [
    "plt.plot(range(len(old.uns['pca']['variance_ratio'])), np.cumsum(old.uns['pca']['variance_ratio']) * 100, '.-')\n",
    "plt.axvline(30, color = 'r')\n",
    "plt.xlabel('Principal Component', fontsize = 14)\n",
    "plt.ylabel('% Variance Explained', fontsize = 14)"
   ]
  },
  {
   "cell_type": "code",
   "execution_count": null,
   "id": "5b6ddb6c-4aa0-4fff-b69d-f923049d2334",
   "metadata": {},
   "outputs": [],
   "source": [
    "sc.pp.neighbors(old, n_neighbors=50,n_pcs=30)"
   ]
  },
  {
   "cell_type": "code",
   "execution_count": null,
   "id": "af235cff-a01b-48b4-b9d7-22ed6952f9d3",
   "metadata": {},
   "outputs": [],
   "source": [
    "sc.tl.umap(old, min_dist=0.6)"
   ]
  },
  {
   "cell_type": "code",
   "execution_count": null,
   "id": "2a985fa6-90da-4c89-959f-2fd13747ef0a",
   "metadata": {
    "scrolled": true
   },
   "outputs": [],
   "source": [
    "sc.set_figure_params(dpi=80, dpi_save=300, color_map='viridis', vector_friendly=False, transparent=True)\n",
    "sc.pl.umap(\n",
    "    old, \n",
    "    color=[\"Sox4\",\"Rorc\",\"Ncr1\",\"Klrk1\",\"Cxcr6\", 'Cd8b1',\"Cd8a\",\"Cd4\",'Tnfrsf4',\"Foxp3\",\"H2-Aa\",\"Clec9a\",\"Xcr1\",\n",
    "           \"Sirpa\",\"Ccr7\",\"Fscn1\",'Cd79a', 'Ms4a1', \"Xbp1\",\"Igkc\",\"Msrb1\",\"stage\", 'day'], \n",
    "    palette=user_defined_palette,  \n",
    "    color_map='Spectral_r', \n",
    "    use_raw=False,\n",
    "    ncols=5,\n",
    "    wspace = 0.1,\n",
    "    outline_width=[0.6, 0.05],\n",
    "    size=15,\n",
    "    frameon=False,\n",
    "    add_outline=True,\n",
    "    sort_order = False\n",
    ")"
   ]
  },
  {
   "cell_type": "code",
   "execution_count": null,
   "id": "fb292e97-c0bf-48ef-a5d7-575762784ada",
   "metadata": {
    "scrolled": true
   },
   "outputs": [],
   "source": [
    "for resolution_parameter in [ 0.1, 0.2, 0.3, 0.4,0.5, 0.6, 0.7, 0.8, 0.9, 1.0,]:\n",
    "    sc.tl.leiden(old, resolution=resolution_parameter, random_state=42, \n",
    "                        key_added='leiden_'+str(resolution_parameter))"
   ]
  },
  {
   "cell_type": "code",
   "execution_count": null,
   "id": "be57496c-c499-4fb3-bd21-dd7b1e2e0651",
   "metadata": {
    "scrolled": true
   },
   "outputs": [],
   "source": [
    "sc.set_figure_params(dpi=80, dpi_save=300, color_map='viridis', vector_friendly=False, transparent=True)\n",
    "sc.pl.umap(\n",
    "   old, \n",
    "    color=[ 'leiden_0.1', 'leiden_0.2', 'leiden_0.3','leiden_0.4','leiden_0.5', \n",
    "           'leiden_0.6', 'leiden_0.7', 'leiden_0.8','leiden_0.9', 'leiden_1.0',\n",
    "         ], \n",
    ")"
   ]
  },
  {
   "cell_type": "code",
   "execution_count": null,
   "id": "1a2b8e60-512f-4af4-9fe9-917e69563e7f",
   "metadata": {
    "scrolled": true
   },
   "outputs": [],
   "source": [
    "sc.set_figure_params(dpi=80, dpi_save=300, color_map='viridis', vector_friendly=False, transparent=True)\n",
    "sc.pl.umap(\n",
    "    old, \n",
    "    color=[ 'leiden_0.2',\"day\",\"stage\",\"Foxp3\",\"Cd4\"], \n",
    ")"
   ]
  },
  {
   "cell_type": "code",
   "execution_count": null,
   "id": "a0750aeb-0fe2-4e2d-8a58-b0956145c38c",
   "metadata": {},
   "outputs": [],
   "source": [
    "sc.tl.rank_genes_groups(old, 'leiden_0.1', method='wilcoxon', use_raw=False)\n",
    "sc.pl.rank_genes_groups(old, n_genes=25, sharey=False)  "
   ]
  },
  {
   "cell_type": "code",
   "execution_count": null,
   "id": "47f8fb6d-5b31-46e3-9962-d838c928edd8",
   "metadata": {},
   "outputs": [],
   "source": [
    "sc.set_figure_params(dpi=80, dpi_save=300, color_map='viridis', vector_friendly=True, transparent=True)\n",
    "\n",
    "sc.pl.umap(\n",
    "    old, \n",
    "    color=['leiden_0.2'], \n",
    "    palette=user_defined_palette,  \n",
    "    color_map='Spectral_r', \n",
    "    use_raw=False,\n",
    "    ncols=5,\n",
    "    size=5,\n",
    "    wspace = 0.7,\n",
    "    outline_width=[0.6, 0.05],\n",
    "    frameon=False,\n",
    "    add_outline=True,\n",
    "    sort_order = False,\n",
    "    legend_loc=\"on data\"\n",
    ")"
   ]
  },
  {
   "cell_type": "code",
   "execution_count": null,
   "id": "b008fa45-4781-4ae1-8ad2-014499579074",
   "metadata": {},
   "outputs": [],
   "source": [
    "old.obs['cell_type'] = ['T cells' if  (x=='1' or x=='3') else\n",
    "                          'B cells' if (x=='2' or x=='6' ) else  \n",
    "                          'NKT and invariant cells' if (x=='0' or x=='4' or x=='8' )  else\n",
    "                          'DCs and Macrophages' if (x=='7' )  else                             \n",
    "                          'ILC' if x=='5'  else'ERROR' for x in old.obs['leiden_0.2']] "
   ]
  },
  {
   "cell_type": "code",
   "execution_count": null,
   "id": "9a0308ef-0ea0-43ae-8df8-d463120a57b8",
   "metadata": {},
   "outputs": [],
   "source": [
    "sc.set_figure_params(dpi=80, dpi_save=300, color_map='viridis', vector_friendly=True, transparent=True)\n",
    "sc.pl.umap(\n",
    "    old, \n",
    "    color=['leiden_0.1','cell_type','stage','day',\"Foxp3\"], \n",
    "    palette=user_defined_palette,  \n",
    "    color_map='Spectral_r', \n",
    "    use_raw=False,\n",
    "    ncols=5,\n",
    "    wspace = 0.1,\n",
    "    outline_width=[0.3, 0.05],\n",
    "    size=15,\n",
    "    vmax=2,\n",
    "    frameon=False,\n",
    "    add_outline=True,\n",
    "    sort_order = False,\n",
    "    legend_loc=\"on data\"\n",
    ")"
   ]
  },
  {
   "cell_type": "code",
   "execution_count": null,
   "id": "ca456d9a-0bba-4dea-8f7f-18f60f9acf1f",
   "metadata": {},
   "outputs": [],
   "source": [
    "sc.set_figure_params(dpi=80, dpi_save=300, color_map='viridis', vector_friendly=True, transparent=True)\n",
    "sc.pl.umap(\n",
    "    old, \n",
    "    color=['cell_type'], \n",
    "    palette=user_defined_palette,  \n",
    "    color_map='Spectral_r', \n",
    "    use_raw=False,\n",
    "    ncols=5,\n",
    "    wspace = 0.1,\n",
    "    outline_width=[0.3, 0.05],\n",
    "    size=15,\n",
    "    vmax=2,\n",
    "    frameon=False,\n",
    "    add_outline=True,\n",
    "    sort_order = False,\n",
    "    legend_loc=\"on data\"\n",
    ")"
   ]
  },
  {
   "cell_type": "code",
   "execution_count": null,
   "id": "5198c0aa-d620-4dc8-b7b4-8bbf1faf6a54",
   "metadata": {},
   "outputs": [],
   "source": [
    "sc.tl.rank_genes_groups(old, 'cell_type', method='wilcoxon', use_raw=False)\n",
    "sc.pl.rank_genes_groups(old, n_genes=25, sharey=False)  "
   ]
  },
  {
   "cell_type": "code",
   "execution_count": null,
   "id": "ba126786-c6b2-46f0-bdb7-76403c2cafba",
   "metadata": {},
   "outputs": [],
   "source": [
    "sc.set_figure_params(dpi=80, dpi_save=300, color_map='viridis', vector_friendly=False, transparent=True)\n",
    "sc.pl.umap(\n",
    "    old, \n",
    "    color=[\"Sox4\",\"Rorc\",\"Ncr1\",\"Klrk1\",\"Cxcr6\", 'Cd8b1',\"Cd4\",'Tnfrsf4',\"Foxp3\",\"H2-Aa\",\"Clec9a\",\"Xcr1\",\n",
    "           \"Sirpa\",\"Ccr7\",\"Fscn1\",'Cd79a', 'Ms4a1', \"Xbp1\",\"Igkc\",\"Msrb1\",'Fcer1g'], \n",
    "    palette=user_defined_palette,  \n",
    "    color_map='Spectral_r', \n",
    "    use_raw=False,\n",
    "    ncols=5,\n",
    "    wspace = 0.1,\n",
    "    outline_width=[0.6, 0.05],\n",
    "    size=15,\n",
    "    frameon=False,\n",
    "    add_outline=True,\n",
    "    sort_order = False\n",
    ")"
   ]
  },
  {
   "cell_type": "code",
   "execution_count": null,
   "id": "7c123dd9-0d90-44d3-860d-80f6acd99953",
   "metadata": {},
   "outputs": [],
   "source": [
    "genes = {'T-cells': ['Cd3e', 'Cd8a', 'Cd4', 'Il7r'], \n",
    "         'NKT and invariant cells':['Gzmb'],\n",
    "         'NK cells':['Ncr1','Nkg7',\t'Klrd1',],\n",
    "         'ILC':[],\n",
    "          'DN/DPs':[],\n",
    "         'B-cells': ['Ms4a1', 'Cd19'], \n",
    "         'Plasmacells': ['Ppbp'], \n",
    "         'NKT and invariant T cells': ['Nkg7'], \n",
    "         'Dendritic-cells': ['Cst3', 'Fcer1a'],\n",
    "         'Eosinophils':['Tyrobp']}"
   ]
  },
  {
   "cell_type": "code",
   "execution_count": null,
   "id": "a93cebf7-e486-4d32-bf18-8183a9554568",
   "metadata": {},
   "outputs": [],
   "source": [
    "genes ={ 'B cells_n':\t[\t'Cst3',\t'Cd79b',\t'Ms4a1',\t'H2-DMb2',\t'Bank1',\t'Ebf1',\t'Ly6d',\t'Mzb1',\t'Igkc',\t'Cd74',\t'Napsa',\t'Ighm',\t'H2-Eb1',\t'H2-Aa',\t'H2-Ab1',\t'Iglc3',\t'Iglc2',\t'Lyn',\t'Ly86',\t'Pkig',\t'Plac8',\t'Blnk',\t'Syk',\t'Cd37',\t'Siglecg',\t]\t,\n",
    "'DCs_n':\t[\t'Arpp21',\t'Cd74',\t'H2-Aa',\t'Atox1',\t'H2-Eb1',\t'Spi1',\t'Ifi30',\t'Tyrobp',\t'Psap',\t'H2-Ab1',\t'Tmsb4x',\t'Ftl1',\t'Syngr2',\t'Cxcl16',\t'Aif1',\t'Ctsh',\t'Ctsz',\t'Actg1',\t'Pkib',\t'Tbc1d8',\t'Atpif1',\t'Flt3',\t'Skap2',\t'Fmnl2',\t'Clic4',\t]\t,\n",
    "'DN/DPs_n':\t[\t'Msrb1',\t'Dntt',\t'Sox4',\t'Tcf7',\t'Endou',\t'Trbc2',\t'Themis',\t'Satb1',\t'Ccr9',\t'Rhoh',\t'Cyb5a',\t'Cd8b1',\t'Hmgb1',\t'H3f3a',\t'Aqp11',\t'Ramp1',\t'Ap3s1',\t'Cux1',\t'Mier1',\t'Edem1',\t'Cd8a',\t'Tcf12',\t'Desi1',\t'2610307P16Rik',\t'Trbc1',\t]\t,\n",
    "'EOS_n':\t[\t'Tmem176a',\t'Tyrobp',\t'Fcer1g',\t'Ifitm3',\t'Ftl1',\t'Srgn',\t'Il1b',\t'Isg15',\t'Fth1',\t'S100a9',\t'Rtp4',\t'Slfn4',\t'S100a8',\t'Hdc',\t'Csf3r',\t'Acod1',\t'Lst1',\t'Rsad2',\t'Ifitm2',\t'Ifit3',\t'Ifit1',\t'Mxd1',\t'Cebpb',\t'Isg20',\t'Txn1',\t]\t,\n",
    "'ILC_n':\t[\t'Fcer1g',\t'Tmem176b',\t'Ramp1',\t'Il23r',\t'Il1r1',\t'Emb',\t'Ikzf3',\t'Ckb',\t'Igf1r',\t'Lmo4',\t'Pxdc1',\t'Blk',\t'St6galnac3',\t'S100a4',\t'Cxcr6',\t'Il7r',\t'Furin',\t'Icos',\t'Tcrg-C1',\t'Rora',\t'Zbtb16',\t'Selenop',\t'Serpinb1a',\t'Avpi1',\t'Il18r1',\t]\t,\n",
    "'NK cells_n':\t[\t'Il12rb2',\t'Tyrobp',\t'Ncr1',\t'Klre1',\t'Klrb1c',\t'Gzma',\t'Xcl1',\t'AW112010',\t'Anxa2',\t'Nkg7',\t'Car2',\t'Irf8',\t'Klrk1',\t'Klrd1',\t'Prf1',\t'Il2rb',\t'Txk',\t'Ccl5',\t'Ccl4',\t'Myl6',\t'Klri2',\t'Clnk',\t'Serpinb9',\t'Gem',\t'Ptprc',\t]\t,\n",
    "'NKT and invariant cells_n':\t[\t'Tox',\t'Tmsb10',\t'Ly6c2',\t'Ctsw',\t'Sh3bgrl3',\t'Gzmb',\t'Klrk1',\t'Id2',\t'Il2rb',\t'Nkg7',\t'Klrd1',\t'Dennd4a',\t'Satb1',\t'Cxcr6',\t'Klra9',\t'Dusp2',\t'Gimap4',\t'Vps37b',\t'Chn2',\t'Pitpnc1',\t'Xcl1',\t'Klrb1c',\t'Cd7',\t'Inpp4b',\t'Zfp36l2',\t]\t,\n",
    "'T cells_n':\t[\t'Igkc',\t'Ctla4',\t'Themis',\t'Emb',\t'Prkca',\t'Fam169b',\t'Tnfrsf4',\t'Fyb',\t'Cd8b1',\t'Trbc2',\t'Sntb1',\t'Itga4',\t'Lat',\t'Cd3d',\t'Tnfsf8',\t'Cd8a',\t'Shisa5',\t'Ikzf2',\t'Ms4a6b',\t'Itgav',\t'Fyn',\t'Cd2',\t'Gzmk',\t'Trps1',\t'Smc4',\t]\t,\n",
    "'plasmacells_n':\t[\t\t'Jchain',\t'Xbp1',\t'Txndc5',\t'Mzb1',\t'Iglc2',\t'Eaf2',\t'Derl3',\t'Iglv1',\t'Pdia4',\t'Iglc3',\t'Creld2',\t'Herpud1',\t'Serp1',\t'Ssr4',\t'Ckap4',\t'Fkbp2',\t'Hsp90b1',\t'Prdx4',\t'Sec11c',\t'Edem2',\t'Edem1',\t'Iglc1',\t'Pou2af1']}"
   ]
  },
  {
   "cell_type": "code",
   "execution_count": null,
   "id": "f56c3600-b1ee-48e3-a265-d8d5af6acb02",
   "metadata": {
    "scrolled": true
   },
   "outputs": [],
   "source": [
    "sc.set_figure_params(scanpy=True, fontsize = 14)\n",
    "ac = sc.pl.matrixplot(old, genes, groupby = 'cell_type', show = False, standard_scale = 'var')\n",
    "ac['mainplot_ax'].set_xlabel('Genes')\n",
    "ac['mainplot_ax'].set_ylabel('Clusters')"
   ]
  },
  {
   "cell_type": "code",
   "execution_count": null,
   "id": "dc58aae0-e9e0-4947-aab5-fe3d09a82935",
   "metadata": {
    "scrolled": true
   },
   "outputs": [],
   "source": [
    "result = old.uns['rank_genes_groups']\n",
    "groups = result['names'].dtype.names\n",
    "pd.DataFrame(\n",
    "    {group + '_' + key[:1]: result[key][group]\n",
    "    for group in groups for key in ['names']}).head(25)"
   ]
  },
  {
   "cell_type": "markdown",
   "id": "c10fd4f5-b5c4-401d-9ab6-d4197e9e7274",
   "metadata": {},
   "source": [
    "## T cells old"
   ]
  },
  {
   "cell_type": "code",
   "execution_count": null,
   "id": "0d6ea7f4-f5aa-403e-827c-1d540afe3b99",
   "metadata": {},
   "outputs": [],
   "source": [
    "Told = old[old.obs['cell_type'].isin(['T cells'])]"
   ]
  },
  {
   "cell_type": "code",
   "execution_count": null,
   "id": "414b7601-e9fe-406b-b5e3-1b56cc9cd253",
   "metadata": {},
   "outputs": [],
   "source": [
    "# Remove columns with all 0s\n",
    "sc.pp.filter_genes(Told, min_cells=1)"
   ]
  },
  {
   "cell_type": "code",
   "execution_count": null,
   "id": "b00e7fce-410c-443e-b8de-570eb585cd4f",
   "metadata": {},
   "outputs": [],
   "source": [
    "sc.pp.highly_variable_genes(Told, n_top_genes=2000, n_bins=20, flavor='seurat_v3')"
   ]
  },
  {
   "cell_type": "code",
   "execution_count": null,
   "id": "db0b489e-27fa-45de-980b-4c591be45162",
   "metadata": {},
   "outputs": [],
   "source": [
    "rng = np.random.RandomState(42)\n",
    "sc.tl.pca(Told, n_comps=50, svd_solver='arpack', random_state=rng, use_highly_variable=True)"
   ]
  },
  {
   "cell_type": "code",
   "execution_count": null,
   "id": "05b90a67-caa7-4877-97b8-dfdae7d167ad",
   "metadata": {},
   "outputs": [],
   "source": [
    "def observe_variance(anndata_object):\n",
    "    fig = plt.figure(figsize=(10,5))\n",
    "    ax1 = fig.add_subplot(121)\n",
    "    ax2 = fig.add_subplot(122)\n",
    "    # variance per principal component\n",
    "    x = range(len(anndata_object.uns['pca']['variance_ratio']))\n",
    "    y = anndata_object.uns['pca']['variance_ratio']\n",
    "    ax1.scatter(x,y,s=4)\n",
    "    ax1.set_xlabel('PC')\n",
    "    ax1.set_ylabel('Fraction of variance explained\\n')\n",
    "    ax1.set_title('Fraction of variance explained per PC\\n')\n",
    "    # cumulative variance explained\n",
    "    cml_var_explained = np.cumsum(anndata_object.uns['pca']['variance_ratio'])\n",
    "    x = range(len(anndata_object.uns['pca']['variance_ratio']))\n",
    "    y = cml_var_explained\n",
    "    ax2.scatter(x,y,s=4)\n",
    "    ax2.set_xlabel('PC')\n",
    "    ax2.set_ylabel('Cumulative fraction of variance\\nexplained')\n",
    "    ax2.set_title('Cumulative fraction of variance\\nexplained by PCs')\n",
    "    fig.tight_layout()\n",
    "    plot = plt.show\n",
    "    return(plot)\n",
    "observe_variance(Told)"
   ]
  },
  {
   "cell_type": "code",
   "execution_count": null,
   "id": "d0ce7374-496c-45f9-a934-271bb8ed7560",
   "metadata": {},
   "outputs": [],
   "source": [
    "plt.plot(range(len(Told.uns['pca']['variance_ratio'])), np.cumsum(Told.uns['pca']['variance_ratio']) * 100, '.-')\n",
    "plt.axvline(30, color = 'r',)\n",
    "plt.xlabel('Principal Component', fontsize = 14)\n",
    "plt.ylabel('% Variance Explained', fontsize = 14)"
   ]
  },
  {
   "cell_type": "code",
   "execution_count": null,
   "id": "c2cadfa8-27ba-4383-b8a8-c20b08e4fb4a",
   "metadata": {},
   "outputs": [],
   "source": [
    "sc.pp.neighbors(Told, n_neighbors=30, n_pcs=30)\n",
    "sc.tl.umap(Told, min_dist=0.5)"
   ]
  },
  {
   "cell_type": "markdown",
   "id": "0af11129-51a8-46b0-b1a7-6136ebe0f82d",
   "metadata": {},
   "source": [
    "### T cells clustering and annotation\n"
   ]
  },
  {
   "cell_type": "code",
   "execution_count": null,
   "id": "bb04f6e3-3e69-40db-af13-bf3f464af853",
   "metadata": {},
   "outputs": [],
   "source": [
    "for resolution_parameter in [0.1, 0.2, 0.3, 0.4, 0.5, 0.6, 0.7, 0.8, 0.9, 1.0]:\n",
    "    sc.tl.leiden(Told, resolution=resolution_parameter, random_state=42, \n",
    "                        key_added='leiden_'+str(resolution_parameter))"
   ]
  },
  {
   "cell_type": "code",
   "execution_count": null,
   "id": "2c64df2e-afe3-4cf7-a63d-47996598eb2c",
   "metadata": {},
   "outputs": [],
   "source": [
    "for resolution_parameter in [1.1,1.2,1.3,1.4,1.5]:\n",
    "    sc.tl.leiden(Told, resolution=resolution_parameter, random_state=42, \n",
    "                        key_added='leiden_'+str(resolution_parameter))"
   ]
  },
  {
   "cell_type": "code",
   "execution_count": null,
   "id": "b913f648-040d-4c6a-b80f-f3c9b2ad3eca",
   "metadata": {},
   "outputs": [],
   "source": [
    "sc.tl.rank_genes_groups(Told, 'leiden_0.6', method='wilcoxon', use_raw=False)\n",
    "sc.pl.rank_genes_groups(Told, n_genes=25, sharey=False)  "
   ]
  },
  {
   "cell_type": "code",
   "execution_count": null,
   "id": "4298b31a-b7cc-4826-978a-0fc65392ffb1",
   "metadata": {},
   "outputs": [],
   "source": [
    "sc.set_figure_params(dpi=80, dpi_save=300, color_map='viridis', vector_friendly=True, transparent=True)\n",
    "sc.pl.umap(\n",
    "    Told, \n",
    "    color=['leiden_0.1', 'leiden_0.2', 'leiden_0.3', 'leiden_0.4', 'leiden_0.5', \n",
    "           'leiden_0.6', 'leiden_0.7', 'leiden_0.8','leiden_0.9', 'leiden_1.0'], \n",
    "    palette=user_defined_palette,  \n",
    "    color_map='Spectral_r', \n",
    "    use_raw=False,\n",
    "    ncols=5,\n",
    "    wspace = 0.7,\n",
    "    outline_width=[0.6, 0.05],\n",
    "    frameon=False,\n",
    "    add_outline=True,\n",
    "    sort_order = False\n",
    ")"
   ]
  },
  {
   "cell_type": "code",
   "execution_count": null,
   "id": "0ca2005a-e0f1-4ead-b43e-173f542eb829",
   "metadata": {},
   "outputs": [],
   "source": [
    "sc.set_figure_params(dpi=80, dpi_save=300, color_map='viridis', vector_friendly=True, transparent=True)\n",
    "sc.pl.umap(\n",
    "    Told, \n",
    "    color=['leiden_0.4','day','Foxp3', 'Cd4',\"Cd8a\",\"Gzmk\",\"Fcer1g\",\"Sox4\"], \n",
    "    palette=user_defined_palette,  \n",
    "    color_map='Spectral_r', \n",
    "    use_raw=False,\n",
    "    ncols=5,\n",
    "    wspace = 0.7,\n",
    "    outline_width=[0.6, 0.05],\n",
    "    frameon=False,\n",
    "    add_outline=True,\n",
    "    sort_order = False\n",
    ")"
   ]
  },
  {
   "cell_type": "code",
   "execution_count": null,
   "id": "574a2623-0525-4094-abb7-4670f4ef38eb",
   "metadata": {},
   "outputs": [],
   "source": [
    "Told.obs['cell_type_subset'] = ['Tregs' if (x==\"4\" ) else \n",
    "                                'CD4' if (x=='3' ) else\n",
    "                              'CD8' if ( x==\"5\" ) else\n",
    "                               'GZMK+ CD8' if (x=='0' or x=='1'or x=='2'  or x=='6' or x=='7' ) else\n",
    "                                  #'Naive CD4' if ( x=='8' ) else\n",
    "                                   'Naive CD8' if ( x=='8' ) else\n",
    "                               'ERROR' for x in Told.obs['leiden_0.4']] "
   ]
  },
  {
   "cell_type": "code",
   "execution_count": null,
   "id": "0f3afcbe-cfc1-4c03-bcf5-64de5e9a6e07",
   "metadata": {},
   "outputs": [],
   "source": [
    "\n",
    "# Define the new order for the categories\n",
    "new_order = ['Tregs', 'CD4','GZMK+ CD8', 'CD8','Naive CD8' ]\n",
    "\n",
    "# Assign the new order to the cell_type_subset column\n",
    "Told.obs['cell_type_subset'] = pd.Categorical(Told.obs['cell_type_subset'], categories=new_order, ordered=True)\n"
   ]
  },
  {
   "cell_type": "code",
   "execution_count": null,
   "id": "acb3667a-812c-4778-b7b1-4ce70df751bf",
   "metadata": {},
   "outputs": [],
   "source": [
    "sc.set_figure_params(dpi=80, dpi_save=300, color_map='viridis', vector_friendly=True, transparent=True)\n",
    "sc.pl.umap(\n",
    "    Told, \n",
    "    color=['cell_type_subset','Cd8a',\"Cd4\",'Foxp3',\"Cd40lg\",\"Gzmk\"] , \n",
    "    palette=user_defined_palette,  \n",
    "\n",
    "    use_raw=False,\n",
    "    ncols=5,\n",
    "    wspace = 0.3,\n",
    "    outline_width=[0.6, 0.05],\n",
    "    frameon=False,\n",
    "    add_outline=True,\n",
    "    sort_order = False\n",
    ")"
   ]
  },
  {
   "cell_type": "code",
   "execution_count": null,
   "id": "7403054c-643c-4296-bec6-c00598a69a0a",
   "metadata": {},
   "outputs": [],
   "source": [
    "sc.set_figure_params(dpi=80, dpi_save=300, color_map='viridis', vector_friendly=True, transparent=True)\n",
    "sc.pl.umap(\n",
    "    Told, \n",
    "    color=['cell_type_subset', 'day'] , \n",
    "    palette=user_defined_palette,  \n",
    "\n",
    "    use_raw=False,\n",
    "    ncols=5,\n",
    "    wspace = 0.3,\n",
    "    outline_width=[0.6, 0.05],\n",
    "    frameon=False,\n",
    "    add_outline=True,\n",
    "    sort_order = False\n",
    ")"
   ]
  },
  {
   "cell_type": "code",
   "execution_count": null,
   "id": "aa7b0477-c549-4400-a579-571dc0e740f5",
   "metadata": {},
   "outputs": [],
   "source": [
    "sc.set_figure_params(dpi=80, dpi_save=300, color_map='viridis', vector_friendly=True, transparent=True)\n",
    "sc.pl.umap(\n",
    "    Told,\n",
    "    color=['leiden_0.2',\"day\",\"stage\",\"Ly6a\",'Cd4', 'Cd40lg',\"Icos\",'Cd8a', \"Cd8b1\",\"Ccr7\", \"Stat1\", 'Lef1','Foxp1',\"Sell\",'Foxp3', 'Ikzf2', 'Ctla4','Gzmk',\"Nkg7\",\"Ccl5\",\"Foxp3\",\"Ncr1\"] , \n",
    "    palette=user_defined_palette,  \n",
    "\n",
    "    use_raw=False,\n",
    "    ncols=5,\n",
    "    wspace = 0.3,\n",
    "    outline_width=[0.6, 0.05],\n",
    "    frameon=False,\n",
    "    add_outline=True,\n",
    "    sort_order = False\n",
    ")"
   ]
  },
  {
   "cell_type": "code",
   "execution_count": null,
   "id": "618ae006-4675-4677-a914-c0b8d84f694a",
   "metadata": {},
   "outputs": [],
   "source": [
    "sc.tl.rank_genes_groups(Told, 'cell_type_subset', method='wilcoxon', use_raw=False)\n",
    "sc.pl.rank_genes_groups(Told, n_genes=25, sharey=False) "
   ]
  },
  {
   "cell_type": "code",
   "execution_count": null,
   "id": "b021f6e3-8ec2-4511-8d27-5b835625b603",
   "metadata": {
    "scrolled": true
   },
   "outputs": [],
   "source": [
    "sc.set_figure_params(dpi=80, dpi_save=300, color_map='viridis', vector_friendly=True, transparent=True)\n",
    "\n",
    "sc.pl.umap(\n",
    "    Told, \n",
    "    color=[ 'cell_type_subset','stage', 'day',], \n",
    "    ncols=6,\n",
    "    outline_width=[0.6, 0.05],\n",
    "    frameon=False,\n",
    "    cmap='Spectral_r',\n",
    "    wspace = 0.4,\n",
    "    use_raw=False,\n",
    "    add_outline=True\n",
    ")"
   ]
  },
  {
   "cell_type": "code",
   "execution_count": null,
   "id": "742746c2-205d-4380-8067-9a1b6ea846b3",
   "metadata": {},
   "outputs": [],
   "source": [
    "colors = Told.uns['cell_type_subset_colors']\n",
    "\n",
    "tmp = pd.crosstab(Told.obs['day'],Told.obs[\"cell_type_subset\"], normalize='index', )\n",
    "tmp.plot.area(stacked=True, color=colors).legend(loc='center left', bbox_to_anchor=(1, 0.5),frameon=False)\n",
    "plt.grid(False)\n",
    "plt.title(\"2 month-old\")\n"
   ]
  },
  {
   "cell_type": "code",
   "execution_count": null,
   "id": "e4b47b7c-182d-4694-9ff3-351fdd567178",
   "metadata": {},
   "outputs": [],
   "source": [
    "Tregsold= Told[Told.obs[\"cell_type_subset\"]==\"Tregs\"]"
   ]
  },
  {
   "cell_type": "code",
   "execution_count": null,
   "id": "3072b94a-ba2b-4b60-982e-eab41913c71e",
   "metadata": {},
   "outputs": [],
   "source": [
    "sc.tl.rank_genes_groups(Tregsold, 'day', groups=['d7'], reference='d0', method='wilcoxon', use_raw=False)\n",
    "result = Tregsold.uns['rank_genes_groups']"
   ]
  },
  {
   "cell_type": "code",
   "execution_count": null,
   "id": "623e5d2b-603d-47a3-9534-c11863689a8f",
   "metadata": {},
   "outputs": [],
   "source": [
    "sc.pl.rank_genes_groups(Tregsold, n_genes=30, sharey=False)\n"
   ]
  },
  {
   "cell_type": "code",
   "execution_count": null,
   "id": "69eeefac-6cd9-4bc5-8c70-758685c80314",
   "metadata": {},
   "outputs": [],
   "source": [
    "df_temp = pd.DataFrame({'umap_x': Told.obsm['X_umap'][:, 0], 'umap_y': Told.obsm['X_umap'][:, 1], \n",
    "                        'stage': Told.obs['day'], 'day': Told.obs['day']}, index = Told.obs.index)\n",
    "\n",
    "\n"
   ]
  },
  {
   "cell_type": "code",
   "execution_count": null,
   "id": "ff6356c5-08bb-474e-acdb-d77821665c44",
   "metadata": {},
   "outputs": [],
   "source": [
    "Told.obs[\"day\"]"
   ]
  },
  {
   "cell_type": "code",
   "execution_count": null,
   "id": "bb4d638f-0bef-48f4-83a9-e0aafd8cc832",
   "metadata": {},
   "outputs": [],
   "source": [
    "import seaborn as sns\n",
    "fig = plt.figure(figsize = (8*2, 6))\n",
    "ax = fig.add_subplot(1, 2, 1)\n",
    "sns.scatterplot(data = df_temp, x = 'umap_x', y = 'umap_y', s = 1, ax = ax)\n",
    "sns.kdeplot(data=df_temp[df_temp['day'] == 'd0'], x=\"umap_x\", y=\"umap_y\",\n",
    "    fill=True, thresh=0, levels=10, cmap=\"Purples\", ax = ax, cut = 4)\n",
    "ax.set_xticks([]);\n",
    "ax.set_yticks([]);\n",
    "ax.set_title('d0', fontsize = 16)\n",
    "ax.set_xlabel('UMAP-1')\n",
    "ax.set_ylabel('UMAP-2')\n",
    "ax.spines['right'].set_visible(False)\n",
    "ax.spines['top'].set_visible(False)\n",
    "ax.spines['left'].set_visible(False)\n",
    "ax.spines['bottom'].set_visible(False)\n",
    "\n",
    "ax = fig.add_subplot(1, 2, 2)\n",
    "sns.scatterplot(data = df_temp, x = 'umap_x', y = 'umap_y', s = 0, ax = ax)\n",
    "sns.kdeplot(data=df_temp[df_temp['day'] == 'd1'], x=\"umap_x\", y=\"umap_y\",\n",
    "    fill=True, thresh=0, levels=10, cmap=\"Purples\", ax = ax, cut = 4)\n",
    "ax.set_xticks([]);\n",
    "ax.set_yticks([]);\n",
    "ax.set_title('d1', fontsize = 16)\n",
    "ax.set_xlabel('UMAP-1')\n",
    "ax.set_ylabel('UMAP-2')\n",
    "ax.spines['right'].set_visible(False)\n",
    "ax.spines['top'].set_visible(False)\n",
    "ax.spines['left'].set_visible(False)\n",
    "ax.spines['bottom'].set_visible(False)\n",
    "\n",
    "#fig.savefig(outbase + 'Ctrl_DT_kdeplot_endo.png', dpi = 150, bbox_inches = 'tight')"
   ]
  },
  {
   "cell_type": "code",
   "execution_count": null,
   "id": "6c7bc6e2-e925-4196-8641-a8307381c52c",
   "metadata": {},
   "outputs": [],
   "source": [
    "import seaborn as sns\n",
    "fig = plt.figure(figsize = (8*2, 6))\n",
    "ax = fig.add_subplot(1, 2, 1)\n",
    "sns.scatterplot(data = df_temp, x = 'umap_x', y = 'umap_y', s = 1, ax = ax)\n",
    "sns.kdeplot(data=df_temp[df_temp['day'] == 'd4'], x=\"umap_x\", y=\"umap_y\",\n",
    "    fill=True, thresh=0, levels=10, cmap=\"Purples\", ax = ax, cut = 4)\n",
    "ax.set_xticks([]);\n",
    "ax.set_yticks([]);\n",
    "ax.set_title('d4', fontsize = 16)\n",
    "ax.set_xlabel('UMAP-1')\n",
    "ax.set_ylabel('UMAP-2')\n",
    "ax.spines['right'].set_visible(False)\n",
    "ax.spines['top'].set_visible(False)\n",
    "ax.spines['left'].set_visible(False)\n",
    "ax.spines['bottom'].set_visible(False)\n",
    "\n",
    "ax = fig.add_subplot(1, 2, 2)\n",
    "sns.scatterplot(data = df_temp, x = 'umap_x', y = 'umap_y', s = 0, ax = ax)\n",
    "sns.kdeplot(data=df_temp[df_temp['day'] == 'd7'], x=\"umap_x\", y=\"umap_y\",\n",
    "    fill=True, thresh=0, levels=10, cmap=\"Purples\", ax = ax, cut = 4)\n",
    "ax.set_xticks([]);\n",
    "ax.set_yticks([]);\n",
    "ax.set_title('d7', fontsize = 16)\n",
    "ax.set_xlabel('UMAP-1')\n",
    "ax.set_ylabel('UMAP-2')\n",
    "ax.spines['right'].set_visible(False)\n",
    "ax.spines['top'].set_visible(False)\n",
    "ax.spines['left'].set_visible(False)\n",
    "ax.spines['bottom'].set_visible(False)\n",
    "\n",
    "#fig.savefig(outbase + 'Ctrl_DT_kdeplot_endo.png', dpi = 150, bbox_inches = 'tight')"
   ]
  },
  {
   "cell_type": "code",
   "execution_count": null,
   "id": "9d761466-371b-45e0-b5a3-1b8bd0322249",
   "metadata": {},
   "outputs": [],
   "source": [
    "Told.uns['cell_type_subset_colors']=['#f6222e','#002FA7','#060047', '#3283fe','#ffbaba',]"
   ]
  },
  {
   "cell_type": "code",
   "execution_count": null,
   "id": "878b8062-8740-4167-850e-e52ab7558023",
   "metadata": {
    "scrolled": true
   },
   "outputs": [],
   "source": [
    "colors = Told.uns['cell_type_subset_colors']\n",
    "\n",
    "tmp = pd.crosstab(Told[Told.obs['stage']==\"18mo\"].obs['day'],Told.obs[\"cell_type_subset\"], normalize='index', )\n",
    "tmp.plot.area(stacked=True, color=colors).legend(loc='center left', bbox_to_anchor=(1, 0.5),frameon=False)\n",
    "plt.grid(False)\n",
    "plt.title(\"18 month-old\")\n"
   ]
  },
  {
   "cell_type": "code",
   "execution_count": null,
   "id": "56538604-a86b-4ab3-ad12-21c4d5fd086b",
   "metadata": {
    "scrolled": true
   },
   "outputs": [],
   "source": [
    "sc.pl.umap(Told,color=\"cell_type_subset\")"
   ]
  },
  {
   "cell_type": "code",
   "execution_count": null,
   "id": "b68a691b-f30a-4da1-9380-9a938a2311b9",
   "metadata": {},
   "outputs": [],
   "source": [
    "sc.pl.umap(Told, color=['cell_type_subset',\"stage\",\"day\"], \n",
    "                     color_map='Spectral_r',\n",
    "                     use_raw=False, \n",
    "         #  \"Cd4\",\"Cd8a\",\n",
    "                     ncols=4, \n",
    "                     wspace = 0.7,\n",
    "                     outline_width=[0.6, 0.05], \n",
    "                     size=15,  \n",
    "                     frameon=False, \n",
    "                     add_outline=True, \n",
    "\n",
    "                     sort_order = False)"
   ]
  },
  {
   "cell_type": "code",
   "execution_count": null,
   "id": "479293b2",
   "metadata": {},
   "outputs": [],
   "source": [
    "sc.set_figure_params(dpi=300, dpi_save=300, color_map='viridis', vector_friendly=True, transparent=True)\n",
    "\n",
    "sc.pl.umap(Told, color=['cell_type_subset'], \n",
    "                     color_map='Spectral_r',\n",
    "                     use_raw=False, \n",
    "         #  \"Cd4\",\"Cd8a\",\n",
    "                     ncols=4, \n",
    "                     wspace = 0.3,\n",
    "                     outline_width=[0.6, 0.01], \n",
    "                     size=5,  \n",
    "                     frameon=False, \n",
    "                     add_outline=False, \n",
    "                     sort_order = False, )\n",
    "\n"
   ]
  },
  {
   "cell_type": "code",
   "execution_count": null,
   "id": "083f3951-bedb-4480-8810-873283727381",
   "metadata": {},
   "outputs": [],
   "source": [
    "sc.pl.umap(Told, color=['cell_type_subset'], \n",
    "                     color_map='Spectral_r',\n",
    "                     use_raw=False, \n",
    "         #  \"Cd4\",\"Cd8a\",\n",
    "                     ncols=4, \n",
    "                     wspace = 0.7,\n",
    "                     outline_width=[0.6, 0.05], \n",
    "                     size=15,  \n",
    "                     frameon=False, \n",
    "                     add_outline=True, \n",
    "\n",
    "                     sort_order = False)"
   ]
  },
  {
   "cell_type": "code",
   "execution_count": null,
   "id": "8ca910f1-6e42-4529-adb0-bb0be103d4d7",
   "metadata": {},
   "outputs": [],
   "source": [
    "sc.pl.dotplot(T,var_names=[\"Zfp36l1\",'Tff1',\"Penk\",\"Areg\",\"Capg\",\"Il1r2\",\"Cd83\",\"Cd74\",\"Ccr6\",\"Rora\",\"Nfkbia\",\"Ctla4\",'Rgs2',\"Tnfrsf9\",\"Tnfrsf18\", 'Il18r1',\"Ctla4\"] , groupby=[\"cell_type_subset\",'day'])"
   ]
  },
  {
   "cell_type": "code",
   "execution_count": null,
   "id": "02bc8556-0d93-4d13-9755-f83d6677913e",
   "metadata": {},
   "outputs": [],
   "source": [
    "#sc.pl.dotplot(Told,var_names=[\"Zfp36l1\",'Tff1',\"Penk\",\"Areg\",\"Capg\",\"Il1r2\",\"Cd83\",\"Cd74\",\"Ccr6\",\"Rora\",\"Nfkbia\",\"Ctla4\",'Rgs2',\"Tnfrsf9\",\"Tnfrsf18\", 'Il18r1',\"Ctla4\"] , groupby=[\"cell_type_subset\",'day'])"
   ]
  },
  {
   "cell_type": "code",
   "execution_count": null,
   "id": "230468a8-197c-47dd-84d9-9fbbd0fe1985",
   "metadata": {},
   "outputs": [],
   "source": [
    "#path_to_h5ad = '/Users/xleana/Desktop/CD45/CD45new/CD45pos_02mo18mo_SLTBId147_Told.h5ad'\n",
    "#Told.write(path_to_h5ad)"
   ]
  },
  {
   "cell_type": "code",
   "execution_count": null,
   "id": "9e2e6948-5358-4a5f-b398-50969c81e307",
   "metadata": {},
   "outputs": [],
   "source": [
    "#Told=sc.read_h5ad('/Users/xleana/Desktop/CD45/CD45new/CD45pos_02mo18mo_SLTBId147_Told.h5ad')\n",
    "#Told.uns['log1p']['base']=None\n"
   ]
  },
  {
   "cell_type": "code",
   "execution_count": null,
   "id": "0a851a4c-8c78-4959-8aef-03033fdff72b",
   "metadata": {},
   "outputs": [],
   "source": [
    "ToldD0=Told[Told.obs[\"day\"]==\"d0\"]"
   ]
  },
  {
   "cell_type": "code",
   "execution_count": null,
   "id": "98fd0d96-4aa1-46fd-b7cb-956b611b8c6a",
   "metadata": {},
   "outputs": [],
   "source": [
    "ToldD1=Told[Told.obs[\"day\"]==\"d1\"]"
   ]
  },
  {
   "cell_type": "code",
   "execution_count": null,
   "id": "3abdda58-642f-4f0e-8fa9-5c55ae363f9b",
   "metadata": {},
   "outputs": [],
   "source": [
    "ToldD4=Told[Told.obs[\"day\"]==\"d4\"]"
   ]
  },
  {
   "cell_type": "code",
   "execution_count": null,
   "id": "3aefbc57-e59f-4b40-90bf-f38dbdf238d6",
   "metadata": {},
   "outputs": [],
   "source": [
    "ToldD7=Told[Told.obs[\"day\"]==\"d7\"]"
   ]
  },
  {
   "cell_type": "code",
   "execution_count": null,
   "id": "02f4a5d1-1d93-4e9d-b039-77a39b9bbaa6",
   "metadata": {},
   "outputs": [],
   "source": [
    "sc.tl.rank_genes_groups(ToldD0, groupby='cell_type_subset', method='wilcoxon',layers='norm_counts')\n",
    "sc.pl.rank_genes_groups_dotplot(ToldD0, n_genes=50, dendrogram=False)\n"
   ]
  },
  {
   "cell_type": "code",
   "execution_count": null,
   "id": "38ead996-903a-4010-8b84-8974d4891558",
   "metadata": {},
   "outputs": [],
   "source": [
    "sc.tl.rank_genes_groups(ToldD1, groupby='cell_type_subset', method='wilcoxon',layers='norm_counts')\n",
    "sc.pl.rank_genes_groups_dotplot(ToldD1, n_genes=50, dendrogram=False)\n"
   ]
  },
  {
   "cell_type": "code",
   "execution_count": null,
   "id": "567eed78-b946-44c0-b2be-6b8a5c01ed15",
   "metadata": {
    "scrolled": true
   },
   "outputs": [],
   "source": [
    "sc.tl.rank_genes_groups(ToldD4, groupby='cell_type_subset', method='wilcoxon',layers='norm_counts')\n",
    "sc.pl.rank_genes_groups_dotplot(ToldD4, n_genes=50, dendrogram=False)\n"
   ]
  },
  {
   "cell_type": "code",
   "execution_count": null,
   "id": "db3c163c-bdbd-4486-89c2-4de82e536028",
   "metadata": {},
   "outputs": [],
   "source": [
    "sc.tl.rank_genes_groups(ToldD7, groupby='cell_type_subset', method='wilcoxon',layers='norm_counts')\n",
    "sc.pl.rank_genes_groups_dotplot(ToldD7, n_genes=50, dendrogram=False)\n"
   ]
  },
  {
   "cell_type": "code",
   "execution_count": null,
   "id": "92f36768-de18-4d92-ac2e-0dad91c7f7bb",
   "metadata": {},
   "outputs": [],
   "source": [
    "result = ToldD0.uns['rank_genes_groups']\n",
    "groups = result['names'].dtype.names\n",
    "df = pd.DataFrame(\n",
    "{group + '_' + key[:1]: result[key][group]\n",
    "for group in groups for key in ['names','logfoldchanges','pvals_adj','pvals',]})\n",
    "df.to_csv('/Users/alemarquis/Desktop/Tyoung/ToldD0.csv')"
   ]
  },
  {
   "cell_type": "code",
   "execution_count": null,
   "id": "b0c7eb3f-78c7-4f37-8652-69ee3b00e2af",
   "metadata": {},
   "outputs": [],
   "source": [
    "result = ToldD1.uns['rank_genes_groups']\n",
    "groups = result['names'].dtype.names\n",
    "df = pd.DataFrame(\n",
    "{group + '_' + key[:1]: result[key][group]\n",
    "for group in groups for key in ['names','logfoldchanges','pvals_adj','pvals',]})\n",
    "df.to_csv('/Users/alemarquis/Desktop/Tyoung/ToldD1.csv')"
   ]
  },
  {
   "cell_type": "code",
   "execution_count": null,
   "id": "8877008c-5164-4e35-bf53-b61105060bdf",
   "metadata": {},
   "outputs": [],
   "source": [
    "result = ToldD4.uns['rank_genes_groups']\n",
    "groups = result['names'].dtype.names\n",
    "df = pd.DataFrame(\n",
    "{group + '_' + key[:1]: result[key][group]\n",
    "for group in groups for key in ['names','logfoldchanges','pvals_adj','pvals',]})\n",
    "df.to_csv('/Users/alemarquis/Desktop/Tyoung/ToldD4.csv')"
   ]
  },
  {
   "cell_type": "code",
   "execution_count": null,
   "id": "44a4cc3a-0eb3-4b3f-b528-de3711c94ba1",
   "metadata": {},
   "outputs": [],
   "source": [
    "result = ToldD7.uns['rank_genes_groups']\n",
    "groups = result['names'].dtype.names\n",
    "df = pd.DataFrame(\n",
    "{group + '_' + key[:1]: result[key][group]\n",
    "for group in groups for key in ['names','logfoldchanges','pvals_adj','pvals',]})\n",
    "df.to_csv('/Users/alemarquis/Desktop/Tyoung/ToldD7.csv')"
   ]
  },
  {
   "cell_type": "markdown",
   "id": "a48c052b-217c-4dbc-9dfa-dea0c8d9eb40",
   "metadata": {},
   "source": [
    "## NKT cells"
   ]
  },
  {
   "cell_type": "code",
   "execution_count": null,
   "id": "bf2224ae-f250-4c1a-a355-2bb3fca2e9e8",
   "metadata": {},
   "outputs": [],
   "source": [
    "NKTold = old[old.obs['cell_type'].isin(['NKT and invariant cells'])]\n"
   ]
  },
  {
   "cell_type": "code",
   "execution_count": null,
   "id": "bc7cc185-6c0a-450a-9191-169d5b335b82",
   "metadata": {},
   "outputs": [],
   "source": [
    "# Remove columns with all 0s\n",
    "sc.pp.filter_genes(NKTold, min_cells=4)"
   ]
  },
  {
   "cell_type": "code",
   "execution_count": null,
   "id": "9b943db4-f23b-4c18-a35f-f0bc089994ac",
   "metadata": {
    "scrolled": true
   },
   "outputs": [],
   "source": [
    "sc.pp.highly_variable_genes(NKTold, n_top_genes=5000, n_bins=20, flavor='seurat_v3')"
   ]
  },
  {
   "cell_type": "code",
   "execution_count": null,
   "id": "f009f399-c204-4099-9402-16e3636b88c1",
   "metadata": {},
   "outputs": [],
   "source": [
    "rng = np.random.RandomState(42)\n",
    "sc.tl.pca(NKTold, n_comps=50, svd_solver='arpack', random_state=rng, use_highly_variable=True)"
   ]
  },
  {
   "cell_type": "code",
   "execution_count": null,
   "id": "f75082a4-ba77-4875-a55b-3b09a5fcd443",
   "metadata": {},
   "outputs": [],
   "source": [
    "observe_variance(NKTold)"
   ]
  },
  {
   "cell_type": "code",
   "execution_count": null,
   "id": "18c21b46-9815-47f3-b4ac-40dcc5fc7efe",
   "metadata": {},
   "outputs": [],
   "source": [
    "plt.plot(range(len(NKTold.uns['pca']['variance_ratio'])), np.cumsum(T.uns['pca']['variance_ratio']) * 100, '.-')\n",
    "plt.axvline(30, color = 'r')\n",
    "plt.xlabel('Principal Component', fontsize = 14)\n",
    "plt.ylabel('% Variance Explained', fontsize = 14)"
   ]
  },
  {
   "cell_type": "code",
   "execution_count": null,
   "id": "f9a3751c-eadc-403c-8654-88bdae728dab",
   "metadata": {},
   "outputs": [],
   "source": [
    "sc.pp.neighbors(NKTold, n_neighbors=30, n_pcs=30)\n",
    "sc.tl.umap(NKTold, min_dist=0.9)"
   ]
  },
  {
   "cell_type": "code",
   "execution_count": null,
   "id": "5cb9acb0-1316-4de0-9abe-9feaef34a3fc",
   "metadata": {},
   "outputs": [],
   "source": [
    "for resolution_parameter in [0.1, 0.2, 0.3, 0.4, 0.5, 0.6, 0.7, 0.8, 0.9, 1.0]:\n",
    "    sc.tl.leiden(NKTold, resolution=resolution_parameter, random_state=42, \n",
    "                        key_added='leiden_'+str(resolution_parameter))"
   ]
  },
  {
   "cell_type": "code",
   "execution_count": null,
   "id": "cf680167-cb3a-4bcc-b5dc-bce54216082c",
   "metadata": {},
   "outputs": [],
   "source": [
    "sc.set_figure_params(dpi=80, dpi_save=300, color_map='viridis', vector_friendly=False, transparent=True)\n",
    "sc.pl.umap(\n",
    "    NKTold, \n",
    "    color=['leiden_0.1', 'leiden_0.2', 'leiden_0.3', 'leiden_0.4', 'leiden_0.5', \n",
    "           'leiden_0.6', 'leiden_0.7', 'leiden_0.8','leiden_0.9', 'leiden_1.0'], \n",
    "    palette=user_defined_palette,  \n",
    "    color_map='Spectral_r', \n",
    "    use_raw=False,\n",
    "    ncols=5,\n",
    "    wspace = 0.7,\n",
    "    outline_width=[0.6, 0.05],\n",
    "    frameon=False,\n",
    "    add_outline=True,\n",
    "    sort_order = False\n",
    ")"
   ]
  },
  {
   "cell_type": "code",
   "execution_count": null,
   "id": "ac7ab49b-9dd3-45e9-a3e4-7dfb16365c4f",
   "metadata": {},
   "outputs": [],
   "source": [
    "sc.set_figure_params(dpi=80, dpi_save=300, color_map='viridis', vector_friendly=True, transparent=True)\n",
    "sc.pl.umap(\n",
    "    NKTold, \n",
    "    color=['leiden_0.1',\"stage\",\"Trac\",\"Trdc\",\"Cd8a\",\"Cd4\"], \n",
    "    palette=user_defined_palette,  \n",
    "    color_map='Spectral_r', \n",
    "    use_raw=False,\n",
    "    ncols=6,\n",
    "    size=15,\n",
    "    wspace = 0.2,\n",
    "    outline_width=[0.6, 0.05],\n",
    "    frameon=False,\n",
    "    add_outline=True,\n",
    "    sort_order = False\n",
    ")"
   ]
  },
  {
   "cell_type": "code",
   "execution_count": null,
   "id": "fdc19360-08b0-43e9-866a-fe0982a0a9f4",
   "metadata": {},
   "outputs": [],
   "source": [
    "sc.set_figure_params(dpi=80, dpi_save=300, color_map='viridis', vector_friendly=True, transparent=True)\n",
    "\n",
    "sc.pl.umap(\n",
    "    NKTold, \n",
    "    color=['leiden_0.1','leiden_0.3', 'stage', 'day', 'sample', \"Il4\",\n",
    "           \"Il17a\",\"Icos\",\"Ncr1\",\"Cxcr6\",'Fcer1g',], \n",
    "    ncols=6,\n",
    "    use_raw=False,\n",
    "    outline_width=[0.6, 0.05],\n",
    "    frameon=False,\n",
    "    cmap='Spectral_r',\n",
    "    wspace = 0.5,\n",
    "    add_outline=True\n",
    ")"
   ]
  },
  {
   "cell_type": "code",
   "execution_count": null,
   "id": "426cc6d1-de1a-4c16-8593-e885007fbd9a",
   "metadata": {},
   "outputs": [],
   "source": [
    "NKTold.obs['cell_type_subset'] = [  'NK' if (x=='3' ) else\n",
    "                                #'NKT' if (x=='0' or x=='2' or x=='1'   )else\n",
    "                               'NKT' for x in NKTold.obs['leiden_0.1']] "
   ]
  },
  {
   "cell_type": "code",
   "execution_count": null,
   "id": "c3615d51-2141-420f-bd1d-758174b9fd06",
   "metadata": {},
   "outputs": [],
   "source": [
    "sc.tl.rank_genes_groups(NKTold, 'leiden_0.3', method='wilcoxon', use_raw=False)\n",
    "sc.pl.rank_genes_groups(NKTold, n_genes=25, sharey=False)"
   ]
  },
  {
   "cell_type": "code",
   "execution_count": null,
   "id": "eaad07c7-cf0d-4d19-9e0f-96dfaecd6fb1",
   "metadata": {},
   "outputs": [],
   "source": [
    "sc.set_figure_params(dpi=80, dpi_save=300, color_map='viridis', vector_friendly=True, transparent=True)\n",
    "\n",
    "sc.pl.umap(\n",
    "    NKTold, \n",
    "    color=['leiden_0.3','cell_type_subset',\"day\"], \n",
    "    ncols=6,\n",
    "    use_raw=False,\n",
    "    outline_width=[0.6, 0.05],\n",
    "    frameon=False,\n",
    "    cmap='Spectral_r',\n",
    "    wspace = 0.5,\n",
    "    add_outline=True\n",
    ")"
   ]
  },
  {
   "cell_type": "code",
   "execution_count": null,
   "id": "090a41ef-4f72-45c4-9e41-42e7c5962388",
   "metadata": {},
   "outputs": [],
   "source": [
    "NKTold.uns['cell_type_subset_colors']=['#F2BE22','#006fa6']"
   ]
  },
  {
   "cell_type": "code",
   "execution_count": null,
   "id": "3d40b834-c2e1-4bf2-9d84-00ccbeff5285",
   "metadata": {},
   "outputs": [],
   "source": [
    "sc.set_figure_params(dpi=80, dpi_save=300, color_map='viridis', vector_friendly=True, transparent=True)\n",
    "\n",
    "sc.pl.umap(\n",
    "    NKTold, \n",
    "    color=['leiden_0.3','cell_type_subset',\"day\"], \n",
    "    ncols=6,\n",
    "    use_raw=False,\n",
    "    outline_width=[0.6, 0.05],\n",
    "    frameon=False,\n",
    "    cmap='Spectral_r',\n",
    "    wspace = 0.5,\n",
    "    add_outline=True\n",
    ")"
   ]
  },
  {
   "cell_type": "code",
   "execution_count": null,
   "id": "5a05c284-1bcf-4816-a327-784b576d7788",
   "metadata": {},
   "outputs": [],
   "source": [
    "tmp = pd.crosstab(NKTold.obs['day'],NKTold.obs['cell_type_subset'], normalize='index')\n",
    "tmp.plot.area(stacked=True).legend(loc='center left', bbox_to_anchor=(1, 0.5),frameon=False)\n",
    "plt.grid(False)"
   ]
  },
  {
   "cell_type": "markdown",
   "id": "675b6413-0fcb-436b-b641-58c11969d7d1",
   "metadata": {},
   "source": [
    "## B cells"
   ]
  },
  {
   "cell_type": "code",
   "execution_count": null,
   "id": "9514090e-029a-4c82-9b81-6ccac4c4b87c",
   "metadata": {},
   "outputs": [],
   "source": [
    "Bold = old[old.obs['cell_type'].isin(['B cells'])]"
   ]
  },
  {
   "cell_type": "code",
   "execution_count": null,
   "id": "d7f38373-2d40-40f2-8220-47de75fe7b09",
   "metadata": {},
   "outputs": [],
   "source": [
    "# Remove columns with all 0s\n",
    "sc.pp.filter_genes(Bold, min_cells=1)"
   ]
  },
  {
   "cell_type": "code",
   "execution_count": null,
   "id": "050c5471-9138-4ff9-a74b-f2d26d4eea28",
   "metadata": {},
   "outputs": [],
   "source": [
    "sc.pp.highly_variable_genes(Bold, n_top_genes=2000, n_bins=20, flavor='seurat_v3')"
   ]
  },
  {
   "cell_type": "code",
   "execution_count": null,
   "id": "16af6120-ecc3-4fac-ac67-284b43da8794",
   "metadata": {},
   "outputs": [],
   "source": [
    "rng = np.random.RandomState(42)\n",
    "sc.tl.pca(Bold, n_comps=200, svd_solver='arpack', random_state=rng, use_highly_variable=True)"
   ]
  },
  {
   "cell_type": "code",
   "execution_count": null,
   "id": "ca4334a6-82d2-4597-95d1-091a740ff029",
   "metadata": {},
   "outputs": [],
   "source": [
    "observe_variance(Bold)"
   ]
  },
  {
   "cell_type": "code",
   "execution_count": null,
   "id": "31a6af62-719c-4c75-8f30-4509f8d7caf4",
   "metadata": {},
   "outputs": [],
   "source": [
    "rng = np.random.RandomState(42)\n",
    "sc.tl.pca(Bold, n_comps=30, svd_solver='arpack', random_state=rng, use_highly_variable=True)"
   ]
  },
  {
   "cell_type": "code",
   "execution_count": null,
   "id": "e74e5f24-13ea-48f4-abbb-7cd063c8a956",
   "metadata": {},
   "outputs": [],
   "source": [
    "sc.pp.neighbors(Bold, n_neighbors=15)\n",
    "sc.tl.umap(Bold)"
   ]
  },
  {
   "cell_type": "code",
   "execution_count": null,
   "id": "2b9c2511-7a9e-4be3-8cb4-39e0d92ddbd0",
   "metadata": {},
   "outputs": [],
   "source": [
    "for resolution_parameter in [0.1, 0.2, 0.3, 0.4, 0.5, 0.6, 0.7, 0.8, 0.9, 1.0]:\n",
    "    sc.tl.leiden(Bold, resolution=resolution_parameter, random_state=42, \n",
    "                        key_added='leiden_'+str(resolution_parameter))"
   ]
  },
  {
   "cell_type": "code",
   "execution_count": null,
   "id": "f9c3794d-8ae9-4ebe-a215-758adc8ec502",
   "metadata": {},
   "outputs": [],
   "source": [
    "Bold"
   ]
  },
  {
   "cell_type": "code",
   "execution_count": null,
   "id": "76bcbc81-cb6b-4da3-87b7-ac60db415207",
   "metadata": {},
   "outputs": [],
   "source": [
    "sc.set_figure_params(dpi=80, dpi_save=300, color_map='viridis', vector_friendly=False, transparent=True)\n",
    "sc.pl.umap(\n",
    "    Bold, \n",
    "    color=['leiden_0.1', 'leiden_0.2', 'leiden_0.3', 'leiden_0.4', 'leiden_0.5', \n",
    "           'leiden_0.6', 'leiden_0.7', 'leiden_0.8','leiden_0.9', 'leiden_1.0',\"day\",\"Cd3e\",\"Igha\", \"Ighm\"], \n",
    "    palette=user_defined_palette,  \n",
    "    color_map='Spectral_r', \n",
    "    use_raw=False,\n",
    "    ncols=5,\n",
    "    wspace = 0.7,\n",
    "    outline_width=[0.1, 0.05],\n",
    "    frameon=False,\n",
    "    add_outline=True,\n",
    "    sort_order = False\n",
    ")\n"
   ]
  },
  {
   "cell_type": "code",
   "execution_count": null,
   "id": "6276244e-4c4f-46fd-9abb-87d6e683c732",
   "metadata": {},
   "outputs": [],
   "source": [
    "sc.tl.rank_genes_groups(Bold, 'leiden_0.1', method='wilcoxon', use_raw=False)\n",
    "sc.pl.rank_genes_groups(Bold, n_genes=25, sharey=False) "
   ]
  },
  {
   "cell_type": "code",
   "execution_count": null,
   "id": "83cd395d-0d81-4e0e-a23e-5b0bc39d30ee",
   "metadata": {},
   "outputs": [],
   "source": [
    "Bold.obs['cell_type_subset'] = [  'B cells' if (x=='0' or x=='1' ) else\n",
    "                                'Plasma cells' if ( x=='2'   )else\n",
    "                           \n",
    "                               'Error' for x in Bold.obs['leiden_0.1']] "
   ]
  },
  {
   "cell_type": "code",
   "execution_count": null,
   "id": "e05a6817-3ac9-4e64-b613-f4a1b432b54e",
   "metadata": {},
   "outputs": [],
   "source": [
    "sc.set_figure_params(dpi=80, dpi_save=300, color_map='viridis', vector_friendly=False, transparent=True)\n",
    "sc.pl.umap(\n",
    "    Bold, \n",
    "    color=['cell_type_subset',\"Igha\",\"Ighm\" ], \n",
    "    palette=user_defined_palette,  \n",
    "    color_map='Spectral_r', \n",
    "    use_raw=False,\n",
    "    ncols=5,\n",
    "    wspace = 0.7,\n",
    "    outline_width=[0.1, 0.05],\n",
    "    frameon=False,\n",
    "    add_outline=True,\n",
    "    sort_order = False\n",
    ")\n"
   ]
  },
  {
   "cell_type": "code",
   "execution_count": null,
   "id": "68c9eade-c933-419d-88c6-2e756516f70b",
   "metadata": {},
   "outputs": [],
   "source": [
    "sc.set_figure_params(dpi=80, dpi_save=300, color_map='viridis', vector_friendly=False, transparent=True)\n",
    "sc.pl.umap(\n",
    "    old, \n",
    "    color=['cell_type' ], \n",
    "    palette=user_defined_palette,  \n",
    "    color_map='Spectral_r', \n",
    "    use_raw=False,\n",
    "    ncols=5,\n",
    "    wspace = 0.7,\n",
    "    outline_width=[0.1, 0.05],\n",
    "    frameon=False,\n",
    "    add_outline=True,\n",
    "    sort_order = False\n",
    ")\n"
   ]
  },
  {
   "cell_type": "code",
   "execution_count": null,
   "id": "5e56323e-4ddd-43d6-83fc-28bbb5e96867",
   "metadata": {},
   "outputs": [],
   "source": [
    "tmp = pd.crosstab(Bold.obs['day'],Bold.obs['cell_type_subset'], normalize='index')\n",
    "tmp.plot.area(stacked=True).legend(loc='center left', bbox_to_anchor=(1, 0.5),frameon=False)\n",
    "plt.grid(False)"
   ]
  },
  {
   "cell_type": "markdown",
   "id": "a39b084e-559d-471d-ae34-4154919f6dc3",
   "metadata": {},
   "source": [
    "## ILCs"
   ]
  },
  {
   "cell_type": "code",
   "execution_count": null,
   "id": "7780031b-baba-4a2d-8044-9048be4196db",
   "metadata": {},
   "outputs": [],
   "source": [
    "NKILCold = old[old.obs['cell_type'].isin(['NK cells',\"ILC\",\"EOS\"])]"
   ]
  },
  {
   "cell_type": "code",
   "execution_count": null,
   "id": "4975f581-1c92-4e71-81b1-1157318ab2a8",
   "metadata": {},
   "outputs": [],
   "source": [
    "tmp = pd.crosstab(NKILCold.obs['day'],NKILCold.obs['cell_type'], normalize='index')\n",
    "tmp.plot.area(stacked=True).legend(loc='center left', bbox_to_anchor=(1, 0.5),frameon=False)\n",
    "plt.grid(False)"
   ]
  },
  {
   "cell_type": "markdown",
   "id": "e949334c-bcac-4e06-b5be-f5cc998d5cc8",
   "metadata": {},
   "source": [
    "## DCs"
   ]
  },
  {
   "cell_type": "code",
   "execution_count": null,
   "id": "9b6df6e4-ad21-447e-a142-df6acf920e5d",
   "metadata": {},
   "outputs": [],
   "source": [
    "DCold = old[old.obs['cell_type'].isin(['DCs and Macrophages'])]"
   ]
  },
  {
   "cell_type": "code",
   "execution_count": null,
   "id": "09214828-5730-4d7e-83b3-08f37116545e",
   "metadata": {},
   "outputs": [],
   "source": [
    "# Remove columns with all 0s\n",
    "sc.pp.filter_genes(DCold, min_cells=4)"
   ]
  },
  {
   "cell_type": "code",
   "execution_count": null,
   "id": "9fe92bbb-b937-48e4-ae56-9332e75383a8",
   "metadata": {},
   "outputs": [],
   "source": [
    "sc.pp.highly_variable_genes(DCold, n_top_genes=3000, n_bins=20, flavor='seurat_v3')"
   ]
  },
  {
   "cell_type": "code",
   "execution_count": null,
   "id": "f887f220-5809-4149-ad7a-0a5e9c131d39",
   "metadata": {},
   "outputs": [],
   "source": [
    "rng = np.random.RandomState(42)\n",
    "sc.tl.pca(DCold, n_comps=200, svd_solver='arpack', random_state=rng, use_highly_variable=True)"
   ]
  },
  {
   "cell_type": "code",
   "execution_count": null,
   "id": "9d3c3b0f-656f-495b-983c-fa817ebdd6dd",
   "metadata": {},
   "outputs": [],
   "source": [
    "observe_variance(DCold)"
   ]
  },
  {
   "cell_type": "code",
   "execution_count": null,
   "id": "ad571f45-69ef-447a-8181-0f94b3948f07",
   "metadata": {},
   "outputs": [],
   "source": [
    "rng = np.random.RandomState(42)\n",
    "sc.tl.pca(DCold, n_comps=30, svd_solver='arpack', random_state=rng, use_highly_variable=True)"
   ]
  },
  {
   "cell_type": "code",
   "execution_count": null,
   "id": "530252ba-664f-48cf-b372-797a5bf4264b",
   "metadata": {},
   "outputs": [],
   "source": [
    "sc.pp.neighbors(DCold, n_neighbors=30, n_pcs=30)\n",
    "sc.tl.umap(DCold,min_dist=0.5)"
   ]
  },
  {
   "cell_type": "code",
   "execution_count": null,
   "id": "11b85537-a8f2-43c8-ac41-105c8fde4e4c",
   "metadata": {},
   "outputs": [],
   "source": [
    "for resolution_parameter in [0.1, 0.2, 0.3, 0.4, 0.5, 0.6, 0.7, 0.8, 0.9, 1.0]:\n",
    "    sc.tl.leiden(DCold, resolution=resolution_parameter, random_state=42, \n",
    "                        key_added='leiden_'+str(resolution_parameter))"
   ]
  },
  {
   "cell_type": "code",
   "execution_count": null,
   "id": "c5025b58-7447-40b6-9b55-228212de9e45",
   "metadata": {
    "scrolled": true
   },
   "outputs": [],
   "source": [
    "sc.set_figure_params(dpi=80, dpi_save=300, color_map='viridis', vector_friendly=False, transparent=True)\n",
    "sc.pl.umap(\n",
    "    DCold, \n",
    "    color=['leiden_0.1', 'leiden_0.2', 'leiden_0.3', 'leiden_0.4', 'leiden_0.5', \n",
    "           'leiden_0.6', 'leiden_0.7', 'leiden_0.8','leiden_0.9', 'leiden_1.0'], \n",
    "    palette=user_defined_palette,  \n",
    "    color_map='Spectral_r', \n",
    "    use_raw=False,\n",
    "    ncols=5,\n",
    "    wspace = 0.7,\n",
    "    outline_width=[0.1, 0.05],\n",
    "    frameon=False,\n",
    "    add_outline=True,\n",
    "    sort_order = False\n",
    ")\n"
   ]
  },
  {
   "cell_type": "code",
   "execution_count": null,
   "id": "db47b887-1a48-4bef-8920-62ef8900157a",
   "metadata": {
    "scrolled": true
   },
   "outputs": [],
   "source": [
    "sc.set_figure_params(dpi=80, dpi_save=300, color_map='viridis', vector_friendly=False, transparent=True)\n",
    "sc.pl.umap(\n",
    "    DCold, \n",
    "    color=[\"H2-Aa\",\"Clec9a\",\"Irf8\",\"Clec10a\",\"Xcr1\",\"Sirpa\",\"Ccr7\",\"Fscn1\",\"Msrb1\",\"Siglech\",\"Csf1r\",\"Zbtb46\",\"Mertk\",\"Spic\",\"Timd4\",\n",
    "          \"Vcam1\",\"Mafb\",\"Lyz2\",'Ahr','Xbp1',\"leiden_0.4\",\"day\"], \n",
    "    palette=user_defined_palette,  \n",
    "    color_map='Spectral_r', \n",
    "    use_raw=False,\n",
    "    ncols=5,\n",
    "    wspace = 0.1,\n",
    "  \n",
    "    size=15,\n",
    "    frameon=False,\n",
    "    add_outline=True,\n",
    "    sort_order = False\n",
    ")"
   ]
  },
  {
   "cell_type": "code",
   "execution_count": null,
   "id": "e137397a-f618-4e02-b7b4-125d6166c05f",
   "metadata": {},
   "outputs": [],
   "source": [
    "DCold.obs['cell_type_subset'] = ['cDC1' if (x=='0') else \n",
    "                                 'cDC2' if (x=='2'  ) else\n",
    "                                 'CCR7+ cDC' if (x=='1') else\n",
    "                                'p-DCs' if (x=='3') else\n",
    "                                 #'Macrophages' if ( x=='4') else\n",
    "                                  'ERROR' for x in DCold.obs['leiden_0.4']] "
   ]
  },
  {
   "cell_type": "code",
   "execution_count": null,
   "id": "57063d0e-dea6-4472-8257-2843cf12bd52",
   "metadata": {},
   "outputs": [],
   "source": [
    "sc.pl.umap(DCold,color=['leiden_0.4','cell_type_subset'],)"
   ]
  },
  {
   "cell_type": "code",
   "execution_count": null,
   "id": "aef7900e-ad46-4bb2-a7d0-569ee8f4994c",
   "metadata": {},
   "outputs": [],
   "source": [
    "sc.pl.umap(DCold, color=[\"leiden_0.4\",\"day\",\"stage\"])"
   ]
  },
  {
   "cell_type": "code",
   "execution_count": null,
   "id": "31e85bd8-0992-4f5f-8b81-8090e46183b7",
   "metadata": {},
   "outputs": [],
   "source": [
    "sc.tl.rank_genes_groups(DCold, 'leiden_0.6', method='wilcoxon', use_raw=False)\n",
    "sc.pl.rank_genes_groups(DCold, n_genes=25, sharey=False) "
   ]
  },
  {
   "cell_type": "code",
   "execution_count": null,
   "id": "eda0376c-4e2f-441f-81b8-3fb23de446ce",
   "metadata": {},
   "outputs": [],
   "source": [
    "sc.set_figure_params(dpi=80, dpi_save=300, color_map='viridis', vector_friendly=False, transparent=True)\n",
    "sc.pl.umap(\n",
    "    DCold, \n",
    "    color=[\"Clec9a\",\"Xcr1\",\"Irf8\",\"Clec10a\",\n",
    "           \"Sirpa\",\"Ccr7\",\"Fscn1\",'Cd79a', 'Ms4a1', \"Xbp1\",\"Igkc\",\"Msrb1\",\"Cd4\",\"Rorc\",\"Il22\",\n",
    "          \"Gata3\",\"Rorc\",\"Pxdc1\",\"Ahr\"], \n",
    "    ncols=6,\n",
    "    outline_width=[0.6, 0.05],\n",
    "    size=100,\n",
    "    frameon=False,\n",
    "    cmap='Spectral_r',\n",
    "    wspace = 0.3,\n",
    "    add_outline=True\n",
    ")\n",
    "\n",
    "#SIRPA DC2\n",
    "#CCR7+ DC2"
   ]
  },
  {
   "cell_type": "code",
   "execution_count": null,
   "id": "7bf27f52-6470-4f56-878f-9e1f8bcc2e60",
   "metadata": {},
   "outputs": [],
   "source": [
    "sc.set_figure_params(dpi=80, dpi_save=300, color_map='viridis', vector_friendly=True, transparent=True)\n",
    "\n",
    "sc.pl.umap(\n",
    "    DCold, \n",
    "    color=['leiden_0.6','cell_type_subset','stage','day',\"Ccr7\"], \n",
    "    ncols=6,\n",
    "    outline_width=[0.08, 0.06],\n",
    "    frameon=False,\n",
    "    cmap='Spectral_r',\n",
    "    wspace = 0.3,\n",
    "    add_outline=True\n",
    ")"
   ]
  },
  {
   "cell_type": "code",
   "execution_count": null,
   "id": "179d68ad-5a57-4be7-a1a6-b538a2231fa7",
   "metadata": {},
   "outputs": [],
   "source": [
    "DCold.obs['Dendritic cell subsets'] =DCold.obs['cell_type_subset']"
   ]
  },
  {
   "cell_type": "code",
   "execution_count": null,
   "id": "a6cb053d-d429-42a9-8aab-3a74f00e0428",
   "metadata": {},
   "outputs": [],
   "source": [
    "DCold.uns['cell_type_subset_colors'] = [\"#F1BB7B\", \"#FD6467\", \"#5B1A18\", \"#D67236\"]"
   ]
  },
  {
   "cell_type": "code",
   "execution_count": null,
   "id": "2700eefd-e740-43d3-aabc-4e42e6f6c494",
   "metadata": {},
   "outputs": [],
   "source": [
    "DCold"
   ]
  },
  {
   "cell_type": "code",
   "execution_count": null,
   "id": "61aae8c0-4eae-4cb8-8e0b-bd1de2e82a76",
   "metadata": {},
   "outputs": [],
   "source": [
    "DCold.uns['Dendritic cell subsets_colors'] = [  \"#39312F\", \"#D67236\",\"#AA9486\", \"#EAD3BF\",\"#B6854D\", ]"
   ]
  },
  {
   "cell_type": "code",
   "execution_count": null,
   "id": "8f1a51e5-7035-4e8c-bb22-e5970ecefbf1",
   "metadata": {},
   "outputs": [],
   "source": [
    "sc.set_figure_params(dpi=80, dpi_save=300, color_map='viridis', vector_friendly=True, transparent=True)\n",
    "\n",
    "sc.pl.umap(\n",
    "    DCold, \n",
    "    color=['cell_type_subset'], \n",
    "    ncols=6,\n",
    "    outline_width=[0.08, 0.06],\n",
    "    frameon=False,\n",
    "    cmap='Spectral_r',\n",
    "    wspace = 0.3,\n",
    "    add_outline=True,\n",
    ")"
   ]
  },
  {
   "cell_type": "code",
   "execution_count": null,
   "id": "9c0fd5e5-5b4b-4081-993a-d0d203612328",
   "metadata": {},
   "outputs": [],
   "source": [
    "tmp = pd.crosstab(DCold.obs['day'],DCold.obs['cell_type_subset'], normalize='index')\n",
    "tmp.plot.area(stacked=True).legend(loc='center left', bbox_to_anchor=(1, 0.5),frameon=False)\n",
    "plt.grid(False)"
   ]
  },
  {
   "cell_type": "markdown",
   "id": "b283ea34-a8b1-4772-9802-4718362c07ce",
   "metadata": {},
   "source": [
    "## ILCs"
   ]
  },
  {
   "cell_type": "code",
   "execution_count": null,
   "id": "ba96363a-373f-4411-9270-0682149f7696",
   "metadata": {},
   "outputs": [],
   "source": [
    "sc.pl.umap(old,color=\"cell_type\")"
   ]
  },
  {
   "cell_type": "code",
   "execution_count": null,
   "id": "b2302936-e2df-4072-8ac3-590cdb0da914",
   "metadata": {},
   "outputs": [],
   "source": [
    "ILCold = old[old.obs['cell_type'].isin(['ILC'])]\n",
    "#'DN/DPs',\"NK cells\""
   ]
  },
  {
   "cell_type": "code",
   "execution_count": null,
   "id": "672c53ec-1386-45fb-b8b8-f0a044926dff",
   "metadata": {},
   "outputs": [],
   "source": [
    "sc.pl.umap(ILCold)"
   ]
  },
  {
   "cell_type": "code",
   "execution_count": null,
   "id": "4027ab59-5990-4177-918f-1eca142e36de",
   "metadata": {},
   "outputs": [],
   "source": [
    "# Remove columns with all 0s\n",
    "sc.pp.filter_genes(ILCold, min_cells=1)"
   ]
  },
  {
   "cell_type": "code",
   "execution_count": null,
   "id": "3e36adfa-3227-442b-8030-bd8b4d828c59",
   "metadata": {},
   "outputs": [],
   "source": [
    "sc.pp.highly_variable_genes(ILCold, n_top_genes=2000, n_bins=20, flavor='seurat_v3')"
   ]
  },
  {
   "cell_type": "code",
   "execution_count": null,
   "id": "9736714b-1f78-4ea6-9b94-082026757d08",
   "metadata": {},
   "outputs": [],
   "source": [
    "rng = np.random.RandomState(42)\n",
    "sc.tl.pca(ILCold, n_comps=200, svd_solver='arpack', random_state=rng, use_highly_variable=True)"
   ]
  },
  {
   "cell_type": "code",
   "execution_count": null,
   "id": "38e86abd-38a2-437c-a23f-edbf0c0bbae3",
   "metadata": {},
   "outputs": [],
   "source": [
    "observe_variance(ILCold)"
   ]
  },
  {
   "cell_type": "code",
   "execution_count": null,
   "id": "11a8fbdc-db3e-4461-8986-964132bd8de0",
   "metadata": {},
   "outputs": [],
   "source": [
    "rng = np.random.RandomState(42)\n",
    "sc.tl.pca(ILCold, n_comps=30, svd_solver='arpack', random_state=rng, use_highly_variable=True)"
   ]
  },
  {
   "cell_type": "code",
   "execution_count": null,
   "id": "92f70fe6-74ab-4c2b-b459-381410f0d49c",
   "metadata": {},
   "outputs": [],
   "source": [
    "sc.pp.neighbors(ILCold, n_neighbors=30, n_pcs=30)\n",
    "sc.tl.umap(ILCold,min_dist=0.5)"
   ]
  },
  {
   "cell_type": "code",
   "execution_count": null,
   "id": "dd9bffa0-1df2-4145-8679-c54c539549b4",
   "metadata": {},
   "outputs": [],
   "source": [
    "for resolution_parameter in [0.1, 0.2, 0.3, 0.4, 0.5, 0.6, 0.7, 0.8, 0.9, 1.0]:\n",
    "    sc.tl.leiden(ILCold, resolution=resolution_parameter, random_state=42, \n",
    "                        key_added='leiden_'+str(resolution_parameter))"
   ]
  },
  {
   "cell_type": "code",
   "execution_count": null,
   "id": "112d77c9-f70a-4d3c-ba12-535195da3e8b",
   "metadata": {
    "scrolled": true
   },
   "outputs": [],
   "source": [
    "sc.set_figure_params(dpi=80, dpi_save=300, color_map='viridis', vector_friendly=False, transparent=True)\n",
    "sc.pl.umap(\n",
    "    ILCold, \n",
    "    color=['leiden_0.1', 'leiden_0.2', 'leiden_0.3', 'leiden_0.4', 'leiden_0.5', \n",
    "           'leiden_0.6', 'leiden_0.7', 'leiden_0.8','leiden_0.9', 'leiden_1.0'], \n",
    "    palette=user_defined_palette,  \n",
    "    color_map='Spectral_r', \n",
    "    use_raw=False,\n",
    "    ncols=5,\n",
    "    wspace = 0.7,\n",
    "    outline_width=[0.1, 0.05],\n",
    "    frameon=False,\n",
    "    add_outline=True,\n",
    "    sort_order = False\n",
    ")\n"
   ]
  },
  {
   "cell_type": "code",
   "execution_count": null,
   "id": "9a1c46cf-297a-43ee-b9fc-12e8cab7c887",
   "metadata": {
    "scrolled": true
   },
   "outputs": [],
   "source": [
    "sc.set_figure_params(dpi=80, dpi_save=300, color_map='viridis', vector_friendly=False, transparent=True)\n",
    "sc.pl.umap(\n",
    "    ILCold, \n",
    "    color=[\"Cd4\",\"Cd8a\",\"Sox4\",\"day\",\"Ncr1\",\"cell_type\",\"Rorc\",\"Ccr6\",\"stage\",\"Eomes\",\"Cd4\",\"Foxp3\",\"Il23r\"], \n",
    "    palette=user_defined_palette,  \n",
    "    color_map='Spectral_r', \n",
    "    use_raw=False,\n",
    "    ncols=5,\n",
    "    wspace = 0.1,\n",
    "    outline_width=[0.6, 0.05],\n",
    "    size=15,\n",
    "    frameon=False,\n",
    "    add_outline=True,\n",
    "    sort_order = False\n",
    ")"
   ]
  },
  {
   "cell_type": "code",
   "execution_count": null,
   "id": "c905a2a6-f26b-4520-b36c-b27185cdbc11",
   "metadata": {},
   "outputs": [],
   "source": [
    "ILCold.obs['cell_type_subset'] = ['ILC3' if (x=='0' ) else \n",
    "                               'ILC3' for x in ILCold.obs['leiden_0.1']] "
   ]
  },
  {
   "cell_type": "code",
   "execution_count": null,
   "id": "04e1ab10-ca4a-4de4-92ec-06cefd05e997",
   "metadata": {
    "scrolled": true
   },
   "outputs": [],
   "source": [
    "sc.pl.umap(ILCold, color=[\"leiden_0.1\",\"cell_type\",'cell_type_subset',\"day\"])"
   ]
  },
  {
   "cell_type": "code",
   "execution_count": null,
   "id": "08fc399e-cb10-474b-9dda-b03534b086a3",
   "metadata": {},
   "outputs": [],
   "source": [
    "sc.tl.rank_genes_groups(ILCold, 'leiden_0.1', method='wilcoxon', use_raw=False)\n",
    "sc.pl.rank_genes_groups(ILCold, n_genes=25, sharey=False) "
   ]
  },
  {
   "cell_type": "code",
   "execution_count": null,
   "id": "6873c56f-bb8f-43d9-9f1d-1424911c500f",
   "metadata": {},
   "outputs": [],
   "source": [
    "sc.set_figure_params(dpi=80, dpi_save=300, color_map='viridis', vector_friendly=True, transparent=True)\n",
    "\n",
    "sc.pl.umap(\n",
    "    ILCold, \n",
    "    color=['leiden_0.4','cell_type_subset','stage','day'], \n",
    "    ncols=6,\n",
    "    outline_width=[0.08, 0.06],\n",
    "    frameon=False,\n",
    "    cmap='Spectral_r',\n",
    "    wspace = 0.3,\n",
    "    add_outline=True\n",
    ")"
   ]
  },
  {
   "cell_type": "code",
   "execution_count": null,
   "id": "42c5aa21-c6db-426c-a012-9af2e90b9e53",
   "metadata": {},
   "outputs": [],
   "source": [
    "ILCold.uns['cell_type_subset_colors'] = [\"#F1BB7B\", \"#FD6467\", \"#5B1A18\", \"#D67236\"]"
   ]
  },
  {
   "cell_type": "code",
   "execution_count": null,
   "id": "d6c86c9b-35c6-4a1a-93fd-129f020d7bb9",
   "metadata": {},
   "outputs": [],
   "source": [
    "tmp = pd.crosstab(ILCold.obs['day'],ILCold.obs['cell_type_subset'], normalize='index')\n",
    "tmp.plot.area(stacked=True).legend(loc='center left', bbox_to_anchor=(1, 0.5),frameon=False)\n",
    "plt.grid(False)"
   ]
  },
  {
   "cell_type": "code",
   "execution_count": null,
   "id": "1f715b82-f754-47fa-a599-dfa91f8cd85e",
   "metadata": {},
   "outputs": [],
   "source": [
    "sc.pl.umap(DCold,color=[\"cell_type_subset\", \"Ccr7\"])"
   ]
  },
  {
   "cell_type": "code",
   "execution_count": null,
   "id": "019f62e9-7904-4621-b1a1-bd006543d5fd",
   "metadata": {},
   "outputs": [],
   "source": [
    "annotated_subsets = pd.concat([Told.obs['cell_type_subset'], DCold.obs['cell_type_subset'], \n",
    "                               NKTold.obs['cell_type_subset'], Bold.obs['cell_type_subset'],\n",
    "                                ILCold.obs['cell_type_subset']]\n",
    "                              )"
   ]
  },
  {
   "cell_type": "code",
   "execution_count": null,
   "id": "47bd8cf3-2097-4559-b8df-e3795d98934e",
   "metadata": {},
   "outputs": [],
   "source": [
    "old.obs['cell_type_subset']=''"
   ]
  },
  {
   "cell_type": "code",
   "execution_count": null,
   "id": "de10b9c0-5b07-4229-a200-4c9903a20317",
   "metadata": {},
   "outputs": [],
   "source": [
    "old.obs['cell_type_subset'][old.obs.index.isin(annotated_subsets.index) == True] = annotated_subsets"
   ]
  },
  {
   "cell_type": "code",
   "execution_count": null,
   "id": "c6d8bb98-0676-41df-b85a-470a3d44243e",
   "metadata": {},
   "outputs": [],
   "source": [
    "old=old[old.obs['cell_type_subset']!='']"
   ]
  },
  {
   "cell_type": "code",
   "execution_count": null,
   "id": "de0006a3",
   "metadata": {},
   "outputs": [],
   "source": [
    "old.uns['cell_type_subset_colors']=['#f6222e','#b57edc','#060047', '#ffbaba','#3283fe',\n",
    "                                      '#F2BE22','#FFA200','#00DFA2','#1F8A70','#DD8D29',\n",
    "                                    '#46ACC8', '#ffff00', '#B40F20', \n",
    "      '#4fc601', '#964B00',\n",
    "                ]\n"
   ]
  },
  {
   "cell_type": "code",
   "execution_count": null,
   "id": "9fd0645e-3fb2-4813-bbbb-b183222bbfb8",
   "metadata": {},
   "outputs": [],
   "source": [
    "\n",
    "# Define the new order for the categories\n",
    "new_order = [ 'Tregs', #'Naive CD4',\n",
    "             'CD4','GZMK+ CD8','Naive CD8', 'CD8', 'NKT', 'NK',\"ILC3\", 'B cells', 'Plasma cells','cDC1', 'CCR7+ cDC' ,'cDC2', 'p-DCs', 'Macrophages']"
   ]
  },
  {
   "cell_type": "code",
   "execution_count": null,
   "id": "bd6e292e-7745-4786-9c96-c20a2ce4b317",
   "metadata": {},
   "outputs": [],
   "source": [
    "\n",
    "# Assign the new order to the cell_type_subset column\n",
    "old.obs['cell_type_subset'] = pd.Categorical(old.obs['cell_type_subset'], categories=new_order, ordered=True)\n"
   ]
  },
  {
   "cell_type": "code",
   "execution_count": null,
   "id": "e168cf8f",
   "metadata": {},
   "outputs": [],
   "source": [
    "sc.pl.umap(old, color=['cell_type_subset'], \n",
    "                     color_map='Spectral_r',\n",
    "                     use_raw=False, \n",
    "         #  \"Cd4\",\"Cd8a\",\n",
    "                     ncols=4, \n",
    "                     wspace = 0.3,\n",
    "                     outline_width=[0.6, 0.01], \n",
    "                     size=5,  \n",
    "                     frameon=False, \n",
    "                     add_outline=False, \n",
    "                     sort_order = False)"
   ]
  },
  {
   "cell_type": "code",
   "execution_count": null,
   "id": "21e5927d-37a5-41ba-a1ce-1c8798d084f2",
   "metadata": {
    "scrolled": true
   },
   "outputs": [],
   "source": [
    "sc.pl.umap(old, color=['stage', 'day','cell_type_subset'], \n",
    "                     color_map='Spectral_r',\n",
    "                     use_raw=False, \n",
    "         #  \"Cd4\",\"Cd8a\",\n",
    "                     ncols=4, \n",
    "                     wspace = 0.3,\n",
    "                     outline_width=[0.6, 0.01], \n",
    "                     size=5,  \n",
    "                     frameon=False, \n",
    "                     add_outline=False, \n",
    "                     sort_order = False)"
   ]
  },
  {
   "cell_type": "code",
   "execution_count": null,
   "id": "5f802cec-802b-4c09-a6e7-392b916c17cf",
   "metadata": {},
   "outputs": [],
   "source": [
    "sc.pl.umap(old, color=['cell_type_subset'],\n",
    "                     color_map='Spectral_r',\n",
    "                     use_raw=False, \n",
    "         #  \"Cd4\",\"Cd8a\",\n",
    "                     ncols=4, \n",
    "                     wspace = 0.3,\n",
    "                     outline_width=[0.6, 0.01], \n",
    "                     size=5,  \n",
    "                     frameon=False, \n",
    "                     add_outline=False, \n",
    "                     sort_order = False)"
   ]
  },
  {
   "cell_type": "code",
   "execution_count": null,
   "id": "5f37a3e4-3a8c-4f9b-afbd-e6d37e1716b2",
   "metadata": {},
   "outputs": [],
   "source": [
    "adata"
   ]
  },
  {
   "cell_type": "code",
   "execution_count": null,
   "id": "4a41fe0c",
   "metadata": {
    "scrolled": true
   },
   "outputs": [],
   "source": [
    "sc.pp.highly_variable_genes(adata, n_top_genes=2000, n_bins=20, flavor='seurat_v3')"
   ]
  },
  {
   "cell_type": "code",
   "execution_count": null,
   "id": "bab3827e",
   "metadata": {},
   "outputs": [],
   "source": [
    "rng = np.random.RandomState(42)\n",
    "sc.tl.pca(adata, n_comps=50, svd_solver='arpack', random_state=rng, use_highly_variable=True)"
   ]
  },
  {
   "cell_type": "code",
   "execution_count": null,
   "id": "2b8b37c7",
   "metadata": {},
   "outputs": [],
   "source": [
    "observe_variance(adata)\n"
   ]
  },
  {
   "cell_type": "code",
   "execution_count": null,
   "id": "4d76e086-2462-4706-9f1b-850e4d2d5810",
   "metadata": {},
   "outputs": [],
   "source": [
    "plt.plot(range(len(adata.uns['pca']['variance_ratio'])), np.cumsum(adata.uns['pca']['variance_ratio']) * 100, '.-')\n",
    "plt.axvline(30, color = 'r')\n",
    "plt.xlabel('Principal Component', fontsize = 14)\n",
    "plt.ylabel('% Variance Explained', fontsize = 14)"
   ]
  },
  {
   "cell_type": "code",
   "execution_count": null,
   "id": "bbc9ddc6",
   "metadata": {},
   "outputs": [],
   "source": [
    "sc.pp.neighbors(adata, n_neighbors=50,n_pcs=30)"
   ]
  },
  {
   "cell_type": "code",
   "execution_count": null,
   "id": "3126b1bb",
   "metadata": {},
   "outputs": [],
   "source": [
    "sc.tl.umap(adata, min_dist=0.6)"
   ]
  },
  {
   "cell_type": "code",
   "execution_count": null,
   "id": "f5a8ce8b",
   "metadata": {
    "scrolled": true
   },
   "outputs": [],
   "source": [
    "sc.set_figure_params(dpi=80, dpi_save=300, color_map='viridis', vector_friendly=False, transparent=True)\n",
    "sc.pl.umap(\n",
    "    adata, \n",
    "    color=[\"Sox4\",\"Rorc\",\"Ncr1\",\"Klrk1\",\"Cxcr6\", 'Cd8b1',\"Cd8a\",\"Cd4\",'Tnfrsf4',\"Foxp3\",\"H2-Aa\",\"Clec9a\",\"Xcr1\",\n",
    "           \"Sirpa\",\"Ccr7\",\"Fscn1\",'Cd79a', 'Ms4a1', \"Xbp1\",\"Igkc\",\"Msrb1\",\"stage\", 'day'], \n",
    "    palette=user_defined_palette,  \n",
    "    color_map='Spectral_r', \n",
    "    use_raw=False,\n",
    "    ncols=5,\n",
    "    wspace = 0.1,\n",
    "    outline_width=[0.6, 0.05],\n",
    "    size=15,\n",
    "    frameon=False,\n",
    "    add_outline=True,\n",
    "    sort_order = False\n",
    ")"
   ]
  },
  {
   "cell_type": "code",
   "execution_count": null,
   "id": "3783f9d3-c467-4bdc-8254-e9b54185f193",
   "metadata": {},
   "outputs": [],
   "source": [
    "annotated_subsets = pd.concat([young.obs['cell_type_subset'], old.obs['cell_type_subset']] )"
   ]
  },
  {
   "cell_type": "code",
   "execution_count": null,
   "id": "136dd2d6-0430-4b11-b883-4ec11e9c61d3",
   "metadata": {},
   "outputs": [],
   "source": [
    "adata.obs['cell_type_subset']=''"
   ]
  },
  {
   "cell_type": "code",
   "execution_count": null,
   "id": "cd000bd3-8f22-4ca1-aed0-31c8b709238b",
   "metadata": {},
   "outputs": [],
   "source": [
    "adata.obs['cell_type_subset'][adata.obs.index.isin(annotated_subsets.index) == True] = annotated_subsets"
   ]
  },
  {
   "cell_type": "code",
   "execution_count": null,
   "id": "2ac01ec2-99d2-41e3-afb2-c2a0414de316",
   "metadata": {},
   "outputs": [],
   "source": [
    "adata=adata[adata.obs['cell_type_subset']!='']"
   ]
  },
  {
   "cell_type": "code",
   "execution_count": null,
   "id": "d1544fb8-06e0-4802-acd8-11bdd64ca09d",
   "metadata": {
    "scrolled": true
   },
   "outputs": [],
   "source": [
    "sc.pl.umap(adata,color=[\"day\",'cell_type_subset',])"
   ]
  },
  {
   "cell_type": "code",
   "execution_count": null,
   "id": "a5b5f183-e6e2-4a91-83b6-2b88ff099fb1",
   "metadata": {},
   "outputs": [],
   "source": [
    "annotated_subsets = pd.concat([young.obs['cell_type'], old.obs['cell_type']] )\n",
    "adata.obs['cell_type']=''\n",
    "adata.obs['cell_type'][adata.obs.index.isin(annotated_subsets.index) == True] = annotated_subsets\n",
    "adata=adata[adata.obs['cell_type']!='']\n",
    "sc.pl.umap(adata,color=[\"day\",'cell_type',])"
   ]
  },
  {
   "cell_type": "code",
   "execution_count": null,
   "id": "0ecf7194-8688-49ee-9688-ec6145996233",
   "metadata": {},
   "outputs": [],
   "source": [
    "adata.uns['cell_type_subset_colors']=['#f6222e','#002FA7','#ff34ff','#060047', '#ffbaba','#3283fe',\n",
    "                                      '#006fa6','#809693', '#bec1d4', '#F2BE22',\n",
    "                                      '#FFA200', '#D4ADFC', '#00DFA2',\n",
    "       '#1F8A70', '#BFDB38',\n",
    "                                      '#DD8D29', '#5a0007', '#46ACC8', '#ffff00', '#B40F20', \n",
    "      '#4fc601', '#964B00'\n",
    "                ]\n",
    "\n",
    "\n"
   ]
  },
  {
   "cell_type": "code",
   "execution_count": null,
   "id": "bf098f99-38d9-4a20-a798-6fcc24d83a1f",
   "metadata": {},
   "outputs": [],
   "source": [
    "sc.pl.umap(adata,color=[\"day\",'cell_type_subset',])"
   ]
  },
  {
   "cell_type": "code",
   "execution_count": null,
   "id": "37ae1f46-4981-4ee9-bc53-bd0284cd8b0a",
   "metadata": {},
   "outputs": [],
   "source": [
    "sc.pl.umap(adata,color=[\"day\",'cell_type_subset',])"
   ]
  },
  {
   "cell_type": "code",
   "execution_count": null,
   "id": "4067dd46-4cfe-44be-8466-5a35e6e323ea",
   "metadata": {},
   "outputs": [],
   "source": [
    "\n",
    "# Define the new order for the categories\n",
    "new_order = [ 'Tregs', 'Naive CD4','CD4','GZMK+ CD8', 'Naive CD8', 'CD8',  'Invariant T', 'DN',\"DP\",'NKT', 'NK','ILC2',\"ILC3\", 'B cells', 'Plasma cells','cDC1', 'CCR7+ cDC' ,'cDC2', 'p-DCs', 'Macrophages']"
   ]
  },
  {
   "cell_type": "code",
   "execution_count": null,
   "id": "ca9b2ec1-1d96-4cb6-892f-afb92c589a18",
   "metadata": {},
   "outputs": [],
   "source": [
    "\n",
    "# Assign the new order to the cell_type_subset column\n",
    "adata.obs['cell_type_subset'] = pd.Categorical(adata.obs['cell_type_subset'], categories=new_order, ordered=True)\n"
   ]
  },
  {
   "cell_type": "code",
   "execution_count": null,
   "id": "5fc55e30-d196-49b0-8926-667b55218436",
   "metadata": {},
   "outputs": [],
   "source": [
    "sc.tl.rank_genes_groups(adata, 'cell_type_subset', method='wilcoxon', use_raw=False)\n",
    "sc.pl.rank_genes_groups(adata, n_genes=25, sharey=False)  "
   ]
  },
  {
   "cell_type": "code",
   "execution_count": null,
   "id": "c6136f41",
   "metadata": {},
   "outputs": [],
   "source": [
    "sc.set_figure_params(dpi=80, dpi_save=300, color_map='viridis', vector_friendly=False, transparent=True)\n",
    "sc.pl.umap(\n",
    "    adata, \n",
    "    color=[\"Sox4\",\"Rorc\",\"Ncr1\",\"Klrk1\",\"Cxcr6\", 'Cd8b1',\"Cd4\",'Tnfrsf4',\"Foxp3\",\"H2-Aa\",\"Clec9a\",\"Xcr1\",\n",
    "           \"Sirpa\",\"Ccr7\",\"Fscn1\",'Cd79a', 'Ms4a1', \"Xbp1\",\"Igkc\",\"Msrb1\",'Fcer1g'], \n",
    "    palette=user_defined_palette,  \n",
    "    color_map='Spectral_r', \n",
    "    use_raw=False,\n",
    "    ncols=5,\n",
    "    wspace = 0.1,\n",
    "    outline_width=[0.6, 0.05],\n",
    "    size=15,\n",
    "    frameon=False,\n",
    "    add_outline=True,\n",
    "    sort_order = False\n",
    ")"
   ]
  },
  {
   "cell_type": "code",
   "execution_count": null,
   "id": "86200f1e-5797-4fe8-bad0-bdfa61792f44",
   "metadata": {},
   "outputs": [],
   "source": [
    "marker_genes_dict = {\n",
    "    'Tregs':['Ikzf2',\t'Foxp3',\t'Ctla4','Itgav',],\n",
    "    'Naive CD4': ['Prkca' , 'Fyb',],\n",
    "                  #'Lef1',\t'Igfbp4',\t'Bach2','Npc2',],\n",
    "    'CD4': ['Tnfsf8',\t'Cd4',\t'Tnfrsf4',],\n",
    "    'GZMK+ CD8': ['Ccl5',\t'Gzmk',\t'Nkg7','Cd8b1',],\n",
    "    'Naive CD8': ['Cd8b1',\t'Cd8a',\t'Igfbp4',\t'Lef1'],\n",
    "    'CD8': [\t'Cd8b1',\t\t'Cd8a'],\n",
    "    'Invariant T':['Fcer1g' ,'Cd160',],\n",
    "    \"DN\":['Ptma',\t'Hmgb1',\t'Stmn1',\t'Dut',],\n",
    "    \"DP\":['Ccr9',\t'Themis',\t'Sox4',\t'Tcf7'],\n",
    "    'NKT':['Il12rb2','Ctsw',\t'Gzmb',],\n",
    "    'NK cells':[\t'Ncr1',\t'Klre1',],\n",
    "    'ILC2':['Furin',\t'Itm2b',\t'Rora',\t'Il1rl1',],\n",
    "    'ILC3':['Tmem176a',\t'Tmem176b',\t'Il23r',\t'Ramp1'],\n",
    "    'B cells':['Cd79a',\t'Cd79b',\t'Ms4a1',\t'H2-DMb2',],\n",
    "    'plasmacells':['Igkc',\t'Jchain',\t'Txndc5',\t'Mzb1',],\n",
    "    'cDC1':['Cst3',\t'Psap',\t'Ppt1',\t'Plbd1',],\n",
    "    'CCR7+cDC':['Fscn1',\t'Ccr7','Marcks',\t'Tmem123',\t'Tmcc3',],\n",
    "    'cDC2':['Ifi30',\t'H2-Ab1',\t'Cd74',\t'H2-Aa',],\n",
    "    'p-DCs':['Tcf4',\t'Grn',\t'Pld4',\t'Ctsb',\t'Rnase6',],\n",
    "    'Macrophages':['Lyz2',\t'Ctss',\t'Gpx1',\t'Lst1',],\n",
    "    #'EOS':['Msrb1',\t'Tyrobp',\t\t'Ifitm3',]\n",
    "}\n"
   ]
  },
  {
   "cell_type": "code",
   "execution_count": null,
   "id": "31271f84-4cd7-47cc-9f16-f5d92d251e01",
   "metadata": {},
   "outputs": [],
   "source": [
    "sc.pl.dotplot(adata, marker_genes_dict, 'cell_type_subset', dendrogram=False,standard_scale='var')\n"
   ]
  },
  {
   "cell_type": "code",
   "execution_count": null,
   "id": "01cacd53",
   "metadata": {},
   "outputs": [],
   "source": [
    "genes = {'T-cells': ['Cd3e', 'Cd8a', 'Cd4', 'Il7r'], \n",
    "         'NKT and invariant cells':['Gzmb'],\n",
    "         'NK cells':['Ncr1','Nkg7',\t'Klrd1',],\n",
    "         'ILC':[],\n",
    "          'DN/DPs':[],\n",
    "         'B-cells': ['Ms4a1', 'Cd19'], \n",
    "         'Plasmacells': ['Ppbp'], \n",
    "         'NKT and invariant T cells': ['Nkg7'], \n",
    "         'Dendritic-cells': ['Cst3', 'Fcer1a'],\n",
    "         'Eosinophils':['Tyrobp']}"
   ]
  },
  {
   "cell_type": "code",
   "execution_count": null,
   "id": "b75abe6a-529e-4ac8-82d2-1854c4d2a3f7",
   "metadata": {},
   "outputs": [],
   "source": [
    "genes ={ 'B cells_n':\t[\t'Cst3',\t'Cd79b',\t'Ms4a1',\t'H2-DMb2',\t'Bank1',\t'Ebf1',\t'Ly6d',\t'Mzb1',\t'Igkc',\t'Cd74',\t'Napsa',\t'Ighm',\t'H2-Eb1',\t'H2-Aa',\t'H2-Ab1',\t'Iglc3',\t'Iglc2',\t'Lyn',\t'Ly86',\t'Pkig',\t'Plac8',\t'Blnk',\t'Syk',\t'Cd37',\t'Siglecg',\t]\t,\n",
    "'DCs_n':\t[\t'Arpp21',\t'Cd74',\t'H2-Aa',\t'Atox1',\t'H2-Eb1',\t'Spi1',\t'Ifi30',\t'Tyrobp',\t'Psap',\t'H2-Ab1',\t'Tmsb4x',\t'Ftl1',\t'Syngr2',\t'Cxcl16',\t'Aif1',\t'Ctsh',\t'Ctsz',\t'Actg1',\t'Pkib',\t'Tbc1d8',\t'Atpif1',\t'Flt3',\t'Skap2',\t'Fmnl2',\t'Clic4',\t]\t,\n",
    "'DN/DPs_n':\t[\t'Msrb1',\t'Dntt',\t'Sox4',\t'Tcf7',\t'Endou',\t'Trbc2',\t'Themis',\t'Satb1',\t'Ccr9',\t'Rhoh',\t'Cyb5a',\t'Cd8b1',\t'Hmgb1',\t'H3f3a',\t'Aqp11',\t'Ramp1',\t'Ap3s1',\t'Cux1',\t'Mier1',\t'Edem1',\t'Cd8a',\t'Tcf12',\t'Desi1',\t'2610307P16Rik',\t'Trbc1',\t]\t,\n",
    "'EOS_n':\t[\t'Tmem176a',\t'Tyrobp',\t'Fcer1g',\t'Ifitm3',\t'Ftl1',\t'Srgn',\t'Il1b',\t'Isg15',\t'Fth1',\t'S100a9',\t'Rtp4',\t'Slfn4',\t'S100a8',\t'Hdc',\t'Csf3r',\t'Acod1',\t'Lst1',\t'Rsad2',\t'Ifitm2',\t'Ifit3',\t'Ifit1',\t'Mxd1',\t'Cebpb',\t'Isg20',\t'Txn1',\t]\t,\n",
    "'ILC_n':\t[\t'Fcer1g',\t'Tmem176b',\t'Ramp1',\t'Il23r',\t'Il1r1',\t'Emb',\t'Ikzf3',\t'Ckb',\t'Igf1r',\t'Lmo4',\t'Pxdc1',\t'Blk',\t'St6galnac3',\t'S100a4',\t'Cxcr6',\t'Il7r',\t'Furin',\t'Icos',\t'Tcrg-C1',\t'Rora',\t'Zbtb16',\t'Selenop',\t'Serpinb1a',\t'Avpi1',\t'Il18r1',\t]\t,\n",
    "'NK cells_n':\t[\t'Il12rb2',\t'Tyrobp',\t'Ncr1',\t'Klre1',\t'Klrb1c',\t'Gzma',\t'Xcl1',\t'AW112010',\t'Anxa2',\t'Nkg7',\t'Car2',\t'Irf8',\t'Klrk1',\t'Klrd1',\t'Prf1',\t'Il2rb',\t'Txk',\t'Ccl5',\t'Ccl4',\t'Myl6',\t'Klri2',\t'Clnk',\t'Serpinb9',\t'Gem',\t'Ptprc',\t]\t,\n",
    "'NKT and invariant cells_n':\t[\t'Tox',\t'Tmsb10',\t'Ly6c2',\t'Ctsw',\t'Sh3bgrl3',\t'Gzmb',\t'Klrk1',\t'Id2',\t'Il2rb',\t'Nkg7',\t'Klrd1',\t'Dennd4a',\t'Satb1',\t'Cxcr6',\t'Klra9',\t'Dusp2',\t'Gimap4',\t'Vps37b',\t'Chn2',\t'Pitpnc1',\t'Xcl1',\t'Klrb1c',\t'Cd7',\t'Inpp4b',\t'Zfp36l2',\t]\t,\n",
    "'T cells_n':\t[\t'Igkc',\t'Ctla4',\t'Themis',\t'Emb',\t'Prkca',\t'Fam169b',\t'Tnfrsf4',\t'Fyb',\t'Cd8b1',\t'Trbc2',\t'Sntb1',\t'Itga4',\t'Lat',\t'Cd3d',\t'Tnfsf8',\t'Cd8a',\t'Shisa5',\t'Ikzf2',\t'Ms4a6b',\t'Itgav',\t'Fyn',\t'Cd2',\t'Gzmk',\t'Trps1',\t'Smc4',\t]\t,\n",
    "'plasmacells_n':\t[\t\t'Jchain',\t'Xbp1',\t'Txndc5',\t'Mzb1',\t'Iglc2',\t'Eaf2',\t'Derl3',\t'Iglv1',\t'Pdia4',\t'Iglc3',\t'Creld2',\t'Herpud1',\t'Serp1',\t'Ssr4',\t'Ckap4',\t'Fkbp2',\t'Hsp90b1',\t'Prdx4',\t'Sec11c',\t'Edem2',\t'Edem1',\t'Iglc1',\t'Pou2af1']}"
   ]
  },
  {
   "cell_type": "code",
   "execution_count": null,
   "id": "02a1cfce",
   "metadata": {
    "scrolled": true
   },
   "outputs": [],
   "source": [
    "#sc.set_figure_params(scanpy=True, fontsize = 14)\n",
    "#ac = sc.pl.matrixplot(adata, genes, groupby = 'cell_type_subsets', show = False, standard_scale = 'var')\n",
    "#ac['mainplot_ax'].set_xlabel('Genes')\n",
    "#ac['mainplot_ax'].set_ylabel('Clusters')"
   ]
  },
  {
   "cell_type": "code",
   "execution_count": null,
   "id": "ab7a19f4-d7b2-44f1-9288-83ed1e890fa9",
   "metadata": {
    "scrolled": true
   },
   "outputs": [],
   "source": [
    "result = adata.uns['rank_genes_groups']\n",
    "groups = result['names'].dtype.names\n",
    "pd.DataFrame(\n",
    "    {group + '_' + key[:1]: result[key][group]\n",
    "    for group in groups for key in ['names']}).head(25)"
   ]
  },
  {
   "cell_type": "code",
   "execution_count": null,
   "id": "289012bd-522a-4a6e-9e55-4736708da5e1",
   "metadata": {},
   "outputs": [],
   "source": [
    "genes = marker_genes_dict "
   ]
  },
  {
   "cell_type": "code",
   "execution_count": null,
   "id": "3b3dc9a3-a729-4115-944b-172580192085",
   "metadata": {},
   "outputs": [],
   "source": [
    "genes"
   ]
  },
  {
   "cell_type": "code",
   "execution_count": null,
   "id": "654e7412-62bc-4e75-b72d-12788a03975b",
   "metadata": {},
   "outputs": [],
   "source": [
    "adata.uns[\"cell_type_subset_colors\"]"
   ]
  },
  {
   "cell_type": "code",
   "execution_count": null,
   "id": "9bf2c0ec-5a36-4787-b8d7-f6117018a0c9",
   "metadata": {},
   "outputs": [],
   "source": [
    "color_set = adata.uns[\"cell_type_subset_colors\"]\n",
    "celltype_color_map = dict(zip(genes.keys(), color_set))"
   ]
  },
  {
   "cell_type": "code",
   "execution_count": null,
   "id": "26c91aea-9554-4cd2-a05d-6a7ce9fdcaf6",
   "metadata": {},
   "outputs": [],
   "source": [
    "celltype_color_map"
   ]
  },
  {
   "cell_type": "code",
   "execution_count": null,
   "id": "7058b634-9285-42ff-9d0c-530fa103a365",
   "metadata": {},
   "outputs": [],
   "source": [
    "genes_color_map = {}\n",
    "for item, value in genes.items():\n",
    "    for k in value:\n",
    "        genes_color_map[k] = celltype_color_map[item]\n",
    "    \n",
    "genes_color_map"
   ]
  },
  {
   "cell_type": "code",
   "execution_count": null,
   "id": "e7190ea5-9aa0-4e46-9364-4cac0840306b",
   "metadata": {},
   "outputs": [],
   "source": [
    "# Get the gene ids\n",
    "gene_ids = [adata.var_names.get_loc(j) for j in genes_color_map.keys()]\n",
    "\n",
    "# Check the shape of the selected data\n",
    "selected_data_sparse = adata.X[:, gene_ids]\n",
    "\n",
    "# Convert the sparse matrix to a dense array\n",
    "selected_data_dense = selected_data_sparse.toarray()\n",
    "print(selected_data_dense.shape)\n",
    "\n",
    "# Create a data matrix with only genes of interest \n",
    "data_matrix = pd.DataFrame(selected_data_dense, index = adata.obs_names, columns = genes_color_map.keys())\n",
    "\n",
    "# Add cluster labels to compute average\n",
    "data_matrix['cell_type_subset'] = adata.obs['cell_type_subset']"
   ]
  },
  {
   "cell_type": "code",
   "execution_count": null,
   "id": "ab3ca428-1d2f-47c3-a5aa-a828249781aa",
   "metadata": {},
   "outputs": [],
   "source": [
    "# Compute the average for each cluster\n",
    "avg_matrix = data_matrix.groupby(['cell_type_subset']).mean()"
   ]
  },
  {
   "cell_type": "code",
   "execution_count": null,
   "id": "e2f497d6-6d57-4ac6-984a-6078d031266e",
   "metadata": {},
   "outputs": [],
   "source": [
    "# Assuming your data is in avg_matrix\n",
    "# You can create a transposed version of avg_matrix to switch x and y axes\n",
    "#avg_matrix = np.transpose(avg_matrix)"
   ]
  },
  {
   "cell_type": "code",
   "execution_count": null,
   "id": "2435e24c-0015-487f-8c19-6b4351b1b208",
   "metadata": {},
   "outputs": [],
   "source": [
    "sns.set_style(\"white\")\n"
   ]
  },
  {
   "cell_type": "code",
   "execution_count": null,
   "id": "af0a26ff-5ca5-41e3-a470-15822f5f19fe",
   "metadata": {
    "scrolled": true
   },
   "outputs": [],
   "source": [
    "import seaborn as sns\n",
    "\n",
    "# Assuming avg_matrix, genes_color_map, and celltype_color_map are defined\n",
    "\n",
    "# Create a heatmap\n",
    "g = sns.clustermap(avg_matrix,row_cluster=False, col_cluster=False, standard_scale=1, cbar_pos=(1.05, .3, .03, .4), \n",
    "                   linewidth=0.5, figsize=(30, 10),  \n",
    "                   col_colors=[color_use for color_use in genes_color_map.values()], row_colors=None)\n",
    "\n",
    "# Set labels for axes\n",
    "g.ax_heatmap.set_xlabel('Genes')\n",
    "g.ax_heatmap.set_ylabel('celltype')\n",
    "\n",
    "# Draw the legend bar for the classes                 \n",
    "for label in celltype_color_map.keys():\n",
    "    g.ax_col_dendrogram.bar(0, 0, color=celltype_color_map[label], label=label, linewidth=0)\n",
    "\n",
    "# Add legend to the dendrogram\n",
    "g.ax_col_dendrogram.legend(ncol=1, bbox_to_anchor=(0, 0.75))\n",
    "\n",
    "# To save figure:"
   ]
  },
  {
   "cell_type": "code",
   "execution_count": null,
   "id": "69bc7b73-d6f5-4f74-965a-117f952eb6cd",
   "metadata": {},
   "outputs": [],
   "source": [
    "sc.pl.umap(young, color=[ 'Ikzf2', 'Foxp3', 'Ctla4', 'Itgav','Lef1', 'Igfbp4', 'Bach2', 'Npc2','Ccl5', 'Gzmk', 'Nkg7', 'Cd8b1', 'Cd8a', 'Igfbp4', 'Lef1',\n",
    "'Fcer1g', 'Cd160','Ptma', 'Hmgb1', 'Stmn1', 'Dut','Ccr9', 'Themis', 'Sox4', 'Tcf7','Il12rb2', 'Sh3bgrl3', 'Ctsw', 'Gzmb','Ncr1', 'Klre1',\n",
    " 'Furin', 'Itm2b', 'Rora', 'Il1rl1','Tmem176a', 'Tmem176b', 'Il23r', 'Ramp1','Cd79a', 'Cd79b', 'Ms4a1', 'H2-DMb2','Igkc', 'Jchain', 'Txndc5', 'Mzb1',\n",
    "'Cst3', 'Psap', 'Ppt1', 'Plbd1','Fscn1', 'Ccr7', 'Marcks', 'Tmem123', 'Tmcc3','Ifi30', 'H2-Ab1', 'Cd74', 'H2-Aa','Tcf4', 'Grn', 'Pld4', 'Ctsb', 'Rnase6',\n",
    "'Lyz2', 'Ctss', 'Gpx1', 'Lst1','Msrb1', 'Tyrobp', 'Ifitm3'] , vmax='p98', vmin='p05',ncols=9)"
   ]
  },
  {
   "cell_type": "markdown",
   "id": "d2073c49",
   "metadata": {},
   "source": [
    "## T cells"
   ]
  },
  {
   "cell_type": "code",
   "execution_count": null,
   "id": "273106b4",
   "metadata": {},
   "outputs": [],
   "source": [
    "Tall = adata[adata.obs['cell_type'].isin(['T cells'])]"
   ]
  },
  {
   "cell_type": "code",
   "execution_count": null,
   "id": "275fcb6c",
   "metadata": {},
   "outputs": [],
   "source": [
    "# Remove columns with all 0s\n",
    "sc.pp.filter_genes(Tall, min_cells=1)"
   ]
  },
  {
   "cell_type": "code",
   "execution_count": null,
   "id": "9b907694",
   "metadata": {},
   "outputs": [],
   "source": [
    "sc.pp.highly_variable_genes(Tall, n_top_genes=2000, n_bins=20, flavor='seurat_v3')"
   ]
  },
  {
   "cell_type": "code",
   "execution_count": null,
   "id": "3cb2c6c9",
   "metadata": {},
   "outputs": [],
   "source": [
    "rng = np.random.RandomState(42)\n",
    "sc.tl.pca(Tall, n_comps=50, svd_solver='arpack', random_state=rng, use_highly_variable=True)"
   ]
  },
  {
   "cell_type": "code",
   "execution_count": null,
   "id": "3687f98a",
   "metadata": {},
   "outputs": [],
   "source": [
    "plt.plot(range(len(Tall.uns['pca']['variance_ratio'])), np.cumsum(T.uns['pca']['variance_ratio']) * 100, '.-')\n",
    "plt.axvline(30, color = 'r',)\n",
    "plt.xlabel('Principal Component', fontsize = 14)\n",
    "plt.ylabel('% Variance Explained', fontsize = 14)"
   ]
  },
  {
   "cell_type": "code",
   "execution_count": null,
   "id": "01d59a0b",
   "metadata": {},
   "outputs": [],
   "source": [
    "sc.pp.neighbors(Tall, n_neighbors=30, n_pcs=30)\n",
    "sc.tl.umap(Tall, min_dist=0.5)"
   ]
  },
  {
   "cell_type": "code",
   "execution_count": null,
   "id": "6ae312df",
   "metadata": {},
   "outputs": [],
   "source": [
    "sc.pl.umap(Tall, color=[\"stage\",\"day\",\"cell_type_subset\",'Tcf7'],vmax=4)"
   ]
  },
  {
   "cell_type": "code",
   "execution_count": null,
   "id": "9a251027",
   "metadata": {},
   "outputs": [],
   "source": [
    "Tall.uns['cell_type_subset_colors']=['#f6222e','#b57edc', '#002FA7', '#060047', '#ffbaba','#3283fe',]"
   ]
  },
  {
   "cell_type": "code",
   "execution_count": null,
   "id": "1f13f300",
   "metadata": {},
   "outputs": [],
   "source": [
    "sc.set_figure_params(dpi=300, dpi_save=300, color_map='viridis', vector_friendly=True, transparent=True)\n",
    "\n",
    "sc.pl.umap(Tall, color=['cell_type_subset'], \n",
    "                     color_map='Spectral_r',\n",
    "                     use_raw=False, \n",
    "         #  \"Cd4\",\"Cd8a\",\n",
    "                     ncols=4, \n",
    "                     wspace = 0.3,\n",
    "                     outline_width=[0.6, 0.01], \n",
    "                     size=5,  \n",
    "                     frameon=False, \n",
    "                     add_outline=False, \n",
    "                     sort_order = False, )\n",
    "\n"
   ]
  },
  {
   "cell_type": "code",
   "execution_count": null,
   "id": "79f5476a",
   "metadata": {},
   "outputs": [],
   "source": [
    "sc.set_figure_params(dpi=300, dpi_save=300, color_map='viridis', vector_friendly=True, transparent=True)\n",
    "\n",
    "sc.pl.umap(Tall, color=['stage'], \n",
    "                     color_map='Spectral_r',\n",
    "                     use_raw=False, \n",
    "         #  \"Cd4\",\"Cd8a\",\n",
    "                     ncols=4, \n",
    "                     wspace = 0.3,\n",
    "                     outline_width=[0.6, 0.01], \n",
    "                     size=5,  \n",
    "                     frameon=False, \n",
    "                     add_outline=False, \n",
    "                     sort_order = False, )\n",
    "\n"
   ]
  },
  {
   "cell_type": "code",
   "execution_count": null,
   "id": "7cb02362",
   "metadata": {},
   "outputs": [],
   "source": [
    "Td0=Tall[Tall.obs[\"day\"]==\"d0\"]\n",
    "Td1=Tall[Tall.obs[\"day\"]==\"d1\"]\n",
    "Td4=Tall[Tall.obs[\"day\"]==\"d4\"]\n",
    "Td7=Tall[Tall.obs[\"day\"]==\"d7\"]"
   ]
  },
  {
   "cell_type": "code",
   "execution_count": null,
   "id": "c7fae68b",
   "metadata": {},
   "outputs": [],
   "source": [
    "df_temp = pd.DataFrame({'umap_x': Td0.obsm['X_umap'][:, 0], 'umap_y': Td0.obsm['X_umap'][:, 1], \n",
    "                        'stage': Td0.obs['stage'], 'day': Td0.obs['day']}, index = Td0.obs.index)\n",
    "\n",
    "\n"
   ]
  },
  {
   "cell_type": "code",
   "execution_count": null,
   "id": "4dc871c4",
   "metadata": {},
   "outputs": [],
   "source": [
    "Td0.obs[\"stage\"]"
   ]
  },
  {
   "cell_type": "code",
   "execution_count": null,
   "id": "52884578",
   "metadata": {},
   "outputs": [],
   "source": [
    "import seaborn as sns\n",
    "fig = plt.figure(figsize = (8*2, 6))\n",
    "ax = fig.add_subplot(1, 2, 1)\n",
    "sns.scatterplot(data = df_temp, x = 'umap_x', y = 'umap_y', s = 1, ax = ax)\n",
    "sns.kdeplot(data=df_temp[df_temp['stage'] == '02mo'], x=\"umap_x\", y=\"umap_y\",\n",
    "    fill=True, thresh=0, levels=10, cmap=\"Purples\", ax = ax, cut = 4)\n",
    "ax.set_xticks([]);\n",
    "ax.set_yticks([]);\n",
    "ax.set_title('young', fontsize = 16)\n",
    "ax.set_xlabel('UMAP-1')\n",
    "ax.set_ylabel('UMAP-2')\n",
    "ax.spines['right'].set_visible(False)\n",
    "ax.spines['top'].set_visible(False)\n",
    "ax.spines['left'].set_visible(False)\n",
    "ax.spines['bottom'].set_visible(False)\n",
    "\n",
    "ax = fig.add_subplot(1, 2, 2)\n",
    "sns.scatterplot(data = df_temp, x = 'umap_x', y = 'umap_y', s = 0, ax = ax)\n",
    "sns.kdeplot(data=df_temp[df_temp['stage'] == '18mo'], x=\"umap_x\", y=\"umap_y\",\n",
    "    fill=True, thresh=0, levels=10, cmap=\"Purples\", ax = ax, cut = 4)\n",
    "ax.set_xticks([]);\n",
    "ax.set_yticks([]);\n",
    "ax.set_title('old', fontsize = 16)\n",
    "ax.set_xlabel('UMAP-1')\n",
    "ax.set_ylabel('UMAP-2')\n",
    "ax.spines['right'].set_visible(False)\n",
    "ax.spines['top'].set_visible(False)\n",
    "ax.spines['left'].set_visible(False)\n",
    "ax.spines['bottom'].set_visible(False)\n",
    "\n",
    "#fig.savefig(outbase + 'Ctrl_DT_kdeplot_endo.png', dpi = 150, bbox_inches = 'tight')"
   ]
  },
  {
   "cell_type": "code",
   "execution_count": null,
   "id": "8da510fc",
   "metadata": {},
   "outputs": [],
   "source": [
    "# anndata2ri interconverts AnnData and Single Cell Experiment objects\n",
    "anndata2ri.activate()\n",
    "%load_ext rpy2.ipython\n",
    "#%reload_ext rpy2.ipython"
   ]
  },
  {
   "cell_type": "code",
   "execution_count": null,
   "id": "039671f5",
   "metadata": {},
   "outputs": [],
   "source": [
    "Td0.layers['norm_counts'] = Td0.X.copy()"
   ]
  },
  {
   "cell_type": "code",
   "execution_count": null,
   "id": "c7b3d4a2",
   "metadata": {},
   "outputs": [],
   "source": [
    "adata_milo = sc.AnnData(Td0.layers['norm_counts'].copy(), \n",
    "                        obs = Td0.obs[['stage', 'day', 'cell_type_subset',\"sample\"]], \n",
    "                        var = Td0.var)\n",
    "adata_milo.obsm['X_pca'] = Td0.obsm['X_pca']\n",
    "adata_milo.obsm['X_umap'] = Td0.obsm['X_umap']"
   ]
  },
  {
   "cell_type": "code",
   "execution_count": null,
   "id": "acdd80b6",
   "metadata": {},
   "outputs": [],
   "source": [
    "%%R\n",
    "library(igraph)\n",
    "\n",
    "library(miloR)"
   ]
  },
  {
   "cell_type": "code",
   "execution_count": null,
   "id": "bd3aa4cd",
   "metadata": {},
   "outputs": [],
   "source": [
    "%%R -i adata_milo\n",
    "adata_milo"
   ]
  },
  {
   "cell_type": "code",
   "execution_count": null,
   "id": "7315730c",
   "metadata": {},
   "outputs": [],
   "source": [
    "%%R \n",
    "myeloid_milo <- Milo(adata_milo)\n",
    "myeloid_milo"
   ]
  },
  {
   "cell_type": "code",
   "execution_count": null,
   "id": "d0038ae4",
   "metadata": {},
   "outputs": [],
   "source": [
    "%%R \n",
    "myeloid_milo <- buildGraph(myeloid_milo, k=30, d=30, reduced.dim = \"PCA\")"
   ]
  },
  {
   "cell_type": "code",
   "execution_count": null,
   "id": "22702758",
   "metadata": {},
   "outputs": [],
   "source": [
    "design_df = adata_milo.obs[['sample',\"stage\",\"day\",]].copy()\n",
    "design_df.drop_duplicates(inplace=True)\n",
    "design_df.index = design_df['sample']\n",
    "design_df"
   ]
  },
  {
   "cell_type": "code",
   "execution_count": null,
   "id": "7b9a722b",
   "metadata": {},
   "outputs": [],
   "source": [
    "%%R -i design_df -o DA_results_myeloid\n",
    "## Define neighbourhoods\n",
    "myeloid_milo <- makeNhoods(myeloid_milo, prop = 0.1, k = 30, d=30, refined = TRUE, reduced_dims = \"PCA\")\n",
    "\n",
    "## Count cells in neighbourhoods\n",
    "myeloid_milo <- countCells(myeloid_milo, meta.data = data.frame(colData(myeloid_milo)), sample=\"sample\")\n",
    "\n",
    "## Calculate distances between cells in neighbourhoods\n",
    "## for spatial FDR correction\n",
    "myeloid_milo <- calcNhoodDistance(myeloid_milo, d=30, reduced.dim = \"PCA\")\n",
    "\n",
    "\n",
    "## Test for differential abundance\n",
    "DA_results_myeloid <- testNhoods(myeloid_milo, design = ~stage, design.df = design_df)\n"
   ]
  },
  {
   "cell_type": "code",
   "execution_count": null,
   "id": "e0a450e2",
   "metadata": {},
   "outputs": [],
   "source": [
    "DA_results_myeloid.head()"
   ]
  },
  {
   "cell_type": "code",
   "execution_count": null,
   "id": "97a36f1b",
   "metadata": {},
   "outputs": [],
   "source": [
    "plt.plot(DA_results_myeloid.logFC, -np.log10(DA_results_myeloid.SpatialFDR), '.');\n",
    "plt.xlabel(\"log-Fold Change\");\n",
    "plt.ylabel(\"- log10(Spatial FDR)\")"
   ]
  },
  {
   "cell_type": "code",
   "execution_count": null,
   "id": "87d41b61",
   "metadata": {},
   "outputs": [],
   "source": [
    "%%R\n",
    "myeloid_milo <- buildNhoodGraph(myeloid_milo)"
   ]
  },
  {
   "cell_type": "code",
   "execution_count": null,
   "id": "196e1eb1",
   "metadata": {},
   "outputs": [],
   "source": [
    "%%R \n",
    "head(DA_results_myeloid)"
   ]
  },
  {
   "cell_type": "code",
   "execution_count": null,
   "id": "5dedd4aa",
   "metadata": {},
   "outputs": [],
   "source": [
    "%%R -w 800 -h 600\n",
    "alpha_val = 1\n",
    "library(ggplot2)\n",
    "p1 <- plotNhoodGraphDA(myeloid_milo, DA_results_myeloid, res_column = 'SpatialFDR', alpha=alpha_val, \n",
    "                 layout=\"UMAP\", size_range = c(2, 8), node_stroke =0.8)\n",
    "p1"
   ]
  },
  {
   "cell_type": "code",
   "execution_count": null,
   "id": "ef932bf0",
   "metadata": {},
   "outputs": [],
   "source": [
    "%%R -w 800 -h 600\n",
    "alpha_val = 1\n",
    "library(ggplot2)\n",
    "p1 <- plotNhoodGraphDA(myeloid_milo, DA_results_myeloid, res_column = 'logFC', alpha=alpha_val, \n",
    "                 layout=\"UMAP\", size_range = c(2, 8), node_stroke =0.8)\n",
    "p1"
   ]
  },
  {
   "cell_type": "code",
   "execution_count": null,
   "id": "e40b3c14",
   "metadata": {},
   "outputs": [],
   "source": [
    "%%R\n",
    "myeloid_milo"
   ]
  },
  {
   "cell_type": "code",
   "execution_count": null,
   "id": "4a07ebfb",
   "metadata": {},
   "outputs": [],
   "source": [
    "%%R \n",
    "DA_results_myeloid <- annotateNhoods(myeloid_milo, DA_results_myeloid, coldata_col = 'cell_type_subset')\n",
    "head(DA_results_myeloid)"
   ]
  },
  {
   "cell_type": "code",
   "execution_count": null,
   "id": "1c1db5d8",
   "metadata": {},
   "outputs": [],
   "source": [
    "%%R\n",
    "library(ggplot2)\n",
    "ggplot(DA_results_myeloid, aes(cell_type_subset_fraction)) + geom_histogram(bins=50)"
   ]
  },
  {
   "cell_type": "code",
   "execution_count": null,
   "id": "6d8baf16",
   "metadata": {},
   "outputs": [],
   "source": [
    "%%R -o DA_results_myeloid\n",
    "DA_results_myeloid$Celltypes <- ifelse(DA_results_myeloid$cell_type_subset_fraction < 0.8, \"Mixed\", DA_results_myeloid$cell_type_subset)\n",
    "head(DA_results_myeloid)"
   ]
  },
  {
   "cell_type": "code",
   "execution_count": null,
   "id": "2399d784",
   "metadata": {},
   "outputs": [],
   "source": [
    "%%R\n",
    "plotDAbeeswarm(DA_results_myeloid, group.by = \"cell_type_subset\", alpha = 1)"
   ]
  },
  {
   "cell_type": "code",
   "execution_count": null,
   "id": "32baf7c2",
   "metadata": {},
   "outputs": [],
   "source": [
    "import matplotlib.colors as mcolors\n",
    "import matplotlib.cm as cm\n",
    "\n",
    "\n",
    "for j, item in enumerate(['FDR', 'SpatialFDR', 'PValue']):\n",
    "    fig = plt.figure(figsize = (8, 12))\n",
    "    DA_results_myeloid['log_' + item] = -np.log10(DA_results_myeloid[item])\n",
    "    ax = fig.add_subplot(1, 1, 1)\n",
    "    plot = sns.stripplot(x='logFC', y=\"cell_type_subset\", hue='log_' + item, data=DA_results_myeloid, size = 6, \n",
    "              palette='cividis', \n",
    "              jitter=0.2, edgecolor='none', ax = ax)\n",
    "    plot.get_legend().set_visible(False)\n",
    "    #ax.set_xticklabels(ax.get_xticks(), fontsize = 18)\n",
    "    #ax.set_yticklabels(ax.get_yticks(), fontsize = 18)\n",
    "    ax.tick_params(axis='both', which='major', labelsize=18)\n",
    "    ax.set_ylabel('T cell subsets', fontsize = 18)\n",
    "    ax.set_xlabel('logFC', fontsize = 18)\n",
    "    sns.despine()\n",
    "\n",
    "\n",
    "    # Drawing the side color bar\n",
    "    normalize = mcolors.Normalize(vmin=DA_results_myeloid['log_' + item].min(), \n",
    "                              vmax=DA_results_myeloid['log_' + item].max())\n",
    "    colormap = cm.cividis\n",
    "\n",
    "    for n in DA_results_myeloid['log_' + item]:\n",
    "        plt.plot(color=colormap(normalize(n)))\n",
    "\n",
    "    scalarmappaple = cm.ScalarMappable(norm=normalize, cmap=colormap)\n",
    "    scalarmappaple.set_array(DA_results_myeloid['log_' + item])\n",
    "    cbar = fig.colorbar(scalarmappaple)\n",
    "    cbar.ax.set_yticklabels(cbar.ax.get_yticks(), fontsize = 18)\n",
    "    cbar.ax.set_ylabel('-log10(' + item + ')',  labelpad = 20, rotation=90, fontsize = 18)\n",
    "    ax.grid(False)\n",
    "    #fig.savefig(outbase + 'milor_myeloid_swarmplot_colored_by_log_' + item + '.pdf', dpi = 300, \n",
    "                #bbox_inches = 'tight')"
   ]
  },
  {
   "cell_type": "code",
   "execution_count": null,
   "id": "8c415128",
   "metadata": {},
   "outputs": [],
   "source": [
    "df_temp = pd.DataFrame({'umap_x': Td1.obsm['X_umap'][:, 0], 'umap_y': Td1.obsm['X_umap'][:, 1], \n",
    "                        'stage': Td1.obs['stage'], 'day': Td1.obs['day']}, index = Td1.obs.index)\n",
    "\n",
    "\n"
   ]
  },
  {
   "cell_type": "code",
   "execution_count": null,
   "id": "14cd02c9",
   "metadata": {},
   "outputs": [],
   "source": [
    "import seaborn as sns\n",
    "fig = plt.figure(figsize = (8*2, 6))\n",
    "ax = fig.add_subplot(1, 2, 1)\n",
    "sns.scatterplot(data = df_temp, x = 'umap_x', y = 'umap_y', s = 1, ax = ax)\n",
    "sns.kdeplot(data=df_temp[df_temp['stage'] == '02mo'], x=\"umap_x\", y=\"umap_y\",\n",
    "    fill=True, thresh=0, levels=10, cmap=\"Purples\", ax = ax, cut = 4)\n",
    "ax.set_xticks([]);\n",
    "ax.set_yticks([]);\n",
    "ax.set_title('young', fontsize = 16)\n",
    "ax.set_xlabel('UMAP-1')\n",
    "ax.set_ylabel('UMAP-2')\n",
    "ax.spines['right'].set_visible(False)\n",
    "ax.spines['top'].set_visible(False)\n",
    "ax.spines['left'].set_visible(False)\n",
    "ax.spines['bottom'].set_visible(False)\n",
    "\n",
    "ax = fig.add_subplot(1, 2, 2)\n",
    "sns.scatterplot(data = df_temp, x = 'umap_x', y = 'umap_y', s = 0, ax = ax)\n",
    "sns.kdeplot(data=df_temp[df_temp['stage'] == '18mo'], x=\"umap_x\", y=\"umap_y\",\n",
    "    fill=True, thresh=0, levels=10, cmap=\"Purples\", ax = ax, cut = 4)\n",
    "ax.set_xticks([]);\n",
    "ax.set_yticks([]);\n",
    "ax.set_title('old', fontsize = 16)\n",
    "ax.set_xlabel('UMAP-1')\n",
    "ax.set_ylabel('UMAP-2')\n",
    "ax.spines['right'].set_visible(False)\n",
    "ax.spines['top'].set_visible(False)\n",
    "ax.spines['left'].set_visible(False)\n",
    "ax.spines['bottom'].set_visible(False)\n",
    "\n",
    "#fig.savefig(outbase + 'Ctrl_DT_kdeplot_endo.png', dpi = 150, bbox_inches = 'tight')"
   ]
  },
  {
   "cell_type": "code",
   "execution_count": null,
   "id": "e6eaf137",
   "metadata": {},
   "outputs": [],
   "source": [
    "# anndata2ri interconverts AnnData and Single Cell Experiment objects\n",
    "anndata2ri.activate()\n",
    "%load_ext rpy2.ipython\n",
    "#%reload_ext rpy2.ipython"
   ]
  },
  {
   "cell_type": "code",
   "execution_count": null,
   "id": "dca7042a",
   "metadata": {},
   "outputs": [],
   "source": [
    "Td1.layers['norm_counts'] = Td1.X.copy()"
   ]
  },
  {
   "cell_type": "code",
   "execution_count": null,
   "id": "a1b4ca5b",
   "metadata": {},
   "outputs": [],
   "source": [
    "adata_milo = sc.AnnData(Td1.layers['norm_counts'].copy(), \n",
    "                        obs = Td1.obs[['stage', 'day', 'cell_type_subset',\"sample\"]], \n",
    "                        var = Td1.var)\n",
    "adata_milo.obsm['X_pca'] = Td1.obsm['X_pca']\n",
    "adata_milo.obsm['X_umap'] = Td1.obsm['X_umap']"
   ]
  },
  {
   "cell_type": "code",
   "execution_count": null,
   "id": "fc7b3422",
   "metadata": {},
   "outputs": [],
   "source": [
    "%%R\n",
    "library(igraph)\n",
    "\n",
    "library(miloR)"
   ]
  },
  {
   "cell_type": "code",
   "execution_count": null,
   "id": "eebbed6a",
   "metadata": {},
   "outputs": [],
   "source": [
    "%%R -i adata_milo\n",
    "adata_milo"
   ]
  },
  {
   "cell_type": "code",
   "execution_count": null,
   "id": "c9eb1fb5",
   "metadata": {},
   "outputs": [],
   "source": [
    "%%R \n",
    "myeloid_milo <- Milo(adata_milo)\n",
    "myeloid_milo"
   ]
  },
  {
   "cell_type": "code",
   "execution_count": null,
   "id": "c7cf6ff8",
   "metadata": {},
   "outputs": [],
   "source": [
    "%%R \n",
    "myeloid_milo <- buildGraph(myeloid_milo, k=30, d=30, reduced.dim = \"PCA\")"
   ]
  },
  {
   "cell_type": "code",
   "execution_count": null,
   "id": "2b2d04a9",
   "metadata": {},
   "outputs": [],
   "source": [
    "design_df = adata_milo.obs[['sample',\"stage\",\"day\",]].copy()\n",
    "design_df.drop_duplicates(inplace=True)\n",
    "design_df.index = design_df['sample']\n",
    "design_df"
   ]
  },
  {
   "cell_type": "code",
   "execution_count": null,
   "id": "a26e9e23",
   "metadata": {},
   "outputs": [],
   "source": [
    "%%R -i design_df -o DA_results_myeloid\n",
    "## Define neighbourhoods\n",
    "myeloid_milo <- makeNhoods(myeloid_milo, prop = 0.1, k = 30, d=30, refined = TRUE, reduced_dims = \"PCA\")\n",
    "\n",
    "## Count cells in neighbourhoods\n",
    "myeloid_milo <- countCells(myeloid_milo, meta.data = data.frame(colData(myeloid_milo)), sample=\"sample\")\n",
    "\n",
    "## Calculate distances between cells in neighbourhoods\n",
    "## for spatial FDR correction\n",
    "myeloid_milo <- calcNhoodDistance(myeloid_milo, d=30, reduced.dim = \"PCA\")\n",
    "\n",
    "\n",
    "## Test for differential abundance\n",
    "DA_results_myeloid <- testNhoods(myeloid_milo, design = ~stage, design.df = design_df)\n"
   ]
  },
  {
   "cell_type": "code",
   "execution_count": null,
   "id": "32a3c042",
   "metadata": {},
   "outputs": [],
   "source": [
    "DA_results_myeloid.head()"
   ]
  },
  {
   "cell_type": "code",
   "execution_count": null,
   "id": "7bb36e0d",
   "metadata": {},
   "outputs": [],
   "source": [
    "plt.plot(DA_results_myeloid.logFC, -np.log10(DA_results_myeloid.SpatialFDR), '.');\n",
    "plt.xlabel(\"log-Fold Change\");\n",
    "plt.ylabel(\"- log10(Spatial FDR)\")"
   ]
  },
  {
   "cell_type": "code",
   "execution_count": null,
   "id": "e2ca9c0e",
   "metadata": {},
   "outputs": [],
   "source": [
    "%%R\n",
    "myeloid_milo <- buildNhoodGraph(myeloid_milo)"
   ]
  },
  {
   "cell_type": "code",
   "execution_count": null,
   "id": "c330af2d",
   "metadata": {},
   "outputs": [],
   "source": [
    "%%R \n",
    "head(DA_results_myeloid)"
   ]
  },
  {
   "cell_type": "code",
   "execution_count": null,
   "id": "5cb5263c",
   "metadata": {},
   "outputs": [],
   "source": [
    "%%R -w 800 -h 600\n",
    "alpha_val = 1\n",
    "library(ggplot2)\n",
    "p1 <- plotNhoodGraphDA(myeloid_milo, DA_results_myeloid, res_column = 'SpatialFDR', alpha=alpha_val, \n",
    "                 layout=\"UMAP\", size_range = c(2, 8), node_stroke =0.8)\n",
    "p1"
   ]
  },
  {
   "cell_type": "code",
   "execution_count": null,
   "id": "905537b3",
   "metadata": {},
   "outputs": [],
   "source": [
    "%%R -w 800 -h 600\n",
    "alpha_val = 1\n",
    "library(ggplot2)\n",
    "p1 <- plotNhoodGraphDA(myeloid_milo, DA_results_myeloid, res_column = 'logFC', alpha=alpha_val, \n",
    "                 layout=\"UMAP\", size_range = c(2, 8), node_stroke =0.8)\n",
    "p1"
   ]
  },
  {
   "cell_type": "code",
   "execution_count": null,
   "id": "c9fd4daa",
   "metadata": {},
   "outputs": [],
   "source": [
    "%%R\n",
    "myeloid_milo"
   ]
  },
  {
   "cell_type": "code",
   "execution_count": null,
   "id": "93a58d3b",
   "metadata": {},
   "outputs": [],
   "source": [
    "%%R \n",
    "DA_results_myeloid <- annotateNhoods(myeloid_milo, DA_results_myeloid, coldata_col = 'cell_type_subset')\n",
    "head(DA_results_myeloid)"
   ]
  },
  {
   "cell_type": "code",
   "execution_count": null,
   "id": "60da8caa",
   "metadata": {},
   "outputs": [],
   "source": [
    "%%R\n",
    "library(ggplot2)\n",
    "ggplot(DA_results_myeloid, aes(cell_type_subset_fraction)) + geom_histogram(bins=50)"
   ]
  },
  {
   "cell_type": "code",
   "execution_count": null,
   "id": "37d0b63d",
   "metadata": {},
   "outputs": [],
   "source": [
    "%%R -o DA_results_myeloid\n",
    "DA_results_myeloid$Celltypes <- ifelse(DA_results_myeloid$cell_type_subset_fraction < 0.8, \"Mixed\", DA_results_myeloid$cell_type_subset)\n",
    "head(DA_results_myeloid)"
   ]
  },
  {
   "cell_type": "code",
   "execution_count": null,
   "id": "395a2d4e",
   "metadata": {},
   "outputs": [],
   "source": [
    "%%R\n",
    "plotDAbeeswarm(DA_results_myeloid, group.by = \"cell_type_subset\", alpha = 1)"
   ]
  },
  {
   "cell_type": "code",
   "execution_count": null,
   "id": "8855d1a6",
   "metadata": {},
   "outputs": [],
   "source": [
    "import matplotlib.colors as mcolors\n",
    "import matplotlib.cm as cm\n",
    "\n",
    "\n",
    "for j, item in enumerate(['FDR', 'SpatialFDR', 'PValue']):\n",
    "    fig = plt.figure(figsize = (8, 12))\n",
    "    DA_results_myeloid['log_' + item] = -np.log10(DA_results_myeloid[item])\n",
    "    ax = fig.add_subplot(1, 1, 1)\n",
    "    plot = sns.stripplot(x='logFC', y=\"cell_type_subset\", hue='log_' + item, data=DA_results_myeloid, size = 6, \n",
    "              palette='cividis', \n",
    "              jitter=0.2, edgecolor='none', ax = ax)\n",
    "    plot.get_legend().set_visible(False)\n",
    "    #ax.set_xticklabels(ax.get_xticks(), fontsize = 18)\n",
    "    #ax.set_yticklabels(ax.get_yticks(), fontsize = 18)\n",
    "    ax.tick_params(axis='both', which='major', labelsize=18)\n",
    "    ax.set_ylabel('T cell subsets', fontsize = 18)\n",
    "    ax.set_xlabel('logFC', fontsize = 18)\n",
    "    sns.despine()\n",
    "\n",
    "\n",
    "    # Drawing the side color bar\n",
    "    normalize = mcolors.Normalize(vmin=DA_results_myeloid['log_' + item].min(), \n",
    "                              vmax=DA_results_myeloid['log_' + item].max())\n",
    "    colormap = cm.cividis\n",
    "\n",
    "    for n in DA_results_myeloid['log_' + item]:\n",
    "        plt.plot(color=colormap(normalize(n)))\n",
    "\n",
    "    scalarmappaple = cm.ScalarMappable(norm=normalize, cmap=colormap)\n",
    "    scalarmappaple.set_array(DA_results_myeloid['log_' + item])\n",
    "    cbar = fig.colorbar(scalarmappaple)\n",
    "    cbar.ax.set_yticklabels(cbar.ax.get_yticks(), fontsize = 18)\n",
    "    cbar.ax.set_ylabel('-log10(' + item + ')',  labelpad = 20, rotation=90, fontsize = 18)\n",
    "    ax.grid(False)\n",
    "    #fig.savefig(outbase + 'milor_myeloid_swarmplot_colored_by_log_' + item + '.pdf', dpi = 300, \n",
    "                #bbox_inches = 'tight')"
   ]
  },
  {
   "cell_type": "code",
   "execution_count": null,
   "id": "7cc87063",
   "metadata": {},
   "outputs": [],
   "source": [
    "df_temp = pd.DataFrame({'umap_x': Td4.obsm['X_umap'][:, 0], 'umap_y': Td4.obsm['X_umap'][:, 1], \n",
    "                        'stage': Td4.obs['stage'], 'day': Td4.obs['day']}, index = Td4.obs.index)\n",
    "\n",
    "\n"
   ]
  },
  {
   "cell_type": "code",
   "execution_count": null,
   "id": "8491310a",
   "metadata": {},
   "outputs": [],
   "source": [
    "import seaborn as sns\n",
    "fig = plt.figure(figsize = (8*2, 6))\n",
    "ax = fig.add_subplot(1, 2, 1)\n",
    "sns.scatterplot(data = df_temp, x = 'umap_x', y = 'umap_y', s = 1, ax = ax)\n",
    "sns.kdeplot(data=df_temp[df_temp['stage'] == '02mo'], x=\"umap_x\", y=\"umap_y\",\n",
    "    fill=True, thresh=0, levels=10, cmap=\"Purples\", ax = ax, cut = 4)\n",
    "ax.set_xticks([]);\n",
    "ax.set_yticks([]);\n",
    "ax.set_title('young', fontsize = 16)\n",
    "ax.set_xlabel('UMAP-1')\n",
    "ax.set_ylabel('UMAP-2')\n",
    "ax.spines['right'].set_visible(False)\n",
    "ax.spines['top'].set_visible(False)\n",
    "ax.spines['left'].set_visible(False)\n",
    "ax.spines['bottom'].set_visible(False)\n",
    "\n",
    "ax = fig.add_subplot(1, 2, 2)\n",
    "sns.scatterplot(data = df_temp, x = 'umap_x', y = 'umap_y', s = 0, ax = ax)\n",
    "sns.kdeplot(data=df_temp[df_temp['stage'] == '18mo'], x=\"umap_x\", y=\"umap_y\",\n",
    "    fill=True, thresh=0, levels=10, cmap=\"Purples\", ax = ax, cut = 4)\n",
    "ax.set_xticks([]);\n",
    "ax.set_yticks([]);\n",
    "ax.set_title('old', fontsize = 16)\n",
    "ax.set_xlabel('UMAP-1')\n",
    "ax.set_ylabel('UMAP-2')\n",
    "ax.spines['right'].set_visible(False)\n",
    "ax.spines['top'].set_visible(False)\n",
    "ax.spines['left'].set_visible(False)\n",
    "ax.spines['bottom'].set_visible(False)\n",
    "\n",
    "#fig.savefig(outbase + 'Ctrl_DT_kdeplot_endo.png', dpi = 150, bbox_inches = 'tight')"
   ]
  },
  {
   "cell_type": "code",
   "execution_count": null,
   "id": "ed789c91",
   "metadata": {},
   "outputs": [],
   "source": [
    "# anndata2ri interconverts AnnData and Single Cell Experiment objects\n",
    "anndata2ri.activate()\n",
    "%load_ext rpy2.ipython\n",
    "#%reload_ext rpy2.ipython"
   ]
  },
  {
   "cell_type": "code",
   "execution_count": null,
   "id": "44af971e",
   "metadata": {},
   "outputs": [],
   "source": [
    "Td4.layers['norm_counts'] = Td4.X.copy()"
   ]
  },
  {
   "cell_type": "code",
   "execution_count": null,
   "id": "bb8a150e",
   "metadata": {},
   "outputs": [],
   "source": [
    "adata_milo = sc.AnnData(Td4.layers['norm_counts'].copy(), \n",
    "                        obs = Td4.obs[['stage', 'day', 'cell_type_subset',\"sample\"]], \n",
    "                        var = Td4.var)\n",
    "adata_milo.obsm['X_pca'] = Td4.obsm['X_pca']\n",
    "adata_milo.obsm['X_umap'] = Td4.obsm['X_umap']"
   ]
  },
  {
   "cell_type": "code",
   "execution_count": null,
   "id": "30649c9b",
   "metadata": {},
   "outputs": [],
   "source": [
    "%%R\n",
    "library(igraph)\n",
    "\n",
    "library(miloR)"
   ]
  },
  {
   "cell_type": "code",
   "execution_count": null,
   "id": "d8b34083",
   "metadata": {},
   "outputs": [],
   "source": [
    "%%R -i adata_milo\n",
    "adata_milo"
   ]
  },
  {
   "cell_type": "code",
   "execution_count": null,
   "id": "01f71e91",
   "metadata": {},
   "outputs": [],
   "source": [
    "%%R \n",
    "myeloid_milo <- Milo(adata_milo)\n",
    "myeloid_milo"
   ]
  },
  {
   "cell_type": "code",
   "execution_count": null,
   "id": "715ffc6c",
   "metadata": {},
   "outputs": [],
   "source": [
    "%%R \n",
    "myeloid_milo <- buildGraph(myeloid_milo, k=30, d=30, reduced.dim = \"PCA\")"
   ]
  },
  {
   "cell_type": "code",
   "execution_count": null,
   "id": "54f8b1ed",
   "metadata": {},
   "outputs": [],
   "source": [
    "design_df = adata_milo.obs[['sample',\"stage\",\"day\",]].copy()\n",
    "design_df.drop_duplicates(inplace=True)\n",
    "design_df.index = design_df['sample']\n",
    "design_df"
   ]
  },
  {
   "cell_type": "code",
   "execution_count": null,
   "id": "fb36b07b",
   "metadata": {},
   "outputs": [],
   "source": [
    "%%R -i design_df -o DA_results_myeloid\n",
    "## Define neighbourhoods\n",
    "myeloid_milo <- makeNhoods(myeloid_milo, prop = 0.1, k = 30, d=30, refined = TRUE, reduced_dims = \"PCA\")\n",
    "\n",
    "## Count cells in neighbourhoods\n",
    "myeloid_milo <- countCells(myeloid_milo, meta.data = data.frame(colData(myeloid_milo)), sample=\"sample\")\n",
    "\n",
    "## Calculate distances between cells in neighbourhoods\n",
    "## for spatial FDR correction\n",
    "myeloid_milo <- calcNhoodDistance(myeloid_milo, d=30, reduced.dim = \"PCA\")\n",
    "\n",
    "\n",
    "## Test for differential abundance\n",
    "DA_results_myeloid <- testNhoods(myeloid_milo, design = ~stage, design.df = design_df)\n"
   ]
  },
  {
   "cell_type": "code",
   "execution_count": null,
   "id": "3501f525",
   "metadata": {},
   "outputs": [],
   "source": [
    "DA_results_myeloid.head()"
   ]
  },
  {
   "cell_type": "code",
   "execution_count": null,
   "id": "ad15d09f",
   "metadata": {},
   "outputs": [],
   "source": [
    "plt.plot(DA_results_myeloid.logFC, -np.log10(DA_results_myeloid.SpatialFDR), '.');\n",
    "plt.xlabel(\"log-Fold Change\");\n",
    "plt.ylabel(\"- log10(Spatial FDR)\")"
   ]
  },
  {
   "cell_type": "code",
   "execution_count": null,
   "id": "a47e3310",
   "metadata": {},
   "outputs": [],
   "source": [
    "%%R\n",
    "myeloid_milo <- buildNhoodGraph(myeloid_milo)"
   ]
  },
  {
   "cell_type": "code",
   "execution_count": null,
   "id": "74e5c178",
   "metadata": {},
   "outputs": [],
   "source": [
    "%%R \n",
    "head(DA_results_myeloid)"
   ]
  },
  {
   "cell_type": "code",
   "execution_count": null,
   "id": "b286908a",
   "metadata": {},
   "outputs": [],
   "source": [
    "%%R -w 800 -h 600\n",
    "alpha_val = 1\n",
    "library(ggplot2)\n",
    "p1 <- plotNhoodGraphDA(myeloid_milo, DA_results_myeloid, res_column = 'SpatialFDR', alpha=alpha_val, \n",
    "                 layout=\"UMAP\", size_range = c(2, 8), node_stroke =0.8)\n",
    "p1"
   ]
  },
  {
   "cell_type": "code",
   "execution_count": null,
   "id": "39390dec",
   "metadata": {},
   "outputs": [],
   "source": [
    "%%R -w 800 -h 600\n",
    "alpha_val = 1\n",
    "library(ggplot2)\n",
    "p1 <- plotNhoodGraphDA(myeloid_milo, DA_results_myeloid, res_column = 'logFC', alpha=alpha_val, \n",
    "                 layout=\"UMAP\", size_range = c(2, 8), node_stroke =0.8)\n",
    "p1"
   ]
  },
  {
   "cell_type": "code",
   "execution_count": null,
   "id": "3fcc65e2",
   "metadata": {},
   "outputs": [],
   "source": [
    "%%R\n",
    "myeloid_milo"
   ]
  },
  {
   "cell_type": "code",
   "execution_count": null,
   "id": "4ee4ddfe",
   "metadata": {},
   "outputs": [],
   "source": [
    "%%R \n",
    "DA_results_myeloid <- annotateNhoods(myeloid_milo, DA_results_myeloid, coldata_col = 'cell_type_subset')\n",
    "head(DA_results_myeloid)"
   ]
  },
  {
   "cell_type": "code",
   "execution_count": null,
   "id": "2e7a9cb5",
   "metadata": {},
   "outputs": [],
   "source": [
    "%%R\n",
    "library(ggplot2)\n",
    "ggplot(DA_results_myeloid, aes(cell_type_subset_fraction)) + geom_histogram(bins=50)"
   ]
  },
  {
   "cell_type": "code",
   "execution_count": null,
   "id": "f2a0d619",
   "metadata": {},
   "outputs": [],
   "source": [
    "%%R -o DA_results_myeloid\n",
    "DA_results_myeloid$Celltypes <- ifelse(DA_results_myeloid$cell_type_subset_fraction < 0.8, \"Mixed\", DA_results_myeloid$cell_type_subset)\n",
    "head(DA_results_myeloid)"
   ]
  },
  {
   "cell_type": "code",
   "execution_count": null,
   "id": "3f8e7a89",
   "metadata": {},
   "outputs": [],
   "source": [
    "%%R\n",
    "plotDAbeeswarm(DA_results_myeloid, group.by = \"cell_type_subset\", alpha = 1)"
   ]
  },
  {
   "cell_type": "code",
   "execution_count": null,
   "id": "e8be9aa3",
   "metadata": {},
   "outputs": [],
   "source": [
    "import matplotlib.colors as mcolors\n",
    "import matplotlib.cm as cm\n",
    "\n",
    "\n",
    "for j, item in enumerate(['FDR', 'SpatialFDR', 'PValue']):\n",
    "    fig = plt.figure(figsize = (8, 12))\n",
    "    DA_results_myeloid['log_' + item] = -np.log10(DA_results_myeloid[item])\n",
    "    ax = fig.add_subplot(1, 1, 1)\n",
    "    plot = sns.stripplot(x='logFC', y=\"cell_type_subset\", hue='log_' + item, data=DA_results_myeloid, size = 6, \n",
    "              palette='cividis', \n",
    "              jitter=0.2, edgecolor='none', ax = ax)\n",
    "    plot.get_legend().set_visible(False)\n",
    "    #ax.set_xticklabels(ax.get_xticks(), fontsize = 18)\n",
    "    #ax.set_yticklabels(ax.get_yticks(), fontsize = 18)\n",
    "    ax.tick_params(axis='both', which='major', labelsize=18)\n",
    "    ax.set_ylabel('T cell subsets', fontsize = 18)\n",
    "    ax.set_xlabel('logFC', fontsize = 18)\n",
    "    sns.despine()\n",
    "\n",
    "\n",
    "    # Drawing the side color bar\n",
    "    normalize = mcolors.Normalize(vmin=DA_results_myeloid['log_' + item].min(), \n",
    "                              vmax=DA_results_myeloid['log_' + item].max())\n",
    "    colormap = cm.cividis\n",
    "\n",
    "    for n in DA_results_myeloid['log_' + item]:\n",
    "        plt.plot(color=colormap(normalize(n)))\n",
    "\n",
    "    scalarmappaple = cm.ScalarMappable(norm=normalize, cmap=colormap)\n",
    "    scalarmappaple.set_array(DA_results_myeloid['log_' + item])\n",
    "    cbar = fig.colorbar(scalarmappaple)\n",
    "    cbar.ax.set_yticklabels(cbar.ax.get_yticks(), fontsize = 18)\n",
    "    cbar.ax.set_ylabel('-log10(' + item + ')',  labelpad = 20, rotation=90, fontsize = 18)\n",
    "    ax.grid(False)\n",
    "    #fig.savefig(outbase + 'milor_myeloid_swarmplot_colored_by_log_' + item + '.pdf', dpi = 300, \n",
    "                #bbox_inches = 'tight')"
   ]
  },
  {
   "cell_type": "code",
   "execution_count": null,
   "id": "4c2bc792",
   "metadata": {},
   "outputs": [],
   "source": [
    "df_temp = pd.DataFrame({'umap_x': Td7.obsm['X_umap'][:, 0], 'umap_y': Td7.obsm['X_umap'][:, 1], \n",
    "                        'stage': Td7.obs['stage'], 'day': Td7.obs['day']}, index = Td7.obs.index)\n",
    "\n",
    "\n"
   ]
  },
  {
   "cell_type": "code",
   "execution_count": null,
   "id": "3a300e22",
   "metadata": {},
   "outputs": [],
   "source": [
    "Td7.obs[\"stage\"]"
   ]
  },
  {
   "cell_type": "code",
   "execution_count": null,
   "id": "dd0f966b",
   "metadata": {},
   "outputs": [],
   "source": [
    "import seaborn as sns\n",
    "fig = plt.figure(figsize = (8*2, 6))\n",
    "ax = fig.add_subplot(1, 2, 1)\n",
    "sns.scatterplot(data = df_temp, x = 'umap_x', y = 'umap_y', s = 1, ax = ax)\n",
    "sns.kdeplot(data=df_temp[df_temp['stage'] == '02mo'], x=\"umap_x\", y=\"umap_y\",\n",
    "    fill=True, thresh=0, levels=10, cmap=\"Purples\", ax = ax, cut = 4)\n",
    "ax.set_xticks([]);\n",
    "ax.set_yticks([]);\n",
    "ax.set_title('young', fontsize = 16)\n",
    "ax.set_xlabel('UMAP-1')\n",
    "ax.set_ylabel('UMAP-2')\n",
    "ax.spines['right'].set_visible(False)\n",
    "ax.spines['top'].set_visible(False)\n",
    "ax.spines['left'].set_visible(False)\n",
    "ax.spines['bottom'].set_visible(False)\n",
    "\n",
    "ax = fig.add_subplot(1, 2, 2)\n",
    "sns.scatterplot(data = df_temp, x = 'umap_x', y = 'umap_y', s = 0, ax = ax)\n",
    "sns.kdeplot(data=df_temp[df_temp['stage'] == '18mo'], x=\"umap_x\", y=\"umap_y\",\n",
    "    fill=True, thresh=0, levels=10, cmap=\"Purples\", ax = ax, cut = 4)\n",
    "ax.set_xticks([]);\n",
    "ax.set_yticks([]);\n",
    "ax.set_title('old', fontsize = 16)\n",
    "ax.set_xlabel('UMAP-1')\n",
    "ax.set_ylabel('UMAP-2')\n",
    "ax.spines['right'].set_visible(False)\n",
    "ax.spines['top'].set_visible(False)\n",
    "ax.spines['left'].set_visible(False)\n",
    "ax.spines['bottom'].set_visible(False)\n",
    "\n",
    "#fig.savefig(outbase + 'Ctrl_DT_kdeplot_endo.png', dpi = 150, bbox_inches = 'tight')"
   ]
  },
  {
   "cell_type": "code",
   "execution_count": null,
   "id": "9e0fadad",
   "metadata": {},
   "outputs": [],
   "source": [
    "# anndata2ri interconverts AnnData and Single Cell Experiment objects\n",
    "anndata2ri.activate()\n",
    "%load_ext rpy2.ipython\n",
    "#%reload_ext rpy2.ipython"
   ]
  },
  {
   "cell_type": "code",
   "execution_count": null,
   "id": "5796df6d",
   "metadata": {},
   "outputs": [],
   "source": [
    "Td7.layers['norm_counts'] = Td7.X.copy()"
   ]
  },
  {
   "cell_type": "code",
   "execution_count": null,
   "id": "6ca5d141",
   "metadata": {},
   "outputs": [],
   "source": [
    "adata_milo = sc.AnnData(Td7.layers['norm_counts'].copy(), \n",
    "                        obs = Td7.obs[['stage', 'day', 'cell_type_subset',\"sample\"]], \n",
    "                        var = Td7.var)\n",
    "adata_milo.obsm['X_pca'] = Td7.obsm['X_pca']\n",
    "adata_milo.obsm['X_umap'] = Td7.obsm['X_umap']"
   ]
  },
  {
   "cell_type": "code",
   "execution_count": null,
   "id": "dac9a001",
   "metadata": {},
   "outputs": [],
   "source": [
    "%%R\n",
    "library(igraph)\n",
    "\n",
    "library(miloR)"
   ]
  },
  {
   "cell_type": "code",
   "execution_count": null,
   "id": "d0777db8",
   "metadata": {},
   "outputs": [],
   "source": [
    "%%R -i adata_milo\n",
    "adata_milo"
   ]
  },
  {
   "cell_type": "code",
   "execution_count": null,
   "id": "4b4578f5",
   "metadata": {},
   "outputs": [],
   "source": [
    "%%R \n",
    "myeloid_milo <- Milo(adata_milo)\n",
    "myeloid_milo"
   ]
  },
  {
   "cell_type": "code",
   "execution_count": null,
   "id": "4587d503",
   "metadata": {},
   "outputs": [],
   "source": [
    "%%R \n",
    "myeloid_milo <- buildGraph(myeloid_milo, k=30, d=30, reduced.dim = \"PCA\")"
   ]
  },
  {
   "cell_type": "code",
   "execution_count": null,
   "id": "95acddc8",
   "metadata": {},
   "outputs": [],
   "source": [
    "design_df = adata_milo.obs[['sample',\"stage\",\"day\",]].copy()\n",
    "design_df.drop_duplicates(inplace=True)\n",
    "design_df.index = design_df['sample']\n",
    "design_df"
   ]
  },
  {
   "cell_type": "code",
   "execution_count": null,
   "id": "afdbd392",
   "metadata": {},
   "outputs": [],
   "source": [
    "%%R -i design_df -o DA_results_myeloid\n",
    "## Define neighbourhoods\n",
    "myeloid_milo <- makeNhoods(myeloid_milo, prop = 0.1, k = 30, d=30, refined = TRUE, reduced_dims = \"PCA\")\n",
    "\n",
    "## Count cells in neighbourhoods\n",
    "myeloid_milo <- countCells(myeloid_milo, meta.data = data.frame(colData(myeloid_milo)), sample=\"sample\")\n",
    "\n",
    "## Calculate distances between cells in neighbourhoods\n",
    "## for spatial FDR correction\n",
    "myeloid_milo <- calcNhoodDistance(myeloid_milo, d=30, reduced.dim = \"PCA\")\n",
    "\n",
    "\n",
    "## Test for differential abundance\n",
    "DA_results_myeloid <- testNhoods(myeloid_milo, design = ~stage, design.df = design_df)\n"
   ]
  },
  {
   "cell_type": "code",
   "execution_count": null,
   "id": "0f220211",
   "metadata": {},
   "outputs": [],
   "source": [
    "DA_results_myeloid.head()"
   ]
  },
  {
   "cell_type": "code",
   "execution_count": null,
   "id": "4901e5b8",
   "metadata": {},
   "outputs": [],
   "source": [
    "plt.plot(DA_results_myeloid.logFC, -np.log10(DA_results_myeloid.SpatialFDR), '.');\n",
    "plt.xlabel(\"log-Fold Change\");\n",
    "plt.ylabel(\"- log10(Spatial FDR)\")"
   ]
  },
  {
   "cell_type": "code",
   "execution_count": null,
   "id": "7c456391",
   "metadata": {},
   "outputs": [],
   "source": [
    "%%R\n",
    "myeloid_milo <- buildNhoodGraph(myeloid_milo)"
   ]
  },
  {
   "cell_type": "code",
   "execution_count": null,
   "id": "86c07d5d",
   "metadata": {},
   "outputs": [],
   "source": [
    "%%R \n",
    "head(DA_results_myeloid)"
   ]
  },
  {
   "cell_type": "code",
   "execution_count": null,
   "id": "163d014c",
   "metadata": {},
   "outputs": [],
   "source": [
    "%%R -w 800 -h 600\n",
    "alpha_val = 1\n",
    "library(ggplot2)\n",
    "p1 <- plotNhoodGraphDA(myeloid_milo, DA_results_myeloid, res_column = 'SpatialFDR', alpha=alpha_val, \n",
    "                 layout=\"UMAP\", size_range = c(2, 8), node_stroke =0.8)\n",
    "p1"
   ]
  },
  {
   "cell_type": "code",
   "execution_count": null,
   "id": "16adc267",
   "metadata": {},
   "outputs": [],
   "source": [
    "%%R -w 800 -h 600\n",
    "alpha_val = 1\n",
    "library(ggplot2)\n",
    "p1 <- plotNhoodGraphDA(myeloid_milo, DA_results_myeloid, res_column = 'logFC', alpha=alpha_val, \n",
    "                 layout=\"UMAP\", size_range = c(2, 8), node_stroke =0.8)\n",
    "p1"
   ]
  },
  {
   "cell_type": "code",
   "execution_count": null,
   "id": "476b5068",
   "metadata": {},
   "outputs": [],
   "source": [
    "%%R\n",
    "myeloid_milo"
   ]
  },
  {
   "cell_type": "code",
   "execution_count": null,
   "id": "decc9fd8",
   "metadata": {},
   "outputs": [],
   "source": [
    "%%R \n",
    "DA_results_myeloid <- annotateNhoods(myeloid_milo, DA_results_myeloid, coldata_col = 'cell_type_subset')\n",
    "head(DA_results_myeloid)"
   ]
  },
  {
   "cell_type": "code",
   "execution_count": null,
   "id": "2bb6afd0",
   "metadata": {},
   "outputs": [],
   "source": [
    "%%R\n",
    "library(ggplot2)\n",
    "ggplot(DA_results_myeloid, aes(cell_type_subset_fraction)) + geom_histogram(bins=50)"
   ]
  },
  {
   "cell_type": "code",
   "execution_count": null,
   "id": "14aaa3e8",
   "metadata": {},
   "outputs": [],
   "source": [
    "%%R -o DA_results_myeloid\n",
    "DA_results_myeloid$Celltypes <- ifelse(DA_results_myeloid$cell_type_subset_fraction < 0.8, \"Mixed\", DA_results_myeloid$cell_type_subset)\n",
    "head(DA_results_myeloid)"
   ]
  },
  {
   "cell_type": "code",
   "execution_count": null,
   "id": "8a5291d4",
   "metadata": {},
   "outputs": [],
   "source": [
    "%%R\n",
    "plotDAbeeswarm(DA_results_myeloid, group.by = \"cell_type_subset\", alpha = 1)"
   ]
  },
  {
   "cell_type": "code",
   "execution_count": null,
   "id": "3c505eec",
   "metadata": {},
   "outputs": [],
   "source": [
    "DA_results_myeloid"
   ]
  },
  {
   "cell_type": "code",
   "execution_count": null,
   "id": "15e4e7a3",
   "metadata": {},
   "outputs": [],
   "source": [
    "import matplotlib.colors as mcolors\n",
    "import matplotlib.cm as cm\n",
    "\n",
    "\n",
    "for j, item in enumerate(['FDR', 'SpatialFDR', 'PValue']):\n",
    "    fig = plt.figure(figsize = (8, 12))\n",
    "    DA_results_myeloid['log_' + item] = -np.log10(DA_results_myeloid[item])\n",
    "    ax = fig.add_subplot(1, 1, 1)\n",
    "    plot = sns.stripplot(x='logFC', y=\"cell_type_subset\", hue='log_' + item, data=DA_results_myeloid, size = 6, \n",
    "              palette='cividis', \n",
    "              jitter=0.2, edgecolor='none', ax = ax)\n",
    "    plot.get_legend().set_visible(False)\n",
    "    #ax.set_xticklabels(ax.get_xticks(), fontsize = 18)\n",
    "    #ax.set_yticklabels(ax.get_yticks(), fontsize = 18)\n",
    "    ax.tick_params(axis='both', which='major', labelsize=18)\n",
    "    ax.set_ylabel('T cell subsets', fontsize = 18)\n",
    "    ax.set_xlabel('logFC', fontsize = 18)\n",
    "    sns.despine()\n",
    "\n",
    "\n",
    "    # Drawing the side color bar\n",
    "    normalize = mcolors.Normalize(vmin=DA_results_myeloid['log_' + item].min(), \n",
    "                              vmax=3)\n",
    "    colormap = cm.cividis\n",
    "\n",
    "    for n in DA_results_myeloid['log_' + item]:\n",
    "        plt.plot(color=colormap(normalize(n)))\n",
    "\n",
    "    scalarmappaple = cm.ScalarMappable(norm=normalize, cmap=colormap)\n",
    "    scalarmappaple.set_array(DA_results_myeloid['log_' + item])\n",
    "    cbar = fig.colorbar(scalarmappaple)\n",
    "    cbar.ax.set_yticklabels(cbar.ax.get_yticks(), fontsize = 18)\n",
    "    cbar.ax.set_ylabel('-log10(' + item + ')',  labelpad = 20, rotation=90, fontsize = 18)\n",
    "    ax.grid(False)\n",
    "    #fig.savefig(outbase + 'milor_myeloid_swarmplot_colored_by_log_' + item + '.pdf', dpi = 300, \n",
    "                #bbox_inches = 'tight')"
   ]
  },
  {
   "cell_type": "code",
   "execution_count": null,
   "id": "f39b899a",
   "metadata": {},
   "outputs": [],
   "source": [
    "#import packages\n",
    "import numpy as np\n",
    "import json \n",
    "import scanpy as sc\n",
    "from collections import OrderedDict\n",
    "import scipy \n",
    "import pandas as pd\n",
    "import matplotlib.pyplot as plt\n",
    "\n",
    "#spectra imports \n",
    "import Spectra as spc\n",
    "from Spectra import Spectra_util as spc_tl\n",
    "from Spectra import K_est as kst\n",
    "from Spectra import default_gene_sets"
   ]
  },
  {
   "cell_type": "code",
   "execution_count": null,
   "id": "ae84002b",
   "metadata": {},
   "outputs": [],
   "source": [
    "sc.pl.dotplot(young[young.obs[\"day\"]=='d0'], ['Il1r1',\"Il1rl1\",'Il6ra',\"Il18r1\",\"Il18rap\" ], ['cell_type_subset',], dendrogram=False,standard_scale='var', swap_axes=False)\n"
   ]
  },
  {
   "cell_type": "code",
   "execution_count": null,
   "id": "7bcb6ab5",
   "metadata": {},
   "outputs": [],
   "source": [
    "young = young[~(young.obs['cell_type_subset'] == 'CD8')]"
   ]
  },
  {
   "cell_type": "code",
   "execution_count": null,
   "id": "0ef31ea9",
   "metadata": {},
   "outputs": [],
   "source": [
    "gene_set_annotations = {\n",
    "\"global\": {'all_GLU_metabolism':['Slc38a1','Gpt','Slc1a3','Slc7a11','Got2','Aldh18a1','Slc1a1','Slc1a5',\n",
    "'Slc38a5','Got1','Slc25a13','Slc3a2','Slc25a18','Slc7a6','Slc6a13','Gpt2',\n",
    "'Slc6a11','Slc7a7','Nags','Slc6a1','Slc1a6','Slc17a7','Slc32a1','Slc25a22',\n",
    "'Glul','Gls2','Oplah','Acy1','Slc6a12','Slc1a2','Slc17a8','Glud2','Slc38a2',\n",
    "'Slc38a3','Slc1a7','Gls','Slc25a12','Glud1','Slc38a4','Aldh4a1','Slc17a6'],\n",
    "'all_fatty-acid_synthesis':['Elovl1','Hacd4','Acaca','Elovl2','Elovl6','Fads3','Hacd1','Tecrl',\n",
    "'Elovl4','Fads1','Fads6','Fasn','Slc25a1','Fads2','Tecr','Aacs','Mcat',\n",
    "'Elovl3','Hacd3','Hacd2','Scd5','Acacb','Scd','Elovl7','Hsd17b12','Elovl5'],\n",
    "'all_NOTCH_signaling':['Heyl','Lfng','Dll1','Jag1','Ccnd1','Fzd1','Aph1a','Cul1','Dtx1','Notch1',\n",
    "'Kat2a','Dtx2','Fbxw11','Hey1','Maml2','Arrb1','Tcf7l2','Fzd5','Psenen','Wnt5a',\n",
    "'Hes1','Hey2','Rbx1','St3gal6','Ppard','Notch2','Skp1','Hes5','Psen2','Wnt2',\n",
    "'Notch3','Sap30','Fzd7','Prkca','Dtx4'],\n",
    "'global_AGING_GOBP_AGING':['Adra1b','Adra1a','Adra1d','Agtr1a','Agtr1b','Alpl','Comp','Edn1','Ednra','Ercc1','Sec63','Gna11','Gna12','Gna13','Gnaq','Hyal2','Enpp1','Pmp22','Slc1a2','Terc','Trp63','Wrn','Rnf165','Lncpint','Helt','Avpr1b','Nr5a1','Serp1','Ndufs6','Avpr1a','Arhgef12'],\n",
    "'global_all_MYC_targets':['Nop16','Phb','Gcsh','Nhp2','Ppat','Fasn','Cad','Noc4l','Ncl','Ddx10','Odc1',\n",
    "                          'Polr2h','Mgst1','Prps2','Adm','Slc39a6','Slc20a1','Shmt1','Tarpb1','Matr3','Psmg1',\n",
    "                          'Ddx18','Bcat1','Mrto4','Mthfd1','Tsr1','Pno1','Mxi1','Rrp1b','Srm','Rsl1d1','Ak4',\n",
    "                          'Rcc1','Cdk4','Matr3','Aimp2','Tuba4a','Ppif','Ebnalbp2','Gnl3','Apex1','Iars1',\n",
    "                          'Ccnd2','Gpd1l','Ldha','Nop56','Fxn','Slpi','Nampt','Pa2g4','Nme1','Ctsc','Nolc1',\n",
    "                          'Fbl','Uck2','Cebpz','Hspa9','Akap1','Ddx21','Socs3','Mettl1','Trap1','Fkbp4','C1qbp',\n",
    "                          'Pycr1','Fabp5','Pold2','Tfrc','Paics','Hspd1','Cks2','Ranbp1','Slc19a1','Ndufaf4',\n",
    "                          'Surf2','Plscr1','Asns','Grwd1','Slc16a1','Ppp1r14b','Hspe1','Ahcy','Emp1','Exosc7'],     \n",
    "'global_EGF':['Areg',\"Tff1\", 'Egf', 'Csnk2a1','Egfr', 'Elk1', 'Fos', 'Grb2', 'Hras', 'Jak1', 'Jun','Map2k1', \n",
    "              'Map2k4', 'Map3k1', 'Mapk3','Mapk8', 'Pik3ca', 'Pik3r1', 'Plcg1',\n",
    "'Prkca', 'Prkcb', 'Raf1', 'Rasa1','Shc1', 'Sos1', 'Srf', 'Stat1','Stat3', 'Stat5a'],\n",
    "'GOBP_ANIMAL_ORGAN_REGENERATION' :['Ace','Gfer','Apoa1','Apoa2','Apoh','Ccnd1','Cdk1','Cebpb','Egfr','Ezh1','Ezh2','Gata1','Gli1','Hmox1','Il6','Itpr1','Lif','Lifr','Pkm','Med1','Reg1','Cxcl5','Cxcl12','Aurka','Tgfb1','Vtn','Wnt1','Upf2','Sulf2'],          \n",
    "'global_all_glycolysis':['Gapdh','Gck','Pfkfb1','Eno3','Pgk1','Pgm2','Pkm','Pfkp','Eno4','Eno1','Aldoc',\n",
    "'Eno2','Hk3','Pfkfb2','Pgm5','Tpi1','Aldoa','Aldob','Pklr','Pgk2','Pgm3','Pfkm',\n",
    "'Pfkl','Hk2','Pgm1','Gpi','Hk1'],\n",
    "'global_all_glutathione_metabolism':['Gss','Gpx1','Gpx6','Gstm1','Hagh','Gpx4','Gpx5','Prdx3','Esd','Glrx2',\n",
    "'Gpx2','Prdx1','Glrx','Gpx3','Gclc','Gclm','Gpx7','Ggt1','Adh5','Cth',\n",
    "'Gpx8','Gsr','Prdx2','Cbs'],\n",
    "'global_all_IL6-JAK-STAT3_signaling':['Tyk2','Il18r1','Itga4','Csf2ra','Socs1','Cxcl11','Cd14','Ifnar1',\n",
    "'Ifngr1','Ltb','Map3k8','Ebi3','Il1b','Cbl','Stat1','Pik3r5','Dntt',\n",
    "'Stat3','Cntfr','Socs3','Reg1a','Tnfrsf12a','Cxcl3','Cd44','Cd38',\n",
    "'Il4r','Csf2rb','Itgb3','Fas','Hmox1','Irf1','Inhbe','Pf4','Myd88',\n",
    "'Grb2','Stam2','Acvrl1','Cxcl13','Tnfrsf1a','Ptpn11','Pla2g2a','Tgfb1',\n",
    "'Ccr1','Cxcl9','Ltbr','Jun','Il3ra','Acvr1b','Osmr','Tnf','Tnfrsf1b',\n",
    "'Hax1','Bak1','Il15ra','Cxcl1','Il12rb1','Lepr','Csf1','Tnfrsf21',\n",
    "'Il1r1','Ccl7','Il13ra1','Pim1','Il2ra','Csf2','Il6','Irf9','Cd9',\n",
    "'Il6st','Stat2','Il1r2','A2m','Cd36','Pdgfc','Tlr2','Crlf2','Il9r',\n",
    "'Cxcl10','Il2rg','Ifngr2','Il17rb','Il17ra','Ptpn1','Il7','Il10rb'],\n",
    "'global_all_autophagy-chaperone-mediated':['Eef1a2','Snrnp70','Snca','Eef1a1','Clu','Gfap','Hspa8',\n",
    "'Hsp90aa1','Bag3','Lamp2','Plk3','Atp13a2','Stub1','Ctsa', 'Synpo2','Atg7'], },\n",
    "\n",
    "    \n",
    "'Tregs':{'Tregs':['Ikzf2','Tnfrsf4','Ctla4','Itgav','Nrp1','Tnfrsf18','Zfp36l1','Tox','Ldlrad4','Sntb1','Rabgap1l','Ltb','Rora','Cd2','Prkca','Ctss','Fam169b','Gpx4','Bmyc','Nfkbia' ,],},\n",
    "'Naive CD4':{\"'Naive CD4\":['Lef1','Igfbp4','Bach2','Foxp1','Tpt1','Satb1','Fau','Klf2','Arhgap15','Npc2','Gimap6','Limd2','Dgka','Scml4','S1pr1','Rgs10','Grap2','Tgfbr2','Tcf7','Cytip' ,]},\n",
    "'CD4':{\"CD4\":[ 'Prkca','Themis','Cd28','Tnfsf8','Fyb','Ly6a','Slamf6','Ifi27l2a','Cd4','Itgb1','Atxn1','Ms4a6b','Ctla4','Hivep2','Tnfrsf4','Grap2','Maml2','Itga4','Mndal','Emb'  ]},\n",
    "'GZMK+ CD8':{\"GZMK+ CD8\":['Ccl5','Cd8b1','Cd8a','Nkg7','Themis','Gzmk','Ms4a4b','Atxn1','Gimap7','Grap2','Itga4','Fyn','Hcst','Ms4a6b','AW112010','Cst7','Ccl4','Cd3d','Fau','H2-Q7' ,],},\n",
    "'Naive CD8':{'Naive CD8':['Cd8b1','Cd8a','Igfbp4','Lef1','Themis','Klf2','Dnajc15','Nme2','Fam241a','Grap2','Ccr7','Sell','Saraf','Rasgrp2','Naca','Coro1a','Cmah','Arhgdib','Rras2','Pdlim1' ,],},\n",
    "'Invariant T':{'Invariant':['Cd7','Cd160','Anxa2','Fcer1g','Ikzf2','Pglyrp1','Ccl5','Xcl1','Klhdc2','Klrd1','Sidt1','Emb','Pfn1','Ripor2','Nkg7','Car2','Klrb1a','Nr4a2','Cotl1','Serf2' ,],},\n",
    "'DN':{\"DN\":['Ptma','Hmgb1','Dut','Stmn1','H2afz','Dntt','Pclaf','Hmgb2','Endou','Anp32e','Arpp21','Anp32b','Ran','Tuba1b','Ppia','Gapdh','Hnrnpab','Rrm2','Snrpd1','1500009L16Rik' ,],},\n",
    "'DP':{\"DP\":['Themis','Ccr9','Sox4','Tcf7','Satb1','Arpp21','Dntt','Rhoh','Trbc2','Endou','Cd27','Cd8b1','Cd247','Mier1','Tcf12','Lck','Lat','Ap3s1','Edem1','2610307P16Rik' ],},\n",
    "'NK':{'NK cells':['Fcer1g','Tyrobp','Ncr1','Klre1','Ccl5','Xcl1','Car2','Klrb1c','AW112010','Klrk1','Gzma','Nkg7','Irf8','Anxa2','Prf1','Klrd1','Ccl4','Il2rb','Txk','Gem' ,],},\n",
    "'NKT':{'NKT':['Nkg7','Gzmb','Ctsw','Sh3bgrl3','Id2','Il12rb2','Il2rb','Ly6c2','Gimap4','Chn2','Klrd1','Dennd4a','Xcl1','Cxcr6','Ctsd','Inpp4b','Dusp2','Tmsb10','Pitpnc1','AW112010' ,],},\n",
    "'ILC2':{'ILC2':['Furin','Itm2b','Il1rl1','Rora','Nfkb1','Gadd45b','Gata3','Emb','Nfkbia','Nfkbiz','Ccdc184','Areg','Nav2','Ltb4r1','Nfkbid','Arg1','Samsn1','Srgn','Tcrg-C1','Plscr1' ,],},\n",
    "'ILC3':{'ILC3':['Tmem176a','Il23r','Il1r1','Tmem176b','Ramp1','Emb','Lmo4','Furin','Rexo2','Pxdc1','Blk','Ikzf3','Icos','Cxcr6','Zbtb16','Serpinb1a','Ckb','Il7r','Selenop','S100a4' , ],},\n",
    "'B cells':{'Bcells':['Cd79a','Cd79b','Ebf1','Ms4a1','Ly6d','H2-DMb2','Igkc','Bank1','Cd74','Iglc2','H2-Eb1','H2-Aa','H2-Ab1','Mzb1','Iglc3','Ighm','Ly86','Mef2c','Cd37','Napsa' ,],},\n",
    "'cDC1':{'cDC1':['Cst3','Psap','Ppt1','Naaa','Plbd1','H2-DMb1','H2-Ab1','Wdfy4','H2-Aa','H2-Eb1','Cd74','Xcr1','Irf8','Alox5ap','Rab7b','Mpeg1','H2-DMa','Aif1','Ifi205','Pkib' , ],},\n",
    "'Plasma cells':{'plasmacells':['Ighm','Jchain','Igkc','Mzb1','Txndc5','Iglc2','Iglc1','Xbp1','Herpud1','Iglc3','Pou2af1','Cd79a','Ssr4','Eaf2','Serp1','Fkbp2','Iglv1','Sec11c','Ly6d','Prg2' ,],},\n",
    "'CCR7+ cDC': {'CCR7+ cDC':['Ifi30','Cd74','H2-Aa','H2-Ab1','H2-DMa','Ctsh','H2-Eb1','Ms4a6c','Spi1','Napsa','Alox5ap','Gpx1','H2-DMb1','Ctsz','Cst3','Syngr2','Gsn','Plbd1','Tyrobp','Ctss' , ],},\n",
    "'cDC2':{'cDC2':['Fscn1','Tmcc3','Tbc1d8','Marcks','Tmem123','Cxcl16','Relb','Lrrk1','Cacnb3','Tbc1d4','Samsn1','Strip2','Marcksl1','Cd63','Rogdi','Anxa3','Basp1','Cst3','Etv6','Syngr2' ,],},\n",
    "'p-DCs':{'p-DCs':['Siglech','Lair1','Tcf4','Pltp','Ctsl','Pld4','Grn','Rnase6','Ctsb','Ctsh','Irf8','Tyrobp','Atp1b1','Cd300c','Blnk','Eldr','Mpeg1','Kmo','Nucb2','Cyb561a3' ,]},\n",
    "'Macrophages':{'Macrophages':['Lyz2','Ctss','Csf1r','Gpx1','Cybb','Ms4a6c','Tyrobp','Lst1','Spi1','Fcer1g','Tgfbi','Psap','Zeb2','Plac8','Ctsh','Ftl1','Pld4','Ifitm3','Ly86','Ctsz' , ],},\n",
    "\n",
    "}"
   ]
  },
  {
   "cell_type": "code",
   "execution_count": null,
   "id": "94fdaf1b",
   "metadata": {},
   "outputs": [],
   "source": [
    "gene_set_annotations"
   ]
  },
  {
   "cell_type": "code",
   "execution_count": null,
   "id": "8ea6cf38",
   "metadata": {},
   "outputs": [],
   "source": [
    "annotations=gene_set_annotations"
   ]
  },
  {
   "cell_type": "code",
   "execution_count": null,
   "id": "7d8f7088",
   "metadata": {},
   "outputs": [],
   "source": [
    "def check_gene_set_dictionary(young, annotations, obs_key='cell_type_subset',global_key='global', return_dict = True):\n",
    "    '''\n",
    "    Filters annotations dictionary contains only genes contained in the adata. \n",
    "    Checks that annotations dictionary cell type keys and adata cell types are identical.\n",
    "    Checks that all gene sets in annotations dictionary contain >2 genes after filtering.\n",
    "    \n",
    "    adata: AnnData , data to use with Spectra\n",
    "    annotations: dict , gene set annotations dictionary to use with Spectra\n",
    "    obs_key: str , column name for cell type annotations in adata.obs\n",
    "    global_key: str , key for global gene sests in gene set annotation dictionary\n",
    "    return_dict: bool , return filtered gene set annotation dictionary\n",
    "    \n",
    "    returns: dict , filtered gene set annotation dictionary\n",
    "    \n",
    "    '''\n",
    "    #test if keys match\n",
    "    adata_labels  = list(set(young.obs[obs_key]))+['global']#cell type labels in adata object\n",
    "    annotation_labels = list(annotations.keys())\n",
    "    matching_celltype_labels = list(set(adata_labels).intersection(annotation_labels))\n",
    "    if set(annotation_labels)==set(adata_labels):\n",
    "        print('Cell type labels in gene set annotation dictionary and AnnData object are identical')\n",
    "        dict_keys_OK = True\n",
    "    if len(annotation_labels)<len(adata_labels):\n",
    "        print('The following labels are missing in the gene set annotation dictionary:',set(adata_labels)-set(annotation_labels))\n",
    "        dict_keys_OK = False\n",
    "    if len(adata_labels)<len(annotation_labels):\n",
    "        print('The following labels are missing in the AnnData object:',set(annotation_labels)-set(adata_labels))\n",
    "        dict_keys_OK = False\n",
    "        \n",
    "    #check that gene sets in dictionary have len >2\n",
    "    Counter = 0\n",
    "    annotations_new = {}\n",
    "    for k,v in annotations.items():\n",
    "        annotations_new[k] = {}\n",
    "        for k2,v2 in v.items():\n",
    "            annotations_new[k][k2]= [x for x in v2 if x in young.var_names]\n",
    "            length = len(v2)\n",
    "            if length<3:\n",
    "                print('gene set',k2,'for cell type',k,'is of length',length)\n",
    "                Counter = Counter+1\n",
    "            \n",
    "    if Counter > 0:\n",
    "        print(Counter,'gene sets are too small. Gene sets must contain at least 3 genes')\n",
    "    elif Counter == 0 and dict_keys_OK:\n",
    "        print('Your gene set annotation dictionary is correctly formatted.')\n",
    "    if return_dict:\n",
    "        return annotations_new"
   ]
  },
  {
   "cell_type": "code",
   "execution_count": null,
   "id": "b4baffb1",
   "metadata": {},
   "outputs": [],
   "source": [
    "#define data paths\n",
    "#adata_path = '/Users/xleana/Desktop/Single_cell_course/spectra/data/sample_data.h5ad'#indicate where to find the gene expression AnnData object\n",
    "obs_key = 'cell_type_subset' #indicat the column name for the dataframe in adata.obs where to find the cell type lab\n"
   ]
  },
  {
   "cell_type": "code",
   "execution_count": null,
   "id": "f7100d96",
   "metadata": {},
   "outputs": [],
   "source": [
    "annotations = check_gene_set_dictionary(young, annotations, obs_key='cell_type_subset',global_key='global')"
   ]
  },
  {
   "cell_type": "code",
   "execution_count": null,
   "id": "5463265d",
   "metadata": {},
   "outputs": [],
   "source": [
    "annotations = check_gene_set_dictionary(young, gene_set_annotations, obs_key='cell_type_subset',global_key='global')"
   ]
  },
  {
   "cell_type": "code",
   "execution_count": null,
   "id": "d63589dd",
   "metadata": {
    "scrolled": true
   },
   "outputs": [],
   "source": [
    "sc.pp.highly_variable_genes(young, n_top_genes=4000, n_bins=20, flavor='seurat_v3')"
   ]
  },
  {
   "cell_type": "code",
   "execution_count": null,
   "id": "a40199f6",
   "metadata": {},
   "outputs": [],
   "source": [
    "#fit the model \n",
    "model = spc.est_spectra(adata = young, gene_set_dictionary = gene_set_annotations, \n",
    "                        use_highly_variable = True, cell_type_key = 'cell_type_subset', \n",
    "                        use_weights = True, lam = 0.1, \n",
    "                        delta=0.001,kappa = 0.00001, rho = 0.00001, \n",
    "                        use_cell_types = True, n_top_vals = 25, \n",
    "                        label_factors = True, #whether to label the factors by their overlap coefficient with the input gene sets\n",
    "                        overlap_threshold = 0.2, #minimum overlap coefficient that has to be surpassed to assign a label to a factor\n",
    "                        num_epochs=10000 #We run the recommended 10,000 epochs\n",
    "                       )"
   ]
  },
  {
   "cell_type": "code",
   "execution_count": null,
   "id": "b6566cd2",
   "metadata": {},
   "outputs": [],
   "source": [
    "young.uns['SPECTRA_overlap'] "
   ]
  },
  {
   "cell_type": "code",
   "execution_count": null,
   "id": "99a0d5e4",
   "metadata": {},
   "outputs": [],
   "source": [
    "#visualize factor cell scores \n",
    "factor_of_interest = young.uns['SPECTRA_overlap'].index[42] \n",
    "print('plotting factor:',young.uns['SPECTRA_overlap'].index[42])\n",
    "\n",
    "#add cell scores to obs\n",
    "cell_scores = young.obsm['SPECTRA_cell_scores'][:,42].astype(float)\n",
    "young.obs[factor_of_interest] = cell_scores\n",
    "sc.pl.umap(young,color=factor_of_interest,s=30,vmax=np.quantile(cell_scores,0.98))"
   ]
  },
  {
   "cell_type": "code",
   "execution_count": null,
   "id": "78623d5e",
   "metadata": {},
   "outputs": [],
   "source": [
    "sc.set_figure_params(dpi=80, dpi_save=300, color_map='viridis', vector_friendly=False, transparent=True)\n",
    "sc.pl.umap(\n",
    "    young, \n",
    "    color=factor_of_interest, \n",
    "    use_raw=False,\n",
    "    ncols=5,\n",
    "    wspace = 0.1,\n",
    "    outline_width=[0.6, 0.05],\n",
    "    size=15,\n",
    "    frameon=False,\n",
    "    add_outline=True,\n",
    "    sort_order = False,\n",
    "    vmax=np.quantile(cell_scores,0.98)\n",
    ")"
   ]
  },
  {
   "cell_type": "code",
   "execution_count": null,
   "id": "92288870",
   "metadata": {},
   "outputs": [],
   "source": [
    "#visualize factor cell scores (this is poorly fitted bc we only ran 2 epochs)\n",
    "factor_of_interest = young.uns['SPECTRA_overlap'].index[43]\n",
    "print('plotting factor:',young.uns['SPECTRA_overlap'].index[43])\n",
    "\n",
    "#add cell scores to obs\n",
    "cell_scores = young.obsm['SPECTRA_cell_scores'][:,43].astype(float)\n",
    "young.obs[factor_of_interest] = cell_scores\n",
    "sc.pl.umap(young,color=factor_of_interest,s=30,vmax=np.quantile(cell_scores,0.98))"
   ]
  },
  {
   "cell_type": "code",
   "execution_count": null,
   "id": "d32bf3be",
   "metadata": {},
   "outputs": [],
   "source": [
    "sc.set_figure_params(dpi=80, dpi_save=300, color_map='viridis', vector_friendly=False, transparent=True)\n",
    "sc.pl.umap(\n",
    "    young, \n",
    "    color=factor_of_interest, \n",
    "    use_raw=False,\n",
    "    ncols=5,\n",
    "    wspace = 0.1,\n",
    "    outline_width=[0.6, 0.05],\n",
    "    size=15,\n",
    "    frameon=False,\n",
    "    add_outline=True,\n",
    "    sort_order = False,\n",
    "    vmax=np.quantile(cell_scores,0.98)\n",
    ")"
   ]
  },
  {
   "cell_type": "code",
   "execution_count": null,
   "id": "3bc86c6a",
   "metadata": {},
   "outputs": [],
   "source": [
    "#so you can construct a dataframe for the factor gene weights\n",
    "\n",
    "#include cell type specificity as a prefix into the index\n",
    "index_labels = young.uns['SPECTRA_overlap'].index\n",
    "gene_weights = pd.DataFrame(young.uns['SPECTRA_factors'], \n",
    "                            index= index_labels,\n",
    "                            columns=young.var[young.var['spectra_vocab']].index)\n",
    "gene_weights"
   ]
  },
  {
   "cell_type": "code",
   "execution_count": null,
   "id": "a6773407",
   "metadata": {},
   "outputs": [],
   "source": [
    "gene_weightsT=gene_weights.T"
   ]
  },
  {
   "cell_type": "code",
   "execution_count": null,
   "id": "49b955ae",
   "metadata": {},
   "outputs": [],
   "source": [
    "gene_weightsT"
   ]
  },
  {
   "cell_type": "code",
   "execution_count": null,
   "id": "1b62628c",
   "metadata": {},
   "outputs": [],
   "source": [
    "gene_weightsT.to_csv('/Users/alemarquis/Desktop/Manuscript_Tregs/Revisions2/Spectra.csv')"
   ]
  },
  {
   "cell_type": "code",
   "execution_count": null,
   "id": "695428a3",
   "metadata": {},
   "outputs": [],
   "source": [
    "import magic"
   ]
  },
  {
   "cell_type": "code",
   "execution_count": null,
   "id": "97033f43",
   "metadata": {},
   "outputs": [],
   "source": [
    "magic_op = magic.MAGIC()"
   ]
  },
  {
   "cell_type": "code",
   "execution_count": null,
   "id": "eb921f55",
   "metadata": {},
   "outputs": [],
   "source": [
    "magic_op.set_params(knn=5, t=4)"
   ]
  },
  {
   "cell_type": "code",
   "execution_count": null,
   "id": "877374a8",
   "metadata": {},
   "outputs": [],
   "source": [
    "adataT=young[young.obs[\"cell_type\"]==\"T cells\"]"
   ]
  },
  {
   "cell_type": "code",
   "execution_count": null,
   "id": "99dc8419",
   "metadata": {},
   "outputs": [],
   "source": [
    "adataCD4_magic = magic_op.fit_transform(young, genes=gene_weightsT[['42-X-Tregs-X-Tregs']].sort_values(by = '42-X-Tregs-X-Tregs', ascending = False)[:200].index)"
   ]
  },
  {
   "cell_type": "code",
   "execution_count": null,
   "id": "dbbd445a",
   "metadata": {},
   "outputs": [],
   "source": [
    "young"
   ]
  },
  {
   "cell_type": "code",
   "execution_count": null,
   "id": "a8f036d0",
   "metadata": {},
   "outputs": [],
   "source": [
    "adataCD4_magic.uns[\"cell_type_subset_colors\"]=young.uns[\"cell_type_subset_colors\"]"
   ]
  },
  {
   "cell_type": "code",
   "execution_count": null,
   "id": "640baa06",
   "metadata": {},
   "outputs": [],
   "source": [
    "import scvelo as scv\n",
    "scv.set_figure_params(dpi=80, dpi_save=300, color_map='viridis', vector_friendly=True, transparent=True, format='pdf')"
   ]
  },
  {
   "cell_type": "code",
   "execution_count": null,
   "id": "e4456dc5",
   "metadata": {},
   "outputs": [],
   "source": [
    "scv.pl.heatmap(adataCD4_magic, var_names=gene_weightsT[['42-X-Tregs-X-Tregs']].sort_values(by = '42-X-Tregs-X-Tregs', ascending = False)[:200].index,\n",
    "               sortby='42-X-Tregs-X-Tregs', color_map='viridis', col_color=['cell_type_subset'], col_cluster= ['cell_type_subset'],             \n",
    "               n_convolve=100, figsize=(5,5),yticklabels=False) #save='46-X-Tregs-X-Tregs_viridis.pdf')"
   ]
  },
  {
   "cell_type": "code",
   "execution_count": null,
   "id": "e7d045c9",
   "metadata": {},
   "outputs": [],
   "source": [
    "adataCD4_magic2 = magic_op.fit_transform(young, genes=gene_weightsT[['43-X-Tregs-X-43']].sort_values(by = '43-X-Tregs-X-43', ascending = False)[:200].index)"
   ]
  },
  {
   "cell_type": "code",
   "execution_count": null,
   "id": "56c45a60",
   "metadata": {},
   "outputs": [],
   "source": [
    "adataCD4_magic2.uns[\"cell_type_subset_colors\"]=young.uns[\"cell_type_subset_colors\"]"
   ]
  },
  {
   "cell_type": "code",
   "execution_count": null,
   "id": "a1dbe65b",
   "metadata": {},
   "outputs": [],
   "source": [
    "import scvelo as scv\n",
    "scv.set_figure_params(dpi=80, dpi_save=300, color_map='viridis', vector_friendly=True, transparent=True, format='pdf')"
   ]
  },
  {
   "cell_type": "code",
   "execution_count": null,
   "id": "08c8121c",
   "metadata": {},
   "outputs": [],
   "source": [
    "scv.pl.heatmap(adataCD4_magic2, var_names=gene_weightsT[['43-X-Tregs-X-43']].sort_values(by = '43-X-Tregs-X-43', ascending = False)[:200].index,\n",
    "               sortby='43-X-Tregs-X-43', color_map='viridis', col_color=['cell_type_subset'], col_cluster= ['cell_type_subset'],             \n",
    "               n_convolve=100, figsize=(5,5),yticklabels=False) #save='46-X-Tregs-X-Tregs_viridis.pdf')"
   ]
  },
  {
   "cell_type": "markdown",
   "id": "398be1dd",
   "metadata": {},
   "source": [
    "### MiloR "
   ]
  },
  {
   "cell_type": "code",
   "execution_count": null,
   "id": "6b53e0bd",
   "metadata": {},
   "outputs": [],
   "source": [
    "df_temp = pd.DataFrame({'umap_x': adata.obsm['X_umap'][:, 0], 'umap_y': adata.obsm['X_umap'][:, 1], \n",
    "                        'stage': adata.obs['stage'], 'day': adata.obs['day']}, index = adata.obs.index)\n",
    "\n",
    "\n"
   ]
  },
  {
   "cell_type": "code",
   "execution_count": null,
   "id": "60d4fabb",
   "metadata": {},
   "outputs": [],
   "source": [
    "adata.obs[\"stage\"]"
   ]
  },
  {
   "cell_type": "code",
   "execution_count": null,
   "id": "4be3c680",
   "metadata": {},
   "outputs": [],
   "source": [
    "import seaborn as sns\n",
    "fig = plt.figure(figsize = (8*2, 6))\n",
    "ax = fig.add_subplot(1, 2, 1)\n",
    "sns.scatterplot(data = df_temp, x = 'umap_x', y = 'umap_y', s = 1, ax = ax)\n",
    "sns.kdeplot(data=df_temp[df_temp['stage'] == '02mo'], x=\"umap_x\", y=\"umap_y\",\n",
    "    fill=True, thresh=0, levels=10, cmap=\"Purples\", ax = ax, cut = 4)\n",
    "ax.set_xticks([]);\n",
    "ax.set_yticks([]);\n",
    "ax.set_title('young', fontsize = 16)\n",
    "ax.set_xlabel('UMAP-1')\n",
    "ax.set_ylabel('UMAP-2')\n",
    "ax.spines['right'].set_visible(False)\n",
    "ax.spines['top'].set_visible(False)\n",
    "ax.spines['left'].set_visible(False)\n",
    "ax.spines['bottom'].set_visible(False)\n",
    "\n",
    "ax = fig.add_subplot(1, 2, 2)\n",
    "sns.scatterplot(data = df_temp, x = 'umap_x', y = 'umap_y', s = 0, ax = ax)\n",
    "sns.kdeplot(data=df_temp[df_temp['stage'] == '18mo'], x=\"umap_x\", y=\"umap_y\",\n",
    "    fill=True, thresh=0, levels=10, cmap=\"Purples\", ax = ax, cut = 4)\n",
    "ax.set_xticks([]);\n",
    "ax.set_yticks([]);\n",
    "ax.set_title('old', fontsize = 16)\n",
    "ax.set_xlabel('UMAP-1')\n",
    "ax.set_ylabel('UMAP-2')\n",
    "ax.spines['right'].set_visible(False)\n",
    "ax.spines['top'].set_visible(False)\n",
    "ax.spines['left'].set_visible(False)\n",
    "ax.spines['bottom'].set_visible(False)\n",
    "\n",
    "#fig.savefig(outbase + 'Ctrl_DT_kdeplot_endo.png', dpi = 150, bbox_inches = 'tight')"
   ]
  },
  {
   "cell_type": "code",
   "execution_count": null,
   "id": "35fefc36",
   "metadata": {},
   "outputs": [],
   "source": [
    "df_temp = pd.DataFrame({'umap_x': adata.obsm['X_umap'][:, 0], 'umap_y': adata.obsm['X_umap'][:, 1], \n",
    "                        'stage': adata.obs['stage'], 'day': adata.obs['day']}, index = adata.obs.index)\n",
    "\n",
    "\n"
   ]
  },
  {
   "cell_type": "code",
   "execution_count": null,
   "id": "4bf37327",
   "metadata": {},
   "outputs": [],
   "source": [
    "df_temp"
   ]
  },
  {
   "cell_type": "code",
   "execution_count": null,
   "id": "27989234",
   "metadata": {},
   "outputs": [],
   "source": [
    "adata.obs[\"stage\"]"
   ]
  },
  {
   "cell_type": "code",
   "execution_count": null,
   "id": "07bb233f",
   "metadata": {},
   "outputs": [],
   "source": [
    "import seaborn as sns\n",
    "fig = plt.figure(figsize = (8*2, 6))\n",
    "ax = fig.add_subplot(1, 2, 1)\n",
    "sns.scatterplot(data = df_temp, x = 'umap_x', y = 'umap_y', s = 1, ax = ax)\n",
    "sns.kdeplot(data=df_temp[df_temp['day'] == 'd1'], x=\"umap_x\", y=\"umap_y\",\n",
    "    fill=True, thresh=0, levels=10, cmap=\"Purples\", ax = ax, cut = 4)\n",
    "ax.set_xticks([]);\n",
    "ax.set_yticks([]);\n",
    "ax.set_title('d1', fontsize = 16)\n",
    "ax.set_xlabel('UMAP-1')\n",
    "ax.set_ylabel('UMAP-2')\n",
    "ax.spines['right'].set_visible(False)\n",
    "ax.spines['top'].set_visible(False)\n",
    "ax.spines['left'].set_visible(False)\n",
    "ax.spines['bottom'].set_visible(False)\n",
    "\n",
    "ax = fig.add_subplot(1, 2, 2)\n",
    "sns.scatterplot(data = df_temp, x = 'umap_x', y = 'umap_y', s = 0, ax = ax)\n",
    "sns.kdeplot(data=df_temp[df_temp['day'] == 'd4'], x=\"umap_x\", y=\"umap_y\",\n",
    "    fill=True, thresh=0, levels=10, cmap=\"Purples\", ax = ax, cut = 4)\n",
    "ax.set_xticks([]);\n",
    "ax.set_yticks([]);\n",
    "ax.set_title('d4', fontsize = 16)\n",
    "ax.set_xlabel('UMAP-1')\n",
    "ax.set_ylabel('UMAP-2')\n",
    "ax.spines['right'].set_visible(False)\n",
    "ax.spines['top'].set_visible(False)\n",
    "ax.spines['left'].set_visible(False)\n",
    "ax.spines['bottom'].set_visible(False)\n",
    "\n",
    "#fig.savefig(outbase + 'Ctrl_DT_kdeplot_endo.png', dpi = 150, bbox_inches = 'tight')"
   ]
  },
  {
   "cell_type": "code",
   "execution_count": null,
   "id": "263075d4",
   "metadata": {},
   "outputs": [],
   "source": [
    "import seaborn as sns\n",
    "fig = plt.figure(figsize = (8*2, 6))\n",
    "ax = fig.add_subplot(1, 2, 1)\n",
    "sns.scatterplot(data = df_temp, x = 'umap_x', y = 'umap_y', s = 1, ax = ax)\n",
    "sns.kdeplot(data=df_temp[df_temp['day'] == 'd0'], x=\"umap_x\", y=\"umap_y\",\n",
    "    fill=True, thresh=0, levels=10, cmap=\"Purples\", ax = ax, cut = 4)\n",
    "ax.set_xticks([]);\n",
    "ax.set_yticks([]);\n",
    "ax.set_title('d0', fontsize = 16)\n",
    "ax.set_xlabel('UMAP-1')\n",
    "ax.set_ylabel('UMAP-2')\n",
    "ax.spines['right'].set_visible(False)\n",
    "ax.spines['top'].set_visible(False)\n",
    "ax.spines['left'].set_visible(False)\n",
    "ax.spines['bottom'].set_visible(False)\n",
    "\n",
    "ax = fig.add_subplot(1, 2, 2)\n",
    "sns.scatterplot(data = df_temp, x = 'umap_x', y = 'umap_y', s = 0, ax = ax)\n",
    "sns.kdeplot(data=df_temp[df_temp['day'] == 'd7'], x=\"umap_x\", y=\"umap_y\",\n",
    "    fill=True, thresh=0, levels=10, cmap=\"Purples\", ax = ax, cut = 4)\n",
    "ax.set_xticks([]);\n",
    "ax.set_yticks([]);\n",
    "ax.set_title('d7', fontsize = 16)\n",
    "ax.set_xlabel('UMAP-1')\n",
    "ax.set_ylabel('UMAP-2')\n",
    "ax.spines['right'].set_visible(False)\n",
    "ax.spines['top'].set_visible(False)\n",
    "ax.spines['left'].set_visible(False)\n",
    "ax.spines['bottom'].set_visible(False)\n",
    "\n",
    "#fig.savefig(outbase + 'Ctrl_DT_kdeplot_endo.png', dpi = 150, bbox_inches = 'tight')"
   ]
  },
  {
   "cell_type": "code",
   "execution_count": null,
   "id": "7847d1cd",
   "metadata": {},
   "outputs": [],
   "source": [
    "adata.obs[\"stage\"]"
   ]
  },
  {
   "cell_type": "code",
   "execution_count": null,
   "id": "644f007a",
   "metadata": {},
   "outputs": [],
   "source": [
    "import seaborn as sns\n",
    "fig = plt.figure(figsize = (8*2, 6))\n",
    "ax = fig.add_subplot(1, 2, 1)\n",
    "sns.scatterplot(data = df_temp, x = 'umap_x', y = 'umap_y', s = 1, ax = ax)\n",
    "sns.kdeplot(data=df_temp[df_temp['day'] == 'd0'], x=\"umap_x\", y=\"umap_y\",\n",
    "    fill=True, thresh=0, levels=10, cmap=\"Purples\", ax = ax, cut = 4)\n",
    "ax.set_xticks([]);\n",
    "ax.set_yticks([]);\n",
    "ax.set_title('young', fontsize = 16)\n",
    "ax.set_xlabel('UMAP-1')\n",
    "ax.set_ylabel('UMAP-2')\n",
    "ax.spines['right'].set_visible(False)\n",
    "ax.spines['top'].set_visible(False)\n",
    "ax.spines['left'].set_visible(False)\n",
    "ax.spines['bottom'].set_visible(False)\n",
    "\n",
    "ax = fig.add_subplot(1, 2, 2)\n",
    "sns.scatterplot(data = df_temp, x = 'umap_x', y = 'umap_y', s = 0, ax = ax)\n",
    "sns.kdeplot(data=df_temp[df_temp['day'] == 'd4'], x=\"umap_x\", y=\"umap_y\",\n",
    "    fill=True, thresh=0, levels=10, cmap=\"Purples\", ax = ax, cut = 4)\n",
    "ax.set_xticks([]);\n",
    "ax.set_yticks([]);\n",
    "ax.set_title('old', fontsize = 16)\n",
    "ax.set_xlabel('UMAP-1')\n",
    "ax.set_ylabel('UMAP-2')\n",
    "ax.spines['right'].set_visible(False)\n",
    "ax.spines['top'].set_visible(False)\n",
    "ax.spines['left'].set_visible(False)\n",
    "ax.spines['bottom'].set_visible(False)\n",
    "\n",
    "#fig.savefig(outbase + 'Ctrl_DT_kdeplot_endo.png', dpi = 150, bbox_inches = 'tight')"
   ]
  },
  {
   "cell_type": "code",
   "execution_count": null,
   "id": "80bc87c4",
   "metadata": {},
   "outputs": [],
   "source": [
    "df_temp = pd.DataFrame({'umap_x': adata[adata.obs[\"day\"]==\"d0\"].obsm['X_umap'][:, 0], 'umap_y': adata[adata.obs[\"day\"]==\"d0\"].obsm['X_umap'][:, 1], \n",
    "                        'stage': adata[adata.obs[\"day\"]==\"d0\"].obs['stage'], 'day': adata[adata.obs[\"day\"]==\"d0\"].obs['day']}, index = adata[adata.obs[\"day\"]==\"d0\"].obs.index)\n",
    "\n",
    "\n"
   ]
  },
  {
   "cell_type": "code",
   "execution_count": null,
   "id": "7a148fa1",
   "metadata": {},
   "outputs": [],
   "source": [
    "import seaborn as sns\n",
    "fig = plt.figure(figsize = (8*2, 6))\n",
    "ax = fig.add_subplot(1, 2, 1)\n",
    "sns.scatterplot(data = df_temp, x = 'umap_x', y = 'umap_y', s = 1, ax = ax)\n",
    "sns.kdeplot(data=df_temp[df_temp['stage'] == '02mo'], x=\"umap_x\", y=\"umap_y\",\n",
    "    fill=True, thresh=0, levels=10, cmap=\"Purples\", ax = ax, cut = 4)\n",
    "ax.set_xticks([]);\n",
    "ax.set_yticks([]);\n",
    "ax.set_title('young', fontsize = 16)\n",
    "ax.set_xlabel('UMAP-1')\n",
    "ax.set_ylabel('UMAP-2')\n",
    "ax.spines['right'].set_visible(False)\n",
    "ax.spines['top'].set_visible(False)\n",
    "ax.spines['left'].set_visible(False)\n",
    "ax.spines['bottom'].set_visible(False)\n",
    "\n",
    "ax = fig.add_subplot(1, 2, 2)\n",
    "sns.scatterplot(data = df_temp, x = 'umap_x', y = 'umap_y', s = 0, ax = ax)\n",
    "sns.kdeplot(data=df_temp[df_temp['stage'] == '18mo'], x=\"umap_x\", y=\"umap_y\",\n",
    "    fill=True, thresh=0, levels=10, cmap=\"Purples\", ax = ax, cut = 4)\n",
    "ax.set_xticks([]);\n",
    "ax.set_yticks([]);\n",
    "ax.set_title('old', fontsize = 16)\n",
    "ax.set_xlabel('UMAP-1')\n",
    "ax.set_ylabel('UMAP-2')\n",
    "ax.spines['right'].set_visible(False)\n",
    "ax.spines['top'].set_visible(False)\n",
    "ax.spines['left'].set_visible(False)\n",
    "ax.spines['bottom'].set_visible(False)\n",
    "\n",
    "#fig.savefig(outbase + 'Ctrl_DT_kdeplot_endo.png', dpi = 150, bbox_inches = 'tight')"
   ]
  },
  {
   "cell_type": "code",
   "execution_count": null,
   "id": "da0e84ad",
   "metadata": {},
   "outputs": [],
   "source": [
    "df_temp = pd.DataFrame({'umap_x': adata[adata.obs[\"day\"]==\"d1\"].obsm['X_umap'][:, 0], 'umap_y': adata[adata.obs[\"day\"]==\"d1\"].obsm['X_umap'][:, 1], \n",
    "                        'stage': adata[adata.obs[\"day\"]==\"d1\"].obs['stage'], 'day': adata[adata.obs[\"day\"]==\"d1\"].obs['day']}, index = adata[adata.obs[\"day\"]==\"d1\"].obs.index)\n",
    "\n",
    "\n"
   ]
  },
  {
   "cell_type": "code",
   "execution_count": null,
   "id": "d06d9c3c",
   "metadata": {},
   "outputs": [],
   "source": [
    "import seaborn as sns\n",
    "fig = plt.figure(figsize = (8*2, 6))\n",
    "ax = fig.add_subplot(1, 2, 1)\n",
    "sns.scatterplot(data = df_temp, x = 'umap_x', y = 'umap_y', s = 1, ax = ax)\n",
    "sns.kdeplot(data=df_temp[df_temp['stage'] == '02mo'], x=\"umap_x\", y=\"umap_y\",\n",
    "    fill=True, thresh=0, levels=10, cmap=\"Purples\", ax = ax, cut = 4)\n",
    "ax.set_xticks([]);\n",
    "ax.set_yticks([]);\n",
    "ax.set_title('young', fontsize = 16)\n",
    "ax.set_xlabel('UMAP-1')\n",
    "ax.set_ylabel('UMAP-2')\n",
    "ax.spines['right'].set_visible(False)\n",
    "ax.spines['top'].set_visible(False)\n",
    "ax.spines['left'].set_visible(False)\n",
    "ax.spines['bottom'].set_visible(False)\n",
    "\n",
    "ax = fig.add_subplot(1, 2, 2)\n",
    "sns.scatterplot(data = df_temp, x = 'umap_x', y = 'umap_y', s = 0, ax = ax)\n",
    "sns.kdeplot(data=df_temp[df_temp['stage'] == '18mo'], x=\"umap_x\", y=\"umap_y\",\n",
    "    fill=True, thresh=0, levels=10, cmap=\"Purples\", ax = ax, cut = 4)\n",
    "ax.set_xticks([]);\n",
    "ax.set_yticks([]);\n",
    "ax.set_title('old', fontsize = 16)\n",
    "ax.set_xlabel('UMAP-1')\n",
    "ax.set_ylabel('UMAP-2')\n",
    "ax.spines['right'].set_visible(False)\n",
    "ax.spines['top'].set_visible(False)\n",
    "ax.spines['left'].set_visible(False)\n",
    "ax.spines['bottom'].set_visible(False)\n",
    "\n",
    "#fig.savefig(outbase + 'Ctrl_DT_kdeplot_endo.png', dpi = 150, bbox_inches = 'tight')"
   ]
  },
  {
   "cell_type": "code",
   "execution_count": null,
   "id": "876fb954",
   "metadata": {},
   "outputs": [],
   "source": [
    "df_temp = pd.DataFrame({'umap_x': adata[adata.obs[\"day\"]==\"d4\"].obsm['X_umap'][:, 0], 'umap_y': adata[adata.obs[\"day\"]==\"d4\"].obsm['X_umap'][:, 1], \n",
    "                        'stage': adata[adata.obs[\"day\"]==\"d4\"].obs['stage'], 'day': adata[adata.obs[\"day\"]==\"d4\"].obs['day']}, index = adata[adata.obs[\"day\"]==\"d4\"].obs.index)\n",
    "\n",
    "\n"
   ]
  },
  {
   "cell_type": "code",
   "execution_count": null,
   "id": "ffa5d36b",
   "metadata": {},
   "outputs": [],
   "source": [
    "import seaborn as sns\n",
    "fig = plt.figure(figsize = (8*2, 6))\n",
    "ax = fig.add_subplot(1, 2, 1)\n",
    "sns.scatterplot(data = df_temp, x = 'umap_x', y = 'umap_y', s = 1, ax = ax)\n",
    "sns.kdeplot(data=df_temp[df_temp['stage'] == '02mo'], x=\"umap_x\", y=\"umap_y\",\n",
    "    fill=True, thresh=0, levels=10, cmap=\"Purples\", ax = ax, cut = 4)\n",
    "ax.set_xticks([]);\n",
    "ax.set_yticks([]);\n",
    "ax.set_title('young', fontsize = 16)\n",
    "ax.set_xlabel('UMAP-1')\n",
    "ax.set_ylabel('UMAP-2')\n",
    "ax.spines['right'].set_visible(False)\n",
    "ax.spines['top'].set_visible(False)\n",
    "ax.spines['left'].set_visible(False)\n",
    "ax.spines['bottom'].set_visible(False)\n",
    "\n",
    "ax = fig.add_subplot(1, 2, 2)\n",
    "sns.scatterplot(data = df_temp, x = 'umap_x', y = 'umap_y', s = 0, ax = ax)\n",
    "sns.kdeplot(data=df_temp[df_temp['stage'] == '18mo'], x=\"umap_x\", y=\"umap_y\",\n",
    "    fill=True, thresh=0, levels=10, cmap=\"Purples\", ax = ax, cut = 4)\n",
    "ax.set_xticks([]);\n",
    "ax.set_yticks([]);\n",
    "ax.set_title('old', fontsize = 16)\n",
    "ax.set_xlabel('UMAP-1')\n",
    "ax.set_ylabel('UMAP-2')\n",
    "ax.spines['right'].set_visible(False)\n",
    "ax.spines['top'].set_visible(False)\n",
    "ax.spines['left'].set_visible(False)\n",
    "ax.spines['bottom'].set_visible(False)\n",
    "\n",
    "#fig.savefig(outbase + 'Ctrl_DT_kdeplot_endo.png', dpi = 150, bbox_inches = 'tight')"
   ]
  },
  {
   "cell_type": "code",
   "execution_count": null,
   "id": "f2b3ea3a",
   "metadata": {},
   "outputs": [],
   "source": [
    "df_temp = pd.DataFrame({'umap_x': adata[adata.obs[\"day\"]==\"d7\"].obsm['X_umap'][:, 0], 'umap_y': adata[adata.obs[\"day\"]==\"d7\"].obsm['X_umap'][:, 1], \n",
    "                        'stage': adata[adata.obs[\"day\"]==\"d7\"].obs['stage'], 'day': adata[adata.obs[\"day\"]==\"d7\"].obs['day']}, index = adata[adata.obs[\"day\"]==\"d7\"].obs.index)\n",
    "\n",
    "\n"
   ]
  },
  {
   "cell_type": "code",
   "execution_count": null,
   "id": "cab900a6",
   "metadata": {},
   "outputs": [],
   "source": [
    "import seaborn as sns\n",
    "fig = plt.figure(figsize = (8*2, 6))\n",
    "ax = fig.add_subplot(1, 2, 1)\n",
    "sns.scatterplot(data = df_temp, x = 'umap_x', y = 'umap_y', s = 1, ax = ax)\n",
    "sns.kdeplot(data=df_temp[df_temp['stage'] == '02mo'], x=\"umap_x\", y=\"umap_y\",\n",
    "    fill=True, thresh=0, levels=10, cmap=\"Purples\", ax = ax, cut = 4)\n",
    "ax.set_xticks([]);\n",
    "ax.set_yticks([]);\n",
    "ax.set_title('young', fontsize = 16)\n",
    "ax.set_xlabel('UMAP-1')\n",
    "ax.set_ylabel('UMAP-2')\n",
    "ax.spines['right'].set_visible(False)\n",
    "ax.spines['top'].set_visible(False)\n",
    "ax.spines['left'].set_visible(False)\n",
    "ax.spines['bottom'].set_visible(False)\n",
    "\n",
    "ax = fig.add_subplot(1, 2, 2)\n",
    "sns.scatterplot(data = df_temp, x = 'umap_x', y = 'umap_y', s = 0, ax = ax)\n",
    "sns.kdeplot(data=df_temp[df_temp['stage'] == '18mo'], x=\"umap_x\", y=\"umap_y\",\n",
    "    fill=True, thresh=0, levels=10, cmap=\"Purples\", ax = ax, cut = 4)\n",
    "ax.set_xticks([]);\n",
    "ax.set_yticks([]);\n",
    "ax.set_title('old', fontsize = 16)\n",
    "ax.set_xlabel('UMAP-1')\n",
    "ax.set_ylabel('UMAP-2')\n",
    "ax.spines['right'].set_visible(False)\n",
    "ax.spines['top'].set_visible(False)\n",
    "ax.spines['left'].set_visible(False)\n",
    "ax.spines['bottom'].set_visible(False)\n",
    "\n",
    "#fig.savefig(outbase + 'Ctrl_DT_kdeplot_endo.png', dpi = 150, bbox_inches = 'tight')"
   ]
  },
  {
   "cell_type": "code",
   "execution_count": null,
   "id": "9e8e7a62",
   "metadata": {},
   "outputs": [],
   "source": [
    "# anndata2ri interconverts AnnData and Single Cell Experiment objects\n",
    "anndata2ri.activate()\n",
    "%load_ext rpy2.ipython\n",
    "#%reload_ext rpy2.ipython"
   ]
  },
  {
   "cell_type": "code",
   "execution_count": null,
   "id": "f8f8199b",
   "metadata": {},
   "outputs": [],
   "source": [
    "adata.layers['norm_counts'] = adata.X.copy()"
   ]
  },
  {
   "cell_type": "code",
   "execution_count": null,
   "id": "f280d232",
   "metadata": {},
   "outputs": [],
   "source": [
    "adata_milo = sc.AnnData(adata.layers['norm_counts'].copy(), \n",
    "                        obs = adata.obs[['stage', 'day', 'cell_type_subset',\"sample\"]], \n",
    "                        var = adata.var)\n",
    "adata_milo.obsm['X_pca'] = adata.obsm['X_pca']\n",
    "adata_milo.obsm['X_umap'] = adata.obsm['X_umap']"
   ]
  },
  {
   "cell_type": "code",
   "execution_count": null,
   "id": "d1a5730b",
   "metadata": {},
   "outputs": [],
   "source": [
    "%%R\n",
    "library(igraph)\n",
    "\n",
    "library(miloR)"
   ]
  },
  {
   "cell_type": "code",
   "execution_count": null,
   "id": "aad76ee1",
   "metadata": {},
   "outputs": [],
   "source": [
    "%%R -i adata_milo\n",
    "adata_milo"
   ]
  },
  {
   "cell_type": "code",
   "execution_count": null,
   "id": "e97531d0",
   "metadata": {},
   "outputs": [],
   "source": [
    "%%R \n",
    "myeloid_milo <- Milo(adata_milo)\n",
    "myeloid_milo"
   ]
  },
  {
   "cell_type": "code",
   "execution_count": null,
   "id": "28e97462",
   "metadata": {},
   "outputs": [],
   "source": [
    "%%R\n",
    "myeloid_milo"
   ]
  },
  {
   "cell_type": "code",
   "execution_count": null,
   "id": "26dc74a2",
   "metadata": {},
   "outputs": [],
   "source": [
    "%%R \n",
    "myeloid_milo <- buildGraph(myeloid_milo, k=30, d=30, reduced.dim = \"PCA\")"
   ]
  },
  {
   "cell_type": "code",
   "execution_count": null,
   "id": "66e6e35d",
   "metadata": {},
   "outputs": [],
   "source": [
    "adata_milo"
   ]
  },
  {
   "cell_type": "code",
   "execution_count": null,
   "id": "a4973385",
   "metadata": {},
   "outputs": [],
   "source": [
    "design_df = adata_milo.obs[['sample',\"stage\",\"day\",]].copy()\n",
    "design_df.drop_duplicates(inplace=True)\n",
    "design_df.index = design_df['sample']\n",
    "design_df"
   ]
  },
  {
   "cell_type": "code",
   "execution_count": null,
   "id": "4c8b87d8",
   "metadata": {},
   "outputs": [],
   "source": [
    "%%R -i design_df -o DA_results_myeloid\n",
    "## Define neighbourhoods\n",
    "myeloid_milo <- makeNhoods(myeloid_milo, prop = 0.1, k = 30, d=30, refined = TRUE, reduced_dims = \"PCA\")\n",
    "\n",
    "## Count cells in neighbourhoods\n",
    "myeloid_milo <- countCells(myeloid_milo, meta.data = data.frame(colData(myeloid_milo)), sample=\"sample\")\n",
    "\n",
    "## Calculate distances between cells in neighbourhoods\n",
    "## for spatial FDR correction\n",
    "myeloid_milo <- calcNhoodDistance(myeloid_milo, d=30, reduced.dim = \"PCA\")\n",
    "\n",
    "\n",
    "## Test for differential abundance\n",
    "DA_results_myeloid <- testNhoods(myeloid_milo, design = ~stage, design.df = design_df)"
   ]
  },
  {
   "cell_type": "code",
   "execution_count": null,
   "id": "12d87e02",
   "metadata": {},
   "outputs": [],
   "source": [
    "DA_results_myeloid.head()"
   ]
  },
  {
   "cell_type": "code",
   "execution_count": null,
   "id": "e9b484c6",
   "metadata": {},
   "outputs": [],
   "source": [
    "plt.plot(DA_results_myeloid.logFC, -np.log10(DA_results_myeloid.SpatialFDR), '.');\n",
    "plt.xlabel(\"log-Fold Change\");\n",
    "plt.ylabel(\"- log10(Spatial FDR)\")"
   ]
  },
  {
   "cell_type": "code",
   "execution_count": null,
   "id": "910bcf27",
   "metadata": {},
   "outputs": [],
   "source": [
    "%%R\n",
    "myeloid_milo <- buildNhoodGraph(myeloid_milo)"
   ]
  },
  {
   "cell_type": "code",
   "execution_count": null,
   "id": "e70e8556",
   "metadata": {},
   "outputs": [],
   "source": [
    "%%R \n",
    "head(DA_results_myeloid)"
   ]
  },
  {
   "cell_type": "code",
   "execution_count": null,
   "id": "2cf13c13",
   "metadata": {},
   "outputs": [],
   "source": [
    "%%R -w 800 -h 600\n",
    "alpha_val = 1\n",
    "library(ggplot2)\n",
    "p1 <- plotNhoodGraphDA(myeloid_milo, DA_results_myeloid, res_column = 'SpatialFDR', alpha=alpha_val, \n",
    "                 layout=\"UMAP\", size_range = c(2, 8), node_stroke =0.8)\n",
    "p1"
   ]
  },
  {
   "cell_type": "code",
   "execution_count": null,
   "id": "e7ff01d6",
   "metadata": {},
   "outputs": [],
   "source": [
    "%%R -w 800 -h 600\n",
    "alpha_val = 1\n",
    "library(ggplot2)\n",
    "p1 <- plotNhoodGraphDA(myeloid_milo, DA_results_myeloid, res_column = 'logFC', alpha=alpha_val, \n",
    "                 layout=\"UMAP\", size_range = c(2, 8), node_stroke =0.8)\n",
    "p1"
   ]
  },
  {
   "cell_type": "code",
   "execution_count": null,
   "id": "84cfc7dd",
   "metadata": {},
   "outputs": [],
   "source": [
    "%%R\n",
    "myeloid_milo"
   ]
  },
  {
   "cell_type": "code",
   "execution_count": null,
   "id": "b88fde3a",
   "metadata": {},
   "outputs": [],
   "source": [
    "%%R \n",
    "DA_results_myeloid <- annotateNhoods(myeloid_milo, DA_results_myeloid, coldata_col = 'cell_type_subset')\n",
    "head(DA_results_myeloid)"
   ]
  },
  {
   "cell_type": "code",
   "execution_count": null,
   "id": "3cb24e21",
   "metadata": {},
   "outputs": [],
   "source": [
    "%%R\n",
    "library(ggplot2)\n",
    "ggplot(DA_results_myeloid, aes(cell_type_subset_fraction)) + geom_histogram(bins=50)"
   ]
  },
  {
   "cell_type": "code",
   "execution_count": null,
   "id": "c6a792ef",
   "metadata": {},
   "outputs": [],
   "source": [
    "%%R -o DA_results_myeloid\n",
    "DA_results_myeloid$Celltypes <- ifelse(DA_results_myeloid$cell_type_subset_fraction < 0.8, \"Mixed\", DA_results_myeloid$cell_type_subset)\n",
    "head(DA_results_myeloid)"
   ]
  },
  {
   "cell_type": "code",
   "execution_count": null,
   "id": "158eae3a",
   "metadata": {},
   "outputs": [],
   "source": [
    "%%R\n",
    "plotDAbeeswarm(DA_results_myeloid, group.by = \"cell_type_subset\", alpha = 1)"
   ]
  },
  {
   "cell_type": "code",
   "execution_count": null,
   "id": "c60ff621",
   "metadata": {},
   "outputs": [],
   "source": [
    "import matplotlib.colors as mcolors\n",
    "import matplotlib.cm as cm\n",
    "\n",
    "\n",
    "for j, item in enumerate(['FDR', 'SpatialFDR', 'PValue']):\n",
    "    fig = plt.figure(figsize = (8, 12))\n",
    "    DA_results_myeloid['log_' + item] = -np.log10(DA_results_myeloid[item])\n",
    "    ax = fig.add_subplot(1, 1, 1)\n",
    "    plot = sns.stripplot(x='logFC', y=\"cell_type_subset\", hue='log_' + item, data=DA_results_myeloid, size = 6, \n",
    "              palette='cividis', \n",
    "              jitter=0.2, edgecolor='none', ax = ax)\n",
    "    plot.get_legend().set_visible(False)\n",
    "    #ax.set_xticklabels(ax.get_xticks(), fontsize = 18)\n",
    "    #ax.set_yticklabels(ax.get_yticks(), fontsize = 18)\n",
    "    ax.tick_params(axis='both', which='major', labelsize=18)\n",
    "    ax.set_ylabel('T cell subsets', fontsize = 18)\n",
    "    ax.set_xlabel('logFC', fontsize = 18)\n",
    "    sns.despine()\n",
    "\n",
    "\n",
    "    # Drawing the side color bar\n",
    "    normalize = mcolors.Normalize(vmin=DA_results_myeloid['log_' + item].min(), \n",
    "                              vmax=DA_results_myeloid['log_' + item].max())\n",
    "    colormap = cm.cividis\n",
    "\n",
    "    for n in DA_results_myeloid['log_' + item]:\n",
    "        plt.plot(color=colormap(normalize(n)))\n",
    "\n",
    "    scalarmappaple = cm.ScalarMappable(norm=normalize, cmap=colormap)\n",
    "    scalarmappaple.set_array(DA_results_myeloid['log_' + item])\n",
    "    cbar = fig.colorbar(scalarmappaple)\n",
    "    cbar.ax.set_yticklabels(cbar.ax.get_yticks(), fontsize = 18)\n",
    "    cbar.ax.set_ylabel('-log10(' + item + ')',  labelpad = 20, rotation=90, fontsize = 18)\n",
    "    ax.grid(False)\n",
    "    #fig.savefig(outbase + 'milor_myeloid_swarmplot_colored_by_log_' + item + '.pdf', dpi = 300, \n",
    "                #bbox_inches = 'tight')"
   ]
  },
  {
   "cell_type": "code",
   "execution_count": null,
   "id": "a3cdad78-0b03-400d-916e-35fd8f45a02f",
   "metadata": {},
   "outputs": [],
   "source": []
  },
  {
   "cell_type": "code",
   "execution_count": null,
   "id": "bf70c651-ff38-4c40-8d26-81a7521352d2",
   "metadata": {},
   "outputs": [],
   "source": [
    "sc.pl.umap(adata, color=\"cell_type_subset\")"
   ]
  },
  {
   "cell_type": "code",
   "execution_count": null,
   "id": "b80a25d5-9a4e-4895-83a4-2bcdad205642",
   "metadata": {},
   "outputs": [],
   "source": [
    "adatad0=adata[adata.obs['day']=='d0']"
   ]
  },
  {
   "cell_type": "code",
   "execution_count": null,
   "id": "2fb8b79e-a6e4-49f6-9008-c7743b45cd37",
   "metadata": {},
   "outputs": [],
   "source": [
    "sc.pl.umap(adatad0,color=\"stage\")"
   ]
  },
  {
   "cell_type": "code",
   "execution_count": null,
   "id": "49811ca7-682d-4925-81da-1e946b3dac63",
   "metadata": {},
   "outputs": [],
   "source": [
    "adatad1=adata[adata.obs['day']=='d1']\n",
    "sc.pl.umap(adatad1,color=\"stage\")"
   ]
  },
  {
   "cell_type": "code",
   "execution_count": null,
   "id": "68fc2ed3-48f2-41d9-9647-c429e8ce0b76",
   "metadata": {},
   "outputs": [],
   "source": [
    "adatad4=adata[adata.obs['day']=='d4']\n",
    "sc.pl.umap(adatad4,color=\"stage\")"
   ]
  },
  {
   "cell_type": "code",
   "execution_count": null,
   "id": "2947529f-1ea2-4501-86b4-87eac8dc184b",
   "metadata": {},
   "outputs": [],
   "source": [
    "adatad7=adata[adata.obs['day']=='d7']\n",
    "sc.pl.umap(adatad7,color=\"stage\")"
   ]
  },
  {
   "cell_type": "code",
   "execution_count": null,
   "id": "22d3063f",
   "metadata": {},
   "outputs": [],
   "source": []
  },
  {
   "cell_type": "code",
   "execution_count": null,
   "id": "d50ef45a",
   "metadata": {},
   "outputs": [],
   "source": []
  }
 ],
 "metadata": {
  "kernelspec": {
   "display_name": "Python 3 (ipykernel)",
   "language": "python",
   "name": "python3"
  },
  "language_info": {
   "codemirror_mode": {
    "name": "ipython",
    "version": 3
   },
   "file_extension": ".py",
   "mimetype": "text/x-python",
   "name": "python",
   "nbconvert_exporter": "python",
   "pygments_lexer": "ipython3",
   "version": "3.7.12"
  }
 },
 "nbformat": 4,
 "nbformat_minor": 5
}
