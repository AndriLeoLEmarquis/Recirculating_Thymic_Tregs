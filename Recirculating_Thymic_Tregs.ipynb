{
 "cells": [
  {
   "cell_type": "raw",
   "id": "0716c3e9",
   "metadata": {},
   "source": [
    "## Notebook setup"
   ]
  },
  {
   "cell_type": "code",
   "execution_count": null,
   "id": "ce90833f",
   "metadata": {},
   "outputs": [],
   "source": [
    "import scanpy as sc\n",
    "import scanpy.external as sce\n",
    "import numpy as np\n",
    "import pandas as pd\n",
    "import warnings, scipy.sparse as sp, matplotlib, matplotlib.pyplot as plt\n",
    "from matplotlib.colors import LinearSegmentedColormap\n",
    "from matplotlib.pyplot import rc_context\n",
    "from collections import Counter\n",
    "import matplotlib.font_manager\n",
    "import openpyxl\n",
    "import pyreadr\n",
    "import rpy2\n",
    "import os\n",
    "os.environ['R_HOME'] = '/Library/Frameworks/R.framework/Resources'\n",
    "os.environ['R_USER'] = '/Library/Frameworks/R.framework/Resources'\n",
    "import anndata2ri\n",
    "from rpy2.robjects.packages import importr\n",
    "import rpy2.robjects as robjects\n",
    "import magic\n",
    "from scipy import sparse\n",
    "from sklearn.neighbors import NearestNeighbors\n",
    "#import seaborn as sns\n",
    "import palantir\n",
    "import loompy\n",
    "#import feather\n",
    "import re\n",
    "#from scipy.sparse import csgraph\n",
    "\n",
    "matplotlib.rcParams['pdf.fonttype'] = 42\n",
    "matplotlib.rcParams['ps.fonttype'] = 42\n",
    "matplotlib.rcParams['font.family'] = 'sans-serif'\n",
    "matplotlib.rcParams['font.sans-serif'] = 'Arial'\n",
    "matplotlib.rc('font', size=14)\n",
    "import matplotlib.lines as lines\n",
    "\n",
    "pd.set_option('display.max_rows', 200)\n",
    "\n",
    "sc.set_figure_params(dpi=80, dpi_save=300, color_map='Spectral_r', vector_friendly=True, transparent=True)\n",
    "sc.settings.verbosity = 3 # verbosity: errors (0), warnings (1), info (2), hints (3)\n",
    "sc.logging.print_header()"
   ]
  },
  {
   "cell_type": "code",
   "execution_count": null,
   "id": "d513a16b",
   "metadata": {},
   "outputs": [],
   "source": [
    "# preset color palettes and color maps\n",
    "user_defined_palette =  [ '#F6222E', '#16FF32', '#3283FE', '#FEAF16', '#BDCDFF', '#3B00FB', '#1CFFCE', '#C075A6', '#F8A19F', '#B5EFB5', '#FBE426', '#C4451C', \n",
    "                          '#2ED9FF', '#c1c119', '#8b0000', '#FE00FA', '#1CBE4F', '#1C8356', '#0e452b', '#AA0DFE', '#B5EFB5', '#325A9B', '#90AD1C']\n",
    "\n",
    "user_defined_cmap_markers = LinearSegmentedColormap.from_list('mycmap', [\"#E6E6FF\", \"#CCCCFF\", \"#B2B2FF\", \"#9999FF\",  \"#6666FF\",   \"#3333FF\", \"#0000FF\"])\n",
    "user_defined_cmap_degs = LinearSegmentedColormap.from_list('mycmap', [\"#0000FF\", \"#3333FF\", \"#6666FF\", \"#9999FF\", \"#B2B2FF\", \"#CCCCFF\", \"#E6E6FF\", \"#E6FFE6\", \"#CCFFCC\", \"#B2FFB2\", \"#99FF99\", \"#66FF66\", \"#33FF33\", \"#00FF00\"])"
   ]
  },
  {
   "cell_type": "code",
   "execution_count": null,
   "id": "185bb91c",
   "metadata": {},
   "outputs": [],
   "source": [
    "%matplotlib inline "
   ]
  },
  {
   "cell_type": "markdown",
   "id": "c341386d",
   "metadata": {},
   "source": [
    "## Perform quality control and clean-up samples"
   ]
  },
  {
   "cell_type": "markdown",
   "id": "85381fcd",
   "metadata": {},
   "source": [
    "### Load cellranger output files"
   ]
  },
  {
   "cell_type": "code",
   "execution_count": null,
   "id": "c2aff027",
   "metadata": {},
   "outputs": [],
   "source": [
    "from pathlib import Path\n",
    "\n",
    "adatas_list=[]\n",
    "names_list=[]\n",
    "\n",
    "tenexdir = '/Users/xleana/Desktop/CD45/CD45new/'\n",
    "h5_path = Path(tenexdir).glob('**/**/**/**/filtered_feature_bc_matrix.h5')\n",
    "\n",
    "for path in h5_path:\n",
    "    tmp_adata = sc.read_10x_h5(path)\n",
    "    tmp_adata.var_names_make_unique()\n",
    "    tmp_adata.shape # check the number of cells and genes in sample 1\n",
    "    adatas_list.append(tmp_adata)"
   ]
  },
  {
   "cell_type": "code",
   "execution_count": null,
   "id": "45cfe922",
   "metadata": {},
   "outputs": [],
   "source": [
    "adata = sc.concat(\n",
    "    adatas_list, # add more annadata objects here separated by commas\n",
    "    join='outer', \n",
    "    label = 'sample', \n",
    "    keys = ['mo18_CD45pos1_d4', \"mo18_CD45pos1_d1\", \"mo18_CD45pos2_d7\", \"mo18_CD45pos1_d7\", \"mo02_CD45pos1_d4\", \"mo02_CD45pos2_d1\", \"mo02_CD45pos1_d1\",\n",
    "             \"mo02_CD45pos2_d4\", \"mo02_CD45pos1_d0\", \"mo02_CD45pos2_d0\", \"mo02_CD45pos1_d7\", \"mo02_CD45pos2_d7\", \"mo18_CD45pos2_d0\", \"mo18_CD45pos2_d1\",\n",
    "            \"mo18_CD45pos3_d1\", \"mo18_CD45pos1_d0\", \"mo18_CD45pos2_d4\", \"mo18_CD45pos3_d4\" \n",
    "           ], # or use your sample_names list (as used above) here. \n",
    "    # Make sure the order of the batch categories matches that of the AnnData objects \n",
    "    index_unique = '@'\n",
    ")"
   ]
  },
  {
   "cell_type": "code",
   "execution_count": null,
   "id": "ea943308",
   "metadata": {},
   "outputs": [],
   "source": [
    "adata.raw = adata # keep a copy of the raw adata \n",
    "np.random.seed(42) \n",
    "index_list = np.arange(adata.shape[0]) # randomize the order of cells for plotting\n",
    "np.random.shuffle(index_list)\n",
    "adata = adata[index_list]"
   ]
  },
  {
   "cell_type": "code",
   "execution_count": null,
   "id": "d32d4208",
   "metadata": {},
   "outputs": [],
   "source": [
    "adata.shape"
   ]
  },
  {
   "cell_type": "code",
   "execution_count": null,
   "id": "818cf95e",
   "metadata": {},
   "outputs": [],
   "source": [
    "# metadata\n",
    "adata.obs['stage'] = ['02mo' if 'mo02' in x else '18mo' if 'mo18' in x else 'error' for x in adata.obs['sample'] ]\n",
    "adata.obs['day'] = ['d0' if 'd0' in x else 'd1' if 'd1' in x else 'd4' if 'd4' in x else 'd7' if 'd7' in x else 'error' for x in adata.obs['sample'] ]"
   ]
  },
  {
   "cell_type": "code",
   "execution_count": null,
   "id": "ac774bfc",
   "metadata": {},
   "outputs": [],
   "source": [
    "adata.uns['stage_colors'] =  [ '#76D6FF','#FF8072'] # ['#F5B4AE', '#8FD6D9']\n",
    "adata.uns['day_colors'] = ['#0080FF', '#FFA500',  '#FF00FF', '#00D6D8']"
   ]
  },
  {
   "cell_type": "code",
   "execution_count": null,
   "id": "cf2dcdff",
   "metadata": {},
   "outputs": [],
   "source": [
    "adata"
   ]
  },
  {
   "cell_type": "markdown",
   "id": "eeaae853",
   "metadata": {},
   "source": [
    "### Calculate quality control metrics and perform standard data clean-up"
   ]
  },
  {
   "cell_type": "code",
   "execution_count": null,
   "id": "f0b35eb1",
   "metadata": {},
   "outputs": [],
   "source": [
    "sc.pp.calculate_qc_metrics(adata, inplace=True)\n",
    "#store all unfiltered/unprocessed data prior to downstream analysis\n",
    "adata.obs['original_total_counts'] = adata.obs['total_counts']\n",
    "adata.obs['log10_original_total_counts'] = np.log10(adata.obs['original_total_counts'])"
   ]
  },
  {
   "cell_type": "code",
   "execution_count": null,
   "id": "e542ddbb",
   "metadata": {},
   "outputs": [],
   "source": [
    "# mitochondrial genes\n",
    "adata.var['mt'] = adata.var_names.str.startswith(('MT-', 'mt-')) \n",
    "# ribosomal genes\n",
    "adata.var['ribo'] = adata.var_names.str.startswith(('RPS','RPL', 'Rps', 'Rpl','Gm'))\n",
    "# hemoglobin genes.\n",
    "adata.var['hb'] = adata.var_names.str.startswith(('^Hb', '^HB'))\n",
    "\n",
    "# for each cell compute fraction of counts in mitochondrial genes and ribosomal genes vs. all genes \n",
    "adata.obs['mito_frac'] = np.sum(adata[:,adata.var['mt']==True].X, axis=1) / np.sum(adata.X, axis=1)\n",
    "adata.obs['ribo_frac'] = np.sum(adata[:,adata.var['ribo']==True].X, axis=1) / np.sum(adata.X, axis=1)\n",
    "adata.obs['hb_frac'] = np.sum(adata[:,adata.var['hb']==True].X, axis=1) / np.sum(adata.X, axis=1)"
   ]
  },
  {
   "cell_type": "markdown",
   "id": "3f57b092",
   "metadata": {},
   "source": [
    "#### Identify doublet cells"
   ]
  },
  {
   "cell_type": "code",
   "execution_count": null,
   "id": "909a11eb",
   "metadata": {},
   "outputs": [],
   "source": [
    "sc.external.pp.scrublet(adata, threshold=0.35, random_state=42) # choose threshold manually"
   ]
  },
  {
   "cell_type": "code",
   "execution_count": null,
   "id": "fefd96db",
   "metadata": {},
   "outputs": [],
   "source": [
    "# check manual threshold\n",
    "sc.external.pl.scrublet_score_distribution(adata)"
   ]
  },
  {
   "cell_type": "markdown",
   "id": "4217cc76",
   "metadata": {},
   "source": [
    "#### Remove not expressed genes"
   ]
  },
  {
   "cell_type": "code",
   "execution_count": null,
   "id": "7eac9207",
   "metadata": {},
   "outputs": [],
   "source": [
    "# remove genes that are not expressed in any cells (remove columns with all 0s)\n",
    "sc.pp.filter_genes(adata, min_cells=4)"
   ]
  },
  {
   "cell_type": "code",
   "execution_count": null,
   "id": "13a7f253",
   "metadata": {},
   "outputs": [],
   "source": [
    "adata.layers['raw_data'] = adata.X.copy()"
   ]
  },
  {
   "cell_type": "markdown",
   "id": "2c9a0f4e",
   "metadata": {},
   "source": [
    "#### Normalize for each cell's library size"
   ]
  },
  {
   "cell_type": "code",
   "execution_count": null,
   "id": "62323d80",
   "metadata": {},
   "outputs": [],
   "source": [
    "sc.pp.normalize_per_cell(adata, counts_per_cell_after=10**4)"
   ]
  },
  {
   "cell_type": "markdown",
   "id": "2ab99855",
   "metadata": {},
   "source": [
    "#### Log-transform counts"
   ]
  },
  {
   "cell_type": "code",
   "execution_count": null,
   "id": "74c77bf6",
   "metadata": {},
   "outputs": [],
   "source": [
    "sc.pp.log1p(adata)"
   ]
  },
  {
   "cell_type": "markdown",
   "id": "8230eacf",
   "metadata": {},
   "source": [
    "### Select subset of principal components "
   ]
  },
  {
   "cell_type": "code",
   "execution_count": null,
   "id": "ef9ff909",
   "metadata": {},
   "outputs": [],
   "source": [
    "sc.pp.highly_variable_genes(adata, n_top_genes=4000, n_bins=20, flavor='seurat_v3')"
   ]
  },
  {
   "cell_type": "code",
   "execution_count": null,
   "id": "c7f28036",
   "metadata": {},
   "outputs": [],
   "source": [
    "rng = np.random.RandomState(42)\n",
    "sc.tl.pca(adata, n_comps=50, svd_solver='arpack', random_state=rng, use_highly_variable=True)"
   ]
  },
  {
   "cell_type": "code",
   "execution_count": null,
   "id": "c9dd0b75",
   "metadata": {},
   "outputs": [],
   "source": [
    "def observe_variance(anndata_object):\n",
    "    fig = plt.figure(figsize=(10,5))\n",
    "    ax1 = fig.add_subplot(121)\n",
    "    ax2 = fig.add_subplot(122)\n",
    "    # variance per principal component\n",
    "    x = range(len(anndata_object.uns['pca']['variance_ratio']))\n",
    "    y = anndata_object.uns['pca']['variance_ratio']\n",
    "    ax1.scatter(x,y,s=4)\n",
    "    ax1.set_xlabel('PC')\n",
    "    ax1.set_ylabel('Fraction of variance explained\\n')\n",
    "    ax1.set_title('Fraction of variance explained per PC\\n')\n",
    "    # cumulative variance explained\n",
    "    cml_var_explained = np.cumsum(anndata_object.uns['pca']['variance_ratio'])\n",
    "    x = range(len(anndata_object.uns['pca']['variance_ratio']))\n",
    "    y = cml_var_explained\n",
    "    ax2.scatter(x,y,s=4)\n",
    "    ax2.set_xlabel('PC')\n",
    "    ax2.set_ylabel('Cumulative fraction of variance\\nexplained')\n",
    "    ax2.set_title('Cumulative fraction of variance\\nexplained by PCs')\n",
    "    fig.tight_layout()\n",
    "    plot = plt.show\n",
    "    return(plot)\n",
    "observe_variance(adata)"
   ]
  },
  {
   "cell_type": "code",
   "execution_count": null,
   "id": "74870e25",
   "metadata": {},
   "outputs": [],
   "source": [
    "adata.uns['pca']"
   ]
  },
  {
   "cell_type": "code",
   "execution_count": null,
   "id": "2fde4a35",
   "metadata": {},
   "outputs": [],
   "source": [
    "adata.uns['pca']['variance_ratio']"
   ]
  },
  {
   "cell_type": "code",
   "execution_count": null,
   "id": "bc38fe95",
   "metadata": {},
   "outputs": [],
   "source": [
    "plt.plot(range(len(adata.uns['pca']['variance_ratio'])), np.cumsum(adata.uns['pca']['variance_ratio']) * 100, '.-')\n",
    "plt.axvline(30, color = 'r')\n",
    "plt.xlabel('Principal Component', fontsize = 14)\n",
    "plt.ylabel('% Variance Explained', fontsize = 14)"
   ]
  },
  {
   "cell_type": "code",
   "execution_count": null,
   "id": "61a7264f",
   "metadata": {},
   "outputs": [],
   "source": [
    "sc.pp.neighbors(adata, n_pcs=30, n_neighbors=30, random_state=42)"
   ]
  },
  {
   "cell_type": "code",
   "execution_count": null,
   "id": "9a1bf701",
   "metadata": {},
   "outputs": [],
   "source": [
    "sc.tl.umap(adata, min_dist=0.1)"
   ]
  },
  {
   "cell_type": "markdown",
   "id": "8c53e11e",
   "metadata": {},
   "source": [
    "#### Sample metadata"
   ]
  },
  {
   "cell_type": "code",
   "execution_count": null,
   "id": "491e6d60",
   "metadata": {},
   "outputs": [],
   "source": [
    "sc.set_figure_params(dpi=80, dpi_save=300, color_map='viridis', vector_friendly=True, transparent=True)\n",
    "sc.pl.umap(\n",
    "    adata, \n",
    "    color=['stage', 'day', 'sample'], \n",
    "    color_map='Spectral_r', \n",
    "    use_raw=False,\n",
    "    ncols=15,\n",
    "    wspace = 0.2,\n",
    "    outline_width=[0.6, 0.05],\n",
    "    size=15,\n",
    "    frameon=False,\n",
    "    add_outline=True,\n",
    "    sort_order = False,\n",
    "    save='_metadata_S1.pdf'\n",
    ")"
   ]
  },
  {
   "cell_type": "markdown",
   "id": "66d93006",
   "metadata": {},
   "source": [
    "#### QC metrics"
   ]
  },
  {
   "cell_type": "code",
   "execution_count": null,
   "id": "fd32c082",
   "metadata": {},
   "outputs": [],
   "source": [
    "sc.set_figure_params(dpi=80, dpi_save=300, color_map='viridis', vector_friendly=True, transparent=True)\n",
    "sc.pl.umap(\n",
    "    adata, \n",
    "    color=['log10_original_total_counts', 'n_genes_by_counts','ribo_frac', 'mito_frac'], \n",
    "    palette=user_defined_palette,  \n",
    "    color_map='Spectral_r',\n",
    "    use_raw=False,\n",
    "    ncols=5,\n",
    "    wspace = 0.2,\n",
    "    outline_width=[0.6, 0.05],\n",
    "    size=15,\n",
    "    frameon=False,\n",
    "    add_outline=True,\n",
    "    sort_order = False,\n",
    "    save='_QCmetrics_S1.pdf'\n",
    ")"
   ]
  },
  {
   "cell_type": "code",
   "execution_count": null,
   "id": "b111c73c",
   "metadata": {},
   "outputs": [],
   "source": [
    "sc.pl.violin(adata, ['n_genes_by_counts', 'log10_original_total_counts', 'ribo_frac', 'mito_frac', 'hb_frac'],  \n",
    "             palette=user_defined_palette,  jitter=0.4, groupby = 'sample', rotation= 90)"
   ]
  },
  {
   "cell_type": "markdown",
   "id": "1b2202ed",
   "metadata": {},
   "source": [
    "#### Potential contaminant populations"
   ]
  },
  {
   "cell_type": "code",
   "execution_count": null,
   "id": "465c6186",
   "metadata": {},
   "outputs": [],
   "source": [
    "sc.set_figure_params(dpi=80, dpi_save=300, color_map='viridis', vector_friendly=True, transparent=True)\n",
    "sc.pl.umap(\n",
    "    adata, \n",
    "    color=[ 'doublet_score'], \n",
    "    palette=user_defined_palette,  \n",
    "    color_map='Spectral_r',\n",
    "    use_raw=False,\n",
    "    ncols=4,\n",
    "    wspace = 0.1,\n",
    "    outline_width=[0.6, 0.05],\n",
    "    size=15,\n",
    "    frameon=False,\n",
    "    add_outline=True,\n",
    "    sort_order = False,\n",
    "    save='_contaminants_S1.pdf'\n",
    ")"
   ]
  },
  {
   "cell_type": "code",
   "execution_count": null,
   "id": "76a14498",
   "metadata": {},
   "outputs": [],
   "source": [
    "sc.set_figure_params(dpi=80, dpi_save=300, color_map='viridis', vector_friendly=True, transparent=True)\n",
    "sc.pl.umap(\n",
    "    adata, \n",
    "    color=[ \"stage\"], \n",
    "    palette=user_defined_palette,  \n",
    "    color_map='Spectral_r',\n",
    "    use_raw=False,\n",
    "    ncols=4,\n",
    "    wspace = 0.1,\n",
    "    outline_width=[0.6, 0.05],\n",
    "    size=15,\n",
    "    frameon=False,\n",
    "    add_outline=True,\n",
    "    sort_order = False,\n",
    "    save='_contaminants_S1.pdf'\n",
    ")"
   ]
  },
  {
   "cell_type": "code",
   "execution_count": null,
   "id": "65485003",
   "metadata": {},
   "outputs": [],
   "source": [
    "adata_total = adata"
   ]
  },
  {
   "cell_type": "markdown",
   "id": "538d97de",
   "metadata": {},
   "source": [
    "### Run unsupervised clustering analysis leiden"
   ]
  },
  {
   "cell_type": "code",
   "execution_count": null,
   "id": "22717eb3",
   "metadata": {
    "scrolled": true
   },
   "outputs": [],
   "source": [
    "for resolution_parameter in [0.6, 0.8, 1.0, 1.2]:\n",
    "    sc.tl.leiden(adata, resolution=resolution_parameter, random_state=42, \n",
    "                        key_added='leiden_'+str(resolution_parameter))"
   ]
  },
  {
   "cell_type": "markdown",
   "id": "b866a8fc",
   "metadata": {},
   "source": [
    "We can visualize the clustering to see which clusters match with the cells that we would like to filter out. Inspect the list of QC metrics and canonical markers to make your choice."
   ]
  },
  {
   "cell_type": "code",
   "execution_count": null,
   "id": "b8b7c996",
   "metadata": {},
   "outputs": [],
   "source": [
    "sc.set_figure_params(dpi=80, dpi_save=300, color_map='viridis', vector_friendly=True, transparent=True)\n",
    "sc.pl.umap(\n",
    "    adata, \n",
    "    color=['leiden_0.6', 'leiden_0.8', 'leiden_1.0','leiden_1.2'], \n",
    "    palette=user_defined_palette,  \n",
    "    color_map='Spectral_r', \n",
    "    use_raw=False,\n",
    "    ncols=5,\n",
    "    wspace = 0.7,\n",
    "    outline_width=[0.6, 0.05],\n",
    "    size=15,\n",
    "    frameon=False,\n",
    "    add_outline=True,\n",
    "    sort_order = False\n",
    ")"
   ]
  },
  {
   "cell_type": "code",
   "execution_count": null,
   "id": "209466de",
   "metadata": {},
   "outputs": [],
   "source": [
    "sc.set_figure_params(dpi=80, dpi_save=300, color_map='viridis', vector_friendly=True, transparent=True)\n",
    "sc.pl.umap(\n",
    "    adata, \n",
    "    color=['leiden_1.2'], \n",
    "    palette=user_defined_palette,  \n",
    "    color_map='Spectral_r', \n",
    "    use_raw=False,\n",
    "    ncols=5,\n",
    "    size=15,\n",
    "    wspace = 0.7,\n",
    "    outline_width=[0.6, 0.05],\n",
    "    frameon=False,\n",
    "    add_outline=True,\n",
    "    sort_order = False\n",
    ")\n",
    "\n",
    "sc.pl.umap(\n",
    "    adata, \n",
    "    color=['leiden_1.2'], \n",
    "    palette=user_defined_palette,  \n",
    "    color_map='Spectral_r', \n",
    "    use_raw=False,\n",
    "    ncols=5,\n",
    "    size=15,\n",
    "    wspace = 0.7,\n",
    "    outline_width=[0.6, 0.05],\n",
    "    frameon=False,\n",
    "    add_outline=True,\n",
    "    sort_order = False,\n",
    "    legend_loc=\"on data\"\n",
    ")"
   ]
  },
  {
   "cell_type": "code",
   "execution_count": null,
   "id": "e8ebc36b",
   "metadata": {},
   "outputs": [],
   "source": [
    "sc.tl.rank_genes_groups(adata, 'leiden_1.2', method='wilcoxon', use_raw=False)\n",
    "sc.pl.rank_genes_groups(adata, n_genes=25, sharey=False)  "
   ]
  },
  {
   "cell_type": "markdown",
   "id": "c100adfc",
   "metadata": {},
   "source": [
    "### Filter out bad quality cells by cluster"
   ]
  },
  {
   "cell_type": "code",
   "execution_count": null,
   "id": "d2132c2c",
   "metadata": {},
   "outputs": [],
   "source": [
    "clusters_to_remove = ['11', '20' ,'25',] #\"12\", \"24\",\"27\", \"30\"]\n",
    "cluster_filter = [x not in clusters_to_remove for x in adata.obs['leiden_1.2']]\n",
    "print('Total number of cells pre-filtering: ' + str(adata.shape[0]))\n",
    "print('Number of cells to keep after filtering: ' + str(sum(cluster_filter)))\n",
    "adata_filtered = adata[cluster_filter]"
   ]
  },
  {
   "cell_type": "code",
   "execution_count": null,
   "id": "5cee8b87",
   "metadata": {},
   "outputs": [],
   "source": [
    "sc.set_figure_params(dpi=80, dpi_save=300, color_map='viridis', vector_friendly=True, transparent=True)\n",
    "sc.pl.umap(\n",
    "    adata_filtered, \n",
    "    color=['leiden_1.2'], \n",
    "    palette=user_defined_palette,  \n",
    "    color_map='Spectral_r', \n",
    "    use_raw=False,\n",
    "    ncols=5,\n",
    "    wspace = 0.5,\n",
    "    outline_width=[0.6, 0.05],\n",
    "    size=15,\n",
    "    frameon=False,\n",
    "    add_outline=True,\n",
    "    sort_order = False\n",
    ")"
   ]
  },
  {
   "cell_type": "code",
   "execution_count": null,
   "id": "f4bbf1dc",
   "metadata": {},
   "outputs": [],
   "source": [
    "sc.set_figure_params(dpi=80, dpi_save=300, color_map='viridis', vector_friendly=True, transparent=True)\n",
    "sc.pl.umap(\n",
    "    adata_filtered, \n",
    "    color=['sample', 'ribo_frac'], \n",
    "    palette=user_defined_palette,  \n",
    "    color_map='Spectral_r', \n",
    "    use_raw=False,\n",
    "    ncols=5,\n",
    "    wspace = 1,\n",
    "    outline_width=[0.6, 0.05],\n",
    "    size=15,\n",
    "    frameon=False,\n",
    "    add_outline=True,\n",
    "    sort_order = False\n",
    ")"
   ]
  },
  {
   "cell_type": "code",
   "execution_count": null,
   "id": "28478777",
   "metadata": {},
   "outputs": [],
   "source": [
    "sc.pl.violin(adata_filtered, ['n_genes_by_counts', 'log10_original_total_counts', 'ribo_frac', 'mito_frac', 'hb_frac'],  \n",
    "             palette=user_defined_palette,  jitter=0.4, groupby = 'sample', rotation= 90)"
   ]
  },
  {
   "cell_type": "code",
   "execution_count": null,
   "id": "ce61bef2",
   "metadata": {},
   "outputs": [],
   "source": [
    "print(\"Original cell number %d\"%adata.n_obs)\n",
    "print(\"Remaining cells %d\"%adata_filtered.n_obs)\n"
   ]
  },
  {
   "cell_type": "code",
   "execution_count": null,
   "id": "4f3f5524",
   "metadata": {},
   "outputs": [],
   "source": [
    "adata = adata_filtered"
   ]
  },
  {
   "cell_type": "code",
   "execution_count": null,
   "id": "147dc88c",
   "metadata": {},
   "outputs": [],
   "source": [
    "adata.shape"
   ]
  },
  {
   "cell_type": "markdown",
   "id": "71f76e3b",
   "metadata": {},
   "source": [
    "#### Remove ribosomal protein genes"
   ]
  },
  {
   "cell_type": "code",
   "execution_count": null,
   "id": "5f0e0697",
   "metadata": {
    "scrolled": true
   },
   "outputs": [],
   "source": [
    "adata = adata[:,adata.var['ribo']==False]\n",
    "adata.shape\n",
    "adata = adata[:,adata.var['hb']==False]\n",
    "adata.shape"
   ]
  },
  {
   "cell_type": "markdown",
   "id": "170fe0cb",
   "metadata": {},
   "source": [
    "### Filter out doublets and cell contaminants"
   ]
  },
  {
   "cell_type": "code",
   "execution_count": null,
   "id": "099b4fc7",
   "metadata": {},
   "outputs": [],
   "source": [
    "adata = adata[adata.obs['predicted_doublet'] == False]"
   ]
  },
  {
   "cell_type": "code",
   "execution_count": null,
   "id": "28474b8d",
   "metadata": {
    "scrolled": true
   },
   "outputs": [],
   "source": [
    "sc.pl.umap(\n",
    "    adata, \n",
    "    color=['predicted_doublet', 'doublet_score'], \n",
    "    palette=user_defined_palette,  \n",
    "    color_map='Spectral_r', \n",
    "    use_raw=False,\n",
    "    ncols=5,\n",
    "    wspace = 0.1,\n",
    "    outline_width=[0.6, 0.05],\n",
    "    size=15,\n",
    "    frameon=False,\n",
    "    add_outline=True,\n",
    "    sort_order = False\n",
    ")"
   ]
  },
  {
   "cell_type": "code",
   "execution_count": null,
   "id": "3589295f",
   "metadata": {},
   "outputs": [],
   "source": [
    "adata.obs['keep_cell'] = '0.yes'"
   ]
  },
  {
   "cell_type": "code",
   "execution_count": null,
   "id": "30b75fdf",
   "metadata": {},
   "outputs": [],
   "source": [
    "keep_cells = pd.concat([adata.obs['keep_cell']])"
   ]
  },
  {
   "cell_type": "code",
   "execution_count": null,
   "id": "54d0a4c1",
   "metadata": {},
   "outputs": [],
   "source": [
    "adata_total.obs['keep_cell'] = '1.no'"
   ]
  },
  {
   "cell_type": "code",
   "execution_count": null,
   "id": "ad6060a6",
   "metadata": {},
   "outputs": [],
   "source": [
    "adata_total.obs['keep_cell'][adata_total.obs.index.isin(keep_cells.index) == True] = '0.yes'"
   ]
  },
  {
   "cell_type": "code",
   "execution_count": null,
   "id": "8005081c",
   "metadata": {},
   "outputs": [],
   "source": [
    "sc.set_figure_params(dpi=80, dpi_save=300, color_map='viridis', vector_friendly=True, transparent=True)\n",
    "\n",
    "sc.pl.umap(\n",
    "    adata_total, \n",
    "    color=['keep_cell'], \n",
    "    palette=['blue', '#d3d3d3'],  \n",
    "    color_map='Spectral_r', \n",
    "    use_raw=False,\n",
    "    ncols=5,\n",
    "    wspace = 0.1,\n",
    "    outline_width=[0.6, 0.05],\n",
    "    size=15,\n",
    "    frameon=False,\n",
    "    add_outline=True,\n",
    "    sort_order = False,\n",
    "    save='_keepcells.pdf'\n",
    ")"
   ]
  },
  {
   "cell_type": "code",
   "execution_count": null,
   "id": "2eb4745a",
   "metadata": {},
   "outputs": [],
   "source": [
    "crosstb = pd.crosstab(adata_total.obs['sample'], adata_total.obs['keep_cell'])"
   ]
  },
  {
   "cell_type": "code",
   "execution_count": null,
   "id": "29d2d24a",
   "metadata": {},
   "outputs": [],
   "source": [
    "with rc_context({'figure.figsize': (8, 3)}):\n",
    "    ax = crosstb.plot(kind=\"bar\", stacked=True, edgecolor = \"black\", width=0.8,  color=['blue', '#d3d3d3'])\n",
    "    ax.grid(False) \n",
    "    ax.legend(loc='center left', bbox_to_anchor=(1, 0.5))\n",
    "    plt.savefig('barplot_keepcells_S1.pdf')"
   ]
  },
  {
   "cell_type": "markdown",
   "id": "acccc028",
   "metadata": {},
   "source": [
    "### Reanalyze data after removal of cells"
   ]
  },
  {
   "cell_type": "code",
   "execution_count": null,
   "id": "4a41fe0c",
   "metadata": {
    "scrolled": true
   },
   "outputs": [],
   "source": [
    "sc.pp.highly_variable_genes(adata, n_top_genes=2000, n_bins=20, flavor='seurat_v3')"
   ]
  },
  {
   "cell_type": "code",
   "execution_count": null,
   "id": "bab3827e",
   "metadata": {},
   "outputs": [],
   "source": [
    "rng = np.random.RandomState(42)\n",
    "sc.tl.pca(adata, n_comps=50, svd_solver='arpack', random_state=rng, use_highly_variable=True)"
   ]
  },
  {
   "cell_type": "code",
   "execution_count": null,
   "id": "2b8b37c7",
   "metadata": {},
   "outputs": [],
   "source": [
    "observe_variance(adata)\n"
   ]
  },
  {
   "cell_type": "code",
   "execution_count": null,
   "id": "4d76e086-2462-4706-9f1b-850e4d2d5810",
   "metadata": {},
   "outputs": [],
   "source": [
    "plt.plot(range(len(adata.uns['pca']['variance_ratio'])), np.cumsum(adata.uns['pca']['variance_ratio']) * 100, '.-')\n",
    "plt.axvline(30, color = 'r')\n",
    "plt.xlabel('Principal Component', fontsize = 14)\n",
    "plt.ylabel('% Variance Explained', fontsize = 14)"
   ]
  },
  {
   "cell_type": "code",
   "execution_count": null,
   "id": "bbc9ddc6",
   "metadata": {},
   "outputs": [],
   "source": [
    "sc.pp.neighbors(adata, n_neighbors=50,n_pcs=30)"
   ]
  },
  {
   "cell_type": "code",
   "execution_count": null,
   "id": "3126b1bb",
   "metadata": {},
   "outputs": [],
   "source": [
    "sc.tl.umap(adata, min_dist=0.6)"
   ]
  },
  {
   "cell_type": "code",
   "execution_count": null,
   "id": "f5a8ce8b",
   "metadata": {
    "scrolled": true
   },
   "outputs": [],
   "source": [
    "sc.set_figure_params(dpi=80, dpi_save=300, color_map='viridis', vector_friendly=False, transparent=True)\n",
    "sc.pl.umap(\n",
    "    adata, \n",
    "    color=[\"Sox4\",\"Rorc\",\"Ncr1\",\"Klrk1\",\"Cxcr6\", 'Cd8b1',\"Cd8a\",\"Cd4\",'Tnfrsf4',\"Foxp3\",\"H2-Aa\",\"Clec9a\",\"Xcr1\",\n",
    "           \"Sirpa\",\"Ccr7\",\"Fscn1\",'Cd79a', 'Ms4a1', \"Xbp1\",\"Igkc\",\"Msrb1\",\"stage\", 'day'], \n",
    "    palette=user_defined_palette,  \n",
    "    color_map='Spectral_r', \n",
    "    use_raw=False,\n",
    "    ncols=5,\n",
    "    wspace = 0.1,\n",
    "    outline_width=[0.6, 0.05],\n",
    "    size=15,\n",
    "    frameon=False,\n",
    "    add_outline=True,\n",
    "    sort_order = False\n",
    ")"
   ]
  },
  {
   "cell_type": "code",
   "execution_count": null,
   "id": "cc672708",
   "metadata": {
    "scrolled": true
   },
   "outputs": [],
   "source": [
    "for resolution_parameter in [ 0.1, 0.2, 0.3, 0.4,0.5, 0.6, 0.7, 0.8, 0.9, 1.0,1.1,1.2,1.3,1.4,1.5]:\n",
    "    sc.tl.leiden(adata, resolution=resolution_parameter, random_state=42, \n",
    "                        key_added='leiden_'+str(resolution_parameter))"
   ]
  },
  {
   "cell_type": "code",
   "execution_count": null,
   "id": "cdabf38d",
   "metadata": {
    "scrolled": true
   },
   "outputs": [],
   "source": [
    "sc.set_figure_params(dpi=80, dpi_save=300, color_map='viridis', vector_friendly=False, transparent=True)\n",
    "sc.pl.umap(\n",
    "    adata, \n",
    "    color=[ 'leiden_0.1', 'leiden_0.2', 'leiden_0.3','leiden_0.4','leiden_0.5', \n",
    "           'leiden_0.6', 'leiden_0.7', 'leiden_0.8','leiden_0.9', 'leiden_1.0',\n",
    "          'leiden_1.2',  'leiden_1.3','leiden_1.4','leiden_1.5'], \n",
    ")"
   ]
  },
  {
   "cell_type": "code",
   "execution_count": null,
   "id": "bfaf5673",
   "metadata": {},
   "outputs": [],
   "source": [
    "sc.set_figure_params(dpi=80, dpi_save=300, color_map='viridis', vector_friendly=False, transparent=True)\n",
    "sc.pl.umap(\n",
    "    adata, \n",
    "    color=[ 'leiden_0.1',\"day\",\"stage\"], \n",
    ")"
   ]
  },
  {
   "cell_type": "code",
   "execution_count": null,
   "id": "2867b74a",
   "metadata": {},
   "outputs": [],
   "source": [
    "sc.tl.rank_genes_groups(adata, 'leiden_0.1', method='wilcoxon', use_raw=False)\n",
    "sc.pl.rank_genes_groups(adata, n_genes=25, sharey=False)  "
   ]
  },
  {
   "cell_type": "code",
   "execution_count": null,
   "id": "dc516ea3-1997-4bce-8281-440630f90d01",
   "metadata": {},
   "outputs": [],
   "source": [
    "sc.set_figure_params(dpi=80, dpi_save=300, color_map='viridis', vector_friendly=True, transparent=True)\n",
    "\n",
    "sc.pl.umap(\n",
    "    adata, \n",
    "    color=['leiden_0.1'], \n",
    "    palette=user_defined_palette,  \n",
    "    color_map='Spectral_r', \n",
    "    use_raw=False,\n",
    "    ncols=5,\n",
    "    size=15,\n",
    "    wspace = 0.7,\n",
    "    outline_width=[0.6, 0.05],\n",
    "    frameon=False,\n",
    "    add_outline=True,\n",
    "    sort_order = False,\n",
    "    legend_loc=\"on data\"\n",
    ")"
   ]
  },
  {
   "cell_type": "code",
   "execution_count": null,
   "id": "b344e805",
   "metadata": {},
   "outputs": [],
   "source": [
    "adata.obs['cell_type'] = ['T cells' if  x=='1' or x=='2' else\n",
    "                          'B cells' if (x=='3'  ) else \n",
    "                          'plasmacells' if (x=='8' ) else \n",
    "                          'NKT and invariant cells' if (x=='0' )  else\n",
    "                          'NK cells' if (x=='7' ) else\n",
    "                          'DCs and Macrophages' if (x=='5')  else                             \n",
    "                          'DN/DPs' if x=='6' else\n",
    "                          'ILC' if x=='4' else\n",
    "                          'EOS' if x=='9' else'ERROR' for x in adata.obs['leiden_0.1']] "
   ]
  },
  {
   "cell_type": "code",
   "execution_count": null,
   "id": "785ccd4c",
   "metadata": {},
   "outputs": [],
   "source": [
    "sc.set_figure_params(dpi=80, dpi_save=300, color_map='viridis', vector_friendly=True, transparent=True)\n",
    "sc.pl.umap(\n",
    "    adata, \n",
    "    color=['leiden_0.1','cell_type','stage','day',\"Foxp3\"], \n",
    "    palette=user_defined_palette,  \n",
    "    color_map='Spectral_r', \n",
    "    use_raw=False,\n",
    "    ncols=5,\n",
    "    wspace = 0.1,\n",
    "    outline_width=[0.3, 0.05],\n",
    "    size=15,\n",
    "    vmax=2,\n",
    "    frameon=False,\n",
    "    add_outline=True,\n",
    "    sort_order = False,\n",
    "    legend_loc=\"on data\"\n",
    ")"
   ]
  },
  {
   "cell_type": "code",
   "execution_count": null,
   "id": "5fc55e30-d196-49b0-8926-667b55218436",
   "metadata": {},
   "outputs": [],
   "source": [
    "sc.tl.rank_genes_groups(adata, 'cell_type', method='wilcoxon', use_raw=False)\n",
    "sc.pl.rank_genes_groups(adata, n_genes=25, sharey=False)  "
   ]
  },
  {
   "cell_type": "code",
   "execution_count": null,
   "id": "c6136f41",
   "metadata": {},
   "outputs": [],
   "source": [
    "sc.set_figure_params(dpi=80, dpi_save=300, color_map='viridis', vector_friendly=False, transparent=True)\n",
    "sc.pl.umap(\n",
    "    adata, \n",
    "    color=[\"Sox4\",\"Rorc\",\"Ncr1\",\"Klrk1\",\"Cxcr6\", 'Cd8b1',\"Cd4\",'Tnfrsf4',\"Foxp3\",\"H2-Aa\",\"Clec9a\",\"Xcr1\",\n",
    "           \"Sirpa\",\"Ccr7\",\"Fscn1\",'Cd79a', 'Ms4a1', \"Xbp1\",\"Igkc\",\"Msrb1\",'Fcer1g'], \n",
    "    palette=user_defined_palette,  \n",
    "    color_map='Spectral_r', \n",
    "    use_raw=False,\n",
    "    ncols=5,\n",
    "    wspace = 0.1,\n",
    "    outline_width=[0.6, 0.05],\n",
    "    size=15,\n",
    "    frameon=False,\n",
    "    add_outline=True,\n",
    "    sort_order = False\n",
    ")"
   ]
  },
  {
   "cell_type": "code",
   "execution_count": null,
   "id": "01cacd53",
   "metadata": {},
   "outputs": [],
   "source": [
    "genes = {'T-cells': ['Cd3e', 'Cd8a', 'Cd4', 'Il7r'], \n",
    "         'NKT and invariant cells':['Gzmb'],\n",
    "         'NK cells':['Ncr1','Nkg7',\t'Klrd1',],\n",
    "         'ILC':[],\n",
    "          'DN/DPs':[],\n",
    "         'B-cells': ['Ms4a1', 'Cd19'], \n",
    "         'Plasmacells': ['Ppbp'], \n",
    "         'NKT and invariant T cells': ['Nkg7'], \n",
    "         'Dendritic-cells': ['Cst3', 'Fcer1a'],\n",
    "         'Eosinophils':['Tyrobp']}"
   ]
  },
  {
   "cell_type": "code",
   "execution_count": null,
   "id": "b75abe6a-529e-4ac8-82d2-1854c4d2a3f7",
   "metadata": {},
   "outputs": [],
   "source": [
    "genes ={ 'B cells_n':\t[\t'Cst3',\t'Cd79b',\t'Ms4a1',\t'H2-DMb2',\t'Bank1',\t'Ebf1',\t'Ly6d',\t'Mzb1',\t'Igkc',\t'Cd74',\t'Napsa',\t'Ighm',\t'H2-Eb1',\t'H2-Aa',\t'H2-Ab1',\t'Iglc3',\t'Iglc2',\t'Lyn',\t'Ly86',\t'Pkig',\t'Plac8',\t'Blnk',\t'Syk',\t'Cd37',\t'Siglecg',\t]\t,\n",
    "'DCs_n':\t[\t'Arpp21',\t'Cd74',\t'H2-Aa',\t'Atox1',\t'H2-Eb1',\t'Spi1',\t'Ifi30',\t'Tyrobp',\t'Psap',\t'H2-Ab1',\t'Tmsb4x',\t'Ftl1',\t'Syngr2',\t'Cxcl16',\t'Aif1',\t'Ctsh',\t'Ctsz',\t'Actg1',\t'Pkib',\t'Tbc1d8',\t'Atpif1',\t'Flt3',\t'Skap2',\t'Fmnl2',\t'Clic4',\t]\t,\n",
    "'DN/DPs_n':\t[\t'Msrb1',\t'Dntt',\t'Sox4',\t'Tcf7',\t'Endou',\t'Trbc2',\t'Themis',\t'Satb1',\t'Ccr9',\t'Rhoh',\t'Cyb5a',\t'Cd8b1',\t'Hmgb1',\t'H3f3a',\t'Aqp11',\t'Ramp1',\t'Ap3s1',\t'Cux1',\t'Mier1',\t'Edem1',\t'Cd8a',\t'Tcf12',\t'Desi1',\t'2610307P16Rik',\t'Trbc1',\t]\t,\n",
    "'EOS_n':\t[\t'Tmem176a',\t'Tyrobp',\t'Fcer1g',\t'Ifitm3',\t'Ftl1',\t'Srgn',\t'Il1b',\t'Isg15',\t'Fth1',\t'S100a9',\t'Rtp4',\t'Slfn4',\t'S100a8',\t'Hdc',\t'Csf3r',\t'Acod1',\t'Lst1',\t'Rsad2',\t'Ifitm2',\t'Ifit3',\t'Ifit1',\t'Mxd1',\t'Cebpb',\t'Isg20',\t'Txn1',\t]\t,\n",
    "'ILC_n':\t[\t'Fcer1g',\t'Tmem176b',\t'Ramp1',\t'Il23r',\t'Il1r1',\t'Emb',\t'Ikzf3',\t'Ckb',\t'Igf1r',\t'Lmo4',\t'Pxdc1',\t'Blk',\t'St6galnac3',\t'S100a4',\t'Cxcr6',\t'Il7r',\t'Furin',\t'Icos',\t'Tcrg-C1',\t'Rora',\t'Zbtb16',\t'Selenop',\t'Serpinb1a',\t'Avpi1',\t'Il18r1',\t]\t,\n",
    "'NK cells_n':\t[\t'Il12rb2',\t'Tyrobp',\t'Ncr1',\t'Klre1',\t'Klrb1c',\t'Gzma',\t'Xcl1',\t'AW112010',\t'Anxa2',\t'Nkg7',\t'Car2',\t'Irf8',\t'Klrk1',\t'Klrd1',\t'Prf1',\t'Il2rb',\t'Txk',\t'Ccl5',\t'Ccl4',\t'Myl6',\t'Klri2',\t'Clnk',\t'Serpinb9',\t'Gem',\t'Ptprc',\t]\t,\n",
    "'NKT and invariant cells_n':\t[\t'Tox',\t'Tmsb10',\t'Ly6c2',\t'Ctsw',\t'Sh3bgrl3',\t'Gzmb',\t'Klrk1',\t'Id2',\t'Il2rb',\t'Nkg7',\t'Klrd1',\t'Dennd4a',\t'Satb1',\t'Cxcr6',\t'Klra9',\t'Dusp2',\t'Gimap4',\t'Vps37b',\t'Chn2',\t'Pitpnc1',\t'Xcl1',\t'Klrb1c',\t'Cd7',\t'Inpp4b',\t'Zfp36l2',\t]\t,\n",
    "'T cells_n':\t[\t'Igkc',\t'Ctla4',\t'Themis',\t'Emb',\t'Prkca',\t'Fam169b',\t'Tnfrsf4',\t'Fyb',\t'Cd8b1',\t'Trbc2',\t'Sntb1',\t'Itga4',\t'Lat',\t'Cd3d',\t'Tnfsf8',\t'Cd8a',\t'Shisa5',\t'Ikzf2',\t'Ms4a6b',\t'Itgav',\t'Fyn',\t'Cd2',\t'Gzmk',\t'Trps1',\t'Smc4',\t]\t,\n",
    "'plasmacells_n':\t[\t\t'Jchain',\t'Xbp1',\t'Txndc5',\t'Mzb1',\t'Iglc2',\t'Eaf2',\t'Derl3',\t'Iglv1',\t'Pdia4',\t'Iglc3',\t'Creld2',\t'Herpud1',\t'Serp1',\t'Ssr4',\t'Ckap4',\t'Fkbp2',\t'Hsp90b1',\t'Prdx4',\t'Sec11c',\t'Edem2',\t'Edem1',\t'Iglc1',\t'Pou2af1']}"
   ]
  },
  {
   "cell_type": "code",
   "execution_count": null,
   "id": "02a1cfce",
   "metadata": {
    "scrolled": true
   },
   "outputs": [],
   "source": [
    "sc.set_figure_params(scanpy=True, fontsize = 14)\n",
    "ac = sc.pl.matrixplot(adata, genes, groupby = 'cell_type', show = False, standard_scale = 'var')\n",
    "ac['mainplot_ax'].set_xlabel('Genes')\n",
    "ac['mainplot_ax'].set_ylabel('Clusters')"
   ]
  },
  {
   "cell_type": "code",
   "execution_count": null,
   "id": "ab7a19f4-d7b2-44f1-9288-83ed1e890fa9",
   "metadata": {},
   "outputs": [],
   "source": [
    "result = adata.uns['rank_genes_groups']\n",
    "groups = result['names'].dtype.names\n",
    "pd.DataFrame(\n",
    "    {group + '_' + key[:1]: result[key][group]\n",
    "    for group in groups for key in ['names']}).head(25)"
   ]
  },
  {
   "cell_type": "markdown",
   "id": "398be1dd",
   "metadata": {},
   "source": [
    "### MiloR "
   ]
  },
  {
   "cell_type": "code",
   "execution_count": null,
   "id": "6b53e0bd",
   "metadata": {},
   "outputs": [],
   "source": [
    "df_temp = pd.DataFrame({'umap_x': adata.obsm['X_umap'][:, 0], 'umap_y': adata.obsm['X_umap'][:, 1], \n",
    "                        'stage': adata.obs['stage'], 'day': adata.obs['day']}, index = adata.obs.index)\n",
    "\n",
    "\n"
   ]
  },
  {
   "cell_type": "code",
   "execution_count": null,
   "id": "60d4fabb",
   "metadata": {},
   "outputs": [],
   "source": [
    "adata.obs[\"stage\"]"
   ]
  },
  {
   "cell_type": "code",
   "execution_count": null,
   "id": "4be3c680",
   "metadata": {},
   "outputs": [],
   "source": [
    "import seaborn as sns\n",
    "fig = plt.figure(figsize = (8*2, 6))\n",
    "ax = fig.add_subplot(1, 2, 1)\n",
    "sns.scatterplot(data = df_temp, x = 'umap_x', y = 'umap_y', s = 1, ax = ax)\n",
    "sns.kdeplot(data=df_temp[df_temp['stage'] == '02mo'], x=\"umap_x\", y=\"umap_y\",\n",
    "    fill=True, thresh=0, levels=10, cmap=\"Purples\", ax = ax, cut = 4)\n",
    "ax.set_xticks([]);\n",
    "ax.set_yticks([]);\n",
    "ax.set_title('young', fontsize = 16)\n",
    "ax.set_xlabel('UMAP-1')\n",
    "ax.set_ylabel('UMAP-2')\n",
    "ax.spines['right'].set_visible(False)\n",
    "ax.spines['top'].set_visible(False)\n",
    "ax.spines['left'].set_visible(False)\n",
    "ax.spines['bottom'].set_visible(False)\n",
    "\n",
    "ax = fig.add_subplot(1, 2, 2)\n",
    "sns.scatterplot(data = df_temp, x = 'umap_x', y = 'umap_y', s = 0, ax = ax)\n",
    "sns.kdeplot(data=df_temp[df_temp['stage'] == '18mo'], x=\"umap_x\", y=\"umap_y\",\n",
    "    fill=True, thresh=0, levels=10, cmap=\"Purples\", ax = ax, cut = 4)\n",
    "ax.set_xticks([]);\n",
    "ax.set_yticks([]);\n",
    "ax.set_title('old', fontsize = 16)\n",
    "ax.set_xlabel('UMAP-1')\n",
    "ax.set_ylabel('UMAP-2')\n",
    "ax.spines['right'].set_visible(False)\n",
    "ax.spines['top'].set_visible(False)\n",
    "ax.spines['left'].set_visible(False)\n",
    "ax.spines['bottom'].set_visible(False)\n",
    "\n",
    "#fig.savefig(outbase + 'Ctrl_DT_kdeplot_endo.png', dpi = 150, bbox_inches = 'tight')"
   ]
  },
  {
   "cell_type": "code",
   "execution_count": null,
   "id": "35fefc36",
   "metadata": {},
   "outputs": [],
   "source": [
    "df_temp = pd.DataFrame({'umap_x': adata.obsm['X_umap'][:, 0], 'umap_y': adata.obsm['X_umap'][:, 1], \n",
    "                        'stage': adata.obs['stage'], 'day': adata.obs['day']}, index = adata.obs.index)\n",
    "\n",
    "\n"
   ]
  },
  {
   "cell_type": "code",
   "execution_count": null,
   "id": "4bf37327",
   "metadata": {},
   "outputs": [],
   "source": [
    "df_temp"
   ]
  },
  {
   "cell_type": "code",
   "execution_count": null,
   "id": "27989234",
   "metadata": {},
   "outputs": [],
   "source": [
    "adata.obs[\"stage\"]"
   ]
  },
  {
   "cell_type": "code",
   "execution_count": null,
   "id": "07bb233f",
   "metadata": {},
   "outputs": [],
   "source": [
    "import seaborn as sns\n",
    "fig = plt.figure(figsize = (8*2, 6))\n",
    "ax = fig.add_subplot(1, 2, 1)\n",
    "sns.scatterplot(data = df_temp, x = 'umap_x', y = 'umap_y', s = 1, ax = ax)\n",
    "sns.kdeplot(data=df_temp[df_temp['day'] == 'd1'], x=\"umap_x\", y=\"umap_y\",\n",
    "    fill=True, thresh=0, levels=10, cmap=\"Purples\", ax = ax, cut = 4)\n",
    "ax.set_xticks([]);\n",
    "ax.set_yticks([]);\n",
    "ax.set_title('d1', fontsize = 16)\n",
    "ax.set_xlabel('UMAP-1')\n",
    "ax.set_ylabel('UMAP-2')\n",
    "ax.spines['right'].set_visible(False)\n",
    "ax.spines['top'].set_visible(False)\n",
    "ax.spines['left'].set_visible(False)\n",
    "ax.spines['bottom'].set_visible(False)\n",
    "\n",
    "ax = fig.add_subplot(1, 2, 2)\n",
    "sns.scatterplot(data = df_temp, x = 'umap_x', y = 'umap_y', s = 0, ax = ax)\n",
    "sns.kdeplot(data=df_temp[df_temp['day'] == 'd4'], x=\"umap_x\", y=\"umap_y\",\n",
    "    fill=True, thresh=0, levels=10, cmap=\"Purples\", ax = ax, cut = 4)\n",
    "ax.set_xticks([]);\n",
    "ax.set_yticks([]);\n",
    "ax.set_title('d4', fontsize = 16)\n",
    "ax.set_xlabel('UMAP-1')\n",
    "ax.set_ylabel('UMAP-2')\n",
    "ax.spines['right'].set_visible(False)\n",
    "ax.spines['top'].set_visible(False)\n",
    "ax.spines['left'].set_visible(False)\n",
    "ax.spines['bottom'].set_visible(False)\n",
    "\n",
    "#fig.savefig(outbase + 'Ctrl_DT_kdeplot_endo.png', dpi = 150, bbox_inches = 'tight')"
   ]
  },
  {
   "cell_type": "code",
   "execution_count": null,
   "id": "263075d4",
   "metadata": {},
   "outputs": [],
   "source": [
    "import seaborn as sns\n",
    "fig = plt.figure(figsize = (8*2, 6))\n",
    "ax = fig.add_subplot(1, 2, 1)\n",
    "sns.scatterplot(data = df_temp, x = 'umap_x', y = 'umap_y', s = 1, ax = ax)\n",
    "sns.kdeplot(data=df_temp[df_temp['day'] == 'd0'], x=\"umap_x\", y=\"umap_y\",\n",
    "    fill=True, thresh=0, levels=10, cmap=\"Purples\", ax = ax, cut = 4)\n",
    "ax.set_xticks([]);\n",
    "ax.set_yticks([]);\n",
    "ax.set_title('d0', fontsize = 16)\n",
    "ax.set_xlabel('UMAP-1')\n",
    "ax.set_ylabel('UMAP-2')\n",
    "ax.spines['right'].set_visible(False)\n",
    "ax.spines['top'].set_visible(False)\n",
    "ax.spines['left'].set_visible(False)\n",
    "ax.spines['bottom'].set_visible(False)\n",
    "\n",
    "ax = fig.add_subplot(1, 2, 2)\n",
    "sns.scatterplot(data = df_temp, x = 'umap_x', y = 'umap_y', s = 0, ax = ax)\n",
    "sns.kdeplot(data=df_temp[df_temp['day'] == 'd7'], x=\"umap_x\", y=\"umap_y\",\n",
    "    fill=True, thresh=0, levels=10, cmap=\"Purples\", ax = ax, cut = 4)\n",
    "ax.set_xticks([]);\n",
    "ax.set_yticks([]);\n",
    "ax.set_title('d7', fontsize = 16)\n",
    "ax.set_xlabel('UMAP-1')\n",
    "ax.set_ylabel('UMAP-2')\n",
    "ax.spines['right'].set_visible(False)\n",
    "ax.spines['top'].set_visible(False)\n",
    "ax.spines['left'].set_visible(False)\n",
    "ax.spines['bottom'].set_visible(False)\n",
    "\n",
    "#fig.savefig(outbase + 'Ctrl_DT_kdeplot_endo.png', dpi = 150, bbox_inches = 'tight')"
   ]
  },
  {
   "cell_type": "code",
   "execution_count": null,
   "id": "7847d1cd",
   "metadata": {},
   "outputs": [],
   "source": [
    "adata.obs[\"stage\"]"
   ]
  },
  {
   "cell_type": "code",
   "execution_count": null,
   "id": "644f007a",
   "metadata": {},
   "outputs": [],
   "source": [
    "import seaborn as sns\n",
    "fig = plt.figure(figsize = (8*2, 6))\n",
    "ax = fig.add_subplot(1, 2, 1)\n",
    "sns.scatterplot(data = df_temp, x = 'umap_x', y = 'umap_y', s = 1, ax = ax)\n",
    "sns.kdeplot(data=df_temp[df_temp['day'] == 'd0'], x=\"umap_x\", y=\"umap_y\",\n",
    "    fill=True, thresh=0, levels=10, cmap=\"Purples\", ax = ax, cut = 4)\n",
    "ax.set_xticks([]);\n",
    "ax.set_yticks([]);\n",
    "ax.set_title('young', fontsize = 16)\n",
    "ax.set_xlabel('UMAP-1')\n",
    "ax.set_ylabel('UMAP-2')\n",
    "ax.spines['right'].set_visible(False)\n",
    "ax.spines['top'].set_visible(False)\n",
    "ax.spines['left'].set_visible(False)\n",
    "ax.spines['bottom'].set_visible(False)\n",
    "\n",
    "ax = fig.add_subplot(1, 2, 2)\n",
    "sns.scatterplot(data = df_temp, x = 'umap_x', y = 'umap_y', s = 0, ax = ax)\n",
    "sns.kdeplot(data=df_temp[df_temp['day'] == 'd4'], x=\"umap_x\", y=\"umap_y\",\n",
    "    fill=True, thresh=0, levels=10, cmap=\"Purples\", ax = ax, cut = 4)\n",
    "ax.set_xticks([]);\n",
    "ax.set_yticks([]);\n",
    "ax.set_title('old', fontsize = 16)\n",
    "ax.set_xlabel('UMAP-1')\n",
    "ax.set_ylabel('UMAP-2')\n",
    "ax.spines['right'].set_visible(False)\n",
    "ax.spines['top'].set_visible(False)\n",
    "ax.spines['left'].set_visible(False)\n",
    "ax.spines['bottom'].set_visible(False)\n",
    "\n",
    "#fig.savefig(outbase + 'Ctrl_DT_kdeplot_endo.png', dpi = 150, bbox_inches = 'tight')"
   ]
  },
  {
   "cell_type": "code",
   "execution_count": null,
   "id": "80bc87c4",
   "metadata": {},
   "outputs": [],
   "source": [
    "df_temp = pd.DataFrame({'umap_x': adata[adata.obs[\"day\"]==\"d0\"].obsm['X_umap'][:, 0], 'umap_y': adata[adata.obs[\"day\"]==\"d0\"].obsm['X_umap'][:, 1], \n",
    "                        'stage': adata[adata.obs[\"day\"]==\"d0\"].obs['stage'], 'day': adata[adata.obs[\"day\"]==\"d0\"].obs['day']}, index = adata[adata.obs[\"day\"]==\"d0\"].obs.index)\n",
    "\n",
    "\n"
   ]
  },
  {
   "cell_type": "code",
   "execution_count": null,
   "id": "7a148fa1",
   "metadata": {},
   "outputs": [],
   "source": [
    "import seaborn as sns\n",
    "fig = plt.figure(figsize = (8*2, 6))\n",
    "ax = fig.add_subplot(1, 2, 1)\n",
    "sns.scatterplot(data = df_temp, x = 'umap_x', y = 'umap_y', s = 1, ax = ax)\n",
    "sns.kdeplot(data=df_temp[df_temp['stage'] == '02mo'], x=\"umap_x\", y=\"umap_y\",\n",
    "    fill=True, thresh=0, levels=10, cmap=\"Purples\", ax = ax, cut = 4)\n",
    "ax.set_xticks([]);\n",
    "ax.set_yticks([]);\n",
    "ax.set_title('young', fontsize = 16)\n",
    "ax.set_xlabel('UMAP-1')\n",
    "ax.set_ylabel('UMAP-2')\n",
    "ax.spines['right'].set_visible(False)\n",
    "ax.spines['top'].set_visible(False)\n",
    "ax.spines['left'].set_visible(False)\n",
    "ax.spines['bottom'].set_visible(False)\n",
    "\n",
    "ax = fig.add_subplot(1, 2, 2)\n",
    "sns.scatterplot(data = df_temp, x = 'umap_x', y = 'umap_y', s = 0, ax = ax)\n",
    "sns.kdeplot(data=df_temp[df_temp['stage'] == '18mo'], x=\"umap_x\", y=\"umap_y\",\n",
    "    fill=True, thresh=0, levels=10, cmap=\"Purples\", ax = ax, cut = 4)\n",
    "ax.set_xticks([]);\n",
    "ax.set_yticks([]);\n",
    "ax.set_title('old', fontsize = 16)\n",
    "ax.set_xlabel('UMAP-1')\n",
    "ax.set_ylabel('UMAP-2')\n",
    "ax.spines['right'].set_visible(False)\n",
    "ax.spines['top'].set_visible(False)\n",
    "ax.spines['left'].set_visible(False)\n",
    "ax.spines['bottom'].set_visible(False)\n",
    "\n",
    "#fig.savefig(outbase + 'Ctrl_DT_kdeplot_endo.png', dpi = 150, bbox_inches = 'tight')"
   ]
  },
  {
   "cell_type": "code",
   "execution_count": null,
   "id": "da0e84ad",
   "metadata": {},
   "outputs": [],
   "source": [
    "df_temp = pd.DataFrame({'umap_x': adata[adata.obs[\"day\"]==\"d1\"].obsm['X_umap'][:, 0], 'umap_y': adata[adata.obs[\"day\"]==\"d1\"].obsm['X_umap'][:, 1], \n",
    "                        'stage': adata[adata.obs[\"day\"]==\"d1\"].obs['stage'], 'day': adata[adata.obs[\"day\"]==\"d1\"].obs['day']}, index = adata[adata.obs[\"day\"]==\"d1\"].obs.index)\n",
    "\n",
    "\n"
   ]
  },
  {
   "cell_type": "code",
   "execution_count": null,
   "id": "d06d9c3c",
   "metadata": {},
   "outputs": [],
   "source": [
    "import seaborn as sns\n",
    "fig = plt.figure(figsize = (8*2, 6))\n",
    "ax = fig.add_subplot(1, 2, 1)\n",
    "sns.scatterplot(data = df_temp, x = 'umap_x', y = 'umap_y', s = 1, ax = ax)\n",
    "sns.kdeplot(data=df_temp[df_temp['stage'] == '02mo'], x=\"umap_x\", y=\"umap_y\",\n",
    "    fill=True, thresh=0, levels=10, cmap=\"Purples\", ax = ax, cut = 4)\n",
    "ax.set_xticks([]);\n",
    "ax.set_yticks([]);\n",
    "ax.set_title('young', fontsize = 16)\n",
    "ax.set_xlabel('UMAP-1')\n",
    "ax.set_ylabel('UMAP-2')\n",
    "ax.spines['right'].set_visible(False)\n",
    "ax.spines['top'].set_visible(False)\n",
    "ax.spines['left'].set_visible(False)\n",
    "ax.spines['bottom'].set_visible(False)\n",
    "\n",
    "ax = fig.add_subplot(1, 2, 2)\n",
    "sns.scatterplot(data = df_temp, x = 'umap_x', y = 'umap_y', s = 0, ax = ax)\n",
    "sns.kdeplot(data=df_temp[df_temp['stage'] == '18mo'], x=\"umap_x\", y=\"umap_y\",\n",
    "    fill=True, thresh=0, levels=10, cmap=\"Purples\", ax = ax, cut = 4)\n",
    "ax.set_xticks([]);\n",
    "ax.set_yticks([]);\n",
    "ax.set_title('old', fontsize = 16)\n",
    "ax.set_xlabel('UMAP-1')\n",
    "ax.set_ylabel('UMAP-2')\n",
    "ax.spines['right'].set_visible(False)\n",
    "ax.spines['top'].set_visible(False)\n",
    "ax.spines['left'].set_visible(False)\n",
    "ax.spines['bottom'].set_visible(False)\n",
    "\n",
    "#fig.savefig(outbase + 'Ctrl_DT_kdeplot_endo.png', dpi = 150, bbox_inches = 'tight')"
   ]
  },
  {
   "cell_type": "code",
   "execution_count": null,
   "id": "876fb954",
   "metadata": {},
   "outputs": [],
   "source": [
    "df_temp = pd.DataFrame({'umap_x': adata[adata.obs[\"day\"]==\"d4\"].obsm['X_umap'][:, 0], 'umap_y': adata[adata.obs[\"day\"]==\"d4\"].obsm['X_umap'][:, 1], \n",
    "                        'stage': adata[adata.obs[\"day\"]==\"d4\"].obs['stage'], 'day': adata[adata.obs[\"day\"]==\"d4\"].obs['day']}, index = adata[adata.obs[\"day\"]==\"d4\"].obs.index)\n",
    "\n",
    "\n"
   ]
  },
  {
   "cell_type": "code",
   "execution_count": null,
   "id": "ffa5d36b",
   "metadata": {},
   "outputs": [],
   "source": [
    "import seaborn as sns\n",
    "fig = plt.figure(figsize = (8*2, 6))\n",
    "ax = fig.add_subplot(1, 2, 1)\n",
    "sns.scatterplot(data = df_temp, x = 'umap_x', y = 'umap_y', s = 1, ax = ax)\n",
    "sns.kdeplot(data=df_temp[df_temp['stage'] == '02mo'], x=\"umap_x\", y=\"umap_y\",\n",
    "    fill=True, thresh=0, levels=10, cmap=\"Purples\", ax = ax, cut = 4)\n",
    "ax.set_xticks([]);\n",
    "ax.set_yticks([]);\n",
    "ax.set_title('young', fontsize = 16)\n",
    "ax.set_xlabel('UMAP-1')\n",
    "ax.set_ylabel('UMAP-2')\n",
    "ax.spines['right'].set_visible(False)\n",
    "ax.spines['top'].set_visible(False)\n",
    "ax.spines['left'].set_visible(False)\n",
    "ax.spines['bottom'].set_visible(False)\n",
    "\n",
    "ax = fig.add_subplot(1, 2, 2)\n",
    "sns.scatterplot(data = df_temp, x = 'umap_x', y = 'umap_y', s = 0, ax = ax)\n",
    "sns.kdeplot(data=df_temp[df_temp['stage'] == '18mo'], x=\"umap_x\", y=\"umap_y\",\n",
    "    fill=True, thresh=0, levels=10, cmap=\"Purples\", ax = ax, cut = 4)\n",
    "ax.set_xticks([]);\n",
    "ax.set_yticks([]);\n",
    "ax.set_title('old', fontsize = 16)\n",
    "ax.set_xlabel('UMAP-1')\n",
    "ax.set_ylabel('UMAP-2')\n",
    "ax.spines['right'].set_visible(False)\n",
    "ax.spines['top'].set_visible(False)\n",
    "ax.spines['left'].set_visible(False)\n",
    "ax.spines['bottom'].set_visible(False)\n",
    "\n",
    "#fig.savefig(outbase + 'Ctrl_DT_kdeplot_endo.png', dpi = 150, bbox_inches = 'tight')"
   ]
  },
  {
   "cell_type": "code",
   "execution_count": null,
   "id": "f2b3ea3a",
   "metadata": {},
   "outputs": [],
   "source": [
    "df_temp = pd.DataFrame({'umap_x': adata[adata.obs[\"day\"]==\"d7\"].obsm['X_umap'][:, 0], 'umap_y': adata[adata.obs[\"day\"]==\"d7\"].obsm['X_umap'][:, 1], \n",
    "                        'stage': adata[adata.obs[\"day\"]==\"d7\"].obs['stage'], 'day': adata[adata.obs[\"day\"]==\"d7\"].obs['day']}, index = adata[adata.obs[\"day\"]==\"d7\"].obs.index)\n",
    "\n",
    "\n"
   ]
  },
  {
   "cell_type": "code",
   "execution_count": null,
   "id": "cab900a6",
   "metadata": {},
   "outputs": [],
   "source": [
    "import seaborn as sns\n",
    "fig = plt.figure(figsize = (8*2, 6))\n",
    "ax = fig.add_subplot(1, 2, 1)\n",
    "sns.scatterplot(data = df_temp, x = 'umap_x', y = 'umap_y', s = 1, ax = ax)\n",
    "sns.kdeplot(data=df_temp[df_temp['stage'] == '02mo'], x=\"umap_x\", y=\"umap_y\",\n",
    "    fill=True, thresh=0, levels=10, cmap=\"Purples\", ax = ax, cut = 4)\n",
    "ax.set_xticks([]);\n",
    "ax.set_yticks([]);\n",
    "ax.set_title('young', fontsize = 16)\n",
    "ax.set_xlabel('UMAP-1')\n",
    "ax.set_ylabel('UMAP-2')\n",
    "ax.spines['right'].set_visible(False)\n",
    "ax.spines['top'].set_visible(False)\n",
    "ax.spines['left'].set_visible(False)\n",
    "ax.spines['bottom'].set_visible(False)\n",
    "\n",
    "ax = fig.add_subplot(1, 2, 2)\n",
    "sns.scatterplot(data = df_temp, x = 'umap_x', y = 'umap_y', s = 0, ax = ax)\n",
    "sns.kdeplot(data=df_temp[df_temp['stage'] == '18mo'], x=\"umap_x\", y=\"umap_y\",\n",
    "    fill=True, thresh=0, levels=10, cmap=\"Purples\", ax = ax, cut = 4)\n",
    "ax.set_xticks([]);\n",
    "ax.set_yticks([]);\n",
    "ax.set_title('old', fontsize = 16)\n",
    "ax.set_xlabel('UMAP-1')\n",
    "ax.set_ylabel('UMAP-2')\n",
    "ax.spines['right'].set_visible(False)\n",
    "ax.spines['top'].set_visible(False)\n",
    "ax.spines['left'].set_visible(False)\n",
    "ax.spines['bottom'].set_visible(False)\n",
    "\n",
    "#fig.savefig(outbase + 'Ctrl_DT_kdeplot_endo.png', dpi = 150, bbox_inches = 'tight')"
   ]
  },
  {
   "cell_type": "code",
   "execution_count": null,
   "id": "9e8e7a62",
   "metadata": {},
   "outputs": [],
   "source": [
    "# anndata2ri interconverts AnnData and Single Cell Experiment objects\n",
    "anndata2ri.activate()\n",
    "%load_ext rpy2.ipython\n",
    "#%reload_ext rpy2.ipython"
   ]
  },
  {
   "cell_type": "code",
   "execution_count": null,
   "id": "f8f8199b",
   "metadata": {},
   "outputs": [],
   "source": [
    "adata.layers['norm_counts'] = adata.X.copy()"
   ]
  },
  {
   "cell_type": "code",
   "execution_count": null,
   "id": "f280d232",
   "metadata": {},
   "outputs": [],
   "source": [
    "adata_milo = sc.AnnData(adata.layers['norm_counts'].copy(), \n",
    "                        obs = adata.obs[['stage', 'day', 'cell_type',\"sample\"]], \n",
    "                        var = adata.var)\n",
    "adata_milo.obsm['X_pca'] = adata.obsm['X_pca']\n",
    "adata_milo.obsm['X_umap'] = adata.obsm['X_umap']"
   ]
  },
  {
   "cell_type": "code",
   "execution_count": null,
   "id": "d1a5730b",
   "metadata": {},
   "outputs": [],
   "source": [
    "%%R\n",
    "library(igraph)\n",
    "\n",
    "library(miloR)"
   ]
  },
  {
   "cell_type": "code",
   "execution_count": null,
   "id": "aad76ee1",
   "metadata": {},
   "outputs": [],
   "source": [
    "%%R -i adata_milo\n",
    "adata_milo"
   ]
  },
  {
   "cell_type": "code",
   "execution_count": null,
   "id": "e97531d0",
   "metadata": {},
   "outputs": [],
   "source": [
    "%%R \n",
    "myeloid_milo <- Milo(adata_milo)\n",
    "myeloid_milo"
   ]
  },
  {
   "cell_type": "code",
   "execution_count": null,
   "id": "28e97462",
   "metadata": {},
   "outputs": [],
   "source": [
    "%%R\n",
    "myeloid_milo"
   ]
  },
  {
   "cell_type": "code",
   "execution_count": null,
   "id": "26dc74a2",
   "metadata": {},
   "outputs": [],
   "source": [
    "%%R \n",
    "myeloid_milo <- buildGraph(myeloid_milo, k=30, d=30, reduced.dim = \"PCA\")"
   ]
  },
  {
   "cell_type": "code",
   "execution_count": null,
   "id": "66e6e35d",
   "metadata": {},
   "outputs": [],
   "source": [
    "adata_milo"
   ]
  },
  {
   "cell_type": "code",
   "execution_count": null,
   "id": "a4973385",
   "metadata": {},
   "outputs": [],
   "source": [
    "design_df = adata_milo.obs[['sample',\"stage\",\"day\",]].copy()\n",
    "design_df.drop_duplicates(inplace=True)\n",
    "design_df.index = design_df['sample']\n",
    "design_df"
   ]
  },
  {
   "cell_type": "code",
   "execution_count": null,
   "id": "4c8b87d8",
   "metadata": {},
   "outputs": [],
   "source": [
    "%%R -i design_df -o DA_results_myeloid\n",
    "## Define neighbourhoods\n",
    "myeloid_milo <- makeNhoods(myeloid_milo, prop = 0.1, k = 30, d=30, refined = TRUE, reduced_dims = \"PCA\")\n",
    "\n",
    "## Count cells in neighbourhoods\n",
    "myeloid_milo <- countCells(myeloid_milo, meta.data = data.frame(colData(myeloid_milo)), sample=\"sample\")\n",
    "\n",
    "## Calculate distances between cells in neighbourhoods\n",
    "## for spatial FDR correction\n",
    "myeloid_milo <- calcNhoodDistance(myeloid_milo, d=30, reduced.dim = \"PCA\")\n",
    "\n",
    "\n",
    "## Test for differential abundance\n",
    "DA_results_myeloid <- testNhoods(myeloid_milo, design = ~stage, design.df = design_df)"
   ]
  },
  {
   "cell_type": "code",
   "execution_count": null,
   "id": "12d87e02",
   "metadata": {},
   "outputs": [],
   "source": [
    "DA_results_myeloid.head()"
   ]
  },
  {
   "cell_type": "code",
   "execution_count": null,
   "id": "e9b484c6",
   "metadata": {},
   "outputs": [],
   "source": [
    "plt.plot(DA_results_myeloid.logFC, -np.log10(DA_results_myeloid.SpatialFDR), '.');\n",
    "plt.xlabel(\"log-Fold Change\");\n",
    "plt.ylabel(\"- log10(Spatial FDR)\")"
   ]
  },
  {
   "cell_type": "code",
   "execution_count": null,
   "id": "910bcf27",
   "metadata": {},
   "outputs": [],
   "source": [
    "%%R\n",
    "myeloid_milo <- buildNhoodGraph(myeloid_milo)"
   ]
  },
  {
   "cell_type": "code",
   "execution_count": null,
   "id": "e70e8556",
   "metadata": {},
   "outputs": [],
   "source": [
    "%%R \n",
    "head(DA_results_myeloid)"
   ]
  },
  {
   "cell_type": "code",
   "execution_count": null,
   "id": "2cf13c13",
   "metadata": {},
   "outputs": [],
   "source": [
    "%%R -w 800 -h 600\n",
    "alpha_val = 1\n",
    "library(ggplot2)\n",
    "p1 <- plotNhoodGraphDA(myeloid_milo, DA_results_myeloid, res_column = 'SpatialFDR', alpha=alpha_val, \n",
    "                 layout=\"UMAP\", size_range = c(2, 8), node_stroke =0.8)\n",
    "p1"
   ]
  },
  {
   "cell_type": "code",
   "execution_count": null,
   "id": "e7ff01d6",
   "metadata": {},
   "outputs": [],
   "source": [
    "%%R -w 800 -h 600\n",
    "alpha_val = 1\n",
    "library(ggplot2)\n",
    "p1 <- plotNhoodGraphDA(myeloid_milo, DA_results_myeloid, res_column = 'logFC', alpha=alpha_val, \n",
    "                 layout=\"UMAP\", size_range = c(2, 8), node_stroke =0.8)\n",
    "p1"
   ]
  },
  {
   "cell_type": "code",
   "execution_count": null,
   "id": "84cfc7dd",
   "metadata": {},
   "outputs": [],
   "source": [
    "%%R\n",
    "myeloid_milo"
   ]
  },
  {
   "cell_type": "code",
   "execution_count": null,
   "id": "b88fde3a",
   "metadata": {},
   "outputs": [],
   "source": [
    "%%R \n",
    "DA_results_myeloid <- annotateNhoods(myeloid_milo, DA_results_myeloid, coldata_col = 'cell_type')\n",
    "head(DA_results_myeloid)"
   ]
  },
  {
   "cell_type": "code",
   "execution_count": null,
   "id": "3cb24e21",
   "metadata": {},
   "outputs": [],
   "source": [
    "%%R\n",
    "library(ggplot2)\n",
    "ggplot(DA_results_myeloid, aes(cell_type_fraction)) + geom_histogram(bins=50)"
   ]
  },
  {
   "cell_type": "code",
   "execution_count": null,
   "id": "c6a792ef",
   "metadata": {},
   "outputs": [],
   "source": [
    "%%R -o DA_results_myeloid\n",
    "DA_results_myeloid$Celltypes <- ifelse(DA_results_myeloid$cell_type_fraction < 0.8, \"Mixed\", DA_results_myeloid$cell_type)\n",
    "head(DA_results_myeloid)"
   ]
  },
  {
   "cell_type": "code",
   "execution_count": null,
   "id": "158eae3a",
   "metadata": {},
   "outputs": [],
   "source": [
    "%%R\n",
    "plotDAbeeswarm(DA_results_myeloid, group.by = \"cell_type\", alpha = 1)"
   ]
  },
  {
   "cell_type": "code",
   "execution_count": null,
   "id": "c60ff621",
   "metadata": {},
   "outputs": [],
   "source": [
    "import matplotlib.colors as mcolors\n",
    "import matplotlib.cm as cm\n",
    "\n",
    "\n",
    "for j, item in enumerate(['FDR', 'SpatialFDR', 'PValue']):\n",
    "    fig = plt.figure(figsize = (8, 12))\n",
    "    DA_results_myeloid['log_' + item] = -np.log10(DA_results_myeloid[item])\n",
    "    ax = fig.add_subplot(1, 1, 1)\n",
    "    plot = sns.stripplot(x='logFC', y=\"cell_type\", hue='log_' + item, data=DA_results_myeloid, size = 6, \n",
    "              palette='cividis', \n",
    "              jitter=0.2, edgecolor='none', ax = ax)\n",
    "    plot.get_legend().set_visible(False)\n",
    "    #ax.set_xticklabels(ax.get_xticks(), fontsize = 18)\n",
    "    #ax.set_yticklabels(ax.get_yticks(), fontsize = 18)\n",
    "    ax.tick_params(axis='both', which='major', labelsize=18)\n",
    "    ax.set_ylabel('T cell subsets', fontsize = 18)\n",
    "    ax.set_xlabel('logFC', fontsize = 18)\n",
    "    sns.despine()\n",
    "\n",
    "\n",
    "    # Drawing the side color bar\n",
    "    normalize = mcolors.Normalize(vmin=DA_results_myeloid['log_' + item].min(), \n",
    "                              vmax=DA_results_myeloid['log_' + item].max())\n",
    "    colormap = cm.cividis\n",
    "\n",
    "    for n in DA_results_myeloid['log_' + item]:\n",
    "        plt.plot(color=colormap(normalize(n)))\n",
    "\n",
    "    scalarmappaple = cm.ScalarMappable(norm=normalize, cmap=colormap)\n",
    "    scalarmappaple.set_array(DA_results_myeloid['log_' + item])\n",
    "    cbar = fig.colorbar(scalarmappaple)\n",
    "    cbar.ax.set_yticklabels(cbar.ax.get_yticks(), fontsize = 18)\n",
    "    cbar.ax.set_ylabel('-log10(' + item + ')',  labelpad = 20, rotation=90, fontsize = 18)\n",
    "    ax.grid(False)\n",
    "    #fig.savefig(outbase + 'milor_myeloid_swarmplot_colored_by_log_' + item + '.pdf', dpi = 300, \n",
    "                #bbox_inches = 'tight')"
   ]
  },
  {
   "cell_type": "markdown",
   "id": "7f54477b",
   "metadata": {},
   "source": [
    "## T cells"
   ]
  },
  {
   "cell_type": "code",
   "execution_count": null,
   "id": "dd710be0",
   "metadata": {},
   "outputs": [],
   "source": [
    "T = adata[adata.obs['cell_type'].isin(['T cells'])]"
   ]
  },
  {
   "cell_type": "code",
   "execution_count": null,
   "id": "246a2a7b",
   "metadata": {},
   "outputs": [],
   "source": [
    "# Remove columns with all 0s\n",
    "sc.pp.filter_genes(T, min_cells=1)"
   ]
  },
  {
   "cell_type": "code",
   "execution_count": null,
   "id": "1f6d624e",
   "metadata": {},
   "outputs": [],
   "source": [
    "sc.pp.highly_variable_genes(T, n_top_genes=2000, n_bins=20, flavor='seurat_v3')"
   ]
  },
  {
   "cell_type": "code",
   "execution_count": null,
   "id": "7ca9155e",
   "metadata": {},
   "outputs": [],
   "source": [
    "rng = np.random.RandomState(42)\n",
    "sc.tl.pca(T, n_comps=50, svd_solver='arpack', random_state=rng, use_highly_variable=True)"
   ]
  },
  {
   "cell_type": "code",
   "execution_count": null,
   "id": "f3982b66",
   "metadata": {},
   "outputs": [],
   "source": [
    "def observe_variance(anndata_object):\n",
    "    fig = plt.figure(figsize=(10,5))\n",
    "    ax1 = fig.add_subplot(121)\n",
    "    ax2 = fig.add_subplot(122)\n",
    "    # variance per principal component\n",
    "    x = range(len(anndata_object.uns['pca']['variance_ratio']))\n",
    "    y = anndata_object.uns['pca']['variance_ratio']\n",
    "    ax1.scatter(x,y,s=4)\n",
    "    ax1.set_xlabel('PC')\n",
    "    ax1.set_ylabel('Fraction of variance explained\\n')\n",
    "    ax1.set_title('Fraction of variance explained per PC\\n')\n",
    "    # cumulative variance explained\n",
    "    cml_var_explained = np.cumsum(anndata_object.uns['pca']['variance_ratio'])\n",
    "    x = range(len(anndata_object.uns['pca']['variance_ratio']))\n",
    "    y = cml_var_explained\n",
    "    ax2.scatter(x,y,s=4)\n",
    "    ax2.set_xlabel('PC')\n",
    "    ax2.set_ylabel('Cumulative fraction of variance\\nexplained')\n",
    "    ax2.set_title('Cumulative fraction of variance\\nexplained by PCs')\n",
    "    fig.tight_layout()\n",
    "    plot = plt.show\n",
    "    return(plot)\n",
    "observe_variance(T)"
   ]
  },
  {
   "cell_type": "code",
   "execution_count": null,
   "id": "e8239e91-18e4-4ced-abbb-20bb3fc017de",
   "metadata": {},
   "outputs": [],
   "source": [
    "plt.plot(range(len(T.uns['pca']['variance_ratio'])), np.cumsum(T.uns['pca']['variance_ratio']) * 100, '.-')\n",
    "plt.axvline(30, color = 'r',)\n",
    "plt.xlabel('Principal Component', fontsize = 14)\n",
    "plt.ylabel('% Variance Explained', fontsize = 14)"
   ]
  },
  {
   "cell_type": "code",
   "execution_count": null,
   "id": "c96409db",
   "metadata": {},
   "outputs": [],
   "source": [
    "sc.pp.neighbors(T, n_neighbors=30, n_pcs=30)\n",
    "sc.tl.umap(T, min_dist=0.5)"
   ]
  },
  {
   "cell_type": "markdown",
   "id": "a79508b0",
   "metadata": {},
   "source": [
    "### T cells clustering and annotation\n"
   ]
  },
  {
   "cell_type": "code",
   "execution_count": null,
   "id": "f8e94162",
   "metadata": {},
   "outputs": [],
   "source": [
    "for resolution_parameter in [0.1, 0.2, 0.3, 0.4, 0.5, 0.6, 0.7, 0.8, 0.9, 1.0]:\n",
    "    sc.tl.leiden(T, resolution=resolution_parameter, random_state=42, \n",
    "                        key_added='leiden_'+str(resolution_parameter))"
   ]
  },
  {
   "cell_type": "code",
   "execution_count": null,
   "id": "aae56db3-9681-4f56-a4d3-2453d1545b48",
   "metadata": {},
   "outputs": [],
   "source": [
    "for resolution_parameter in [1.1,1.2,1.3,1.4,1.5]:\n",
    "    sc.tl.leiden(T, resolution=resolution_parameter, random_state=42, \n",
    "                        key_added='leiden_'+str(resolution_parameter))"
   ]
  },
  {
   "cell_type": "code",
   "execution_count": null,
   "id": "23b1b4a1",
   "metadata": {},
   "outputs": [],
   "source": [
    "sc.tl.rank_genes_groups(T, 'leiden_0.3', method='wilcoxon', use_raw=False)\n",
    "sc.pl.rank_genes_groups(T, n_genes=25, sharey=False)  "
   ]
  },
  {
   "cell_type": "code",
   "execution_count": null,
   "id": "cc247ecb",
   "metadata": {},
   "outputs": [],
   "source": [
    "sc.set_figure_params(dpi=80, dpi_save=300, color_map='viridis', vector_friendly=True, transparent=True)\n",
    "sc.pl.umap(\n",
    "    T, \n",
    "    color=['leiden_0.1', 'leiden_0.2', 'leiden_0.3', 'leiden_0.4', 'leiden_0.5', \n",
    "           'leiden_0.6', 'leiden_0.7', 'leiden_0.8','leiden_0.9', 'leiden_1.0'], \n",
    "    palette=user_defined_palette,  \n",
    "    color_map='Spectral_r', \n",
    "    use_raw=False,\n",
    "    ncols=5,\n",
    "    wspace = 0.7,\n",
    "    outline_width=[0.6, 0.05],\n",
    "    frameon=False,\n",
    "    add_outline=True,\n",
    "    sort_order = False\n",
    ")"
   ]
  },
  {
   "cell_type": "code",
   "execution_count": null,
   "id": "ef3dcf75-778f-47c5-9565-a43477671e40",
   "metadata": {},
   "outputs": [],
   "source": [
    "sc.set_figure_params(dpi=80, dpi_save=300, color_map='viridis', vector_friendly=True, transparent=True)\n",
    "sc.pl.umap(\n",
    "    T, \n",
    "    color=['leiden_0.3','mito_frac', 'ribo_frac',], \n",
    "    palette=user_defined_palette,  \n",
    "    color_map='Spectral_r', \n",
    "    use_raw=False,\n",
    "    ncols=5,\n",
    "    wspace = 0.7,\n",
    "    outline_width=[0.6, 0.05],\n",
    "    frameon=False,\n",
    "    add_outline=True,\n",
    "    sort_order = False\n",
    ")"
   ]
  },
  {
   "cell_type": "code",
   "execution_count": null,
   "id": "69393c61",
   "metadata": {},
   "outputs": [],
   "source": [
    "T"
   ]
  },
  {
   "cell_type": "code",
   "execution_count": null,
   "id": "21528ab4",
   "metadata": {},
   "outputs": [],
   "source": [
    "T.obs['cell_type_subset'] = ['Tregs' if (x=='0' ) else \n",
    "                                'CD4' if (x=='3'  ) else\n",
    "                               'GZMK+ CD8' if (x=='1' or x==\"4\" ) else\n",
    "                               'Naive CD4' if ( x=='6' ) else\n",
    "                                'Naive CD8' if ( x=='2' ) else\n",
    "                                'CD8' if (x=='5') else\n",
    "                               'ERROR' for x in T.obs['leiden_0.3']] "
   ]
  },
  {
   "cell_type": "code",
   "execution_count": null,
   "id": "96f4db9d-755e-4a48-aea5-bce4aab4e2eb",
   "metadata": {},
   "outputs": [],
   "source": [
    "\n",
    "# Define the new order for the categories\n",
    "new_order = ['Tregs', 'Naive CD4','CD4',  'GZMK+ CD8','Naive CD8', 'CD8',]\n",
    "\n",
    "# Assign the new order to the cell_type_subset column\n",
    "T.obs['cell_type_subset'] = pd.Categorical(T.obs['cell_type_subset'], categories=new_order, ordered=True)\n"
   ]
  },
  {
   "cell_type": "code",
   "execution_count": null,
   "id": "799cc5ce-5e5b-42dd-af57-123edd607104",
   "metadata": {},
   "outputs": [],
   "source": [
    "sc.set_figure_params(dpi=80, dpi_save=300, color_map='viridis', vector_friendly=True, transparent=True)\n",
    "sc.pl.umap(\n",
    "    T, \n",
    "    color=['cell_type_subset','Cd8a',\"Cd4\",'Foxp3'] , \n",
    "    palette=user_defined_palette,  \n",
    "\n",
    "    use_raw=False,\n",
    "    ncols=5,\n",
    "    wspace = 0.3,\n",
    "    outline_width=[0.6, 0.05],\n",
    "    frameon=False,\n",
    "    add_outline=True,\n",
    "    sort_order = False\n",
    ")"
   ]
  },
  {
   "cell_type": "code",
   "execution_count": null,
   "id": "19594512",
   "metadata": {},
   "outputs": [],
   "source": [
    "sc.set_figure_params(dpi=80, dpi_save=300, color_map='viridis', vector_friendly=True, transparent=True)\n",
    "sc.pl.umap(\n",
    "    T, \n",
    "    color=['leiden_0.2',\"day\",\"stage\",\"Ly6a\",'Cd4', 'Cd40lg',\"Icos\",'Cd8a', \"Cd8b1\",\"Ccr7\", \"Stat1\", 'Lef1','Foxp1',\"Sell\",'Foxp3', 'Ikzf2', 'Ctla4','Gzmk',\"Nkg7\",\"Ccl5\",\"Foxp3\"] , \n",
    "    palette=user_defined_palette,  \n",
    "\n",
    "    use_raw=False,\n",
    "    ncols=5,\n",
    "    wspace = 0.3,\n",
    "    outline_width=[0.6, 0.05],\n",
    "    frameon=False,\n",
    "    add_outline=True,\n",
    "    sort_order = False\n",
    ")"
   ]
  },
  {
   "cell_type": "code",
   "execution_count": null,
   "id": "48c8edf8",
   "metadata": {},
   "outputs": [],
   "source": [
    "sc.tl.rank_genes_groups(T, 'cell_type_subset', method='wilcoxon', use_raw=False)\n",
    "sc.pl.rank_genes_groups(T, n_genes=25, sharey=False) "
   ]
  },
  {
   "cell_type": "code",
   "execution_count": null,
   "id": "9c6b9c64",
   "metadata": {},
   "outputs": [],
   "source": [
    "marker_genes_dict = {    'Tregs': ['Foxp3', 'Ikzf2', 'Ctla4'],\n",
    "    'CD4': [\"Ly6a\",'Cd4', 'Cd40lg',\"Icos\"],\n",
    "      'Naive CD4': [\"Bach2\"],   \n",
    "                     'GZMK+ CD8': ['Gzmk',\"Nkg7\",\"Ccl5\"],\n",
    "        'CD8': ['Cd8a', \"Cd8b1\",\"Ccr7\", \"Stat1\"], \n",
    "    'Naive CD8': [\"Lef1\",\"Sell\"],\n",
    "  \n",
    "}"
   ]
  },
  {
   "cell_type": "code",
   "execution_count": null,
   "id": "6eb4b334",
   "metadata": {
    "scrolled": true
   },
   "outputs": [],
   "source": [
    "sc.pl.dotplot(T, marker_genes_dict, 'cell_type_subset', dendrogram=True,log=True)\n"
   ]
  },
  {
   "cell_type": "code",
   "execution_count": null,
   "id": "1cd39ada",
   "metadata": {},
   "outputs": [],
   "source": [
    "sc.pl.matrixplot(T, marker_genes_dict, 'cell_type_subset', dendrogram=True, cmap='Blues', standard_scale='var', colorbar_title='column scaled\\nexpression')\n"
   ]
  },
  {
   "cell_type": "code",
   "execution_count": null,
   "id": "df4d8914",
   "metadata": {},
   "outputs": [],
   "source": [
    "sc.set_figure_params(dpi=80, dpi_save=300, color_map='viridis', vector_friendly=True, transparent=True)\n",
    "\n",
    "sc.pl.umap(\n",
    "    T, \n",
    "    color=[\"Cd4\",\"Cxcr5\",\"Icos\", \"Pdcd1\",\"Cd8a\",'Foxp3',\"Il2ra\",\"Cd40lg\",\"Ctla4\",\n",
    "           \"Lef1\",\"Gzmk\",\"Klrc1\",\"Klrd1\", \"Sox4\",\"stage\",\"Ifng\",'day'], \n",
    "    ncols=6,\n",
    "    outline_width=[0.6, 0.05],\n",
    "    frameon=False,\n",
    "    cmap='Spectral_r',\n",
    "    wspace = 0.1,\n",
    "    use_raw=False,\n",
    "    add_outline=True\n",
    ")"
   ]
  },
  {
   "cell_type": "code",
   "execution_count": null,
   "id": "a1dfaa15",
   "metadata": {},
   "outputs": [],
   "source": [
    "sc.set_figure_params(dpi=80, dpi_save=300, color_map='viridis', vector_friendly=True, transparent=True)\n",
    "\n",
    "sc.pl.umap(\n",
    "    T, \n",
    "    color=[ 'cell_type_subset','stage', 'day',], \n",
    "    ncols=6,\n",
    "    outline_width=[0.6, 0.05],\n",
    "    frameon=False,\n",
    "    cmap='Spectral_r',\n",
    "    wspace = 0.4,\n",
    "    use_raw=False,\n",
    "    add_outline=True\n",
    ")"
   ]
  },
  {
   "cell_type": "code",
   "execution_count": null,
   "id": "5c61e294",
   "metadata": {},
   "outputs": [],
   "source": [
    "T"
   ]
  },
  {
   "cell_type": "code",
   "execution_count": null,
   "id": "a3e514dd",
   "metadata": {},
   "outputs": [],
   "source": [
    "path_to_h5ad = '/Users/xleana/Desktop/CD45/CD45new/CD45pos_02mo18mo_SLTBIall_T.h5ad'\n",
    "\n",
    "T.write(path_to_h5ad)"
   ]
  },
  {
   "cell_type": "code",
   "execution_count": null,
   "id": "8898f723",
   "metadata": {},
   "outputs": [],
   "source": [
    "df_temp = pd.DataFrame({'umap_x': T.obsm['X_umap'][:, 0], 'umap_y': T.obsm['X_umap'][:, 1], \n",
    "                        'stage': T.obs['stage'], 'day': T.obs['day']}, index = T.obs.index)\n",
    "\n",
    "\n"
   ]
  },
  {
   "cell_type": "code",
   "execution_count": null,
   "id": "ad627979",
   "metadata": {},
   "outputs": [],
   "source": [
    "T.obs[\"stage\"]"
   ]
  },
  {
   "cell_type": "code",
   "execution_count": null,
   "id": "84c9e082",
   "metadata": {},
   "outputs": [],
   "source": [
    "import seaborn as sns\n",
    "fig = plt.figure(figsize = (8*2, 6))\n",
    "ax = fig.add_subplot(1, 2, 1)\n",
    "sns.scatterplot(data = df_temp, x = 'umap_x', y = 'umap_y', s = 1, ax = ax)\n",
    "sns.kdeplot(data=df_temp[df_temp['stage'] == '02mo'], x=\"umap_x\", y=\"umap_y\",\n",
    "    fill=True, thresh=0, levels=10, cmap=\"Purples\", ax = ax, cut = 4)\n",
    "ax.set_xticks([]);\n",
    "ax.set_yticks([]);\n",
    "ax.set_title('young', fontsize = 16)\n",
    "ax.set_xlabel('UMAP-1')\n",
    "ax.set_ylabel('UMAP-2')\n",
    "ax.spines['right'].set_visible(False)\n",
    "ax.spines['top'].set_visible(False)\n",
    "ax.spines['left'].set_visible(False)\n",
    "ax.spines['bottom'].set_visible(False)\n",
    "\n",
    "ax = fig.add_subplot(1, 2, 2)\n",
    "sns.scatterplot(data = df_temp, x = 'umap_x', y = 'umap_y', s = 0, ax = ax)\n",
    "sns.kdeplot(data=df_temp[df_temp['stage'] == '18mo'], x=\"umap_x\", y=\"umap_y\",\n",
    "    fill=True, thresh=0, levels=10, cmap=\"Purples\", ax = ax, cut = 4)\n",
    "ax.set_xticks([]);\n",
    "ax.set_yticks([]);\n",
    "ax.set_title('old', fontsize = 16)\n",
    "ax.set_xlabel('UMAP-1')\n",
    "ax.set_ylabel('UMAP-2')\n",
    "ax.spines['right'].set_visible(False)\n",
    "ax.spines['top'].set_visible(False)\n",
    "ax.spines['left'].set_visible(False)\n",
    "ax.spines['bottom'].set_visible(False)\n",
    "\n",
    "#fig.savefig(outbase + 'Ctrl_DT_kdeplot_endo.png', dpi = 150, bbox_inches = 'tight')"
   ]
  },
  {
   "cell_type": "code",
   "execution_count": null,
   "id": "011af712",
   "metadata": {},
   "outputs": [],
   "source": [
    "# anndata2ri interconverts AnnData and Single Cell Experiment objects\n",
    "anndata2ri.activate()\n",
    "%load_ext rpy2.ipython\n",
    "#%reload_ext rpy2.ipython"
   ]
  },
  {
   "cell_type": "code",
   "execution_count": null,
   "id": "1e0125b6",
   "metadata": {},
   "outputs": [],
   "source": [
    "T.layers['norm_counts'] = T.X.copy()"
   ]
  },
  {
   "cell_type": "code",
   "execution_count": null,
   "id": "61cd987e",
   "metadata": {},
   "outputs": [],
   "source": [
    "adata_milo = sc.AnnData(T.layers['norm_counts'].copy(), \n",
    "                        obs = T.obs[['stage', 'day', 'cell_type_subset',\"sample\"]], \n",
    "                        var = T.var)\n",
    "adata_milo.obsm['X_pca'] = T.obsm['X_pca']\n",
    "adata_milo.obsm['X_umap'] = T.obsm['X_umap']"
   ]
  },
  {
   "cell_type": "code",
   "execution_count": null,
   "id": "be04b437",
   "metadata": {},
   "outputs": [],
   "source": [
    "%%R\n",
    "library(igraph)\n",
    "\n",
    "library(miloR)"
   ]
  },
  {
   "cell_type": "code",
   "execution_count": null,
   "id": "e9547176",
   "metadata": {},
   "outputs": [],
   "source": [
    "%%R -i adata_milo\n",
    "adata_milo"
   ]
  },
  {
   "cell_type": "code",
   "execution_count": null,
   "id": "070f1152",
   "metadata": {},
   "outputs": [],
   "source": [
    "%%R \n",
    "myeloid_milo <- Milo(adata_milo)\n",
    "myeloid_milo"
   ]
  },
  {
   "cell_type": "code",
   "execution_count": null,
   "id": "f941a89d",
   "metadata": {},
   "outputs": [],
   "source": [
    "%%R \n",
    "myeloid_milo <- buildGraph(myeloid_milo, k=30, d=30, reduced.dim = \"PCA\")"
   ]
  },
  {
   "cell_type": "code",
   "execution_count": null,
   "id": "dfbc9b69",
   "metadata": {},
   "outputs": [],
   "source": [
    "design_df = adata_milo.obs[['sample',\"stage\",\"day\",]].copy()\n",
    "design_df.drop_duplicates(inplace=True)\n",
    "design_df.index = design_df['sample']\n",
    "design_df"
   ]
  },
  {
   "cell_type": "code",
   "execution_count": null,
   "id": "1cfd23b6",
   "metadata": {},
   "outputs": [],
   "source": [
    "%%R -i design_df -o DA_results_myeloid\n",
    "## Define neighbourhoods\n",
    "myeloid_milo <- makeNhoods(myeloid_milo, prop = 0.1, k = 30, d=30, refined = TRUE, reduced_dims = \"PCA\")\n",
    "\n",
    "## Count cells in neighbourhoods\n",
    "myeloid_milo <- countCells(myeloid_milo, meta.data = data.frame(colData(myeloid_milo)), sample=\"sample\")\n",
    "\n",
    "## Calculate distances between cells in neighbourhoods\n",
    "## for spatial FDR correction\n",
    "myeloid_milo <- calcNhoodDistance(myeloid_milo, d=30, reduced.dim = \"PCA\")\n",
    "\n",
    "\n",
    "## Test for differential abundance\n",
    "DA_results_myeloid <- testNhoods(myeloid_milo, design = ~stage, design.df = design_df)\n"
   ]
  },
  {
   "cell_type": "code",
   "execution_count": null,
   "id": "5cc15be6",
   "metadata": {},
   "outputs": [],
   "source": [
    "DA_results_myeloid.head()"
   ]
  },
  {
   "cell_type": "code",
   "execution_count": null,
   "id": "ec269d05",
   "metadata": {},
   "outputs": [],
   "source": [
    "plt.plot(DA_results_myeloid.logFC, -np.log10(DA_results_myeloid.SpatialFDR), '.');\n",
    "plt.xlabel(\"log-Fold Change\");\n",
    "plt.ylabel(\"- log10(Spatial FDR)\")"
   ]
  },
  {
   "cell_type": "code",
   "execution_count": null,
   "id": "5339a4ce",
   "metadata": {},
   "outputs": [],
   "source": [
    "%%R\n",
    "myeloid_milo <- buildNhoodGraph(myeloid_milo)"
   ]
  },
  {
   "cell_type": "code",
   "execution_count": null,
   "id": "137d4236",
   "metadata": {},
   "outputs": [],
   "source": [
    "%%R \n",
    "head(DA_results_myeloid)"
   ]
  },
  {
   "cell_type": "code",
   "execution_count": null,
   "id": "290dff9d",
   "metadata": {},
   "outputs": [],
   "source": [
    "%%R -w 800 -h 600\n",
    "alpha_val = 1\n",
    "library(ggplot2)\n",
    "p1 <- plotNhoodGraphDA(myeloid_milo, DA_results_myeloid, res_column = 'SpatialFDR', alpha=alpha_val, \n",
    "                 layout=\"UMAP\", size_range = c(2, 8), node_stroke =0.8)\n",
    "p1"
   ]
  },
  {
   "cell_type": "code",
   "execution_count": null,
   "id": "240f4f7a",
   "metadata": {},
   "outputs": [],
   "source": [
    "%%R -w 800 -h 600\n",
    "alpha_val = 1\n",
    "library(ggplot2)\n",
    "p1 <- plotNhoodGraphDA(myeloid_milo, DA_results_myeloid, res_column = 'logFC', alpha=alpha_val, \n",
    "                 layout=\"UMAP\", size_range = c(2, 8), node_stroke =0.8)\n",
    "p1"
   ]
  },
  {
   "cell_type": "code",
   "execution_count": null,
   "id": "229a1b5f",
   "metadata": {},
   "outputs": [],
   "source": [
    "%%R\n",
    "myeloid_milo"
   ]
  },
  {
   "cell_type": "code",
   "execution_count": null,
   "id": "1fd0413d",
   "metadata": {},
   "outputs": [],
   "source": [
    "%%R \n",
    "DA_results_myeloid <- annotateNhoods(myeloid_milo, DA_results_myeloid, coldata_col = 'cell_type_subset')\n",
    "head(DA_results_myeloid)"
   ]
  },
  {
   "cell_type": "code",
   "execution_count": null,
   "id": "a39690a3",
   "metadata": {},
   "outputs": [],
   "source": [
    "%%R\n",
    "library(ggplot2)\n",
    "ggplot(DA_results_myeloid, aes(cell_type_subset_fraction)) + geom_histogram(bins=50)"
   ]
  },
  {
   "cell_type": "code",
   "execution_count": null,
   "id": "aca1866e",
   "metadata": {},
   "outputs": [],
   "source": [
    "%%R -o DA_results_myeloid\n",
    "DA_results_myeloid$Celltypes <- ifelse(DA_results_myeloid$cell_type_subset_fraction < 0.8, \"Mixed\", DA_results_myeloid$cell_type_subset)\n",
    "head(DA_results_myeloid)"
   ]
  },
  {
   "cell_type": "code",
   "execution_count": null,
   "id": "cb457858",
   "metadata": {},
   "outputs": [],
   "source": [
    "%%R\n",
    "plotDAbeeswarm(DA_results_myeloid, group.by = \"cell_type_subset\", alpha = 1)"
   ]
  },
  {
   "cell_type": "code",
   "execution_count": null,
   "id": "56cc66ff",
   "metadata": {},
   "outputs": [],
   "source": [
    "import matplotlib.colors as mcolors\n",
    "import matplotlib.cm as cm\n",
    "\n",
    "\n",
    "for j, item in enumerate(['FDR', 'SpatialFDR', 'PValue']):\n",
    "    fig = plt.figure(figsize = (8, 12))\n",
    "    DA_results_myeloid['log_' + item] = -np.log10(DA_results_myeloid[item])\n",
    "    ax = fig.add_subplot(1, 1, 1)\n",
    "    plot = sns.stripplot(x='logFC', y=\"cell_type_subset\", hue='log_' + item, data=DA_results_myeloid, size = 6, \n",
    "              palette='cividis', \n",
    "              jitter=0.2, edgecolor='none', ax = ax)\n",
    "    plot.get_legend().set_visible(False)\n",
    "    #ax.set_xticklabels(ax.get_xticks(), fontsize = 18)\n",
    "    #ax.set_yticklabels(ax.get_yticks(), fontsize = 18)\n",
    "    ax.tick_params(axis='both', which='major', labelsize=18)\n",
    "    ax.set_ylabel('T cell subsets', fontsize = 18)\n",
    "    ax.set_xlabel('logFC', fontsize = 18)\n",
    "    sns.despine()\n",
    "\n",
    "\n",
    "    # Drawing the side color bar\n",
    "    normalize = mcolors.Normalize(vmin=DA_results_myeloid['log_' + item].min(), \n",
    "                              vmax=DA_results_myeloid['log_' + item].max())\n",
    "    colormap = cm.cividis\n",
    "\n",
    "    for n in DA_results_myeloid['log_' + item]:\n",
    "        plt.plot(color=colormap(normalize(n)))\n",
    "\n",
    "    scalarmappaple = cm.ScalarMappable(norm=normalize, cmap=colormap)\n",
    "    scalarmappaple.set_array(DA_results_myeloid['log_' + item])\n",
    "    cbar = fig.colorbar(scalarmappaple)\n",
    "    cbar.ax.set_yticklabels(cbar.ax.get_yticks(), fontsize = 18)\n",
    "    cbar.ax.set_ylabel('-log10(' + item + ')',  labelpad = 20, rotation=90, fontsize = 18)\n",
    "    ax.grid(False)\n",
    "    #fig.savefig(outbase + 'milor_myeloid_swarmplot_colored_by_log_' + item + '.pdf', dpi = 300, \n",
    "                #bbox_inches = 'tight')"
   ]
  },
  {
   "cell_type": "code",
   "execution_count": null,
   "id": "bbadcb52-f178-41d5-953c-4efc71b9cc66",
   "metadata": {},
   "outputs": [],
   "source": [
    "import matplotlib.colors as mcolors\n",
    "import matplotlib.cm as cm\n",
    "\n",
    "# Define the desired order of categories\n",
    "category_order = ['Tregs', 'CD4', 'Naive CD8', 'CD8', 'GZMK+ CD8']\n",
    "\n",
    "for j, item in enumerate(['FDR', 'SpatialFDR', 'PValue']):\n",
    "    fig = plt.figure(figsize=(8, 12))\n",
    "    DA_results_myeloid['log_' + item] = -np.log10(DA_results_myeloid[item])\n",
    "    ax = fig.add_subplot(1, 1, 1)\n",
    "    plot = sns.stripplot(x='logFC', y=\"cell_type_subset\", hue='log_' + item, data=DA_results_myeloid, size=6, \n",
    "                         palette='cividis', \n",
    "                         jitter=0.2, edgecolor='none', ax=ax, order=category_order)\n",
    "    plot.get_legend().set_visible(False)\n",
    "    ax.tick_params(axis='both', which='major', labelsize=18)\n",
    "    ax.set_ylabel('T cell subsets', fontsize=18)\n",
    "    ax.set_xlabel('logFC', fontsize=18)\n",
    "    sns.despine()\n",
    "\n",
    "    # Drawing the side color bar\n",
    "    normalize = mcolors.Normalize(vmin=DA_results_myeloid['log_' + item].min(), \n",
    "                                  vmax=DA_results_myeloid['log_' + item].max())\n",
    "    colormap = cm.cividis\n",
    "\n",
    "    for n in DA_results_myeloid['log_' + item]:\n",
    "        plt.plot(color=colormap(normalize(n)))\n",
    "\n",
    "    scalarmappaple = cm.ScalarMappable(norm=normalize, cmap=colormap)\n",
    "    scalarmappaple.set_array(DA_results_myeloid['log_' + item])\n",
    "    cbar = fig.colorbar(scalarmappaple)\n",
    "    cbar.ax.set_yticklabels(cbar.ax.get_yticks(), fontsize=18)\n",
    "    cbar.ax.set_ylabel('-log10(' + item + ')', labelpad=20, rotation=90, fontsize=18)\n",
    "    ax.grid(False)\n"
   ]
  },
  {
   "cell_type": "code",
   "execution_count": null,
   "id": "cbe61f21",
   "metadata": {},
   "outputs": [],
   "source": [
    "colors = T.uns['cell_type_subset_colors']\n",
    "\n",
    "tmp = pd.crosstab(T[T.obs['stage']==\"02mo\"].obs['day'],T.obs[\"cell_type_subset\"], normalize='index', )\n",
    "tmp.plot.area(stacked=True, color=colors).legend(loc='center left', bbox_to_anchor=(1, 0.5),frameon=False)\n",
    "plt.grid(False)\n",
    "plt.title(\"2 month-old\")\n"
   ]
  },
  {
   "cell_type": "code",
   "execution_count": null,
   "id": "42b5be74",
   "metadata": {},
   "outputs": [],
   "source": [
    "tmp = pd.crosstab(T[T.obs['stage']==\"18mo\"].obs['day'],T.obs[\"cell_type_subset\"], normalize='index')\n",
    "tmp.plot.area(stacked=True,color=colors).legend(loc='center left', bbox_to_anchor=(1, 0.5),frameon=False)\n",
    "plt.grid(False)\n",
    "plt.title(\"18 month-old\")\n"
   ]
  },
  {
   "cell_type": "code",
   "execution_count": null,
   "id": "32fa8121",
   "metadata": {},
   "outputs": [],
   "source": [
    "sc.pl.umap(T,color=\"cell_type_subset\")"
   ]
  },
  {
   "cell_type": "code",
   "execution_count": null,
   "id": "4678488e",
   "metadata": {},
   "outputs": [],
   "source": [
    "T.uns['cell_type_subset_colors']=['#f6222e','#002FA7','#E90064','#060047', '#ffbaba','#3283fe',]"
   ]
  },
  {
   "cell_type": "code",
   "execution_count": null,
   "id": "294e6ecb",
   "metadata": {},
   "outputs": [],
   "source": [
    "sc.pl.umap(T, color=['cell_type_subset',\"stage\",\"day\"], \n",
    "                     color_map='Spectral_r',\n",
    "                     use_raw=False, \n",
    "         #  \"Cd4\",\"Cd8a\",\n",
    "                     ncols=4, \n",
    "                     wspace = 0.7,\n",
    "                     outline_width=[0.6, 0.05], \n",
    "                     size=15,  \n",
    "                     frameon=False, \n",
    "                     add_outline=True, \n",
    "\n",
    "                     sort_order = False)"
   ]
  },
  {
   "cell_type": "code",
   "execution_count": null,
   "id": "054fb53a",
   "metadata": {},
   "outputs": [],
   "source": [
    "sc.pl.umap(T, color=['cell_type_subset'], \n",
    "                     color_map='Spectral_r',\n",
    "                     use_raw=False, \n",
    "         #  \"Cd4\",\"Cd8a\",\n",
    "                     ncols=4, \n",
    "                     wspace = 0.7,\n",
    "                     outline_width=[0.6, 0.05], \n",
    "                     size=15,  \n",
    "                     frameon=False, \n",
    "                     add_outline=True, \n",
    "\n",
    "                     sort_order = False)"
   ]
  },
  {
   "cell_type": "code",
   "execution_count": null,
   "id": "f6ba9424",
   "metadata": {},
   "outputs": [],
   "source": [
    "Tyoung=T[T.obs[\"stage\"]==\"02mo\"]"
   ]
  },
  {
   "cell_type": "code",
   "execution_count": null,
   "id": "fe8137e4",
   "metadata": {},
   "outputs": [],
   "source": [
    "Told=T[T.obs[\"stage\"]==\"18mo\"]"
   ]
  },
  {
   "cell_type": "code",
   "execution_count": null,
   "id": "67b2f32c",
   "metadata": {},
   "outputs": [],
   "source": [
    "TyoungD0=Tyoung[Tyoung.obs[\"day\"]==\"d0\"]"
   ]
  },
  {
   "cell_type": "code",
   "execution_count": null,
   "id": "1d802d1a",
   "metadata": {},
   "outputs": [],
   "source": [
    "TyoungD1=Tyoung[Tyoung.obs[\"day\"]==\"d1\"]"
   ]
  },
  {
   "cell_type": "code",
   "execution_count": null,
   "id": "540ccbee",
   "metadata": {},
   "outputs": [],
   "source": [
    "TyoungD4=Tyoung[Tyoung.obs[\"day\"]==\"d4\"]"
   ]
  },
  {
   "cell_type": "code",
   "execution_count": null,
   "id": "7c9dacfd",
   "metadata": {},
   "outputs": [],
   "source": [
    "TyoungD7=Tyoung[Tyoung.obs[\"day\"]==\"d7\"]"
   ]
  },
  {
   "cell_type": "code",
   "execution_count": null,
   "id": "a99c9fa8",
   "metadata": {},
   "outputs": [],
   "source": [
    "ToldD0=Told[Told.obs[\"day\"]==\"d0\"]"
   ]
  },
  {
   "cell_type": "code",
   "execution_count": null,
   "id": "63ad3cad",
   "metadata": {},
   "outputs": [],
   "source": [
    "ToldD1=Told[Told.obs[\"day\"]==\"d1\"]"
   ]
  },
  {
   "cell_type": "code",
   "execution_count": null,
   "id": "f70447e6",
   "metadata": {},
   "outputs": [],
   "source": [
    "ToldD4=Told[Told.obs[\"day\"]==\"d4\"]"
   ]
  },
  {
   "cell_type": "code",
   "execution_count": null,
   "id": "c0ce4c30",
   "metadata": {},
   "outputs": [],
   "source": [
    "ToldD7=Told[Told.obs[\"day\"]==\"d7\"]"
   ]
  },
  {
   "cell_type": "code",
   "execution_count": null,
   "id": "06d0a037",
   "metadata": {},
   "outputs": [],
   "source": [
    "colors = T.uns['cell_type_subset_colors']\n",
    "\n",
    "tmp = pd.crosstab(Tyoung[Tyoung.obs['stage']==\"02mo\"].obs['day'],Tyoung.obs[\"cell_type_subset\"], normalize='index', )\n",
    "tmp.plot.area(stacked=True, color=colors).legend(loc='center left', bbox_to_anchor=(1, 0.5),frameon=False)\n",
    "plt.grid(False)\n",
    "plt.title(\"2 month-old\")\n"
   ]
  },
  {
   "cell_type": "code",
   "execution_count": null,
   "id": "4efa1416",
   "metadata": {},
   "outputs": [],
   "source": [
    "colors = T.uns['cell_type_subset_colors']\n",
    "\n",
    "tmp = pd.crosstab(T[T.obs['stage']==\"18mo\"].obs['day'],T.obs[\"cell_type_subset\"], normalize='index', )\n",
    "tmp.plot.area(stacked=True, color=colors).legend(loc='center left', bbox_to_anchor=(1, 0.5),frameon=False)\n",
    "plt.grid(False)\n",
    "plt.title(\"18 month-old\")\n"
   ]
  },
  {
   "cell_type": "code",
   "execution_count": null,
   "id": "f7e360a9",
   "metadata": {},
   "outputs": [],
   "source": [
    "sc.set_figure_params(dpi=80, dpi_save=300, color_map='viridis', vector_friendly=True, transparent=True)\n",
    "\n",
    "sc.pl.umap(\n",
    "    Tyoung, \n",
    "    color=[ 'cell_type_subset','day',], \n",
    "    ncols=6,\n",
    "  #  outline_width=[0.6, 0.05],\n",
    "    frameon=False,\n",
    " #   cmap='Spectral_r',\n",
    "    wspace = 0.4,\n",
    "    use_raw=False,\n",
    "    add_outline=True\n",
    ")"
   ]
  },
  {
   "cell_type": "code",
   "execution_count": null,
   "id": "71c11350",
   "metadata": {},
   "outputs": [],
   "source": [
    "path_to_h5ad = '/Users/xleana/Desktop/CD45/CD45new/CD45pos_02mo18mo_SLTBId147_T.h5ad'\n",
    "T.write(path_to_h5ad)"
   ]
  },
  {
   "cell_type": "code",
   "execution_count": null,
   "id": "f5b5a8fa",
   "metadata": {},
   "outputs": [],
   "source": [
    "T=sc.read_h5ad('/Users/xleana/Desktop/CD45/CD45new/CD45pos_02mo18mo_SLTBId147_T.h5ad')\n",
    "T.uns['log1p']['base']=None\n"
   ]
  },
  {
   "cell_type": "code",
   "execution_count": null,
   "id": "47e03a0a",
   "metadata": {},
   "outputs": [],
   "source": [
    "sc.tl.rank_genes_groups(TyoungD0, groupby='cell_type_subset', method='wilcoxon',layers='norm_counts')\n",
    "sc.pl.rank_genes_groups_dotplot(TyoungD0, n_genes=50, dendrogram=False)\n"
   ]
  },
  {
   "cell_type": "code",
   "execution_count": null,
   "id": "4b27f6e9",
   "metadata": {},
   "outputs": [],
   "source": [
    "sc.tl.rank_genes_groups(TyoungD1, groupby='cell_type_subset', method='wilcoxon',layers='norm_counts')\n",
    "sc.pl.rank_genes_groups_dotplot(TyoungD1, n_genes=50, dendrogram=False)\n"
   ]
  },
  {
   "cell_type": "code",
   "execution_count": null,
   "id": "bbb46282",
   "metadata": {},
   "outputs": [],
   "source": [
    "sc.tl.rank_genes_groups(TyoungD4, groupby='cell_type_subset', method='wilcoxon',layers='norm_counts')\n",
    "sc.pl.rank_genes_groups_dotplot(TyoungD4, n_genes=50, dendrogram=False)\n"
   ]
  },
  {
   "cell_type": "code",
   "execution_count": null,
   "id": "db8128d1",
   "metadata": {},
   "outputs": [],
   "source": [
    "sc.tl.rank_genes_groups(TyoungD7, groupby='cell_type_subset', method='wilcoxon',layers='norm_counts')\n",
    "sc.pl.rank_genes_groups_dotplot(TyoungD7, n_genes=50, dendrogram=False)\n"
   ]
  },
  {
   "cell_type": "code",
   "execution_count": null,
   "id": "d4cb7f46",
   "metadata": {},
   "outputs": [],
   "source": [
    "sc.tl.rank_genes_groups(ToldD0, groupby='cell_type_subset', method='wilcoxon',layers='norm_counts')\n",
    "sc.pl.rank_genes_groups_dotplot(ToldD0, n_genes=50, dendrogram=False)\n"
   ]
  },
  {
   "cell_type": "code",
   "execution_count": null,
   "id": "4f2a6b7b",
   "metadata": {},
   "outputs": [],
   "source": [
    "sc.tl.rank_genes_groups(ToldD1, groupby='cell_type_subset', method='wilcoxon',layers='norm_counts')\n",
    "sc.pl.rank_genes_groups_dotplot(ToldD1, n_genes=50, dendrogram=False)\n"
   ]
  },
  {
   "cell_type": "code",
   "execution_count": null,
   "id": "e6e2a41b",
   "metadata": {},
   "outputs": [],
   "source": [
    "sc.tl.rank_genes_groups(ToldD4, groupby='cell_type_subset', method='wilcoxon',layers='norm_counts')\n",
    "sc.pl.rank_genes_groups_dotplot(ToldD4, n_genes=50, dendrogram=False)\n"
   ]
  },
  {
   "cell_type": "code",
   "execution_count": null,
   "id": "0bd216b4",
   "metadata": {},
   "outputs": [],
   "source": [
    "sc.tl.rank_genes_groups(ToldD7, groupby='cell_type_subset', method='wilcoxon',layers='norm_counts')\n",
    "sc.pl.rank_genes_groups_dotplot(ToldD7, n_genes=50, dendrogram=False)\n"
   ]
  },
  {
   "cell_type": "code",
   "execution_count": null,
   "id": "675bfb36",
   "metadata": {},
   "outputs": [],
   "source": [
    "result = TyoungD0.uns['rank_genes_groups']\n",
    "groups = result['names'].dtype.names\n",
    "df = pd.DataFrame(\n",
    "{group + '_' + key[:1]: result[key][group]\n",
    "for group in groups for key in ['names','logfoldchanges','pvals_adj','pvals',]})\n",
    "df.to_csv('/Users/xleana/Desktop/Tyoung/TyoungD0.csv')"
   ]
  },
  {
   "cell_type": "code",
   "execution_count": null,
   "id": "4799266e",
   "metadata": {},
   "outputs": [],
   "source": [
    "result = TyoungD1.uns['rank_genes_groups']\n",
    "groups = result['names'].dtype.names\n",
    "df = pd.DataFrame(\n",
    "{group + '_' + key[:1]: result[key][group]\n",
    "for group in groups for key in ['names','logfoldchanges','pvals_adj','pvals',]})\n",
    "df.to_csv('/Users/xleana/Desktop/Tyoung/TyoungD1.csv')"
   ]
  },
  {
   "cell_type": "code",
   "execution_count": null,
   "id": "7e94de05",
   "metadata": {},
   "outputs": [],
   "source": [
    "result = TyoungD4.uns['rank_genes_groups']\n",
    "groups = result['names'].dtype.names\n",
    "df = pd.DataFrame(\n",
    "{group + '_' + key[:1]: result[key][group]\n",
    "for group in groups for key in ['names','logfoldchanges','pvals_adj','pvals',]})\n",
    "df.to_csv('/Users/xleana/Desktop/Tyoung/TyoungD4.csv')"
   ]
  },
  {
   "cell_type": "code",
   "execution_count": null,
   "id": "d55f10ae",
   "metadata": {},
   "outputs": [],
   "source": [
    "result = TyoungD7.uns['rank_genes_groups']\n",
    "groups = result['names'].dtype.names\n",
    "df = pd.DataFrame(\n",
    "{group + '_' + key[:1]: result[key][group]\n",
    "for group in groups for key in ['names','logfoldchanges','pvals_adj','pvals',]})\n",
    "df.to_csv('/Users/xleana/Desktop/Tyoung/TyoungD7.csv')"
   ]
  },
  {
   "cell_type": "code",
   "execution_count": null,
   "id": "f7757c30",
   "metadata": {},
   "outputs": [],
   "source": [
    "result = ToldD0.uns['rank_genes_groups']\n",
    "groups = result['names'].dtype.names\n",
    "df = pd.DataFrame(\n",
    "{group + '_' + key[:1]: result[key][group]\n",
    "for group in groups for key in ['names','logfoldchanges','pvals_adj','pvals',]})\n",
    "df.to_csv('/Users/xleana/Desktop/Tyoung/ToldD0.csv')"
   ]
  },
  {
   "cell_type": "code",
   "execution_count": null,
   "id": "5695d6e4",
   "metadata": {},
   "outputs": [],
   "source": [
    "result = ToldD1.uns['rank_genes_groups']\n",
    "groups = result['names'].dtype.names\n",
    "df = pd.DataFrame(\n",
    "{group + '_' + key[:1]: result[key][group]\n",
    "for group in groups for key in ['names','logfoldchanges','pvals_adj','pvals',]})\n",
    "df.to_csv('/Users/xleana/Desktop/Tyoung/ToldD1.csv')"
   ]
  },
  {
   "cell_type": "code",
   "execution_count": null,
   "id": "7f263021",
   "metadata": {},
   "outputs": [],
   "source": [
    "result = ToldD4.uns['rank_genes_groups']\n",
    "groups = result['names'].dtype.names\n",
    "df = pd.DataFrame(\n",
    "{group + '_' + key[:1]: result[key][group]\n",
    "for group in groups for key in ['names','logfoldchanges','pvals_adj','pvals',]})\n",
    "df.to_csv('/Users/xleana/Desktop/Tyoung/ToldD4.csv')"
   ]
  },
  {
   "cell_type": "code",
   "execution_count": null,
   "id": "a4547fb9",
   "metadata": {},
   "outputs": [],
   "source": [
    "result = ToldD7.uns['rank_genes_groups']\n",
    "groups = result['names'].dtype.names\n",
    "df = pd.DataFrame(\n",
    "{group + '_' + key[:1]: result[key][group]\n",
    "for group in groups for key in ['names','logfoldchanges','pvals_adj','pvals',]})\n",
    "df.to_csv('/Users/xleana/Desktop/Tyoung/ToldD7.csv')"
   ]
  },
  {
   "cell_type": "code",
   "execution_count": null,
   "id": "e9c37775",
   "metadata": {
    "scrolled": true
   },
   "outputs": [],
   "source": [
    "sc.pl.umap(adata,color=\"cell_type\")"
   ]
  },
  {
   "cell_type": "markdown",
   "id": "69bacbd5",
   "metadata": {},
   "source": [
    "## NKT cells"
   ]
  },
  {
   "cell_type": "code",
   "execution_count": null,
   "id": "a7631ae3",
   "metadata": {},
   "outputs": [],
   "source": [
    "NKT = adata[adata.obs['cell_type'].isin(['NKT and invariant cells'])]\n"
   ]
  },
  {
   "cell_type": "code",
   "execution_count": null,
   "id": "5554a81a",
   "metadata": {},
   "outputs": [],
   "source": [
    "# Remove columns with all 0s\n",
    "sc.pp.filter_genes(NKT, min_cells=4)"
   ]
  },
  {
   "cell_type": "code",
   "execution_count": null,
   "id": "229b2f8b",
   "metadata": {
    "scrolled": true
   },
   "outputs": [],
   "source": [
    "sc.pp.highly_variable_genes(NKT, n_top_genes=5000, n_bins=20, flavor='seurat_v3')"
   ]
  },
  {
   "cell_type": "code",
   "execution_count": null,
   "id": "1bff7ce1",
   "metadata": {},
   "outputs": [],
   "source": [
    "rng = np.random.RandomState(42)\n",
    "sc.tl.pca(NKT, n_comps=50, svd_solver='arpack', random_state=rng, use_highly_variable=True)"
   ]
  },
  {
   "cell_type": "code",
   "execution_count": null,
   "id": "d0636600",
   "metadata": {},
   "outputs": [],
   "source": [
    "observe_variance(NKT)"
   ]
  },
  {
   "cell_type": "code",
   "execution_count": null,
   "id": "d8aada23-dd1e-4cc6-9e81-7de06c558a95",
   "metadata": {},
   "outputs": [],
   "source": [
    "plt.plot(range(len(T.uns['pca']['variance_ratio'])), np.cumsum(T.uns['pca']['variance_ratio']) * 100, '.-')\n",
    "plt.axvline(30, color = 'r')\n",
    "plt.xlabel('Principal Component', fontsize = 14)\n",
    "plt.ylabel('% Variance Explained', fontsize = 14)"
   ]
  },
  {
   "cell_type": "code",
   "execution_count": null,
   "id": "8d8eb954",
   "metadata": {},
   "outputs": [],
   "source": [
    "sc.pp.neighbors(NKT, n_neighbors=30, n_pcs=30)\n",
    "sc.tl.umap(NKT, min_dist=0.9)"
   ]
  },
  {
   "cell_type": "code",
   "execution_count": null,
   "id": "afd58848",
   "metadata": {},
   "outputs": [],
   "source": [
    "for resolution_parameter in [0.1, 0.2, 0.3, 0.4, 0.5, 0.6, 0.7, 0.8, 0.9, 1.0]:\n",
    "    sc.tl.leiden(NKT, resolution=resolution_parameter, random_state=42, \n",
    "                        key_added='leiden_'+str(resolution_parameter))"
   ]
  },
  {
   "cell_type": "code",
   "execution_count": null,
   "id": "8a557713",
   "metadata": {},
   "outputs": [],
   "source": [
    "sc.set_figure_params(dpi=80, dpi_save=300, color_map='viridis', vector_friendly=False, transparent=True)\n",
    "sc.pl.umap(\n",
    "    NKT, \n",
    "    color=['leiden_0.1', 'leiden_0.2', 'leiden_0.3', 'leiden_0.4', 'leiden_0.5', \n",
    "           'leiden_0.6', 'leiden_0.7', 'leiden_0.8','leiden_0.9', 'leiden_1.0'], \n",
    "    palette=user_defined_palette,  \n",
    "    color_map='Spectral_r', \n",
    "    use_raw=False,\n",
    "    ncols=5,\n",
    "    wspace = 0.7,\n",
    "    outline_width=[0.6, 0.05],\n",
    "    frameon=False,\n",
    "    add_outline=True,\n",
    "    sort_order = False\n",
    ")"
   ]
  },
  {
   "cell_type": "code",
   "execution_count": null,
   "id": "5371cad5",
   "metadata": {},
   "outputs": [],
   "source": [
    "sc.set_figure_params(dpi=80, dpi_save=300, color_map='viridis', vector_friendly=True, transparent=True)\n",
    "sc.pl.umap(\n",
    "    NKT, \n",
    "    color=['leiden_0.1',\"stage\",\"Trac\",\"Trdc\",\"Cd8a\",\"Cd4\"], \n",
    "    palette=user_defined_palette,  \n",
    "    color_map='Spectral_r', \n",
    "    use_raw=False,\n",
    "    ncols=6,\n",
    "    size=15,\n",
    "    wspace = 0.2,\n",
    "    outline_width=[0.6, 0.05],\n",
    "    frameon=False,\n",
    "    add_outline=True,\n",
    "    sort_order = False\n",
    ")"
   ]
  },
  {
   "cell_type": "code",
   "execution_count": null,
   "id": "22d17325",
   "metadata": {},
   "outputs": [],
   "source": [
    "sc.set_figure_params(dpi=80, dpi_save=300, color_map='viridis', vector_friendly=True, transparent=True)\n",
    "\n",
    "sc.pl.umap(\n",
    "    NKT, \n",
    "    color=['leiden_0.1','leiden_0.3', 'stage', 'day', 'sample', \"Il4\",\n",
    "           \"Rorc\",\"Il17a\",\"Icos\",\"Ncr1\",\"Cxcr6\",'Fcer1g',], \n",
    "    ncols=6,\n",
    "    use_raw=False,\n",
    "    outline_width=[0.6, 0.05],\n",
    "    frameon=False,\n",
    "    cmap='Spectral_r',\n",
    "    wspace = 0.5,\n",
    "    add_outline=True\n",
    ")"
   ]
  },
  {
   "cell_type": "code",
   "execution_count": null,
   "id": "68b5fdb5",
   "metadata": {},
   "outputs": [],
   "source": [
    "NKT.obs['cell_type_subset'] = [  'Invariant T' if (x=='6' ) else\n",
    "                                #'NKT' if (x=='0' or x=='2' or x=='1'   )else\n",
    "                               'NKT' for x in NKT.obs['leiden_0.3']] "
   ]
  },
  {
   "cell_type": "code",
   "execution_count": null,
   "id": "09e182f8",
   "metadata": {},
   "outputs": [],
   "source": [
    "sc.tl.rank_genes_groups(NKT, 'leiden_0.2', method='wilcoxon', use_raw=False)\n",
    "sc.pl.rank_genes_groups(NKT, n_genes=25, sharey=False)"
   ]
  },
  {
   "cell_type": "code",
   "execution_count": null,
   "id": "ed018dd8",
   "metadata": {},
   "outputs": [],
   "source": [
    "sc.set_figure_params(dpi=80, dpi_save=300, color_map='viridis', vector_friendly=True, transparent=True)\n",
    "\n",
    "sc.pl.umap(\n",
    "    NKT, \n",
    "    color=['leiden_0.3','cell_type_subset',\"day\"], \n",
    "    ncols=6,\n",
    "    use_raw=False,\n",
    "    outline_width=[0.6, 0.05],\n",
    "    frameon=False,\n",
    "    cmap='Spectral_r',\n",
    "    wspace = 0.5,\n",
    "    add_outline=True\n",
    ")"
   ]
  },
  {
   "cell_type": "code",
   "execution_count": null,
   "id": "64386f84",
   "metadata": {},
   "outputs": [],
   "source": [
    "NKT.uns['cell_type_subset_colors']=['#F2BE22','#006fa6']"
   ]
  },
  {
   "cell_type": "code",
   "execution_count": null,
   "id": "8110ed00",
   "metadata": {},
   "outputs": [],
   "source": [
    "sc.set_figure_params(dpi=80, dpi_save=300, color_map='viridis', vector_friendly=True, transparent=True)\n",
    "\n",
    "sc.pl.umap(\n",
    "    NKT, \n",
    "    color=['leiden_0.3','cell_type_subset',\"day\"], \n",
    "    ncols=6,\n",
    "    use_raw=False,\n",
    "    outline_width=[0.6, 0.05],\n",
    "    frameon=False,\n",
    "    cmap='Spectral_r',\n",
    "    wspace = 0.5,\n",
    "    add_outline=True\n",
    ")"
   ]
  },
  {
   "cell_type": "code",
   "execution_count": null,
   "id": "bfb92119",
   "metadata": {},
   "outputs": [],
   "source": [
    "tmp = pd.crosstab(NKT[NKT.obs['stage']==\"18mo\"].obs['day'],NKT.obs['cell_type_subset'], normalize='index')\n",
    "tmp.plot.area(stacked=True).legend(loc='center left', bbox_to_anchor=(1, 0.5),frameon=False)\n",
    "plt.grid(False)"
   ]
  },
  {
   "cell_type": "code",
   "execution_count": null,
   "id": "e6a941db",
   "metadata": {},
   "outputs": [],
   "source": [
    "tmp = pd.crosstab(NKT[NKT.obs['stage']==\"02mo\"].obs['day'],NKT.obs['cell_type_subset'], normalize='index')\n",
    "tmp.plot.area(stacked=True).legend(loc='center left', bbox_to_anchor=(1, 0.5),frameon=False)\n",
    "plt.grid(False)"
   ]
  },
  {
   "cell_type": "code",
   "execution_count": null,
   "id": "f2f2ac6c",
   "metadata": {},
   "outputs": [],
   "source": [
    "tmp = pd.crosstab(NKT[NKT.obs['stage']==\"18mo\"].obs['day'],NKT.obs['cell_type_subset'], normalize='index')\n",
    "tmp.plot.area(stacked=True).legend(loc='center left', bbox_to_anchor=(1, 0.5),frameon=False)\n",
    "plt.grid(False)"
   ]
  },
  {
   "cell_type": "code",
   "execution_count": null,
   "id": "bbfcd004",
   "metadata": {},
   "outputs": [],
   "source": [
    "df_temp = pd.DataFrame({'umap_x': NKT.obsm['X_umap'][:, 0], 'umap_y': NKT.obsm['X_umap'][:, 1], \n",
    "                        'stage': NKT.obs['stage'], 'day': NKT.obs['day']}, index = NKT.obs.index)\n",
    "\n",
    "\n"
   ]
  },
  {
   "cell_type": "code",
   "execution_count": null,
   "id": "06f89241",
   "metadata": {},
   "outputs": [],
   "source": [
    "NKT.obs[\"stage\"]"
   ]
  },
  {
   "cell_type": "code",
   "execution_count": null,
   "id": "a3aa33f1",
   "metadata": {},
   "outputs": [],
   "source": [
    "# anndata2ri interconverts AnnData and Single Cell Experiment objects\n",
    "anndata2ri.activate()\n",
    "%load_ext rpy2.ipython\n",
    "#%reload_ext rpy2.ipython"
   ]
  },
  {
   "cell_type": "code",
   "execution_count": null,
   "id": "21a4203f",
   "metadata": {},
   "outputs": [],
   "source": [
    "NKT.layers['norm_counts'] = NKT.X.copy()"
   ]
  },
  {
   "cell_type": "code",
   "execution_count": null,
   "id": "bdf6f315",
   "metadata": {},
   "outputs": [],
   "source": [
    "adata_milo = sc.AnnData(NKT.layers['norm_counts'].copy(), \n",
    "                        obs = NKT.obs[['stage', 'day', 'cell_type_subset',\"sample\"]], \n",
    "                        var = NKT.var)\n",
    "adata_milo.obsm['X_pca'] = NKT.obsm['X_pca']\n",
    "adata_milo.obsm['X_umap'] = NKT.obsm['X_umap']"
   ]
  },
  {
   "cell_type": "code",
   "execution_count": null,
   "id": "5c1caa60",
   "metadata": {},
   "outputs": [],
   "source": [
    "%%R\n",
    "library(igraph)\n",
    "\n",
    "library(miloR)"
   ]
  },
  {
   "cell_type": "code",
   "execution_count": null,
   "id": "8414c29e",
   "metadata": {},
   "outputs": [],
   "source": [
    "%%R -i adata_milo\n",
    "adata_milo"
   ]
  },
  {
   "cell_type": "code",
   "execution_count": null,
   "id": "56cf4080",
   "metadata": {},
   "outputs": [],
   "source": [
    "%%R \n",
    "myeloid_milo <- Milo(adata_milo)\n",
    "myeloid_milo"
   ]
  },
  {
   "cell_type": "code",
   "execution_count": null,
   "id": "ba3b1806",
   "metadata": {},
   "outputs": [],
   "source": [
    "%%R \n",
    "myeloid_milo <- buildGraph(myeloid_milo, k=30, d=30, reduced.dim = \"PCA\")"
   ]
  },
  {
   "cell_type": "code",
   "execution_count": null,
   "id": "8456f220",
   "metadata": {},
   "outputs": [],
   "source": [
    "design_df = adata_milo.obs[['sample',\"stage\",\"day\",]].copy()\n",
    "design_df.drop_duplicates(inplace=True)\n",
    "design_df.index = design_df['sample']\n",
    "design_df"
   ]
  },
  {
   "cell_type": "code",
   "execution_count": null,
   "id": "8cb101d6",
   "metadata": {},
   "outputs": [],
   "source": [
    "%%R -i design_df -o DA_results_myeloid\n",
    "## Define neighbourhoods\n",
    "myeloid_milo <- makeNhoods(myeloid_milo, prop = 0.1, k = 30, d=30, refined = TRUE, reduced_dims = \"PCA\")\n",
    "\n",
    "## Count cells in neighbourhoods\n",
    "myeloid_milo <- countCells(myeloid_milo, meta.data = data.frame(colData(myeloid_milo)), sample=\"sample\")\n",
    "\n",
    "## Calculate distances between cells in neighbourhoods\n",
    "## for spatial FDR correction\n",
    "myeloid_milo <- calcNhoodDistance(myeloid_milo, d=30, reduced.dim = \"PCA\")\n",
    "\n",
    "\n",
    "## Test for differential abundance\n",
    "DA_results_myeloid <- testNhoods(myeloid_milo, design = ~stage, design.df = design_df)\n"
   ]
  },
  {
   "cell_type": "code",
   "execution_count": null,
   "id": "4da779cd",
   "metadata": {},
   "outputs": [],
   "source": [
    "DA_results_myeloid.head()"
   ]
  },
  {
   "cell_type": "code",
   "execution_count": null,
   "id": "cb08c573",
   "metadata": {},
   "outputs": [],
   "source": [
    "plt.plot(DA_results_myeloid.logFC, -np.log10(DA_results_myeloid.SpatialFDR), '.');\n",
    "plt.xlabel(\"log-Fold Change\");\n",
    "plt.ylabel(\"- log10(Spatial FDR)\")"
   ]
  },
  {
   "cell_type": "code",
   "execution_count": null,
   "id": "bbb7b18e",
   "metadata": {},
   "outputs": [],
   "source": [
    "%%R\n",
    "myeloid_milo <- buildNhoodGraph(myeloid_milo)"
   ]
  },
  {
   "cell_type": "code",
   "execution_count": null,
   "id": "b6c64783",
   "metadata": {},
   "outputs": [],
   "source": [
    "%%R \n",
    "head(DA_results_myeloid)"
   ]
  },
  {
   "cell_type": "code",
   "execution_count": null,
   "id": "b53e6f52",
   "metadata": {},
   "outputs": [],
   "source": [
    "%%R -w 800 -h 600\n",
    "alpha_val = 1\n",
    "library(ggplot2)\n",
    "p1 <- plotNhoodGraphDA(myeloid_milo, DA_results_myeloid, res_column = 'SpatialFDR', alpha=alpha_val, \n",
    "                 layout=\"UMAP\", size_range = c(2, 8), node_stroke =0.8)\n",
    "p1"
   ]
  },
  {
   "cell_type": "code",
   "execution_count": null,
   "id": "e342684b",
   "metadata": {},
   "outputs": [],
   "source": [
    "%%R -w 800 -h 600\n",
    "alpha_val = 1\n",
    "library(ggplot2)\n",
    "p1 <- plotNhoodGraphDA(myeloid_milo, DA_results_myeloid, res_column = 'logFC', alpha=alpha_val, \n",
    "                 layout=\"UMAP\", size_range = c(2, 8), node_stroke =0.8)\n",
    "p1"
   ]
  },
  {
   "cell_type": "code",
   "execution_count": null,
   "id": "70206c80",
   "metadata": {},
   "outputs": [],
   "source": [
    "%%R\n",
    "myeloid_milo"
   ]
  },
  {
   "cell_type": "code",
   "execution_count": null,
   "id": "0f8c6ff7",
   "metadata": {},
   "outputs": [],
   "source": [
    "%%R \n",
    "DA_results_myeloid <- annotateNhoods(myeloid_milo, DA_results_myeloid, coldata_col = 'cell_type_subset')\n",
    "head(DA_results_myeloid)"
   ]
  },
  {
   "cell_type": "code",
   "execution_count": null,
   "id": "8fb12f03",
   "metadata": {},
   "outputs": [],
   "source": [
    "%%R\n",
    "library(ggplot2)\n",
    "ggplot(DA_results_myeloid, aes(cell_type_subset_fraction)) + geom_histogram(bins=50)"
   ]
  },
  {
   "cell_type": "code",
   "execution_count": null,
   "id": "7ad55feb",
   "metadata": {},
   "outputs": [],
   "source": [
    "%%R -o DA_results_myeloid\n",
    "DA_results_myeloid$Celltypes <- ifelse(DA_results_myeloid$cell_type_subset_fraction < 0.8, \"Mixed\", DA_results_myeloid$cell_type_subset)\n",
    "head(DA_results_myeloid)"
   ]
  },
  {
   "cell_type": "code",
   "execution_count": null,
   "id": "812cb8b6",
   "metadata": {},
   "outputs": [],
   "source": [
    "%%R\n",
    "plotDAbeeswarm(DA_results_myeloid, group.by = \"cell_type_subset\", alpha = 1)"
   ]
  },
  {
   "cell_type": "code",
   "execution_count": null,
   "id": "76ce4a9f",
   "metadata": {},
   "outputs": [],
   "source": [
    "import matplotlib.colors as mcolors\n",
    "import matplotlib.cm as cm\n",
    "\n",
    "\n",
    "for j, item in enumerate(['FDR', 'SpatialFDR', 'PValue']):\n",
    "    fig = plt.figure(figsize = (8, 12))\n",
    "    DA_results_myeloid['log_' + item] = -np.log10(DA_results_myeloid[item])\n",
    "    ax = fig.add_subplot(1, 1, 1)\n",
    "    plot = sns.stripplot(x='logFC', y=\"cell_type_subset\", hue='log_' + item, data=DA_results_myeloid, size = 6, \n",
    "              palette='cividis', \n",
    "              jitter=0.2, edgecolor='none', ax = ax)\n",
    "    plot.get_legend().set_visible(False)\n",
    "    #ax.set_xticklabels(ax.get_xticks(), fontsize = 18)\n",
    "    #ax.set_yticklabels(ax.get_yticks(), fontsize = 18)\n",
    "    ax.tick_params(axis='both', which='major', labelsize=18)\n",
    "    ax.set_ylabel('T cell subsets', fontsize = 18)\n",
    "    ax.set_xlabel('logFC', fontsize = 18)\n",
    "    sns.despine()\n",
    "\n",
    "\n",
    "    # Drawing the side color bar\n",
    "    normalize = mcolors.Normalize(vmin=DA_results_myeloid['log_' + item].min(), \n",
    "                              vmax=DA_results_myeloid['log_' + item].max())\n",
    "    colormap = cm.cividis\n",
    "\n",
    "    for n in DA_results_myeloid['log_' + item]:\n",
    "        plt.plot(color=colormap(normalize(n)))\n",
    "\n",
    "    scalarmappaple = cm.ScalarMappable(norm=normalize, cmap=colormap)\n",
    "    scalarmappaple.set_array(DA_results_myeloid['log_' + item])\n",
    "    cbar = fig.colorbar(scalarmappaple)\n",
    "    cbar.ax.set_yticklabels(cbar.ax.get_yticks(), fontsize = 18)\n",
    "    cbar.ax.set_ylabel('-log10(' + item + ')',  labelpad = 20, rotation=90, fontsize = 18)\n",
    "    ax.grid(False)\n",
    "    #fig.savefig(outbase + 'milor_myeloid_swarmplot_colored_by_log_' + item + '.pdf', dpi = 300, \n",
    "                #bbox_inches = 'tight')"
   ]
  },
  {
   "cell_type": "markdown",
   "id": "22c5a053",
   "metadata": {},
   "source": [
    "## B cells"
   ]
  },
  {
   "cell_type": "code",
   "execution_count": null,
   "id": "28774846",
   "metadata": {},
   "outputs": [],
   "source": [
    "B = adata[adata.obs['cell_type'].isin(['B cells',\"plasmacells\"])]"
   ]
  },
  {
   "cell_type": "code",
   "execution_count": null,
   "id": "5e7edec2",
   "metadata": {},
   "outputs": [],
   "source": [
    "# Remove columns with all 0s\n",
    "sc.pp.filter_genes(B, min_cells=1)"
   ]
  },
  {
   "cell_type": "code",
   "execution_count": null,
   "id": "b092471f",
   "metadata": {},
   "outputs": [],
   "source": [
    "sc.pp.highly_variable_genes(B, n_top_genes=2000, n_bins=20, flavor='seurat_v3')"
   ]
  },
  {
   "cell_type": "code",
   "execution_count": null,
   "id": "1f81b9bb",
   "metadata": {},
   "outputs": [],
   "source": [
    "rng = np.random.RandomState(42)\n",
    "sc.tl.pca(B, n_comps=200, svd_solver='arpack', random_state=rng, use_highly_variable=True)"
   ]
  },
  {
   "cell_type": "code",
   "execution_count": null,
   "id": "3395c663",
   "metadata": {},
   "outputs": [],
   "source": [
    "observe_variance(B)"
   ]
  },
  {
   "cell_type": "code",
   "execution_count": null,
   "id": "d3cdc22c",
   "metadata": {},
   "outputs": [],
   "source": [
    "rng = np.random.RandomState(42)\n",
    "sc.tl.pca(B, n_comps=30, svd_solver='arpack', random_state=rng, use_highly_variable=True)"
   ]
  },
  {
   "cell_type": "code",
   "execution_count": null,
   "id": "bef2d29e",
   "metadata": {},
   "outputs": [],
   "source": [
    "sc.pp.neighbors(B, n_neighbors=15)\n",
    "sc.tl.umap(B)"
   ]
  },
  {
   "cell_type": "code",
   "execution_count": null,
   "id": "ba6d9ae0",
   "metadata": {},
   "outputs": [],
   "source": [
    "for resolution_parameter in [0.1, 0.2, 0.3, 0.4, 0.5, 0.6, 0.7, 0.8, 0.9, 1.0]:\n",
    "    sc.tl.leiden(B, resolution=resolution_parameter, random_state=42, \n",
    "                        key_added='leiden_'+str(resolution_parameter))"
   ]
  },
  {
   "cell_type": "code",
   "execution_count": null,
   "id": "dd1e8f12",
   "metadata": {},
   "outputs": [],
   "source": [
    "sc.set_figure_params(dpi=80, dpi_save=300, color_map='viridis', vector_friendly=False, transparent=True)\n",
    "sc.pl.umap(\n",
    "    B, \n",
    "    color=['leiden_0.1', 'leiden_0.2', 'leiden_0.3', 'leiden_0.4', 'leiden_0.5', \n",
    "           'leiden_0.6', 'leiden_0.7', 'leiden_0.8','leiden_0.9', 'leiden_1.0'], \n",
    "    palette=user_defined_palette,  \n",
    "    color_map='Spectral_r', \n",
    "    use_raw=False,\n",
    "    ncols=5,\n",
    "    wspace = 0.7,\n",
    "    outline_width=[0.1, 0.05],\n",
    "    frameon=False,\n",
    "    add_outline=True,\n",
    "    sort_order = False\n",
    ")\n"
   ]
  },
  {
   "cell_type": "code",
   "execution_count": null,
   "id": "fd1a5710-c470-4ef7-8534-9ae0304e7107",
   "metadata": {},
   "outputs": [],
   "source": [
    "sc.tl.rank_genes_groups(B, 'leiden_0.4', method='wilcoxon', use_raw=False)\n",
    "sc.pl.rank_genes_groups(B, n_genes=25, sharey=False) "
   ]
  },
  {
   "cell_type": "markdown",
   "id": "ecabfea0",
   "metadata": {},
   "source": [
    "## ILCs"
   ]
  },
  {
   "cell_type": "code",
   "execution_count": null,
   "id": "e807b1e6",
   "metadata": {},
   "outputs": [],
   "source": [
    "NKILC = adata[adata.obs['cell_type'].isin(['NK cells',\"ILC\",\"EOS\"])]"
   ]
  },
  {
   "cell_type": "code",
   "execution_count": null,
   "id": "b094f127",
   "metadata": {},
   "outputs": [],
   "source": [
    "DNDP= adata[adata.obs['cell_type'].isin(['DN/DPs'])]"
   ]
  },
  {
   "cell_type": "code",
   "execution_count": null,
   "id": "2007c572-c1bc-4522-ae1d-ee559b942ce5",
   "metadata": {},
   "outputs": [],
   "source": [
    "adata.obs[\"cell_type\"]"
   ]
  },
  {
   "cell_type": "markdown",
   "id": "a8b22575",
   "metadata": {},
   "source": [
    "## DCs"
   ]
  },
  {
   "cell_type": "code",
   "execution_count": null,
   "id": "422bd0b6",
   "metadata": {},
   "outputs": [],
   "source": [
    "DC = adata[adata.obs['cell_type'].isin(['DCs and Macrophages'])]"
   ]
  },
  {
   "cell_type": "code",
   "execution_count": null,
   "id": "b580c715",
   "metadata": {
    "scrolled": true
   },
   "outputs": [],
   "source": [
    "sc.pl.umap(DC)"
   ]
  },
  {
   "cell_type": "code",
   "execution_count": null,
   "id": "e4a0191c",
   "metadata": {},
   "outputs": [],
   "source": [
    "# Remove columns with all 0s\n",
    "sc.pp.filter_genes(DC, min_cells=4)"
   ]
  },
  {
   "cell_type": "code",
   "execution_count": null,
   "id": "3dc1bd4b",
   "metadata": {},
   "outputs": [],
   "source": [
    "sc.pp.highly_variable_genes(DC, n_top_genes=3000, n_bins=20, flavor='seurat_v3')"
   ]
  },
  {
   "cell_type": "code",
   "execution_count": null,
   "id": "1435e79d",
   "metadata": {},
   "outputs": [],
   "source": [
    "rng = np.random.RandomState(42)\n",
    "sc.tl.pca(DC, n_comps=200, svd_solver='arpack', random_state=rng, use_highly_variable=True)"
   ]
  },
  {
   "cell_type": "code",
   "execution_count": null,
   "id": "9d8a755a",
   "metadata": {},
   "outputs": [],
   "source": [
    "observe_variance(DC)"
   ]
  },
  {
   "cell_type": "code",
   "execution_count": null,
   "id": "c882b69b",
   "metadata": {},
   "outputs": [],
   "source": [
    "rng = np.random.RandomState(42)\n",
    "sc.tl.pca(DC, n_comps=30, svd_solver='arpack', random_state=rng, use_highly_variable=True)"
   ]
  },
  {
   "cell_type": "code",
   "execution_count": null,
   "id": "c6cd9086",
   "metadata": {},
   "outputs": [],
   "source": [
    "sc.pp.neighbors(DC, n_neighbors=30, n_pcs=30)\n",
    "sc.tl.umap(DC,min_dist=0.5)"
   ]
  },
  {
   "cell_type": "code",
   "execution_count": null,
   "id": "7e2ca098",
   "metadata": {},
   "outputs": [],
   "source": [
    "for resolution_parameter in [0.1, 0.2, 0.3, 0.4, 0.5, 0.6, 0.7, 0.8, 0.9, 1.0]:\n",
    "    sc.tl.leiden(DC, resolution=resolution_parameter, random_state=42, \n",
    "                        key_added='leiden_'+str(resolution_parameter))"
   ]
  },
  {
   "cell_type": "code",
   "execution_count": null,
   "id": "5a7e1c2c",
   "metadata": {
    "scrolled": true
   },
   "outputs": [],
   "source": [
    "sc.set_figure_params(dpi=80, dpi_save=300, color_map='viridis', vector_friendly=False, transparent=True)\n",
    "sc.pl.umap(\n",
    "    DC, \n",
    "    color=['leiden_0.1', 'leiden_0.2', 'leiden_0.3', 'leiden_0.4', 'leiden_0.5', \n",
    "           'leiden_0.6', 'leiden_0.7', 'leiden_0.8','leiden_0.9', 'leiden_1.0'], \n",
    "    palette=user_defined_palette,  \n",
    "    color_map='Spectral_r', \n",
    "    use_raw=False,\n",
    "    ncols=5,\n",
    "    wspace = 0.7,\n",
    "    outline_width=[0.1, 0.05],\n",
    "    frameon=False,\n",
    "    add_outline=True,\n",
    "    sort_order = False\n",
    ")\n"
   ]
  },
  {
   "cell_type": "code",
   "execution_count": null,
   "id": "d12b1f70",
   "metadata": {
    "scrolled": true
   },
   "outputs": [],
   "source": [
    "sc.set_figure_params(dpi=80, dpi_save=300, color_map='viridis', vector_friendly=False, transparent=True)\n",
    "sc.pl.umap(\n",
    "    DC, \n",
    "    color=[\"H2-Aa\",\"Clec9a\",\"Xcr1\",\"Sirpa\",\"Ccr7\",\"Fscn1\",\"Msrb1\",\"Siglech\",\"Csf1r\",\"Zbtb46\",\"Mertk\",\"Spic\",\"Timd4\",\n",
    "          \"Vcam1\",\"Mafb\",\"Lyz2\",\"stage\",\"day\"], \n",
    "    palette=user_defined_palette,  \n",
    "    color_map='Spectral_r', \n",
    "    use_raw=False,\n",
    "    ncols=5,\n",
    "    wspace = 0.1,\n",
    "    outline_width=[0.6, 0.05],\n",
    "    size=15,\n",
    "    frameon=False,\n",
    "    add_outline=True,\n",
    "    sort_order = False\n",
    ")"
   ]
  },
  {
   "cell_type": "code",
   "execution_count": null,
   "id": "a9450f36",
   "metadata": {},
   "outputs": [],
   "source": [
    "DC.obs['cell_type_subset'] = ['cDC1' if (x=='0'or x=='4'or x==\"2\"or x==\"7\" ) else \n",
    "                                 'cDC2' if (x=='1') else\n",
    "                                 'CCR7+ cDC' if (x=='3'or x==\"5\") else\n",
    "                                'p-DCs' if (x=='8') else\n",
    "                                 'Macrophages' if ( x=='6') else\n",
    "                                  'ERROR' for x in DC.obs['leiden_0.4']] "
   ]
  },
  {
   "cell_type": "code",
   "execution_count": null,
   "id": "8c2abc7e-4dfb-4720-96bb-73f4df55bc7d",
   "metadata": {},
   "outputs": [],
   "source": [
    "sc.pl.umap(DC,color=['leiden_0.4','cell_type_subset'],)"
   ]
  },
  {
   "cell_type": "code",
   "execution_count": null,
   "id": "be7c15e4",
   "metadata": {},
   "outputs": [],
   "source": [
    "sc.pl.umap(DC, color=[\"leiden_0.4\",\"day\",\"stage\"])"
   ]
  },
  {
   "cell_type": "code",
   "execution_count": null,
   "id": "59872337",
   "metadata": {},
   "outputs": [],
   "source": [
    "sc.tl.rank_genes_groups(DC, 'leiden_0.4', method='wilcoxon', use_raw=False)\n",
    "sc.pl.rank_genes_groups(DC, n_genes=25, sharey=False) "
   ]
  },
  {
   "cell_type": "code",
   "execution_count": null,
   "id": "fb69ccd1",
   "metadata": {},
   "outputs": [],
   "source": [
    "sc.set_figure_params(dpi=80, dpi_save=300, color_map='viridis', vector_friendly=False, transparent=True)\n",
    "sc.pl.umap(\n",
    "    DC, \n",
    "    color=[\"Clec9a\",\"Xcr1\",\"Irf8\",\"Clec10a\",\n",
    "           \"Sirpa\",\"Ccr7\",\"Fscn1\",'Cd79a', 'Ms4a1', \"Xbp1\",\"Igkc\",\"Msrb1\",\"Cd4\",\"Rorc\",\"Il22\",\n",
    "          \"Gata3\",\"Rorc\",\"Pxdc1\",\"Ahr\"], \n",
    "    ncols=6,\n",
    "    outline_width=[0.6, 0.05],\n",
    "    size=100,\n",
    "    frameon=False,\n",
    "    cmap='Spectral_r',\n",
    "    wspace = 0.3,\n",
    "    add_outline=True\n",
    ")\n",
    "\n",
    "#SIRPA DC2\n",
    "#CCR7+ DC2"
   ]
  },
  {
   "cell_type": "code",
   "execution_count": null,
   "id": "93fc1232",
   "metadata": {},
   "outputs": [],
   "source": [
    "sc.set_figure_params(dpi=80, dpi_save=300, color_map='viridis', vector_friendly=True, transparent=True)\n",
    "\n",
    "sc.pl.umap(\n",
    "    DC, \n",
    "    color=['leiden_0.4','cell_type_subset','stage','day'], \n",
    "    ncols=6,\n",
    "    outline_width=[0.08, 0.06],\n",
    "    frameon=False,\n",
    "    cmap='Spectral_r',\n",
    "    wspace = 0.3,\n",
    "    add_outline=True\n",
    ")"
   ]
  },
  {
   "cell_type": "code",
   "execution_count": null,
   "id": "0589096f",
   "metadata": {},
   "outputs": [],
   "source": [
    "DC.obs['Dendritic cell subsets'] =DC.obs['cell_type_subset']"
   ]
  },
  {
   "cell_type": "code",
   "execution_count": null,
   "id": "a1be3359",
   "metadata": {},
   "outputs": [],
   "source": [
    "DC.uns['cell_type_subset_colors'] = [\"#F1BB7B\", \"#FD6467\", \"#5B1A18\", \"#D67236\"]"
   ]
  },
  {
   "cell_type": "code",
   "execution_count": null,
   "id": "675dfe07-8cb9-42fb-9adc-351aacf05a16",
   "metadata": {},
   "outputs": [],
   "source": [
    "DC"
   ]
  },
  {
   "cell_type": "code",
   "execution_count": null,
   "id": "419e2171",
   "metadata": {},
   "outputs": [],
   "source": [
    "DC.uns['Dendritic cell subsets_colors'] = [  \"#39312F\", \"#D67236\",\"#AA9486\", \"#EAD3BF\",\"#B6854D\", ]"
   ]
  },
  {
   "cell_type": "code",
   "execution_count": null,
   "id": "87b65ce4",
   "metadata": {},
   "outputs": [],
   "source": [
    "sc.pp.highly_variable_genes(B, n_top_genes=3000, n_bins=20, flavor='seurat_v3')"
   ]
  },
  {
   "cell_type": "code",
   "execution_count": null,
   "id": "0f27f4db",
   "metadata": {},
   "outputs": [],
   "source": [
    "rng = np.random.RandomState(42)\n",
    "sc.tl.pca(B, n_comps=200, svd_solver='arpack', random_state=rng, use_highly_variable=True)"
   ]
  },
  {
   "cell_type": "code",
   "execution_count": null,
   "id": "c902016f",
   "metadata": {},
   "outputs": [],
   "source": [
    "observe_variance(B)"
   ]
  },
  {
   "cell_type": "code",
   "execution_count": null,
   "id": "188b6d52",
   "metadata": {},
   "outputs": [],
   "source": [
    "rng = np.random.RandomState(42)\n",
    "sc.tl.pca(B, n_comps=30, svd_solver='arpack', random_state=rng, use_highly_variable=True)"
   ]
  },
  {
   "cell_type": "code",
   "execution_count": null,
   "id": "d3543d4c",
   "metadata": {},
   "outputs": [],
   "source": [
    "sc.pp.neighbors(B, n_neighbors=15)\n",
    "sc.tl.umap(B)"
   ]
  },
  {
   "cell_type": "code",
   "execution_count": null,
   "id": "099c6361",
   "metadata": {},
   "outputs": [],
   "source": [
    "for resolution_parameter in [0.1, 0.2, 0.3, 0.4, 0.5, 0.6, 0.7, 0.8, 0.9, 1.0]:\n",
    "    sc.tl.leiden(B, resolution=resolution_parameter, random_state=42, \n",
    "                        key_added='leiden_'+str(resolution_parameter))"
   ]
  },
  {
   "cell_type": "code",
   "execution_count": null,
   "id": "0e264b2c",
   "metadata": {},
   "outputs": [],
   "source": [
    "sc.set_figure_params(dpi=80, dpi_save=300, color_map='viridis', vector_friendly=False, transparent=True)\n",
    "sc.pl.umap(\n",
    "    B, \n",
    "    color=['leiden_0.1', 'leiden_0.2', 'leiden_0.3', 'leiden_0.4', 'leiden_0.5', \n",
    "           'leiden_0.6', 'leiden_0.7', 'leiden_0.8','leiden_0.9', 'leiden_1.0',\"stage\",\"Ighm\",\"Igha\"], \n",
    "    palette=user_defined_palette,  \n",
    "    color_map='Spectral_r', \n",
    "    use_raw=False,\n",
    "    ncols=5,\n",
    "    wspace = 0.7,\n",
    "    outline_width=[0.1, 0.05],\n",
    "    frameon=False,\n",
    "    add_outline=True,\n",
    "    sort_order = False\n",
    ")\n"
   ]
  },
  {
   "cell_type": "code",
   "execution_count": null,
   "id": "de0d4809",
   "metadata": {},
   "outputs": [],
   "source": [
    "sc.tl.rank_genes_groups(B, 'leiden_0.2', method='wilcoxon', use_raw=False)\n",
    "sc.pl.rank_genes_groups(B, n_genes=25, sharey=False) "
   ]
  },
  {
   "cell_type": "code",
   "execution_count": null,
   "id": "7d88c591",
   "metadata": {},
   "outputs": [],
   "source": [
    "sc.set_figure_params(dpi=80, dpi_save=300, color_map='viridis', vector_friendly=True, transparent=True)\n",
    "\n",
    "sc.pl.umap(\n",
    "    DC, \n",
    "    color=['cell_type_subset'], \n",
    "    ncols=6,\n",
    "    outline_width=[0.08, 0.06],\n",
    "    frameon=False,\n",
    "    cmap='Spectral_r',\n",
    "    wspace = 0.3,\n",
    "    add_outline=True,\n",
    ")"
   ]
  },
  {
   "cell_type": "code",
   "execution_count": null,
   "id": "c61ed477",
   "metadata": {},
   "outputs": [],
   "source": [
    "tmp = pd.crosstab(DC[DC.obs['stage']==\"18mo\"].obs['day'],DC.obs['cell_type_subset'], normalize='index')\n",
    "tmp.plot.area(stacked=True).legend(loc='center left', bbox_to_anchor=(1, 0.5),frameon=False)\n",
    "plt.grid(False)"
   ]
  },
  {
   "cell_type": "code",
   "execution_count": null,
   "id": "3d66eaee",
   "metadata": {},
   "outputs": [],
   "source": [
    "tmp = pd.crosstab(DC[DC.obs['stage']==\"02mo\"].obs['day'],DC.obs['cell_type_subset'], normalize='index')\n",
    "tmp.plot.area(stacked=True).legend(loc='center left', bbox_to_anchor=(1, 0.5),frameon=False)\n",
    "plt.grid(False)"
   ]
  },
  {
   "cell_type": "code",
   "execution_count": null,
   "id": "f92a1992",
   "metadata": {},
   "outputs": [],
   "source": [
    "# anndata2ri interconverts AnnData and Single Cell Experiment objects\n",
    "anndata2ri.activate()\n",
    "%load_ext rpy2.ipython\n",
    "#%reload_ext rpy2.ipython"
   ]
  },
  {
   "cell_type": "code",
   "execution_count": null,
   "id": "09ec6d03",
   "metadata": {},
   "outputs": [],
   "source": [
    "DC.layers['norm_counts'] = DC.X.copy()"
   ]
  },
  {
   "cell_type": "code",
   "execution_count": null,
   "id": "891df976",
   "metadata": {},
   "outputs": [],
   "source": [
    "adata_milo = sc.AnnData(DC.layers['norm_counts'].copy(), \n",
    "                        obs = DC.obs[['stage', 'day', 'cell_type_subset',\"sample\"]], \n",
    "                        var = DC.var)\n",
    "adata_milo.obsm['X_pca'] = DC.obsm['X_pca']\n",
    "adata_milo.obsm['X_umap'] = DC.obsm['X_umap']"
   ]
  },
  {
   "cell_type": "code",
   "execution_count": null,
   "id": "bc52d23f",
   "metadata": {},
   "outputs": [],
   "source": [
    "%%R\n",
    "library(igraph)\n",
    "\n",
    "library(miloR)"
   ]
  },
  {
   "cell_type": "code",
   "execution_count": null,
   "id": "7f68b360",
   "metadata": {},
   "outputs": [],
   "source": [
    "%%R -i adata_milo\n",
    "adata_milo"
   ]
  },
  {
   "cell_type": "code",
   "execution_count": null,
   "id": "699d580a",
   "metadata": {},
   "outputs": [],
   "source": [
    "%%R \n",
    "myeloid_milo <- Milo(adata_milo)\n",
    "myeloid_milo"
   ]
  },
  {
   "cell_type": "code",
   "execution_count": null,
   "id": "40bc8df5",
   "metadata": {},
   "outputs": [],
   "source": [
    "%%R \n",
    "myeloid_milo <- buildGraph(myeloid_milo, k=30, d=30, reduced.dim = \"PCA\")"
   ]
  },
  {
   "cell_type": "code",
   "execution_count": null,
   "id": "28764e35",
   "metadata": {},
   "outputs": [],
   "source": [
    "design_df = adata_milo.obs[['sample',\"stage\",\"day\",]].copy()\n",
    "design_df.drop_duplicates(inplace=True)\n",
    "design_df.index = design_df['sample']\n",
    "design_df"
   ]
  },
  {
   "cell_type": "code",
   "execution_count": null,
   "id": "b80f001a",
   "metadata": {},
   "outputs": [],
   "source": [
    "%%R -i design_df -o DA_results_myeloid\n",
    "## Define neighbourhoods\n",
    "myeloid_milo <- makeNhoods(myeloid_milo, prop = 0.1, k = 30, d=30, refined = TRUE, reduced_dims = \"PCA\")\n",
    "\n",
    "## Count cells in neighbourhoods\n",
    "myeloid_milo <- countCells(myeloid_milo, meta.data = data.frame(colData(myeloid_milo)), sample=\"sample\")\n",
    "\n",
    "## Calculate distances between cells in neighbourhoods\n",
    "## for spatial FDR correction\n",
    "myeloid_milo <- calcNhoodDistance(myeloid_milo, d=30, reduced.dim = \"PCA\")\n",
    "\n",
    "\n",
    "## Test for differential abundance\n",
    "DA_results_myeloid <- testNhoods(myeloid_milo, design = ~stage, design.df = design_df)\n"
   ]
  },
  {
   "cell_type": "code",
   "execution_count": null,
   "id": "6281ec25",
   "metadata": {},
   "outputs": [],
   "source": [
    "DA_results_myeloid.head()"
   ]
  },
  {
   "cell_type": "code",
   "execution_count": null,
   "id": "b099fcfb",
   "metadata": {},
   "outputs": [],
   "source": [
    "plt.plot(DA_results_myeloid.logFC, -np.log10(DA_results_myeloid.SpatialFDR), '.');\n",
    "plt.xlabel(\"log-Fold Change\");\n",
    "plt.ylabel(\"- log10(Spatial FDR)\")"
   ]
  },
  {
   "cell_type": "code",
   "execution_count": null,
   "id": "7f466041",
   "metadata": {},
   "outputs": [],
   "source": [
    "%%R\n",
    "myeloid_milo <- buildNhoodGraph(myeloid_milo)"
   ]
  },
  {
   "cell_type": "code",
   "execution_count": null,
   "id": "34da26b3",
   "metadata": {},
   "outputs": [],
   "source": [
    "%%R \n",
    "head(DA_results_myeloid)"
   ]
  },
  {
   "cell_type": "code",
   "execution_count": null,
   "id": "6d2d6a94",
   "metadata": {},
   "outputs": [],
   "source": [
    "%%R -w 800 -h 600\n",
    "alpha_val = 1\n",
    "library(ggplot2)\n",
    "p1 <- plotNhoodGraphDA(myeloid_milo, DA_results_myeloid, res_column = 'SpatialFDR', alpha=alpha_val, \n",
    "                 layout=\"UMAP\", size_range = c(2, 8), node_stroke =0.8)\n",
    "p1"
   ]
  },
  {
   "cell_type": "code",
   "execution_count": null,
   "id": "30944770",
   "metadata": {},
   "outputs": [],
   "source": [
    "%%R -w 800 -h 600\n",
    "alpha_val = 1\n",
    "library(ggplot2)\n",
    "p1 <- plotNhoodGraphDA(myeloid_milo, DA_results_myeloid, res_column = 'logFC', alpha=alpha_val, \n",
    "                 layout=\"UMAP\", size_range = c(2, 8), node_stroke =0.8)\n",
    "p1"
   ]
  },
  {
   "cell_type": "code",
   "execution_count": null,
   "id": "0e34ee20",
   "metadata": {},
   "outputs": [],
   "source": [
    "%%R\n",
    "myeloid_milo"
   ]
  },
  {
   "cell_type": "code",
   "execution_count": null,
   "id": "e279bd93",
   "metadata": {},
   "outputs": [],
   "source": [
    "%%R \n",
    "DA_results_myeloid <- annotateNhoods(myeloid_milo, DA_results_myeloid, coldata_col = 'cell_type_subset')\n",
    "head(DA_results_myeloid)"
   ]
  },
  {
   "cell_type": "code",
   "execution_count": null,
   "id": "c89a1403",
   "metadata": {},
   "outputs": [],
   "source": [
    "%%R\n",
    "library(ggplot2)\n",
    "ggplot(DA_results_myeloid, aes(cell_type_subset_fraction)) + geom_histogram(bins=50)"
   ]
  },
  {
   "cell_type": "code",
   "execution_count": null,
   "id": "e08244cc",
   "metadata": {},
   "outputs": [],
   "source": [
    "%%R -o DA_results_myeloid\n",
    "DA_results_myeloid$Celltypes <- ifelse(DA_results_myeloid$cell_type_subset_fraction < 0.8, \"Mixed\", DA_results_myeloid$cell_type_subset)\n",
    "head(DA_results_myeloid)"
   ]
  },
  {
   "cell_type": "code",
   "execution_count": null,
   "id": "db7bfcb0",
   "metadata": {},
   "outputs": [],
   "source": [
    "%%R\n",
    "plotDAbeeswarm(DA_results_myeloid, group.by = \"cell_type_subset\", alpha = 1)"
   ]
  },
  {
   "cell_type": "code",
   "execution_count": null,
   "id": "0bc162d5",
   "metadata": {},
   "outputs": [],
   "source": [
    "import matplotlib.colors as mcolors\n",
    "import matplotlib.cm as cm\n",
    "\n",
    "\n",
    "for j, item in enumerate(['FDR', 'SpatialFDR', 'PValue']):\n",
    "    fig = plt.figure(figsize = (8, 12))\n",
    "    DA_results_myeloid['log_' + item] = -np.log10(DA_results_myeloid[item])\n",
    "    ax = fig.add_subplot(1, 1, 1)\n",
    "    plot = sns.stripplot(x='logFC', y=\"cell_type_subset\", hue='log_' + item, data=DA_results_myeloid, size = 6, \n",
    "              palette='cividis', \n",
    "              jitter=0.2, edgecolor='none', ax = ax)\n",
    "    plot.get_legend().set_visible(False)\n",
    "    #ax.set_xticklabels(ax.get_xticks(), fontsize = 18)\n",
    "    #ax.set_yticklabels(ax.get_yticks(), fontsize = 18)\n",
    "    ax.tick_params(axis='both', which='major', labelsize=18)\n",
    "    ax.set_ylabel('T cell subsets', fontsize = 18)\n",
    "    ax.set_xlabel('logFC', fontsize = 18)\n",
    "    sns.despine()\n",
    "\n",
    "\n",
    "    # Drawing the side color bar\n",
    "    normalize = mcolors.Normalize(vmin=DA_results_myeloid['log_' + item].min(), \n",
    "                              vmax=DA_results_myeloid['log_' + item].max())\n",
    "    colormap = cm.cividis\n",
    "\n",
    "    for n in DA_results_myeloid['log_' + item]:\n",
    "        plt.plot(color=colormap(normalize(n)))\n",
    "\n",
    "    scalarmappaple = cm.ScalarMappable(norm=normalize, cmap=colormap)\n",
    "    scalarmappaple.set_array(DA_results_myeloid['log_' + item])\n",
    "    cbar = fig.colorbar(scalarmappaple)\n",
    "    cbar.ax.set_yticklabels(cbar.ax.get_yticks(), fontsize = 18)\n",
    "    cbar.ax.set_ylabel('-log10(' + item + ')',  labelpad = 20, rotation=90, fontsize = 18)\n",
    "    ax.grid(False)\n",
    "    #fig.savefig(outbase + 'milor_myeloid_swarmplot_colored_by_log_' + item + '.pdf', dpi = 300, \n",
    "                #bbox_inches = 'tight')"
   ]
  },
  {
   "cell_type": "markdown",
   "id": "c9ec2f36",
   "metadata": {},
   "source": [
    "## ILCs"
   ]
  },
  {
   "cell_type": "code",
   "execution_count": null,
   "id": "efe8b482",
   "metadata": {},
   "outputs": [],
   "source": [
    "sc.pl.umap(adata,color=\"cell_type\")"
   ]
  },
  {
   "cell_type": "code",
   "execution_count": null,
   "id": "caaad3b7",
   "metadata": {},
   "outputs": [],
   "source": [
    "ILC = adata[adata.obs['cell_type'].isin(['ILC',\"NK cells\", \"DN/DPs\"])]\n",
    "#'DN/DPs',\"NK cells\""
   ]
  },
  {
   "cell_type": "code",
   "execution_count": null,
   "id": "6f9ce580",
   "metadata": {},
   "outputs": [],
   "source": [
    "sc.pl.umap(ILC)"
   ]
  },
  {
   "cell_type": "code",
   "execution_count": null,
   "id": "be688ad8",
   "metadata": {},
   "outputs": [],
   "source": [
    "# Remove columns with all 0s\n",
    "sc.pp.filter_genes(ILC, min_cells=1)"
   ]
  },
  {
   "cell_type": "code",
   "execution_count": null,
   "id": "01ba0626",
   "metadata": {},
   "outputs": [],
   "source": [
    "sc.pp.highly_variable_genes(ILC, n_top_genes=2000, n_bins=20, flavor='seurat_v3')"
   ]
  },
  {
   "cell_type": "code",
   "execution_count": null,
   "id": "a183b6a1",
   "metadata": {},
   "outputs": [],
   "source": [
    "rng = np.random.RandomState(42)\n",
    "sc.tl.pca(ILC, n_comps=200, svd_solver='arpack', random_state=rng, use_highly_variable=True)"
   ]
  },
  {
   "cell_type": "code",
   "execution_count": null,
   "id": "c2fc9725",
   "metadata": {},
   "outputs": [],
   "source": [
    "observe_variance(ILC)"
   ]
  },
  {
   "cell_type": "code",
   "execution_count": null,
   "id": "7d2facfc",
   "metadata": {},
   "outputs": [],
   "source": [
    "rng = np.random.RandomState(42)\n",
    "sc.tl.pca(ILC, n_comps=30, svd_solver='arpack', random_state=rng, use_highly_variable=True)"
   ]
  },
  {
   "cell_type": "code",
   "execution_count": null,
   "id": "f3528786",
   "metadata": {},
   "outputs": [],
   "source": [
    "sc.pp.neighbors(ILC, n_neighbors=30, n_pcs=30)\n",
    "sc.tl.umap(ILC,min_dist=0.5)"
   ]
  },
  {
   "cell_type": "code",
   "execution_count": null,
   "id": "dd3663fd",
   "metadata": {},
   "outputs": [],
   "source": [
    "for resolution_parameter in [0.1, 0.2, 0.3, 0.4, 0.5, 0.6, 0.7, 0.8, 0.9, 1.0]:\n",
    "    sc.tl.leiden(ILC, resolution=resolution_parameter, random_state=42, \n",
    "                        key_added='leiden_'+str(resolution_parameter))"
   ]
  },
  {
   "cell_type": "code",
   "execution_count": null,
   "id": "a6b50f3e",
   "metadata": {
    "scrolled": true
   },
   "outputs": [],
   "source": [
    "sc.set_figure_params(dpi=80, dpi_save=300, color_map='viridis', vector_friendly=False, transparent=True)\n",
    "sc.pl.umap(\n",
    "    ILC, \n",
    "    color=['leiden_0.1', 'leiden_0.2', 'leiden_0.3', 'leiden_0.4', 'leiden_0.5', \n",
    "           'leiden_0.6', 'leiden_0.7', 'leiden_0.8','leiden_0.9', 'leiden_1.0'], \n",
    "    palette=user_defined_palette,  \n",
    "    color_map='Spectral_r', \n",
    "    use_raw=False,\n",
    "    ncols=5,\n",
    "    wspace = 0.7,\n",
    "    outline_width=[0.1, 0.05],\n",
    "    frameon=False,\n",
    "    add_outline=True,\n",
    "    sort_order = False\n",
    ")\n"
   ]
  },
  {
   "cell_type": "code",
   "execution_count": null,
   "id": "6f42aad3",
   "metadata": {
    "scrolled": true
   },
   "outputs": [],
   "source": [
    "sc.set_figure_params(dpi=80, dpi_save=300, color_map='viridis', vector_friendly=False, transparent=True)\n",
    "sc.pl.umap(\n",
    "    ILC, \n",
    "    color=[\"Cd4\",\"Cd8a\",\"Sox4\",\"day\",\"Ncr1\",\"cell_type\",\"Rorc\",\"Ccr6\",\"stage\",\"Eomes\",\"Cd4\",\"Foxp3\",\"Il23r\"], \n",
    "    palette=user_defined_palette,  \n",
    "    color_map='Spectral_r', \n",
    "    use_raw=False,\n",
    "    ncols=5,\n",
    "    wspace = 0.1,\n",
    "    outline_width=[0.6, 0.05],\n",
    "    size=15,\n",
    "    frameon=False,\n",
    "    add_outline=True,\n",
    "    sort_order = False\n",
    ")"
   ]
  },
  {
   "cell_type": "code",
   "execution_count": null,
   "id": "8b8905be",
   "metadata": {},
   "outputs": [],
   "source": [
    "ILC.obs['cell_type_subset'] = ['ILC3' if (x=='0' ) else \n",
    "                               'ILC2' if (x=='4') else\n",
    "                               'DN' if (x=='2') else\n",
    "                               'DP' if (x=='3' ) else\n",
    "                               'NK cells' if (x=='1') else\n",
    "                               'ERROR' for x in ILC.obs['leiden_0.1']] "
   ]
  },
  {
   "cell_type": "code",
   "execution_count": null,
   "id": "59fbafa5",
   "metadata": {},
   "outputs": [],
   "source": [
    "sc.pl.umap(ILC, color=[\"leiden_0.1\",\"cell_type\",'cell_type_subset',\"day\"])"
   ]
  },
  {
   "cell_type": "code",
   "execution_count": null,
   "id": "c09e020d",
   "metadata": {},
   "outputs": [],
   "source": [
    "sc.tl.rank_genes_groups(ILC, 'leiden_0.4', method='wilcoxon', use_raw=False)\n",
    "sc.pl.rank_genes_groups(ILC, n_genes=25, sharey=False) "
   ]
  },
  {
   "cell_type": "code",
   "execution_count": null,
   "id": "359e4c2a",
   "metadata": {},
   "outputs": [],
   "source": [
    "sc.set_figure_params(dpi=80, dpi_save=300, color_map='viridis', vector_friendly=True, transparent=True)\n",
    "\n",
    "sc.pl.umap(\n",
    "    ILC, \n",
    "    color=['leiden_0.4','cell_type_subset','stage','day'], \n",
    "    ncols=6,\n",
    "    outline_width=[0.08, 0.06],\n",
    "    frameon=False,\n",
    "    cmap='Spectral_r',\n",
    "    wspace = 0.3,\n",
    "    add_outline=True\n",
    ")"
   ]
  },
  {
   "cell_type": "code",
   "execution_count": null,
   "id": "b3db9640",
   "metadata": {},
   "outputs": [],
   "source": [
    "ILC.uns['cell_type_subset_colors'] = [\"#F1BB7B\", \"#FD6467\", \"#5B1A18\", \"#D67236\"]"
   ]
  },
  {
   "cell_type": "code",
   "execution_count": null,
   "id": "ecfb0908",
   "metadata": {},
   "outputs": [],
   "source": [
    "tmp = pd.crosstab(ILC[ILC.obs['stage']==\"18mo\"].obs['day'],ILC.obs['Dendritic cell subsets'], normalize='index')\n",
    "tmp.plot.area(stacked=True).legend(loc='center left', bbox_to_anchor=(1, 0.5),frameon=False)\n",
    "plt.grid(False)"
   ]
  },
  {
   "cell_type": "code",
   "execution_count": null,
   "id": "d28071dc",
   "metadata": {},
   "outputs": [],
   "source": [
    "tmp = pd.crosstab(ILC[ILC.obs['stage']==\"02mo\"].obs['day'],ILC.obs['Dendritic cell subsets'], normalize='index')\n",
    "tmp.plot.area(stacked=True).legend(loc='center left', bbox_to_anchor=(1, 0.5),frameon=False)\n",
    "plt.grid(False)"
   ]
  },
  {
   "cell_type": "code",
   "execution_count": null,
   "id": "0df802a5",
   "metadata": {},
   "outputs": [],
   "source": [
    "# anndata2ri interconverts AnnData and Single Cell Experiment objects\n",
    "anndata2ri.activate()\n",
    "%load_ext rpy2.ipython\n",
    "#%reload_ext rpy2.ipython"
   ]
  },
  {
   "cell_type": "code",
   "execution_count": null,
   "id": "9f329f66",
   "metadata": {},
   "outputs": [],
   "source": [
    "ILC.layers['norm_counts'] = ILC.X.copy()"
   ]
  },
  {
   "cell_type": "code",
   "execution_count": null,
   "id": "a9adc03d",
   "metadata": {},
   "outputs": [],
   "source": [
    "adata_milo = sc.AnnData(ILC.layers['norm_counts'].copy(), \n",
    "                        obs = ILC.obs[['stage', 'day', 'cell_type_subset',\"sample\"]], \n",
    "                        var = ILC.var)\n",
    "adata_milo.obsm['X_pca'] = ILC.obsm['X_pca']\n",
    "adata_milo.obsm['X_umap'] = ILC.obsm['X_umap']"
   ]
  },
  {
   "cell_type": "code",
   "execution_count": null,
   "id": "bd5d0c4e",
   "metadata": {},
   "outputs": [],
   "source": [
    "%%R\n",
    "library(igraph)\n",
    "\n",
    "library(miloR)"
   ]
  },
  {
   "cell_type": "code",
   "execution_count": null,
   "id": "34e20c51",
   "metadata": {},
   "outputs": [],
   "source": [
    "%%R -i adata_milo\n",
    "adata_milo"
   ]
  },
  {
   "cell_type": "code",
   "execution_count": null,
   "id": "c9448e5c",
   "metadata": {},
   "outputs": [],
   "source": [
    "%%R \n",
    "myeloid_milo <- Milo(adata_milo)\n",
    "myeloid_milo"
   ]
  },
  {
   "cell_type": "code",
   "execution_count": null,
   "id": "10a9123a",
   "metadata": {},
   "outputs": [],
   "source": [
    "%%R \n",
    "myeloid_milo <- buildGraph(myeloid_milo, k=30, d=30, reduced.dim = \"PCA\")"
   ]
  },
  {
   "cell_type": "code",
   "execution_count": null,
   "id": "b4921471",
   "metadata": {},
   "outputs": [],
   "source": [
    "design_df = adata_milo.obs[['sample',\"stage\",\"day\",]].copy()\n",
    "design_df.drop_duplicates(inplace=True)\n",
    "design_df.index = design_df['sample']\n",
    "design_df"
   ]
  },
  {
   "cell_type": "code",
   "execution_count": null,
   "id": "3c8858a2",
   "metadata": {},
   "outputs": [],
   "source": [
    "%%R -i design_df -o DA_results_myeloid\n",
    "## Define neighbourhoods\n",
    "myeloid_milo <- makeNhoods(myeloid_milo, prop = 0.1, k = 30, d=30, refined = TRUE, reduced_dims = \"PCA\")\n",
    "\n",
    "## Count cells in neighbourhoods\n",
    "myeloid_milo <- countCells(myeloid_milo, meta.data = data.frame(colData(myeloid_milo)), sample=\"sample\")\n",
    "\n",
    "## Calculate distances between cells in neighbourhoods\n",
    "## for spatial FDR correction\n",
    "myeloid_milo <- calcNhoodDistance(myeloid_milo, d=30, reduced.dim = \"PCA\")\n",
    "\n",
    "\n",
    "## Test for differential abundance\n",
    "DA_results_myeloid <- testNhoods(myeloid_milo, design = ~stage, design.df = design_df)\n"
   ]
  },
  {
   "cell_type": "code",
   "execution_count": null,
   "id": "937f2a97",
   "metadata": {},
   "outputs": [],
   "source": [
    "DA_results_myeloid.head()"
   ]
  },
  {
   "cell_type": "code",
   "execution_count": null,
   "id": "6a2bcd3f",
   "metadata": {},
   "outputs": [],
   "source": [
    "plt.plot(DA_results_myeloid.logFC, -np.log10(DA_results_myeloid.SpatialFDR), '.');\n",
    "plt.xlabel(\"log-Fold Change\");\n",
    "plt.ylabel(\"- log10(Spatial FDR)\")"
   ]
  },
  {
   "cell_type": "code",
   "execution_count": null,
   "id": "f5441442",
   "metadata": {},
   "outputs": [],
   "source": [
    "%%R\n",
    "myeloid_milo <- buildNhoodGraph(myeloid_milo)"
   ]
  },
  {
   "cell_type": "code",
   "execution_count": null,
   "id": "b21bb7a1",
   "metadata": {},
   "outputs": [],
   "source": [
    "%%R \n",
    "head(DA_results_myeloid)"
   ]
  },
  {
   "cell_type": "code",
   "execution_count": null,
   "id": "f968da74",
   "metadata": {},
   "outputs": [],
   "source": [
    "%%R -w 800 -h 600\n",
    "alpha_val = 1\n",
    "library(ggplot2)\n",
    "p1 <- plotNhoodGraphDA(myeloid_milo, DA_results_myeloid, res_column = 'SpatialFDR', alpha=alpha_val, \n",
    "                 layout=\"UMAP\", size_range = c(2, 8), node_stroke =0.8)\n",
    "p1"
   ]
  },
  {
   "cell_type": "code",
   "execution_count": null,
   "id": "80f68f44",
   "metadata": {},
   "outputs": [],
   "source": [
    "%%R -w 800 -h 600\n",
    "alpha_val = 1\n",
    "library(ggplot2)\n",
    "p1 <- plotNhoodGraphDA(myeloid_milo, DA_results_myeloid, res_column = 'logFC', alpha=alpha_val, \n",
    "                 layout=\"UMAP\", size_range = c(2, 8), node_stroke =0.8)\n",
    "p1"
   ]
  },
  {
   "cell_type": "code",
   "execution_count": null,
   "id": "034b2d07",
   "metadata": {},
   "outputs": [],
   "source": [
    "%%R\n",
    "myeloid_milo"
   ]
  },
  {
   "cell_type": "code",
   "execution_count": null,
   "id": "4011661e",
   "metadata": {},
   "outputs": [],
   "source": [
    "%%R \n",
    "DA_results_myeloid <- annotateNhoods(myeloid_milo, DA_results_myeloid, coldata_col = 'cell_type_subset')\n",
    "head(DA_results_myeloid)"
   ]
  },
  {
   "cell_type": "code",
   "execution_count": null,
   "id": "a3c41199",
   "metadata": {},
   "outputs": [],
   "source": [
    "%%R\n",
    "library(ggplot2)\n",
    "ggplot(DA_results_myeloid, aes(cell_type_subset_fraction)) + geom_histogram(bins=50)"
   ]
  },
  {
   "cell_type": "code",
   "execution_count": null,
   "id": "6dd02ba5",
   "metadata": {},
   "outputs": [],
   "source": [
    "%%R -o DA_results_myeloid\n",
    "DA_results_myeloid$Celltypes <- ifelse(DA_results_myeloid$cell_type_subset_fraction < 0.8, \"Mixed\", DA_results_myeloid$cell_type_subset)\n",
    "head(DA_results_myeloid)"
   ]
  },
  {
   "cell_type": "code",
   "execution_count": null,
   "id": "285e42f8",
   "metadata": {},
   "outputs": [],
   "source": [
    "%%R\n",
    "plotDAbeeswarm(DA_results_myeloid, group.by = \"cell_type_subset\", alpha = 1)"
   ]
  },
  {
   "cell_type": "code",
   "execution_count": null,
   "id": "e7ba753a",
   "metadata": {},
   "outputs": [],
   "source": [
    "import matplotlib.colors as mcolors\n",
    "import matplotlib.cm as cm\n",
    "\n",
    "\n",
    "for j, item in enumerate(['FDR', 'SpatialFDR', 'PValue']):\n",
    "    fig = plt.figure(figsize = (8, 12))\n",
    "    DA_results_myeloid['log_' + item] = -np.log10(DA_results_myeloid[item])\n",
    "    ax = fig.add_subplot(1, 1, 1)\n",
    "    plot = sns.stripplot(x='logFC', y=\"cell_type_subset\", hue='log_' + item, data=DA_results_myeloid, size = 6, \n",
    "              palette='cividis', \n",
    "              jitter=0.2, edgecolor='none', ax = ax)\n",
    "    plot.get_legend().set_visible(False)\n",
    "    #ax.set_xticklabels(ax.get_xticks(), fontsize = 18)\n",
    "    #ax.set_yticklabels(ax.get_yticks(), fontsize = 18)\n",
    "    ax.tick_params(axis='both', which='major', labelsize=18)\n",
    "    ax.set_ylabel('T cell subsets', fontsize = 18)\n",
    "    ax.set_xlabel('logFC', fontsize = 18)\n",
    "    sns.despine()\n",
    "\n",
    "\n",
    "    # Drawing the side color bar\n",
    "    normalize = mcolors.Normalize(vmin=DA_results_myeloid['log_' + item].min(), \n",
    "                              vmax=DA_results_myeloid['log_' + item].max())\n",
    "    colormap = cm.cividis\n",
    "\n",
    "    for n in DA_results_myeloid['log_' + item]:\n",
    "        plt.plot(color=colormap(normalize(n)))\n",
    "\n",
    "    scalarmappaple = cm.ScalarMappable(norm=normalize, cmap=colormap)\n",
    "    scalarmappaple.set_array(DA_results_myeloid['log_' + item])\n",
    "    cbar = fig.colorbar(scalarmappaple)\n",
    "    cbar.ax.set_yticklabels(cbar.ax.get_yticks(), fontsize = 18)\n",
    "    cbar.ax.set_ylabel('-log10(' + item + ')',  labelpad = 20, rotation=90, fontsize = 18)\n",
    "    ax.grid(False)\n",
    "    #fig.savefig(outbase + 'milor_myeloid_swarmplot_colored_by_log_' + item + '.pdf', dpi = 300, \n",
    "                #bbox_inches = 'tight')"
   ]
  },
  {
   "cell_type": "code",
   "execution_count": null,
   "id": "382025ac-52c8-4fa8-9679-b958f64cb223",
   "metadata": {},
   "outputs": [],
   "source": [
    "sc.pl.umap(adata, color=\"cell_type\")"
   ]
  },
  {
   "cell_type": "code",
   "execution_count": null,
   "id": "912e4c9d-ad8d-4efa-a341-a366cff7f4b5",
   "metadata": {},
   "outputs": [],
   "source": [
    "EOS=adata[adata.obs['cell_type']==\"EOS\"]"
   ]
  },
  {
   "cell_type": "code",
   "execution_count": null,
   "id": "15875523",
   "metadata": {},
   "outputs": [],
   "source": [
    "annotated_subsets = pd.concat([T.obs['cell_type_subset'], DC.obs['cell_type_subset'], \n",
    "                               NKT.obs['cell_type_subset'], B.obs['cell_type'],\n",
    "                                ILC.obs['cell_type_subset'],EOS.obs['cell_type']]\n",
    "                              )"
   ]
  },
  {
   "cell_type": "code",
   "execution_count": null,
   "id": "03e5b8eb",
   "metadata": {},
   "outputs": [],
   "source": [
    "adata.obs['cell_type_subset']=''"
   ]
  },
  {
   "cell_type": "code",
   "execution_count": null,
   "id": "ee19c7a3",
   "metadata": {},
   "outputs": [],
   "source": [
    "adata.obs['cell_type_subset'][adata.obs.index.isin(annotated_subsets.index) == True] = annotated_subsets"
   ]
  },
  {
   "cell_type": "code",
   "execution_count": null,
   "id": "e248babf-bf54-484e-8ea8-71b79e7c2faf",
   "metadata": {},
   "outputs": [],
   "source": [
    "adata=adata[adata.obs['cell_type_subset']!='']"
   ]
  },
  {
   "cell_type": "code",
   "execution_count": null,
   "id": "60c1f6a6-8ce4-407e-b310-03635615ee0e",
   "metadata": {},
   "outputs": [],
   "source": [
    "sc.pl.umap(adata,color='cell_type_subset')"
   ]
  },
  {
   "cell_type": "code",
   "execution_count": null,
   "id": "1adf686d",
   "metadata": {},
   "outputs": [],
   "source": [
    "adata.uns['cell_type_subset_colors']=['#f6222e','#002FA7','#ff34ff','#060047', '#ffbaba','#3283fe',\n",
    "                                      '#006fa6','#809693', '#bec1d4', '#F2BE22',\n",
    "                                      '#0000a6', '#D4ADFC', '#00DFA2',\n",
    "       '#1F8A70', '#BFDB38',\n",
    "                                      '#DD8D29', '#5a0007', '#46ACC8', '#ffff00', '#B40F20', \n",
    "      '#4fc601',\n",
    "                ]\n",
    "\n",
    "\n"
   ]
  },
  {
   "cell_type": "code",
   "execution_count": null,
   "id": "f6a9b02a",
   "metadata": {},
   "outputs": [],
   "source": [
    "\n",
    "# Define the new order for the categories\n",
    "new_order = [ 'Tregs', 'Naive CD4','CD4','GZMK+ CD8', 'Naive CD8', 'CD8',  'Invariant T', 'DN',\"DP\",'NKT', 'NK cells','ILC2',\"ILC3\", 'B cells', 'plasmacells','cDC1', 'CCR7+ cDC' ,'cDC2', 'p-DCs', 'Macrophages', 'EOS',]"
   ]
  },
  {
   "cell_type": "code",
   "execution_count": null,
   "id": "39e93e46",
   "metadata": {},
   "outputs": [],
   "source": [
    "\n",
    "# Assign the new order to the cell_type_subset column\n",
    "adata.obs['cell_type_subset'] = pd.Categorical(adata.obs['cell_type_subset'], categories=new_order, ordered=True)\n"
   ]
  },
  {
   "cell_type": "code",
   "execution_count": null,
   "id": "b9b0beb7",
   "metadata": {},
   "outputs": [],
   "source": [
    "sc.pl.umap(adata, color=['stage', 'day','cell_type_subset'], \n",
    "                     color_map='Spectral_r',\n",
    "                     use_raw=False, \n",
    "         #  \"Cd4\",\"Cd8a\",\n",
    "                     ncols=4, \n",
    "                     wspace = 0.3,\n",
    "                     outline_width=[0.6, 0.01], \n",
    "                     size=5,  \n",
    "                     frameon=False, \n",
    "                     add_outline=False, \n",
    "                     sort_order = False)"
   ]
  },
  {
   "cell_type": "code",
   "execution_count": null,
   "id": "8886aaf1-dca9-44d2-8efb-cdd222619789",
   "metadata": {},
   "outputs": [],
   "source": [
    "sc.pl.umap(adata, color=['cell_type_subset',\"leiden_0.4\"], \n",
    "                     color_map='Spectral_r',\n",
    "                     use_raw=False, \n",
    "         #  \"Cd4\",\"Cd8a\",\n",
    "                     ncols=4, \n",
    "                     wspace = 0.3,\n",
    "                     outline_width=[0.6, 0.01], \n",
    "                     size=5,  \n",
    "                     frameon=False, \n",
    "                     add_outline=False, \n",
    "                     sort_order = False)"
   ]
  },
  {
   "cell_type": "code",
   "execution_count": null,
   "id": "d5a7dac6-cecb-4c8e-90f5-f1b8e1d7909e",
   "metadata": {},
   "outputs": [],
   "source": [
    "adata.uns['leiden_0.4_colors']"
   ]
  },
  {
   "cell_type": "code",
   "execution_count": null,
   "id": "fd235df7-05e2-49b4-b3ec-2e8f971fbbce",
   "metadata": {},
   "outputs": [],
   "source": [
    "list(adata.obs['cell_type_subset'].unique())\n"
   ]
  },
  {
   "cell_type": "code",
   "execution_count": null,
   "id": "70ca5012-1946-4f7f-9548-4e0900d65c93",
   "metadata": {},
   "outputs": [],
   "source": [
    "adata.uns['cell_type_subset_colors']=['#f6222e','#bdcdff','#E90064','#3283fe', '#060047',\n",
    "                                      '#006fa6','#a30059', '#ffdbe5', '#F2BE22',\n",
    "                                      '#0000a6', '#D4ADFC', '#00DFA2',\n",
    "       '#1F8A70', '#BFDB38',\n",
    "                                      '#DD8D29', '#5a0007', '#46ACC8', '#E58601', '#B40F20', \n",
    "      '#4fc601',\n",
    "                ]\n"
   ]
  },
  {
   "cell_type": "code",
   "execution_count": null,
   "id": "201aeacb",
   "metadata": {},
   "outputs": [],
   "source": [
    "sc.pl.umap(adata, color=['cell_type_subset',\"stage\",\"day\"], \n",
    "                     color_map='Spectral_r',\n",
    "                     use_raw=False, \n",
    "         #  \"Cd4\",\"Cd8a\",\n",
    "                     ncols=4, \n",
    "                     wspace = 0.7,\n",
    "                     outline_width=[0.6, 0.05], \n",
    "                     size=15,  \n",
    "                     frameon=False, \n",
    "                     add_outline=True, \n",
    "\n",
    "                     sort_order = False)"
   ]
  },
  {
   "cell_type": "code",
   "execution_count": null,
   "id": "a0ab39e5-0c7b-4178-a4f0-d289323ca821",
   "metadata": {},
   "outputs": [],
   "source": [
    "sc.pl.umap(adata, color=['cell_type_subset'], \n",
    "                     color_map='Spectral_r',\n",
    "                     use_raw=False, \n",
    "         #  \"Cd4\",\"Cd8a\",\n",
    "                     ncols=4, \n",
    "                     wspace = 0.7,\n",
    "                     outline_width=[0.6, 0.05], \n",
    "                     size=15,  \n",
    "                     frameon=False, \n",
    "                     add_outline=True, \n",
    "\n",
    "                     sort_order = False)"
   ]
  },
  {
   "cell_type": "code",
   "execution_count": null,
   "id": "ff9434a4",
   "metadata": {},
   "outputs": [],
   "source": [
    "adata"
   ]
  },
  {
   "cell_type": "code",
   "execution_count": null,
   "id": "4ecbb9e6",
   "metadata": {},
   "outputs": [],
   "source": [
    "path_to_h5ad = '/Users/xleana/Desktop/CD45/CD45new/Supplefig2.h5ad'"
   ]
  },
  {
   "cell_type": "code",
   "execution_count": null,
   "id": "db094f6a",
   "metadata": {},
   "outputs": [],
   "source": [
    "adata.write(path_to_h5ad)"
   ]
  },
  {
   "cell_type": "code",
   "execution_count": null,
   "id": "a74227c5",
   "metadata": {
    "scrolled": true
   },
   "outputs": [],
   "source": [
    "sc.pp.highly_variable_genes(adata, n_top_genes=3000, n_bins=20, flavor='seurat_v3')"
   ]
  },
  {
   "cell_type": "code",
   "execution_count": null,
   "id": "0d14cfde",
   "metadata": {},
   "outputs": [],
   "source": [
    "rng = np.random.RandomState(42)\n",
    "sc.tl.pca(adata, n_comps=50, svd_solver='arpack', random_state=rng, use_highly_variable=True)"
   ]
  },
  {
   "cell_type": "code",
   "execution_count": null,
   "id": "b87cce8a",
   "metadata": {},
   "outputs": [],
   "source": [
    "observe_variance(adata)\n"
   ]
  },
  {
   "cell_type": "code",
   "execution_count": null,
   "id": "9e017f4b",
   "metadata": {},
   "outputs": [],
   "source": [
    "plt.plot(range(len(adata.uns['pca']['variance_ratio'])), np.cumsum(adata.uns['pca']['variance_ratio']) * 100, '.-')\n",
    "plt.axvline(30, color = 'r')\n",
    "plt.xlabel('Principal Component', fontsize = 14)\n",
    "plt.ylabel('% Variance Explained', fontsize = 14)"
   ]
  },
  {
   "cell_type": "code",
   "execution_count": null,
   "id": "19f6210c",
   "metadata": {},
   "outputs": [],
   "source": [
    "sc.pp.neighbors(adata, n_neighbors=50,n_pcs=30)"
   ]
  },
  {
   "cell_type": "code",
   "execution_count": null,
   "id": "d2129115",
   "metadata": {},
   "outputs": [],
   "source": [
    "sc.tl.umap(adata, min_dist=0.5)"
   ]
  },
  {
   "cell_type": "code",
   "execution_count": null,
   "id": "30a858a3",
   "metadata": {
    "scrolled": true
   },
   "outputs": [],
   "source": [
    "sc.set_figure_params(dpi=80, dpi_save=300, color_map='viridis', vector_friendly=False, transparent=True)\n",
    "sc.pl.umap(\n",
    "    adata, \n",
    "    color=[\"Sox4\",\"Rorc\",\"Ncr1\",\"Klrk1\",\"Cxcr6\", 'Cd8b1',\"Cd8a\",\"Cd4\",'Tnfrsf4',\"Foxp3\",\"H2-Aa\",\"Clec9a\",\"Xcr1\",\n",
    "           \"Sirpa\",\"Ccr7\",\"Fscn1\",'Cd79a', 'Ms4a1', \"Xbp1\",\"Igkc\",\"Msrb1\",\"stage\", 'day'], \n",
    "    palette=user_defined_palette,  \n",
    "    color_map='Spectral_r', \n",
    "    use_raw=False,\n",
    "    ncols=5,\n",
    "    wspace = 0.1,\n",
    "    outline_width=[0.6, 0.05],\n",
    "    size=15,\n",
    "    frameon=False,\n",
    "    add_outline=True,\n",
    "    sort_order = False\n",
    ")"
   ]
  },
  {
   "cell_type": "code",
   "execution_count": null,
   "id": "f712b9a9",
   "metadata": {},
   "outputs": [],
   "source": [
    "sc.set_figure_params(dpi=80, dpi_save=300, color_map='viridis', vector_friendly=False, transparent=True)\n",
    "sc.pl.umap(\n",
    "    adata, \n",
    "    color=[\"cell_type_subset\"], \n",
    "    use_raw=False,\n",
    "    ncols=5,\n",
    "    wspace = 0.1,\n",
    "    outline_width=[0.6, 0.05],\n",
    "    size=15,\n",
    "    frameon=False,\n",
    "    add_outline=True,\n",
    "    sort_order = False\n",
    ")"
   ]
  },
  {
   "cell_type": "code",
   "execution_count": null,
   "id": "b7c5d100",
   "metadata": {},
   "outputs": [],
   "source": [
    "sc.set_figure_params(dpi=80, dpi_save=300, color_map='viridis', vector_friendly=False, transparent=True)\n",
    "sc.pl.umap(\n",
    "    adata, \n",
    "    color=[\"cell_type\"], \n",
    "    use_raw=False,\n",
    "    ncols=5,\n",
    "    wspace = 0.1,\n",
    "    outline_width=[0.6, 0.05],\n",
    "    size=15,\n",
    "    frameon=False,\n",
    "    add_outline=True,\n",
    "    sort_order = False\n",
    ")"
   ]
  },
  {
   "cell_type": "code",
   "execution_count": null,
   "id": "da2e9f79",
   "metadata": {},
   "outputs": [],
   "source": [
    "sc.set_figure_params(dpi=80, dpi_save=300, color_map='viridis', vector_friendly=False, transparent=True)\n",
    "sc.pl.umap(\n",
    "    adata, \n",
    "    color=[\"day\"], \n",
    "    use_raw=False,\n",
    "    ncols=5,\n",
    "    wspace = 0.1,\n",
    "    outline_width=[0.6, 0.05],\n",
    "    size=15,\n",
    "    frameon=False,\n",
    "    add_outline=True,\n",
    "    sort_order = False\n",
    ")"
   ]
  },
  {
   "cell_type": "code",
   "execution_count": null,
   "id": "c65f989f",
   "metadata": {},
   "outputs": [],
   "source": [
    "sc.set_figure_params(dpi=80, dpi_save=300, color_map='viridis', vector_friendly=False, transparent=True)\n",
    "sc.pl.umap(\n",
    "    adata, \n",
    "    color=[\"stage\"], \n",
    "    use_raw=False,\n",
    "    ncols=5,\n",
    "    wspace = 0.1,\n",
    "    outline_width=[0.6, 0.05],\n",
    "    size=15,\n",
    "    frameon=False,\n",
    "    add_outline=True,\n",
    "    sort_order = False\n",
    ")"
   ]
  },
  {
   "cell_type": "code",
   "execution_count": null,
   "id": "35b01f04",
   "metadata": {},
   "outputs": [],
   "source": [
    "adata.uns['cell_type_subset_colors']=['#f6222e','#002FA7','#ff34ff','#060047', '#ffbaba','#3283fe',\n",
    "                                      '#006fa6','#809693', '#bec1d4', '#F2BE22',\n",
    "                                      '#ff7f0e', '#D4ADFC', '#00DFA2',\n",
    "                                      '#1F8A70', '#BFDB38',\n",
    "                                      '#DD8D29', '#5a0007', '#46ACC8', '#ffff00', '#B40F20', \n",
    "                                      '#4fc601',\n",
    "                ]"
   ]
  },
  {
   "cell_type": "code",
   "execution_count": null,
   "id": "0029cf3b",
   "metadata": {},
   "outputs": [],
   "source": [
    "path_to_h5ad = '/Users/xleana/Desktop/CD45/CD45new/Supplefig2.h5ad'"
   ]
  },
  {
   "cell_type": "code",
   "execution_count": null,
   "id": "7e048047",
   "metadata": {},
   "outputs": [],
   "source": [
    "adata.write(path_to_h5ad)"
   ]
  },
  {
   "cell_type": "code",
   "execution_count": null,
   "id": "6be0b470",
   "metadata": {},
   "outputs": [],
   "source": [
    "adata=sc.read_h5ad('/Users/xleana/Desktop/CD45/CD45new/Supplefig2.h5ad')"
   ]
  },
  {
   "cell_type": "code",
   "execution_count": null,
   "id": "b4944ee9-00a6-47e3-ad61-56da7ff62f89",
   "metadata": {},
   "outputs": [],
   "source": [
    "\n",
    "#import packages\n",
    "import numpy as np\n",
    "import json \n",
    "import scanpy as sc\n",
    "from collections import OrderedDict\n",
    "import scipy \n",
    "import pandas as pd\n",
    "\n",
    "#spectra imports \n",
    "from spectra import spectra as spc\n",
    "from spectra import spectra_util as util\n",
    "from spectra import spectra_util as spc_tl\n",
    "from spectra import K_est as kst"
   ]
  },
  {
   "cell_type": "code",
   "execution_count": null,
   "id": "cf66cae5-8ce5-4027-8585-49bfa3505c8b",
   "metadata": {},
   "outputs": [],
   "source": [
    "sc.tl.rank_genes_groups(adata, 'cell_type_subset', method='wilcoxon', use_raw=False)\n",
    "sc.pl.rank_genes_groups(adata, n_genes=25, sharey=False) "
   ]
  },
  {
   "cell_type": "code",
   "execution_count": null,
   "id": "24aeaa66-4c05-49ac-b4c0-f3e171c4a3b2",
   "metadata": {},
   "outputs": [],
   "source": [
    "result = adata.uns['rank_genes_groups']\n",
    "groups = result['names'].dtype.names\n",
    "pd.DataFrame(\n",
    "    {group + '_' + key[:1]: result[key][group]\n",
    "    for group in groups for key in ['names']}).head(20)"
   ]
  },
  {
   "cell_type": "code",
   "execution_count": null,
   "id": "6deeb063",
   "metadata": {},
   "outputs": [],
   "source": [
    "sc.pl.umap(adata, color=\"cell_type_subset\")"
   ]
  },
  {
   "cell_type": "code",
   "execution_count": null,
   "id": "74a0f8f4",
   "metadata": {},
   "outputs": [],
   "source": [
    "marker_genes_dict = {\n",
    "    'Tregs':['Ikzf2',\t'Tnfrsf4',\t'Ctla4','Itgav',],\n",
    "    'Naive CD4': ['Lef1',\t'Igfbp4',\t'Bach2','Npc2',],\n",
    "    'CD4': ['Tnfsf8',\t'Cd4',\t'Prkca','Tnfrsf4',],\n",
    "    'GZMK+ CD8': ['Ccl5',\t'Gzmk',\t'Nkg7','Cd8b1',],\n",
    "    'Naive CD8': ['Cd8b1',\t'Cd8a',\t'Igfbp4',\t'Lef1'],\n",
    "    'CD8': ['Ctla4',\t'Cd8b1',\t'Tnfsf8',\t'Cd8a'],\n",
    "    'Invariant T':['Ly6c2',\t'Klre1',\t'Klra9',\t'Gramd3',],\n",
    "    \"DN\":['Ptma',\t'Hmgb1',\t'Stmn1',\t'Dut',],\n",
    "    \"DP\":['Ccr9',\t'Themis',\t'Sox4',\t'Tcf7'],\n",
    "    'NKT':['Il12rb2',\t'Sh3bgrl3',\t'Ctsw',\t'Gzmb',],\n",
    "    'NK cells':['Fcer1g',\t'Tyrobp',\t'Ncr1',\t'Klre1',],\n",
    "    'ILC2':['Furin',\t'Itm2b',\t'Rora',\t'Il1rl1',],\n",
    "    'ILC3':['Tmem176a',\t'Tmem176b',\t'Il23r',\t'Ramp1'],\n",
    "    'B cells':['Cd79a',\t'Cd79b',\t'Ms4a1',\t'H2-DMb2',],\n",
    "    'plasmacells':['Igkc',\t'Jchain',\t'Txndc5',\t'Mzb1',],\n",
    "    'cDC1':['Cst3',\t'Psap',\t'Ppt1',\t'Plbd1',],\n",
    "    'CCR7+cDC':['Fscn1',\t'Marcks',\t'Tmem123',\t'Tmcc3',],\n",
    "    'cDC2':['Ifi30',\t'H2-Ab1',\t'Cd74',\t'H2-Aa',],\n",
    "    'p-DCs':['Tcf4',\t'Grn',\t'Pld4',\t'Ctsb',\t'Rnase6',],\n",
    "    'Macrophages':['Lyz2',\t'Ctss',\t'Gpx1',\t'Lst1',],\n",
    "    'EOS':['Msrb1',\t'Tyrobp',\t'Fcer1g',\t'Ifitm3',]\n",
    "}\n"
   ]
  },
  {
   "cell_type": "code",
   "execution_count": null,
   "id": "5ec56338",
   "metadata": {},
   "outputs": [],
   "source": [
    "sc.pl.dotplot(adata, marker_genes_dict, 'cell_type_subset', dendrogram=False,standard_scale='var')\n"
   ]
  },
  {
   "cell_type": "code",
   "execution_count": null,
   "id": "4e188643",
   "metadata": {},
   "outputs": [],
   "source": [
    "sc.pl.umap(adata, color=\"cell_type\")"
   ]
  },
  {
   "cell_type": "code",
   "execution_count": null,
   "id": "05e803f4",
   "metadata": {},
   "outputs": [],
   "source": [
    "pd.set_option('display.max_columns',None)"
   ]
  },
  {
   "cell_type": "code",
   "execution_count": null,
   "id": "a2168d68",
   "metadata": {},
   "outputs": [],
   "source": [
    "adata.obs[\"cell_type_subset_age\"]=adata[]"
   ]
  },
  {
   "cell_type": "code",
   "execution_count": null,
   "id": "459fbb2e",
   "metadata": {},
   "outputs": [],
   "source": [
    "sc.tl.rank_genes_groups(adata, 'cell_type_subset_age', method='wilcoxon', use_raw=False)\n",
    "sc.pl.rank_genes_groups(adata, n_genes=25, sharey=False) "
   ]
  },
  {
   "cell_type": "code",
   "execution_count": null,
   "id": "e032e921",
   "metadata": {},
   "outputs": [],
   "source": [
    "    result = adata.uns['rank_genes_groups']\n",
    "    groups = result['names'].dtype.names\n",
    "    pd.DataFrame(\n",
    "        {group + '_' + key[:1]: result[key][group]\n",
    "        for group in groups for key in ['names']}).head(20)"
   ]
  },
  {
   "cell_type": "code",
   "execution_count": null,
   "id": "c675b336-0a9d-4daf-9301-b9e58ba86ce0",
   "metadata": {},
   "outputs": [],
   "source": [
    "gene_set_annotations"
   ]
  },
  {
   "cell_type": "code",
   "execution_count": null,
   "id": "490780cf-5f73-41f7-a7ed-f9876c407b5c",
   "metadata": {},
   "outputs": [],
   "source": [
    "gene_set_annotations = {\n",
    "\"global\": {'all_GLU_metabolism':['Slc38a1','Gpt','Slc1a3','Slc7a11','Got2','Aldh18a1','Slc1a1','Slc1a5',\n",
    "'Slc38a5','Got1','Slc25a13','Slc3a2','Slc25a18','Slc7a6','Slc6a13','Gpt2',\n",
    "'Slc6a11','Slc7a7','Nags','Slc6a1','Slc1a6','Slc17a7','Slc32a1','Slc25a22',\n",
    "'Glul','Gls2','Oplah','Acy1','Slc6a12','Slc1a2','Slc17a8','Glud2','Slc38a2',\n",
    "'Slc38a3','Slc1a7','Gls','Slc25a12','Glud1','Slc38a4','Aldh4a1','Slc17a6'],\n",
    "'all_fatty-acid_synthesis':['Elovl1','Hacd4','Acaca','Elovl2','Elovl6','Fads3','Hacd1','Tecrl',\n",
    "'Elovl4','Fads1','Fads6','Fasn','Slc25a1','Fads2','Tecr','Aacs','Mcat',\n",
    "'Elovl3','Hacd3','Hacd2','Scd5','Acacb','Scd','Elovl7','Hsd17b12','Elovl5'],\n",
    "'all_NOTCH_signaling':['Heyl','Lfng','Dll1','Jag1','Ccnd1','Fzd1','Aph1a','Cul1','Dtx1','Notch1',\n",
    "'Kat2a','Dtx2','Fbxw11','Hey1','Maml2','Arrb1','Tcf7l2','Fzd5','Psenen','Wnt5a',\n",
    "'Hes1','Hey2','Rbx1','St3gal6','Ppard','Notch2','Skp1','Hes5','Psen2','Wnt2',\n",
    "'Notch3','Sap30','Fzd7','Prkca','Dtx4'],\n",
    "'global_AGING_GOBP_AGING':['Adra1b','Adra1a','Adra1d','Agtr1a','Agtr1b','Alpl','Comp','Edn1','Ednra','Ercc1','Sec63','Gna11','Gna12','Gna13','Gnaq','Hyal2','Enpp1','Pmp22','Slc1a2','Terc','Trp63','Wrn','Rnf165','Lncpint','Helt','Avpr1b','Nr5a1','Serp1','Ndufs6','Avpr1a','Arhgef12'],\n",
    "'global_all_MYC_targets':['Nop16','Phb','Gcsh','Nhp2','Ppat','Fasn','Cad','Noc4l','Ncl','Ddx10','Odc1',\n",
    "                          'Polr2h','Mgst1','Prps2','Adm','Slc39a6','Slc20a1','Shmt1','Tarpb1','Matr3','Psmg1',\n",
    "                          'Ddx18','Bcat1','Mrto4','Mthfd1','Tsr1','Pno1','Mxi1','Rrp1b','Srm','Rsl1d1','Ak4',\n",
    "                          'Rcc1','Cdk4','Matr3','Aimp2','Tuba4a','Ppif','Ebnalbp2','Gnl3','Apex1','Iars1',\n",
    "                          'Ccnd2','Gpd1l','Ldha','Nop56','Fxn','Slpi','Nampt','Pa2g4','Nme1','Ctsc','Nolc1',\n",
    "                          'Fbl','Uck2','Cebpz','Hspa9','Akap1','Ddx21','Socs3','Mettl1','Trap1','Fkbp4','C1qbp',\n",
    "                          'Pycr1','Fabp5','Pold2','Tfrc','Paics','Hspd1','Cks2','Ranbp1','Slc19a1','Ndufaf4',\n",
    "                          'Surf2','Plscr1','Asns','Grwd1','Slc16a1','Ppp1r14b','Hspe1','Ahcy','Emp1','Exosc7'],     \n",
    "'global_EGF':['Areg',\"Tff1\", 'Egf', 'Csnk2a1','Egfr', 'Elk1', 'Fos', 'Grb2', 'Hras', 'Jak1', 'Jun','Map2k1', \n",
    "              'Map2k4', 'Map3k1', 'Mapk3','Mapk8', 'Pik3ca', 'Pik3r1', 'Plcg1',\n",
    "'Prkca', 'Prkcb', 'Raf1', 'Rasa1','Shc1', 'Sos1', 'Srf', 'Stat1','Stat3', 'Stat5a'],\n",
    "'GOBP_ANIMAL_ORGAN_REGENERATION' :['Ace','Gfer','Apoa1','Apoa2','Apoh','Ccnd1','Cdk1','Cebpb','Egfr','Ezh1','Ezh2','Gata1','Gli1','Hmox1','Il6','Itpr1','Lif','Lifr','Pkm','Med1','Reg1','Cxcl5','Cxcl12','Aurka','Tgfb1','Vtn','Wnt1','Upf2','Sulf2'],          \n",
    "'global_all_glycolysis':['Gapdh','Gck','Pfkfb1','Eno3','Pgk1','Pgm2','Pkm','Pfkp','Eno4','Eno1','Aldoc',\n",
    "'Eno2','Hk3','Pfkfb2','Pgm5','Tpi1','Aldoa','Aldob','Pklr','Pgk2','Pgm3','Pfkm',\n",
    "'Pfkl','Hk2','Pgm1','Gpi','Hk1'],\n",
    "'global_all_glutathione_metabolism':['Gss','Gpx1','Gpx6','Gstm1','Hagh','Gpx4','Gpx5','Prdx3','Esd','Glrx2',\n",
    "'Gpx2','Prdx1','Glrx','Gpx3','Gclc','Gclm','Gpx7','Ggt1','Adh5','Cth',\n",
    "'Gpx8','Gsr','Prdx2','Cbs'],\n",
    "'global_all_IL6-JAK-STAT3_signaling':['Tyk2','Il18r1','Itga4','Csf2ra','Socs1','Cxcl11','Cd14','Ifnar1',\n",
    "'Ifngr1','Ltb','Map3k8','Ebi3','Il1b','Cbl','Stat1','Pik3r5','Dntt',\n",
    "'Stat3','Cntfr','Socs3','Reg1a','Tnfrsf12a','Cxcl3','Cd44','Cd38',\n",
    "'Il4r','Csf2rb','Itgb3','Fas','Hmox1','Irf1','Inhbe','Pf4','Myd88',\n",
    "'Grb2','Stam2','Acvrl1','Cxcl13','Tnfrsf1a','Ptpn11','Pla2g2a','Tgfb1',\n",
    "'Ccr1','Cxcl9','Ltbr','Jun','Il3ra','Acvr1b','Osmr','Tnf','Tnfrsf1b',\n",
    "'Hax1','Bak1','Il15ra','Cxcl1','Il12rb1','Lepr','Csf1','Tnfrsf21',\n",
    "'Il1r1','Ccl7','Il13ra1','Pim1','Il2ra','Csf2','Il6','Irf9','Cd9',\n",
    "'Il6st','Stat2','Il1r2','A2m','Cd36','Pdgfc','Tlr2','Crlf2','Il9r',\n",
    "'Cxcl10','Il2rg','Ifngr2','Il17rb','Il17ra','Ptpn1','Il7','Il10rb'],\n",
    "'global_all_autophagy-chaperone-mediated':['Eef1a2','Snrnp70','Snca','Eef1a1','Clu','Gfap','Hspa8',\n",
    "'Hsp90aa1','Bag3','Lamp2','Plk3','Atp13a2','Stub1','Ctsa', 'Synpo2','Atg7'], },\n",
    "    \n",
    "    \n",
    "'GZMK+ CD8':{\"GZMK+ CD8\":['Ccl5',\t'Gzmk',\t'Nkg7',\t'Cd8b1',\t'Themis',\t'Ms4a4b',\t'Cd8a',\t'Hcst',\t'Tox',\t'Itga4',\t'Eomes',\t'Fyn',\t'Gimap7',\t'Ccr5',\t'H2-Q7',\t'Ctla2a',\t'Cst7',\t'Fau',\t'Bcl2',\t'Ms4a6b'],},\n",
    "'CD4':{\"CD4\":['Tnfsf8',\t'Cd4',\t'Prkca',\t'Tnfrsf4',\t'Fyb',\t'Ly6a',\t'Themis',\t'Ifi27l2a',\t'Cd28',\t'Slamf6',\t'Hif1a',\t'Ctla4',\t'Itgb1',\t'Cd247',\t'Cd5',\t'Hivep2',\t'Icos',\t'Itga4',\t'Emb',\t'Shisa5']},\n",
    "'Naive CD4':{\"'Naive CD4\":['Lef1',\t'Igfbp4',\t'Bach2',\t'Npc2',\t'Satb1',\t'Rgs10',\t'Arhgap15',\t'Tpt1',\t'Foxp1',\t'Limd2',\t'Dgka',\t'Scml4',\t'Tgfbr2',\t'Grap2',\t'S1pr1',\t'Ccr7',\t'Tcf7',\t'Fau',\t'Klf2',\t'Rapgef6']},\n",
    "'DN':{\"DN\":['Ptma',\t'Hmgb1',\t'Stmn1',\t'Dut',\t'Dntt',\t'H2afz',\t'Pclaf',\t'Hmgb2',\t'Arpp21',\t'Endou',\t'Anp32e',\t'Ran',\t'Anp32b',\t'Tuba1b',\t'Ppia',\t'Gapdh',\t'Sox4',\t'Rrm2',\t'Snrpd1',\t'Atp5b'],},\n",
    "'DP':{\"DP\":['Ccr9',\t'Themis',\t'Sox4',\t'Tcf7',\t'Satb1',\t'Arpp21',\t'Trbc2',\t'Rhoh',\t'Dntt',\t'Cd27',\t'Endou',\t'Cd8b1',\t'Cd247',\t'Mier1',\t'Tcf12',\t'Lck',\t'Cyb5a',\t'Ap3s1',\t'Ramp1',\t'Bcl11b'],},\n",
    "'NKT':{'NKT':['Il12rb2',\t'Sh3bgrl3',\t'Ctsw',\t'Gzmb',\t'Ly6c2',\t'Tmsb10',\t'Id2',\t'Nkg7',\t'Klrk1',\t'Cxcr6',\t'Il2rb',\t'Klrd1',\t'Dennd4a',\t'Gimap4',\t'Xcl1',\t'Satb1',\t'Chn2',\t'Dusp2',\t'Klra9',\t'Klrb1c'],},\n",
    "'ILC2':{'ILC2':['Furin',\t'Itm2b',\t'Rora',\t'Il1rl1',\t'Gata3',\t'Gadd45b',\t'Emb',\t'Nfkbiz',\t'Nfkb1',\t'Nfkbia',\t'Fos',\t'Nr4a1',\t'Tcrg-C1',\t'Lmo4',\t'Ccdc184',\t'Tmem176b',\t'Nfkbid',],},\n",
    "'ILC3':{'ILC3':['Tmem176a',\t'Tmem176b',\t'Il23r',\t'Ramp1',\t'Il1r1',\t'Emb',\t'Ikzf3',\t'Ckb',\t'Lmo4',\t'Pxdc1',\t'Blk',\t'Igf1r',\t'St6galnac3',\t'S100a4',\t'Furin',\t'Cxcr6',\t'Icos',\t'Zbtb16',\t'Selenop',\t'Serpinb1a'],},\n",
    "'B cells':{'Bcells':['Cd79a',\t'Cd79b',\t'Ms4a1',\t'H2-DMb2',\t'Ebf1',\t'Bank1',\t'Ly6d',\t'Mzb1',\t'Igkc',\t'Cd74',\t'H2-Eb1',\t'Ighm',\t'Napsa',\t'H2-Aa',\t'H2-Ab1',\t'Iglc3',\t'Iglc2',\t'Lyn',\t'Ly86',\t'Pkig'],},\n",
    "'CD8':{'CD8':['Ctla4',\t'Cd8b1',\t'Tnfsf8',\t'Cd8a',\t'Nrn1',\t'Ccr7',\t'Prkca',\t'Klf6',\t'Dapl1',\t'Pdcd1',\t'Stat1',\t'Nrp1',\t'Tspan13',\t'Btg1',\t'Myo3b',\t'Stat4',\t'Cblb',\t'Slamf6',\t'Cd28',\t'Gpm6b'],},\n",
    "'Naive CD8':{'Naive CD8':['Cd8b1',\t'Cd8a',\t'Igfbp4',\t'Lef1',\t'Themis',\t'Dnajc15',\t'Fam241a',\t'Nme2',\t'Grap2',\t'Sell',\t'Ccr7',\t'Naca',\t'Emb',\t'Slc25a5',\t'Saraf',\t'Rgcc',\t'Smc4',\t'Coro1a',\t'Rras2',\t'Ppia'],},\n",
    "'cDC1':{'cDC1':['Cst3',\t'Psap',\t'Ppt1',\t'Plbd1',\t'Naaa',\t'H2-Ab1',\t'H2-DMb1',\t'H2-Aa',\t'Wdfy4',\t'H2-Eb1',\t'Irf8',\t'Alox5ap',\t'Cd74',\t'Xcr1',\t'Rab7b',\t'Mpeg1',\t'Aif1',\t'H2-DMa',\t'Ifi205',\t'Pkib'],},\n",
    "'Tregs':{'Tregs':['Ikzf2',\t'Tnfrsf4',\t'Ctla4',\t'Itgav',\t'Tnfrsf18',\t'Nrp1',\t'Tox',\t'Zfp36l1',\t'Ldlrad4',\t'Ltb',\t'Prkca',\t'Rabgap1l',\t'Rora',\t'Sntb1',\t'Ctss',\t'Cd2',\t'Fam169b',\t'Bmyc',\t'Izumo1r',\t'Ifi27l2a'],},\n",
    "'NK cells':{'NKcells':['Fcer1g',\t'Tyrobp',\t'Ncr1',\t'Klre1',\t'Xcl1',\t'AW112010',\t'Klrb1c',\t'Car2',\t'Gzma',\t'Anxa2',\t'Irf8',\t'Klrk1',\t'Nkg7',\t'Klrd1',\t'Prf1',\t'Ccl5',\t'Il2rb',\t'Ccl4',\t'Txk',\t'Gem'],},\n",
    "'Invariant T':{'Invariant T':['Ly6c2',\t'Klre1',\t'Klra9',\t'Gramd3',\t'Vps37b',\t'Klrc1',\t'Klrk1',\t'Ccl5',\t'Il2rb',\t'Junb',\t'Il12rb2',\t'Ern1',\t'Zbtb16',\t'Ddx5',\t'Pitpnc1',\t'Tmsb10',\t'Itk',\t'Sec61g',\t'Ubald2',\t'mt-Atp6'],},\n",
    "'EOS':{'EOS':['Msrb1',\t'Tyrobp',\t'Fcer1g',\t'Ifitm3',\t'Ftl1',\t'Srgn',\t'Isg15',\t'S100a9',\t'Fth1',\t'Il1b',\t'S100a8',\t'Slfn4',\t'Rtp4',\t'Hdc',\t'Lst1',\t'Csf3r',\t'Ifitm2',\t'Rsad2',\t'Acod1',\t'Cebpb'],},\n",
    "'DP':{'DP':['Dntt',\t'Tcf7',\t'Arpp21',\t'Cd8b1',\t'Satb1',\t'Endou',\t'Themis',\t'Ccr9',\t'Cd8a',\t'Sox4',\t'Trbc2',\t'Gm4258',\t'Ssbp2',\t'Aqp11',\t'Ldhb',\t'Cyb5a',\t'Glcci1',\t'Ap3s1',\t'Ramp1',\t'Rhoh',\t'Xrcc6',\t'Mier1',\t'2610307P16Rik',\t'Desi1',\t'Spint2',],},\n",
    "'plasmacells':{'plasmacells':['Igkc',\t'Jchain',\t'Txndc5',\t'Mzb1',\t'Xbp1',\t'Iglc2',\t'Eaf2',\t'Derl3',\t'Iglv1',\t'Iglc3',\t'Herpud1',\t'Pdia4',\t'Serp1',\t'Ssr4',\t'Creld2',\t'Ckap4',\t'Sec11c',\t'Fkbp2',\t'Iglc1',\t'Hsp90b1'],},\n",
    "'CCR7+ cDC':{'CCR7+cDC':['Fscn1',\t'Marcks',\t'Tmem123',\t'Tmcc3',\t'Tbc1d8',\t'Relb',\t'Cxcl16',\t'Samsn1',\t'Cst3',\t'Marcksl1',\t'Cacnb3',\t'Tbc1d4',\t'Lrrk1',\t'Basp1',\t'Syngr2',\t'Strip2',\t'Cd63',\t'Etv6',\t'Rogdi',\t'Anxa3'],},\n",
    "'Macrophages':{'Macrophages':['Lyz2',\t'Ctss',\t'Gpx1',\t'Lst1',\t'Tyrobp',\t'Fcer1g',\t'Csf1r',\t'Ms4a6c',\t'Cybb',\t'Psap',\t'Spi1',\t'Tgfbi',\t'Ifitm3',\t'Zeb2',\t'Ftl1',\t'Plac8',\t'Pld4',\t'Sat1',\t'Alox5ap',\t'Ctsh'],},\n",
    "'cDC2':{'cDC2':['Ifi30',\t'H2-Ab1',\t'Cd74',\t'H2-Aa',\t'H2-Eb1',\t'Spi1',\t'H2-DMa',\t'Ctsh',\t'Cst3',\t'Alox5ap',\t'H2-DMb1',\t'Ms4a6c',\t'Tyrobp',\t'Gpx1',\t'Plbd1',\t'Ctss',\t'Syngr2',\t'Ctsz',\t'Atox1',\t'Gsn'],},\n",
    "'ILC2':{'ILC2':['Furin',\t'Itm2b',\t'Gata3',\t'Il1rl1',\t'Rora',\t'Gadd45b',\t'Nfkb1',\t'Nfkbia',\t'Emb',\t'Nfkbiz',\t'Ccdc184',\t'Areg',\t'Srgn',\t'Ltb4r1',\t'Samsn1',\t'Fos',\t'Nfkbid',\t'Nr4a1',\t'Lmo4',\t'Klrg1'],},\n",
    "'p-DCs':{'p-DCs':['Tcf4',\t'Grn',\t'Pld4',\t'Ctsb',\t'Rnase6',\t'Ctsh',\t'Irf8',\t'Tyrobp',\t'Siglech',\t'Mpeg1',\t'Lair1',\t'Ctsl',\t'Nucb2',\t'Psap',\t'Atp1b1',\t'Pltp',\t'Cyb561a3',\t'Alox5ap',\t'Upb1',\t'Kmo']}\n",
    " \n",
    "}"
   ]
  },
  {
   "cell_type": "code",
   "execution_count": null,
   "id": "52300c15-5967-45ff-9008-a86ef9c03937",
   "metadata": {},
   "outputs": [],
   "source": [
    "annotations=gene_set_annotations"
   ]
  },
  {
   "cell_type": "code",
   "execution_count": null,
   "id": "b811a062-8b18-4a12-87a0-45461e491857",
   "metadata": {},
   "outputs": [],
   "source": [
    "def check_gene_set_dictionary(adata, annotations, obs_key='cell_type_subset',global_key='global', return_dict = True):\n",
    "    '''\n",
    "    Filters annotations dictionary contains only genes contained in the adata. \n",
    "    Checks that annotations dictionary cell type keys and adata cell types are identical.\n",
    "    Checks that all gene sets in annotations dictionary contain >2 genes after filtering.\n",
    "    \n",
    "    adata: AnnData , data to use with Spectra\n",
    "    annotations: dict , gene set annotations dictionary to use with Spectra\n",
    "    obs_key: str , column name for cell type annotations in adata.obs\n",
    "    global_key: str , key for global gene sests in gene set annotation dictionary\n",
    "    return_dict: bool , return filtered gene set annotation dictionary\n",
    "    \n",
    "    returns: dict , filtered gene set annotation dictionary\n",
    "    \n",
    "    '''\n",
    "    #test if keys match\n",
    "    adata_labels  = list(set(adata.obs[obs_key]))+['global']#cell type labels in adata object\n",
    "    annotation_labels = list(annotations.keys())\n",
    "    matching_celltype_labels = list(set(adata_labels).intersection(annotation_labels))\n",
    "    if set(annotation_labels)==set(adata_labels):\n",
    "        print('Cell type labels in gene set annotation dictionary and AnnData object are identical')\n",
    "        dict_keys_OK = True\n",
    "    if len(annotation_labels)<len(adata_labels):\n",
    "        print('The following labels are missing in the gene set annotation dictionary:',set(adata_labels)-set(annotation_labels))\n",
    "        dict_keys_OK = False\n",
    "    if len(adata_labels)<len(annotation_labels):\n",
    "        print('The following labels are missing in the AnnData object:',set(annotation_labels)-set(adata_labels))\n",
    "        dict_keys_OK = False\n",
    "        \n",
    "    #check that gene sets in dictionary have len >2\n",
    "    Counter = 0\n",
    "    annotations_new = {}\n",
    "    for k,v in annotations.items():\n",
    "        annotations_new[k] = {}\n",
    "        for k2,v2 in v.items():\n",
    "            annotations_new[k][k2]= [x for x in v2 if x in adata.var_names]\n",
    "            length = len(v2)\n",
    "            if length<3:\n",
    "                print('gene set',k2,'for cell type',k,'is of length',length)\n",
    "                Counter = Counter+1\n",
    "            \n",
    "    if Counter > 0:\n",
    "        print(Counter,'gene sets are too small. Gene sets must contain at least 3 genes')\n",
    "    elif Counter == 0 and dict_keys_OK:\n",
    "        print('Your gene set annotation dictionary is correctly formatted.')\n",
    "    if return_dict:\n",
    "        return annotations_new"
   ]
  },
  {
   "cell_type": "code",
   "execution_count": null,
   "id": "45e98dc0-0a27-4adc-8e3e-8e40e283fcd0",
   "metadata": {},
   "outputs": [],
   "source": [
    "#define data paths\n",
    "#adata_path = '/Users/xleana/Desktop/Single_cell_course/spectra/data/sample_data.h5ad'#indicate where to find the gene expression AnnData object\n",
    "obs_key = 'cell_type_subset' #indicat the column name for the dataframe in adata.obs where to find the cell type lab\n"
   ]
  },
  {
   "cell_type": "code",
   "execution_count": null,
   "id": "6e556171-30c4-4015-afcc-e824b299a3b8",
   "metadata": {},
   "outputs": [],
   "source": [
    "annotations = check_gene_set_dictionary(adata, annotations, obs_key='cell_type_subset',global_key='global')"
   ]
  },
  {
   "cell_type": "code",
   "execution_count": null,
   "id": "d61a71d3-c12b-40a9-a1a2-a2cc2d9c1233",
   "metadata": {},
   "outputs": [],
   "source": [
    "annotations = check_gene_set_dictionary(adata, gene_set_annotations, obs_key='cell_type_subset',global_key='global')"
   ]
  },
  {
   "cell_type": "code",
   "execution_count": null,
   "id": "97e1bbba-f874-44ca-a86d-19ffc7a69386",
   "metadata": {},
   "outputs": [],
   "source": [
    "#cell type labels in adata\n",
    "list(set(adata.obs[obs_key]))"
   ]
  },
  {
   "cell_type": "code",
   "execution_count": null,
   "id": "ad09d512-183a-4c39-81c8-40b22a491017",
   "metadata": {},
   "outputs": [],
   "source": [
    "#cell type in gene set annotation dictionary\n",
    "list(set(annotations.keys()))"
   ]
  },
  {
   "cell_type": "code",
   "execution_count": null,
   "id": "3ec4b1cb-2f65-4111-bb80-d43f1c740721",
   "metadata": {},
   "outputs": [],
   "source": [
    "sc.pp.highly_variable_genes(adata, n_top_genes=4000, n_bins=20, flavor='seurat_v3')"
   ]
  },
  {
   "cell_type": "code",
   "execution_count": null,
   "id": "11547072-4e73-493e-9073-08332cd140f6",
   "metadata": {},
   "outputs": [],
   "source": [
    "#fit the model (We will run this with only 2 epochs to decrease runtime in this tutorial)\n",
    "model = spc.est_spectra(adata = adata, gene_set_dictionary = gene_set_annotations, \n",
    "                        use_highly_variable = True, cell_type_key = 'cell_type_subset', \n",
    "                        use_weights = True, lam = 0.1, \n",
    "                        delta=0.001,kappa = 0.00001, rho = 0.00001, \n",
    "                        use_cell_types = True, n_top_vals = 25, \n",
    "                        label_factors = True, #whether to label the factors by their overlap coefficient with the input gene sets\n",
    "                        overlap_threshold = 0.2, #minimum overlap coefficient that has to be surpassed to assign a label to a factor\n",
    "                        num_epochs=10000 #for demonstration purposes we will only run 2 epochs, we recommend 10,000 epochs\n",
    "                       )"
   ]
  },
  {
   "cell_type": "code",
   "execution_count": null,
   "id": "c2b20749-cedb-4b11-b91b-23e9ee47fd73",
   "metadata": {},
   "outputs": [],
   "source": [
    "path_to_h5ad = '/Users/xleana/Desktop/CD45/CD45new/Supplefig2.h5ad'"
   ]
  },
  {
   "cell_type": "code",
   "execution_count": null,
   "id": "94dfd963-8c9d-42db-9dea-4a1334c8057c",
   "metadata": {},
   "outputs": [],
   "source": [
    "adata.write(path_to_h5ad)"
   ]
  },
  {
   "cell_type": "code",
   "execution_count": null,
   "id": "d9dcef87-265f-49c4-996e-11b03f70c592",
   "metadata": {},
   "outputs": [],
   "source": [
    "adata.uns['SPECTRA_overlap']"
   ]
  },
  {
   "cell_type": "code",
   "execution_count": null,
   "id": "9b141c86-950c-45c7-9d2c-a30f6a1fb737",
   "metadata": {},
   "outputs": [],
   "source": [
    "#visualize factor cell scores (this is poorly fitted bc we only ran 2 epochs)\n",
    "factor_of_interest = adata.uns['SPECTRA_overlap'].index[44]\n",
    "print('plotting factor:',adata.uns['SPECTRA_overlap'].index[44])\n",
    "\n",
    "#add cell scores to obs\n",
    "cell_scores = adata.obsm['SPECTRA_cell_scores'][:,44].astype(float)\n",
    "adata.obs[factor_of_interest] = cell_scores\n",
    "sc.pl.umap(adata,color=factor_of_interest,s=30,vmax=np.quantile(cell_scores,0.98))"
   ]
  },
  {
   "cell_type": "code",
   "execution_count": null,
   "id": "e91cf740-f7ed-4a1f-a089-aa67f0ef520d",
   "metadata": {},
   "outputs": [],
   "source": [
    "sc.set_figure_params(dpi=80, dpi_save=300, color_map='viridis', vector_friendly=False, transparent=True)\n",
    "sc.pl.umap(\n",
    "    adata, \n",
    "    color=factor_of_interest, \n",
    "    use_raw=False,\n",
    "    ncols=5,\n",
    "    wspace = 0.1,\n",
    "    outline_width=[0.6, 0.05],\n",
    "    size=15,\n",
    "    frameon=False,\n",
    "    add_outline=True,\n",
    "    sort_order = False,\n",
    "    vmax=np.quantile(cell_scores,0.98)\n",
    ")"
   ]
  },
  {
   "cell_type": "code",
   "execution_count": null,
   "id": "4dcade86-8832-49f3-9abe-bb38e85c45a1",
   "metadata": {},
   "outputs": [],
   "source": [
    "#visualize factor cell scores (this is poorly fitted bc we only ran 2 epochs)\n",
    "factor_of_interest = adata.uns['SPECTRA_overlap'].index[45]\n",
    "print('plotting factor:',adata.uns['SPECTRA_overlap'].index[45])\n",
    "\n",
    "#add cell scores to obs\n",
    "cell_scores = adata.obsm['SPECTRA_cell_scores'][:,45].astype(float)\n",
    "adata.obs[factor_of_interest] = cell_scores\n",
    "sc.pl.umap(adata,color=factor_of_interest,s=30,vmax=np.quantile(cell_scores,0.98))"
   ]
  },
  {
   "cell_type": "code",
   "execution_count": null,
   "id": "1da7f120-3b13-49c8-ac29-04e3def973c3",
   "metadata": {},
   "outputs": [],
   "source": [
    "sc.set_figure_params(dpi=80, dpi_save=300, color_map='viridis', vector_friendly=False, transparent=True)\n",
    "sc.pl.umap(\n",
    "    adata, \n",
    "    color=factor_of_interest, \n",
    "    use_raw=False,\n",
    "    ncols=5,\n",
    "    wspace = 0.1,\n",
    "    outline_width=[0.6, 0.05],\n",
    "    size=15,\n",
    "    frameon=False,\n",
    "    add_outline=True,\n",
    "    sort_order = False,vmax=np.quantile(cell_scores,0.98)\n",
    ")"
   ]
  },
  {
   "cell_type": "code",
   "execution_count": null,
   "id": "e712531a-221b-4c42-8941-12e6b835bebc",
   "metadata": {},
   "outputs": [],
   "source": [
    "adata.uns['SPECTRA_overlap']"
   ]
  },
  {
   "cell_type": "code",
   "execution_count": null,
   "id": "b9df5d7b-1e45-4a00-b9ee-d77c9b812966",
   "metadata": {},
   "outputs": [],
   "source": [
    "#so you can construct a dataframe for the factor gene weights\n",
    "\n",
    "#include cell type specificity as a prefix into the index\n",
    "index_labels = adata.uns['SPECTRA_overlap'].index\n",
    "gene_weights = pd.DataFrame(adata.uns['SPECTRA_factors'], \n",
    "                            index= index_labels,\n",
    "                            columns=adata.var[adata.var['spectra_vocab']].index)\n",
    "gene_weights"
   ]
  },
  {
   "cell_type": "code",
   "execution_count": null,
   "id": "318de513-bb39-4a2d-91a7-3e302b8ccb70",
   "metadata": {},
   "outputs": [],
   "source": [
    "gene_weightsT=gene_weights.T"
   ]
  },
  {
   "cell_type": "code",
   "execution_count": null,
   "id": "0b4bb73b-3be5-478e-80d9-74820dbfff1d",
   "metadata": {},
   "outputs": [],
   "source": [
    "gene_weightsT"
   ]
  },
  {
   "cell_type": "code",
   "execution_count": null,
   "id": "cd4cc8c7",
   "metadata": {},
   "outputs": [],
   "source": [
    "\n",
    "gene_weightsT.to_csv('/Users/xleana/Desktop/Tyoung/Spectraall.csv')"
   ]
  },
  {
   "cell_type": "markdown",
   "id": "57e6b43c-3991-4b4d-b44d-be3cf4b4f7d9",
   "metadata": {
    "jp-MarkdownHeadingCollapsed": true,
    "tags": []
   },
   "source": [
    "gene_weightsT[['42-X-Tregs-X-Tregs']].sort_values(by = '42-X-Tregs-X-Tregs', ascending = False)[:100].index"
   ]
  },
  {
   "cell_type": "code",
   "execution_count": null,
   "id": "5b5532ca-a7d6-4f51-8583-d01d83d28daf",
   "metadata": {},
   "outputs": [],
   "source": [
    "gene_weightsT[['44-X-Tregs-X-Tregs']].sort_values(by = '44-X-Tregs-X-Tregs', ascending = False)[:100].index"
   ]
  },
  {
   "cell_type": "code",
   "execution_count": null,
   "id": "13e6bd3c-5db7-4297-b5dd-34c54be007eb",
   "metadata": {},
   "outputs": [],
   "source": [
    "gene_weightsT[['45-X-Tregs-X-45']].sort_values(by = '45-X-Tregs-X-45', ascending = False)[:100].index"
   ]
  },
  {
   "cell_type": "code",
   "execution_count": null,
   "id": "7d051659-f679-47f7-b4d6-4c0d44cdc518",
   "metadata": {},
   "outputs": [],
   "source": [
    "import magic"
   ]
  },
  {
   "cell_type": "code",
   "execution_count": null,
   "id": "24a7a316-54b5-4271-be68-2febae368522",
   "metadata": {},
   "outputs": [],
   "source": [
    "magic_op = magic.MAGIC()"
   ]
  },
  {
   "cell_type": "code",
   "execution_count": null,
   "id": "50c8a751-36ed-4e67-9e12-81f88b2bc20b",
   "metadata": {},
   "outputs": [],
   "source": [
    "magic_op.set_params(knn=5, t=4)"
   ]
  },
  {
   "cell_type": "code",
   "execution_count": null,
   "id": "3e80f21e-8fe1-41d4-8b6c-5ba3e9713439",
   "metadata": {},
   "outputs": [],
   "source": [
    "adataT=adata[adata.obs[\"cell_type\"]==\"T cells\"]"
   ]
  },
  {
   "cell_type": "code",
   "execution_count": null,
   "id": "4e63ab99-5b86-4c3e-bcc0-d504ad793c06",
   "metadata": {},
   "outputs": [],
   "source": [
    "adataCD4_magic = magic_op.fit_transform(adataT, genes=gene_weightsT[['44-X-Tregs-X-Tregs']].sort_values(by = '44-X-Tregs-X-Tregs', ascending = False)[:200].index)"
   ]
  },
  {
   "cell_type": "code",
   "execution_count": null,
   "id": "62efc963",
   "metadata": {},
   "outputs": [],
   "source": [
    "adataCD4_magic"
   ]
  },
  {
   "cell_type": "code",
   "execution_count": null,
   "id": "b62e0056",
   "metadata": {},
   "outputs": [],
   "source": [
    "adataT"
   ]
  },
  {
   "cell_type": "code",
   "execution_count": null,
   "id": "fb126f21-6809-4975-8f81-676116fa0eb4",
   "metadata": {},
   "outputs": [],
   "source": [
    "adataCD4_magic.uns[\"cell_type_subset_colors\"]=T.uns[\"cell_type_subset_colors\"]"
   ]
  },
  {
   "cell_type": "code",
   "execution_count": null,
   "id": "50cc3126",
   "metadata": {},
   "outputs": [],
   "source": [
    "adataCD4_magic.obsm=T.obsm"
   ]
  },
  {
   "cell_type": "code",
   "execution_count": null,
   "id": "d4810091",
   "metadata": {},
   "outputs": [],
   "source": [
    "adataCD4_magic"
   ]
  },
  {
   "cell_type": "code",
   "execution_count": null,
   "id": "c6b4eedf",
   "metadata": {},
   "outputs": [],
   "source": [
    "sc.pl.umap(adataCD4_magic,color=\"cell_type_subset\")"
   ]
  },
  {
   "cell_type": "code",
   "execution_count": null,
   "id": "b57021eb-18ae-4a9c-8c70-4324eca06b6c",
   "metadata": {},
   "outputs": [],
   "source": [
    "import scvelo as scv\n",
    "scv.set_figure_params(dpi=80, dpi_save=300, color_map='viridis', vector_friendly=True, transparent=True, format='pdf')"
   ]
  },
  {
   "cell_type": "code",
   "execution_count": null,
   "id": "1b21d784-1e04-4549-9f26-f3a7cee95962",
   "metadata": {},
   "outputs": [],
   "source": [
    "scv.pl.heatmap(adataCD4_magic, var_names=gene_weightsT[['44-X-Tregs-X-Tregs']].sort_values(by = '44-X-Tregs-X-Tregs', ascending = False)[:200].index,\n",
    "               sortby='44-X-Tregs-X-Tregs', color_map='viridis', col_color=['cell_type_subset',\"stage\",\"day\"], col_cluster= ['cell_type_subset',\"stage\",\"day\"],             \n",
    "               n_convolve=100, figsize=(5,5),yticklabels=False) #save='Factor43-sorted_Factor43_viridis.pdf')"
   ]
  },
  {
   "cell_type": "code",
   "execution_count": null,
   "id": "4203305e",
   "metadata": {},
   "outputs": [],
   "source": [
    "scv.pl.heatmap(adataCD4_magic, var_names=gene_weightsT[['45-X-Tregs-X-45']].sort_values(by = '45-X-Tregs-X-45', ascending = False)[:200].index,\n",
    "               sortby='45-X-Tregs-X-45', color_map='viridis', col_color=['cell_type_subset',\"stage\",\"day\"], col_cluster= ['cell_type_subset',\"stage\",\"day\"],             \n",
    "               n_convolve=100, figsize=(5,5),yticklabels=False ) #save='Factor43-sorted_Factor43_viridis.pdf')"
   ]
  },
  {
   "cell_type": "code",
   "execution_count": null,
   "id": "b34cf1d8",
   "metadata": {},
   "outputs": [],
   "source": [
    "scv.pl.heatmap(adataCD4_magic, var_names=gene_weightsT[['44-X-Tregs-X-Tregs']].sort_values(by = '44-X-Tregs-X-Tregs', ascending = False)[:200].index,\n",
    "               sortby='44-X-Tregs-X-Tregs', color_map='viridis', col_color=['cell_type_subset'], col_cluster= ['cell_type_subset'],             \n",
    "               n_convolve=100, figsize=(5,5),yticklabels=False) #save='Factor43-sorted_Factor43_viridis.pdf')"
   ]
  },
  {
   "cell_type": "code",
   "execution_count": null,
   "id": "e39544cb",
   "metadata": {},
   "outputs": [],
   "source": [
    "adataCD4_magic = magic_op.fit_transform(adataT, genes=gene_weightsT[['45-X-Tregs-X-45']].sort_values(by = '45-X-Tregs-X-45', ascending = False)[:200].index)"
   ]
  },
  {
   "cell_type": "code",
   "execution_count": null,
   "id": "13ecffd7",
   "metadata": {},
   "outputs": [],
   "source": [
    "adataCD4_magic.uns[\"cell_type_subset_colors\"]=T.uns[\"cell_type_subset_colors\"]"
   ]
  },
  {
   "cell_type": "code",
   "execution_count": null,
   "id": "0faabef8",
   "metadata": {},
   "outputs": [],
   "source": [
    "scv.pl.heatmap(adataCD4_magic, var_names=gene_weightsT[['45-X-Tregs-X-45']].sort_values(by = '45-X-Tregs-X-45', ascending = False)[:200].index,\n",
    "               sortby='45-X-Tregs-X-45', color_map='viridis', col_color=['cell_type_subset'], col_cluster= ['cell_type_subset'],             \n",
    "               n_convolve=100, figsize=(5,5),yticklabels=False ) #save='Factor43-sorted_Factor43_viridis.pdf')"
   ]
  },
  {
   "cell_type": "code",
   "execution_count": null,
   "id": "b7704013-5b63-4650-a836-cbb6cc08f92e",
   "metadata": {},
   "outputs": [],
   "source": [
    "#Facto43:\n",
    "Factor43 = {\n",
    "    'Regeneration' : ['Areg', 'Tff1',  'Penk', 'Neb', 'Lamc1','Odc1', 'Lrrc32', 'Hopx', 'Cpm'],\n",
    "    'Activation' : ['Foxp3', 'Ctla4', 'Ikzf2','Ikzf4',  'Tnfrsf9', 'Ltb', 'Bmyc', 'Rora'],\n",
    "    'Stability' : ['Frmd5', 'Il1rl1', 'Il1r2', 'Il2ra', 'Klrg1', 'Ncmap', 'Arl5a', 'Hacd3', 'Bcl2l1', ]\n",
    "}\n"
   ]
  },
  {
   "cell_type": "code",
   "execution_count": null,
   "id": "eefea14a-e2cd-4681-a566-4805f2a8c3c8",
   "metadata": {},
   "outputs": [],
   "source": [
    "Tregs= adataT[adataT.obs[\"cell_type_subset\"]=='Tregs']"
   ]
  },
  {
   "cell_type": "code",
   "execution_count": null,
   "id": "33d251f3",
   "metadata": {},
   "outputs": [],
   "source": [
    "'Tff1',  'Frmd5', 'Il1rl1', 'Ttc39c', 'Lamc1', 'Ncmap', 'Itgae',\n",
    "       'Areg', 'Klrg1', 'Penk', 'Neb', 'Bcl2l1', 'Laptm4b', 'Il1r2', \n",
    "       'Cpd', 'Hopx', 'Ccr6', 'Cpm', 'Stx11', 'Ctla2a', 'Cd200r1', 'Glrx',\n",
    "       'Gadd45b', 'Myo3b', 'N4bp1', 'Maf', 'Hacd3', 'Osbpl3', 'S100a4', 'Cdk6',\n",
    "       'Rab27a', 'Cish', 'Gata3', 'Tnfrsf9', 'Egln3', 'Itgb8', 'Gpr160',\n",
    "       'Sdcbp2', 'Dst', 'Igflr1', 'Ankrd6', 'Apol9b', 'Vps54', 'Dkk3',\n",
    "       'Acsbg1', 'Chst2', 'Mapkapk3', 'Atp2b4', 'Rln3', 'Fabp5', 'Icos',\n",
    "       'Il7r', 'Ptger4', 'Nav2', 'Ednrb', 'Stab1', 'Coro2a', 'Slc15a3',\n",
    "       'Cxcl10', 'Il2rb', 'Ass1', 'Cep112', 'Cd5', 'Thsd7a', 'AU020206',\n",
    "       'Mir155hg', 'Sgms1', 'Trac', 'Cd6', 'Ikzf4', 'Ly75', 'Odc1', 'Ccr4',\n",
    "       'Ccnd2', 'Psen2', 'Sytl2', 'Stat1', 'Morrbid', 'Phlda1', 'Sdc4',\n",
    "       'Pcyt1a', 'Ly6a', 'Syngr2', 'Cd83', 'Ky', 'Muc16', 'Tox2', 'Smad7',\n",
    "       'Atxn1', 'Zdhhc2', 'Tnfrsf1b', 'Peli1', 'Itgb7', 'Cxcl2', 'Cass4',\n",
    "       'Gimap7', 'Lclat1'\n",
    "    \n",
    "    'Foxp3','Il2ra', 'Cd81','Tnfrsf4',  'Ctla4', 'Ikzf2','Ikzf4','Rora', 'Tnfrsf18', \n",
    "    \n",
    "    \n",
    "    \n",
    "     'Lrig1', 'Sntb1', 'Nrp1','Izumo1r',\n",
    "       'Lrrc32',  'Fam169b', 'Bmyc', 'Ifi27l2a', 'Itgav',\n",
    "       'Tnfsf8', 'Ccr6', 'Ltb', 'Tshz2', 'Ccr7', 'Cd2', 'Foxp3',\n",
    "       'Tox', 'Ms4a4b', 'Trbc2', 'Rgs10', 'March3', 'Chchd10', 'Prickle1',\n",
    "       'Prkca', 'Ecm1', 'Smc4', 'Adamts6', 'Cd4', 'Trac', 'Itgb8', 'Malat1',\n",
    "       'Cd3d', 'Tspan32', 'Ldlrad4', 'Rad51b', 'Emb', 'St6galnac3', 'Tspan3',\n",
    "       'Shisa5', 'Trbc1', 'Rgs2', 'Phlpp1', 'Cd3e', 'Tasp1', 'Rgs16', 'Ift80',\n",
    "       'Eef1a1', 'Ctss', 'Inpp5f', 'Cd3g', 'Plcb4', 'AW112010', 'Ptger2',\n",
    "       '2310001H17Rik', 'Fau', 'Ms4a6b', 'Slamf6', 'Tiam1', 'Ccl5', 'Tnfrsf9',\n",
    "       'Igf1r', 'Gpx4', 'Plcl1', 'Skap1', 'BE692007', 'Tmsb10', 'Sh3rf1',\n",
    "       'Inpp4b', 'Il18r1', 'Slamf1', 'Limd2', 'Zc3h12d', 'Zfp36l1', 'Bcl11b',\n",
    "       'Stat5b', 'Sh2d1a', 'Rabgap1l', 'Swap70', 'Lck', 'Tpt1', 'Nebl', 'Dgka',\n",
    "       'Gimap3', 'Naca', 'Tspan13', 'mt-Atp6', 'Mctp1', 'Cd81', 'Coro1a',\n",
    "       'Rhoh', 'Cd52', 'Gprin3', 'Lclat1', 'Actb'"
   ]
  },
  {
   "cell_type": "code",
   "execution_count": null,
   "id": "7bab942a",
   "metadata": {},
   "outputs": [],
   "source": [
    "Treggenes= {'Treg activation': ['Foxp3','Il2ra', 'Cd81','Tnfrsf4',  'Ctla4','Ikzf2','Ikzf4','Rora', 'Tnfrsf18']}\n",
    "Regeneration= { 'Regeneration': [ 'Areg', 'Tff1','Penk',]}\n",
    "Cellstability= {'Stability': ['Zfp36l1','Cish','Sdc4',\"Klrg1\"]}"
   ]
  },
  {
   "cell_type": "code",
   "execution_count": null,
   "id": "db3d80ee-6ec7-47d2-813a-44e55ab1854d",
   "metadata": {},
   "outputs": [],
   "source": [
    "sc.pl.matrixplot(Tregs[Tregs.obs['stage']==\"02mo\"],Treggenes , 'day', dendrogram=False,  standard_scale='var', swap_axes=True,title=\"2 mo old\")\n",
    "sc.pl.matrixplot(Tregs[Tregs.obs['stage']==\"18mo\"],Treggenes , 'day', dendrogram=False,  standard_scale='var', swap_axes=True,title=\"18 mo old\")"
   ]
  },
  {
   "cell_type": "code",
   "execution_count": null,
   "id": "4eb6d816",
   "metadata": {},
   "outputs": [],
   "source": [
    "sc.pl.matrixplot(Tregs[Tregs.obs['stage']==\"02mo\"], Regeneration , 'day', dendrogram=False,  standard_scale='var', swap_axes=True,title=\"2 mo old\")\n",
    "sc.pl.matrixplot(Tregs[Tregs.obs['stage']==\"18mo\"], Regeneration, 'day', dendrogram=False,  standard_scale='var', swap_axes=True,title=\"18 mo old\")"
   ]
  },
  {
   "cell_type": "code",
   "execution_count": null,
   "id": "7c944a80",
   "metadata": {},
   "outputs": [],
   "source": [
    "sc.pl.matrixplot(Tregs[Tregs.obs['stage']==\"02mo\"], Cellstability , 'day', dendrogram=False,  standard_scale='var', swap_axes=True,title=\"2 mo old\",colorbar_title='column scaled\\nexpression',)\n",
    "sc.pl.matrixplot(Tregs[Tregs.obs['stage']==\"18mo\"], Cellstability, 'day', dendrogram=False,  standard_scale='var', swap_axes=True,title=\"18 mo old\")"
   ]
  },
  {
   "cell_type": "code",
   "execution_count": null,
   "id": "7838f5b4-dc27-44c2-88ba-5d35b84b8f74",
   "metadata": {},
   "outputs": [],
   "source": [
    "#Facto43:\n",
    "Factor42 = {\n",
    "    'Development and Function' : [\"Zfp36l1\",'Tnfrsf4', 'Foxp3', 'Ctla4', 'Izumo1r', 'Ikzf4', 'Ikzf2', 'Lrig1', 'Tnfsf8', 'Ifi27l2a', 'Tnfrsf9', 'Tnfrsf18'],\n",
    "'Signaling and Activation': ['Itgav', 'Nrp1', 'Sntb1', 'Lrrc32', 'Prkca', 'Fam169b', 'Ltb', 'Bmyc', 'Rora', 'Trbc2', 'Smc4', 'Inpp4b', 'St6galnac3', 'Ms4a4b', 'Tox', 'Ldlrad4', 'Adamts6', 'Malat1', 'Skap1', 'Cd2', 'Rhoh', 'Ecm1', 'Ms4a6b', 'Tshz2'],\n",
    "}\n",
    "\n"
   ]
  },
  {
   "cell_type": "code",
   "execution_count": null,
   "id": "9a56dea7-c2fc-4e67-92b5-be5c347d0c2f",
   "metadata": {},
   "outputs": [],
   "source": [
    "sc.pl.matrixplot(Tregs[Tregs.obs['stage']==\"02mo\"], Factor42 , 'day', dendrogram=False,  standard_scale='var', colorbar_title='column scaled\\nexpression',swap_axes=True)\n",
    "sc.pl.matrixplot(Tregs[Tregs.obs['stage']==\"18mo\"], Factor42 , 'day', dendrogram=False,standard_scale='var', colorbar_title='column scaled\\nexpression',swap_axes=True)"
   ]
  },
  {
   "cell_type": "code",
   "execution_count": null,
   "id": "8e645a63-f188-41cc-a0dc-2579fde1085f",
   "metadata": {},
   "outputs": [],
   "source": [
    "TregsD0=Tregs[Tregs.obs[\"day\"]==\"d0\" ]"
   ]
  },
  {
   "cell_type": "code",
   "execution_count": null,
   "id": "30421251-35db-4cbf-83c1-46bf42edc86a",
   "metadata": {},
   "outputs": [],
   "source": [
    "TregsD0.obs[\"stage\"]"
   ]
  },
  {
   "cell_type": "code",
   "execution_count": null,
   "id": "6f525256-f995-4893-8638-8a49ea0dfa65",
   "metadata": {},
   "outputs": [],
   "source": [
    "# find degs\n",
    "sc.tl.rank_genes_groups(TregsD0,\n",
    "                        groupby='stage',\n",
    "                        use_raw=False,\n",
    "                        method='wilcoxon',\n",
    "                        groups=['18mo'],\n",
    "                        reference='02mo')"
   ]
  },
  {
   "cell_type": "code",
   "execution_count": null,
   "id": "a95afe8f",
   "metadata": {},
   "outputs": [],
   "source": [
    "TregsD0"
   ]
  },
  {
   "cell_type": "code",
   "execution_count": null,
   "id": "b440a51b-a3c4-439b-b9ce-776af9edfd7e",
   "metadata": {},
   "outputs": [],
   "source": [
    "sc.pl.rank_genes_groups(TregsD0, n_genes=25, sharey=False)\n"
   ]
  },
  {
   "cell_type": "code",
   "execution_count": null,
   "id": "545cc616-6378-4de9-ac23-ab51936defa3",
   "metadata": {},
   "outputs": [],
   "source": [
    "# get deg result\n",
    "result = TregsD0.uns['rank_genes_groups']\n",
    "groups = result['names'].dtype.names\n",
    "degs = pd.DataFrame(\n",
    "    {'Age'+ group + '_' + key: result[key][group]\n",
    "    for group in groups for key in ['names','scores', 'pvals','pvals_adj','logfoldchanges']})\n"
   ]
  },
  {
   "cell_type": "code",
   "execution_count": null,
   "id": "27e6363b-3e3b-4d56-a63e-789ade8404db",
   "metadata": {},
   "outputs": [],
   "source": [
    "degs.head()\n"
   ]
  },
  {
   "cell_type": "code",
   "execution_count": null,
   "id": "fe75106d-8aca-4aa2-b2c7-a62490b7cddc",
   "metadata": {},
   "outputs": [],
   "source": [
    "degs.shape\n"
   ]
  },
  {
   "cell_type": "code",
   "execution_count": null,
   "id": "49a35679-99a6-4ad0-a14d-b84d544dcfab",
   "metadata": {},
   "outputs": [],
   "source": [
    "# subset up or down regulated genes\n",
    "degs_sig = degs[degs.Age18mo_pvals_adj < 0.05]\n",
    "degs_up = degs_sig[degs_sig.Age18mo_logfoldchanges > 0]\n",
    "degs_dw = degs_sig[degs_sig.Age18mo_logfoldchanges < 0]"
   ]
  },
  {
   "cell_type": "code",
   "execution_count": null,
   "id": "f5324cc5-173a-4941-b0f4-bee9234b502b",
   "metadata": {},
   "outputs": [],
   "source": [
    "degs_up.shape\n"
   ]
  },
  {
   "cell_type": "code",
   "execution_count": null,
   "id": "bccd0c0f",
   "metadata": {},
   "outputs": [],
   "source": [
    "degs_up"
   ]
  },
  {
   "cell_type": "code",
   "execution_count": null,
   "id": "bf4eaab2-c3c8-4ddb-a619-e6a1aec852cb",
   "metadata": {},
   "outputs": [],
   "source": [
    "degs_dw.shape\n"
   ]
  },
  {
   "cell_type": "code",
   "execution_count": null,
   "id": "81d0e50f-8daf-428e-bb4f-f4b33c0b5e71",
   "metadata": {},
   "outputs": [],
   "source": [
    "import gseapy as gp"
   ]
  },
  {
   "cell_type": "code",
   "execution_count": null,
   "id": "e6c3fb03-6aca-4e39-8fd4-7dd0e951ea8d",
   "metadata": {
    "scrolled": true
   },
   "outputs": [],
   "source": [
    "#Available databases : ‘Human’, ‘Mouse’, ‘Yeast’, ‘Fly’, ‘Fish’, ‘Worm’ \n",
    "gene_set_names = gp.get_library_name(organism='Mouse')\n",
    "print(gene_set_names)"
   ]
  },
  {
   "cell_type": "code",
   "execution_count": null,
   "id": "df8ad89a",
   "metadata": {},
   "outputs": [],
   "source": [
    "TregsD0.obs"
   ]
  },
  {
   "cell_type": "code",
   "execution_count": null,
   "id": "9748cfbf",
   "metadata": {},
   "outputs": [],
   "source": [
    "import time\n",
    "t1 = time.time()\n",
    "# NOTE: To speed up, use gp.prerank instead with your own ranked list.\n",
    "res = gp.gsea(data=TregsD0.to_df().T, # row -> genes, column-> samples\n",
    "        gene_sets=\"MSigDB_Hallmark_2020\",\n",
    "        cls=TregsD0.obs.stage,\n",
    "        permutation_num=1000,\n",
    "        permutation_type='phenotype',\n",
    "        outdir=None,\n",
    "        method='s2n', # signal_to_noise\n",
    "        threads= 16)\n",
    "t2=time.time()\n",
    "print(t2-t1)"
   ]
  },
  {
   "cell_type": "code",
   "execution_count": null,
   "id": "f7ddebd3-4702-4961-a7f0-75d323589530",
   "metadata": {},
   "outputs": [],
   "source": [
    "# Enricr API\n",
    "enr_up = gp.enrichr(degs_up.Age18mo_names,\n",
    "                    gene_sets='MSigDB_Hallmark_2020',\n",
    "                    outdir=None)"
   ]
  },
  {
   "cell_type": "code",
   "execution_count": null,
   "id": "503f1883-8c3b-4ca9-901b-26e3e30b8a98",
   "metadata": {},
   "outputs": [],
   "source": [
    "# trim (go:...)\n",
    "enr_up.res2d.Term = enr_up.res2d.Term.str.split(\" \\(GO\").str[0]"
   ]
  },
  {
   "cell_type": "code",
   "execution_count": null,
   "id": "bb4b33b2-5226-4572-97aa-6bd2d92dec87",
   "metadata": {},
   "outputs": [],
   "source": [
    "# dotplot\n",
    "gp.dotplot(enr_up.res2d, figsize=(3,5), title=\"Up\", cmap = plt.cm.autumn_r)\n",
    "plt.show()"
   ]
  },
  {
   "cell_type": "code",
   "execution_count": null,
   "id": "e4066710-e91f-4cd4-b2ed-0bad0055d255",
   "metadata": {},
   "outputs": [],
   "source": [
    "enr_dw = gp.enrichr(degs_dw.Age18mo_names,\n",
    "                    gene_sets='MSigDB_Hallmark_2020',\n",
    "                    outdir=None)"
   ]
  },
  {
   "cell_type": "code",
   "execution_count": null,
   "id": "ea57b269-369d-4d5d-9f56-6b21356de2d4",
   "metadata": {},
   "outputs": [],
   "source": [
    "# concat results\n",
    "enr_up.res2d['UP_DW'] = \"UP\"\n",
    "enr_dw.res2d['UP_DW'] = \"DOWN\"\n",
    "enr_res = pd.concat([enr_up.res2d.head(), enr_dw.res2d.head()])"
   ]
  },
  {
   "cell_type": "code",
   "execution_count": null,
   "id": "9eca9713-6428-4789-9c2b-6672d027c8d6",
   "metadata": {
    "scrolled": true
   },
   "outputs": [],
   "source": [
    "ax = gp.barplot(enr_res, figsize=(3,5),\n",
    "                group ='UP_DW',\n",
    "                title =\"Hallmark of Immunity\",\n",
    "                color = ['b','r'])\n",
    "plt.savefig('proportions.pdf')"
   ]
  },
  {
   "cell_type": "code",
   "execution_count": null,
   "id": "9d4d4f38-999d-4557-9476-d9d9687d7a07",
   "metadata": {},
   "outputs": [],
   "source": [
    "enr_res"
   ]
  },
  {
   "cell_type": "code",
   "execution_count": null,
   "id": "ef1237de-1d86-4171-ac0e-0fe453058124",
   "metadata": {},
   "outputs": [],
   "source": [
    "term = enr_up.res2d.Term\n",
    "# gp.gseaplot(res.ranking, term=term[i], **res.results[term[i]])\n",
    "axs = enr_up.plot(terms=term[:5])"
   ]
  },
  {
   "cell_type": "code",
   "execution_count": null,
   "id": "5aeda604-68fe-423c-9bdf-363a2f2741bf",
   "metadata": {},
   "outputs": [],
   "source": []
  },
  {
   "cell_type": "code",
   "execution_count": null,
   "id": "d542af17-8902-41e6-9945-08e9368c53a6",
   "metadata": {},
   "outputs": [],
   "source": [
    "sc.pl.umap(adata, color=[\"Entpd1\",\"Ccr7\"] , vmax=5)"
   ]
  },
  {
   "cell_type": "code",
   "execution_count": null,
   "id": "c1bc2811-4f76-4d34-8a0d-26674ab75bbe",
   "metadata": {},
   "outputs": [],
   "source": [
    "sc.pl.umap(adata,color=[\"Rln3\",\"Klrg1\", \"cell_type_subset\"],vmax=\"p99\")"
   ]
  },
  {
   "cell_type": "code",
   "execution_count": null,
   "id": "94430a18-8dc3-4b08-b132-1899868bbab1",
   "metadata": {},
   "outputs": [],
   "source": [
    "adata.uns['SPECTRA_overlap']\n"
   ]
  },
  {
   "cell_type": "code",
   "execution_count": null,
   "id": "a6278120-d0c6-4400-8235-1a9dd70a8f3d",
   "metadata": {},
   "outputs": [],
   "source": [
    "#this is the model file\n",
    "dir(model)"
   ]
  },
  {
   "cell_type": "code",
   "execution_count": null,
   "id": "096af019-fbba-4e5a-8e79-85e5dc181cfd",
   "metadata": {},
   "outputs": [],
   "source": [
    "model.internal_model\n"
   ]
  },
  {
   "cell_type": "code",
   "execution_count": null,
   "id": "3f40749d",
   "metadata": {},
   "outputs": [],
   "source": [
    "sc.set_figure_params(dpi=80, dpi_save=300, color_map='viridis', vector_friendly=False, transparent=True)\n",
    "sc.pl.umap(\n",
    "    adata, \n",
    "    color=['stage', 'day',\"Sox4\",\"Rorc\",\"Ncr1\",\"Klrk1\",\"Cxcr6\", 'Cd8b1',\"Cd4\",'Tnfrsf4',\"Foxp3\",\"H2-Aa\",\"Clec9a\",\"Xcr1\",\n",
    "           \"Sirpa\",\"Ccr7\",\"Fscn1\",'Cd79a', 'Ms4a1', \"Xbp1\",\"Igkc\",\"Msrb1\",'Fcer1g', \"cell_type_subset\"], \n",
    "    palette=user_defined_palette,  \n",
    "    color_map='Spectral_r', \n",
    "    use_raw=False,\n",
    "    ncols=5,\n",
    "    wspace = 0.1,\n",
    "    outline_width=[0.6, 0.05],\n",
    "    size=15,\n",
    "    frameon=False,\n",
    "    add_outline=True,\n",
    "    sort_order = False\n",
    ")"
   ]
  },
  {
   "cell_type": "code",
   "execution_count": null,
   "id": "707b34ff-dd75-4628-9e02-4b0a4007fc53",
   "metadata": {},
   "outputs": [],
   "source": [
    "list(adata.obs[\"cell_type_subset\"].unique())\n"
   ]
  },
  {
   "cell_type": "code",
   "execution_count": null,
   "id": "884e7493",
   "metadata": {},
   "outputs": [],
   "source": [
    "df_temp = pd.DataFrame({'umap_x': adata.obsm['X_umap'][:, 0], 'umap_y': adata.obsm['X_umap'][:, 1], \n",
    "                        'stage': adata.obs['stage'], 'day': adata.obs['day']}, index = adata.obs.index)"
   ]
  },
  {
   "cell_type": "code",
   "execution_count": null,
   "id": "7738d4d1",
   "metadata": {},
   "outputs": [],
   "source": [
    "adata.obs[\"day\"]"
   ]
  },
  {
   "cell_type": "code",
   "execution_count": null,
   "id": "e94b976f",
   "metadata": {},
   "outputs": [],
   "source": [
    "import seaborn as sns\n",
    "fig = plt.figure(figsize = (8*2, 6))\n",
    "ax = fig.add_subplot(1, 2, 1)\n",
    "sns.scatterplot(data = df_temp, x = 'umap_x', y = 'umap_y', s = 1, ax = ax)\n",
    "sns.kdeplot(data=df_temp[df_temp['stage'] == '02mo'], x=\"umap_x\", y=\"umap_y\",\n",
    "    fill=True, thresh=0, levels=10, cmap=\"Purples\", ax = ax, cut = 4)\n",
    "ax.set_xticks([]);\n",
    "ax.set_yticks([]);\n",
    "ax.set_title('young', fontsize = 16)\n",
    "ax.set_xlabel('UMAP-1')\n",
    "ax.set_ylabel('UMAP-2')\n",
    "ax.spines['right'].set_visible(False)\n",
    "ax.spines['top'].set_visible(False)\n",
    "ax.spines['left'].set_visible(False)\n",
    "ax.spines['bottom'].set_visible(False)\n",
    "\n",
    "ax = fig.add_subplot(1, 2, 2)\n",
    "sns.scatterplot(data = df_temp, x = 'umap_x', y = 'umap_y', s = 0, ax = ax)\n",
    "sns.kdeplot(data=df_temp[df_temp['stage'] == '18mo'], x=\"umap_x\", y=\"umap_y\",\n",
    "    fill=True, thresh=0, levels=10, cmap=\"Purples\", ax = ax, cut = 4)\n",
    "ax.set_xticks([]);\n",
    "ax.set_yticks([]);\n",
    "ax.set_title('old', fontsize = 16)\n",
    "ax.set_xlabel('UMAP-1')\n",
    "ax.set_ylabel('UMAP-2')\n",
    "ax.spines['right'].set_visible(False)\n",
    "ax.spines['top'].set_visible(False)\n",
    "ax.spines['left'].set_visible(False)\n",
    "ax.spines['bottom'].set_visible(False)\n",
    "\n",
    "#fig.savefig(outbase + 'Ctrl_DT_kdeplot_endo.png', dpi = 150, bbox_inches = 'tight')"
   ]
  },
  {
   "cell_type": "code",
   "execution_count": null,
   "id": "65067901",
   "metadata": {},
   "outputs": [],
   "source": [
    "# anndata2ri interconverts AnnData and Single Cell Experiment objects\n",
    "anndata2ri.activate()\n",
    "%load_ext rpy2.ipython\n",
    "#%reload_ext rpy2.ipython"
   ]
  },
  {
   "cell_type": "code",
   "execution_count": null,
   "id": "17c873ad",
   "metadata": {},
   "outputs": [],
   "source": [
    "adata.layers['norm_counts'] = adata.X.copy()"
   ]
  },
  {
   "cell_type": "code",
   "execution_count": null,
   "id": "b21e4bfb",
   "metadata": {},
   "outputs": [],
   "source": [
    "adata_milo = sc.AnnData(adata.layers['norm_counts'].copy(), \n",
    "                        obs = adata.obs[['stage', 'day', 'cell_type',\"sample\",\"cell_type_subset\"]], \n",
    "                        var = adata.var)\n",
    "adata_milo.obsm['X_pca'] = adata.obsm['X_pca']\n",
    "adata_milo.obsm['X_umap'] = adata.obsm['X_umap']"
   ]
  },
  {
   "cell_type": "code",
   "execution_count": null,
   "id": "cabe39df",
   "metadata": {},
   "outputs": [],
   "source": [
    "%%R\n",
    "library(igraph)\n",
    "\n",
    "library(miloR)"
   ]
  },
  {
   "cell_type": "code",
   "execution_count": null,
   "id": "a0469e29",
   "metadata": {},
   "outputs": [],
   "source": [
    "%%R -i adata_milo\n",
    "adata_milo"
   ]
  },
  {
   "cell_type": "code",
   "execution_count": null,
   "id": "42b963ad",
   "metadata": {},
   "outputs": [],
   "source": [
    "%%R \n",
    "myeloid_milo <- Milo(adata_milo)\n",
    "myeloid_milo"
   ]
  },
  {
   "cell_type": "code",
   "execution_count": null,
   "id": "b3a0e782",
   "metadata": {},
   "outputs": [],
   "source": [
    "%%R \n",
    "myeloid_milo <- buildGraph(myeloid_milo, k=30, d=30, reduced.dim = \"PCA\")"
   ]
  },
  {
   "cell_type": "code",
   "execution_count": null,
   "id": "f9f3062f",
   "metadata": {},
   "outputs": [],
   "source": [
    "adata_milo"
   ]
  },
  {
   "cell_type": "code",
   "execution_count": null,
   "id": "a2f39fee",
   "metadata": {},
   "outputs": [],
   "source": [
    "design_df = adata_milo.obs[['sample',\"stage\",\"day\",]].copy()\n",
    "design_df.drop_duplicates(inplace=True)\n",
    "design_df.index = design_df['sample']\n",
    "design_df"
   ]
  },
  {
   "cell_type": "code",
   "execution_count": null,
   "id": "2ed12205",
   "metadata": {},
   "outputs": [],
   "source": [
    "%%R -i design_df -o DA_results_myeloid\n",
    "## Define neighbourhoods\n",
    "myeloid_milo <- makeNhoods(myeloid_milo, prop = 0.1, k = 30, d=30, refined = TRUE, reduced_dims = \"PCA\")\n",
    "\n",
    "## Count cells in neighbourhoods\n",
    "myeloid_milo <- countCells(myeloid_milo, meta.data = data.frame(colData(myeloid_milo)), sample=\"sample\")\n",
    "\n",
    "## Calculate distances between cells in neighbourhoods\n",
    "## for spatial FDR correction\n",
    "myeloid_milo <- calcNhoodDistance(myeloid_milo, d=30, reduced.dim = \"PCA\")\n",
    "\n",
    "\n",
    "## Test for differential abundance\n",
    "DA_results_myeloid <- testNhoods(myeloid_milo, design = ~stage, design.df = design_df)\n"
   ]
  },
  {
   "cell_type": "code",
   "execution_count": null,
   "id": "8c0805ed",
   "metadata": {},
   "outputs": [],
   "source": [
    "DA_results_myeloid.head()"
   ]
  },
  {
   "cell_type": "code",
   "execution_count": null,
   "id": "1a4f2bc4",
   "metadata": {},
   "outputs": [],
   "source": [
    "plt.plot(DA_results_myeloid.logFC, -np.log10(DA_results_myeloid.SpatialFDR), '.');\n",
    "plt.xlabel(\"log-Fold Change\");\n",
    "plt.ylabel(\"- log10(Spatial FDR)\")"
   ]
  },
  {
   "cell_type": "code",
   "execution_count": null,
   "id": "153c3d50",
   "metadata": {},
   "outputs": [],
   "source": [
    "%%R\n",
    "myeloid_milo <- buildNhoodGraph(myeloid_milo)"
   ]
  },
  {
   "cell_type": "code",
   "execution_count": null,
   "id": "de269b08",
   "metadata": {},
   "outputs": [],
   "source": [
    "%%R \n",
    "head(DA_results_myeloid)"
   ]
  },
  {
   "cell_type": "code",
   "execution_count": null,
   "id": "d06b0f7d",
   "metadata": {},
   "outputs": [],
   "source": [
    "%%R -w 800 -h 600\n",
    "alpha_val = 1\n",
    "library(ggplot2)\n",
    "p1 <- plotNhoodGraphDA(myeloid_milo, DA_results_myeloid, res_column = 'SpatialFDR', alpha=alpha_val, \n",
    "                 layout=\"UMAP\", size_range = c(2, 8), node_stroke =0.8)\n",
    "p1"
   ]
  },
  {
   "cell_type": "code",
   "execution_count": null,
   "id": "bf0dbfb5",
   "metadata": {},
   "outputs": [],
   "source": [
    "%%R -w 800 -h 600\n",
    "alpha_val = 1\n",
    "library(ggplot2)\n",
    "p1 <- plotNhoodGraphDA(myeloid_milo, DA_results_myeloid, res_column = 'logFC', alpha=alpha_val, \n",
    "                 layout=\"UMAP\", size_range = c(2, 8), node_stroke =0.8)\n",
    "p1"
   ]
  },
  {
   "cell_type": "code",
   "execution_count": null,
   "id": "33357156",
   "metadata": {},
   "outputs": [],
   "source": [
    "%%R\n",
    "myeloid_milo"
   ]
  },
  {
   "cell_type": "code",
   "execution_count": null,
   "id": "b0b715af",
   "metadata": {},
   "outputs": [],
   "source": [
    "%%R \n",
    "DA_results_myeloid <- annotateNhoods(myeloid_milo, DA_results_myeloid, coldata_col = \"cell_type_subset\")\n",
    "head(DA_results_myeloid)"
   ]
  },
  {
   "cell_type": "code",
   "execution_count": null,
   "id": "94730c5b",
   "metadata": {},
   "outputs": [],
   "source": []
  },
  {
   "cell_type": "code",
   "execution_count": null,
   "id": "20aaccd8",
   "metadata": {},
   "outputs": [],
   "source": [
    "%%R\n",
    "library(ggplot2)\n",
    "ggplot(DA_results_myeloid, aes(cell_type_subset_fraction)) + geom_histogram(bins=50)"
   ]
  },
  {
   "cell_type": "code",
   "execution_count": null,
   "id": "c4c7263a",
   "metadata": {},
   "outputs": [],
   "source": [
    "%%R -o DA_results_myeloid\n",
    "DA_results_myeloid$Celltypes <- ifelse(DA_results_myeloid$cell_type_subset_fraction < 0.8, \"Mixed\", DA_results_myeloid$cell_type_subset_fraction)\n",
    "head(DA_results_myeloid)"
   ]
  },
  {
   "cell_type": "code",
   "execution_count": null,
   "id": "984d24b8",
   "metadata": {},
   "outputs": [],
   "source": [
    "%%R\n",
    "plotDAbeeswarm(DA_results_myeloid, group.by = \"cell_type_subset\", alpha = 1)"
   ]
  },
  {
   "cell_type": "code",
   "execution_count": null,
   "id": "213983c1",
   "metadata": {},
   "outputs": [],
   "source": [
    "DA_results_myeloid"
   ]
  },
  {
   "cell_type": "code",
   "execution_count": null,
   "id": "d6f927aa",
   "metadata": {},
   "outputs": [],
   "source": [
    "import matplotlib.colors as mcolors\n",
    "import matplotlib.cm as cm\n",
    "\n",
    "\n",
    "for j, item in enumerate(['FDR', 'SpatialFDR', 'PValue']):\n",
    "    fig = plt.figure(figsize = (8, 12))\n",
    "    DA_results_myeloid['log_' + item] = -np.log10(DA_results_myeloid[item])\n",
    "    ax = fig.add_subplot(1, 1, 1)\n",
    "    plot = sns.stripplot(x='logFC', y=\"cell_type_subset\", hue='log_' + item, data=DA_results_myeloid, size = 6, \n",
    "              palette='cividis', \n",
    "              jitter=0.2, edgecolor='none', ax = ax)\n",
    "    plot.get_legend().set_visible(False)\n",
    "    #ax.set_xticklabels(ax.get_xticks(), fontsize = 18)\n",
    "    #ax.set_yticklabels(ax.get_yticks(), fontsize = 18)\n",
    "    ax.tick_params(axis='both', which='major', labelsize=18)\n",
    "    ax.set_ylabel('cell subsets', fontsize = 18)\n",
    "    ax.set_xlabel('logFC', fontsize = 18)\n",
    "    sns.despine()\n",
    "\n",
    "\n",
    "    # Drawing the side color bar\n",
    "    normalize = mcolors.Normalize(vmin=DA_results_myeloid['log_' + item].min(), \n",
    "                              vmax=DA_results_myeloid['log_' + item].max())\n",
    "    colormap = cm.cividis\n",
    "\n",
    "    for n in DA_results_myeloid['log_' + item]:\n",
    "        plt.plot(color=colormap(normalize(n)))\n",
    "\n",
    "    scalarmappaple = cm.ScalarMappable(norm=normalize, cmap=colormap)\n",
    "    scalarmappaple.set_array(DA_results_myeloid['log_' + item])\n",
    "    cbar = fig.colorbar(scalarmappaple)\n",
    "    cbar.ax.set_yticklabels(cbar.ax.get_yticks(), fontsize = 18)\n",
    "    cbar.ax.set_ylabel('-log10(' + item + ')',  labelpad = 20, rotation=90, fontsize = 18)\n",
    "    ax.grid(False)\n",
    "    #fig.savefig(outbase + 'milor_myeloid_swarmplot_colored_by_log_' + item + '.pdf', dpi = 300, \n",
    "                #bbox_inches = 'tight')"
   ]
  },
  {
   "cell_type": "code",
   "execution_count": null,
   "id": "15615b3c-e373-45ea-95f3-a2c2c683a7d3",
   "metadata": {},
   "outputs": [],
   "source": [
    "import matplotlib.colors as mcolors\n",
    "import matplotlib.cm as cm\n",
    "\n",
    "# Define the desired order of categories\n",
    "category_order = ['Tregs', 'Naive CD4','CD4', 'Naive CD8','GZMK+ CD8',  'CD8', 'Naive CD8', 'Invariant T', 'DN/DPs','NKT', 'NK cells','ILC', 'B cells', 'plasmacells','cDC1', 'CCR7+ cDC' ,'cDC2', 'p-DCs', 'Macrophages', 'EOS']\n",
    "\n",
    "for j, item in enumerate(['FDR', 'SpatialFDR', 'PValue']):\n",
    "    fig = plt.figure(figsize=(8, 12))\n",
    "    DA_results_myeloid['log_' + item] = -np.log10(DA_results_myeloid[item])\n",
    "    ax = fig.add_subplot(1, 1, 1)\n",
    "    plot = sns.stripplot(x='logFC', y=\"cell_type_subset\", hue='log_' + item, data=DA_results_myeloid, size=6, \n",
    "                         palette='cividis', \n",
    "                         jitter=0.2, edgecolor='none', ax=ax, order=category_order)\n",
    "    plot.get_legend().set_visible(False)\n",
    "    ax.tick_params(axis='both', which='major', labelsize=18)\n",
    "    ax.set_ylabel('T cell subsets', fontsize=18)\n",
    "    ax.set_xlabel('logFC', fontsize=18)\n",
    "    sns.despine()\n",
    "\n",
    "    # Drawing the side color bar\n",
    "    normalize = mcolors.Normalize(vmin=DA_results_myeloid['log_' + item].min(), \n",
    "                                  vmax=DA_results_myeloid['log_' + item].max())\n",
    "    colormap = cm.cividis\n",
    "\n",
    "    for n in DA_results_myeloid['log_' + item]:\n",
    "        plt.plot(color=colormap(normalize(n)))\n",
    "\n",
    "    scalarmappaple = cm.ScalarMappable(norm=normalize, cmap=colormap)\n",
    "    scalarmappaple.set_array(DA_results_myeloid['log_' + item])\n",
    "    cbar = fig.colorbar(scalarmappaple)\n",
    "    cbar.ax.set_yticklabels(cbar.ax.get_yticks(), fontsize=18)\n",
    "    cbar.ax.set_ylabel('-log10(' + item + ')', labelpad=20, rotation=90, fontsize=18)\n",
    "    ax.grid(False)\n"
   ]
  },
  {
   "cell_type": "code",
   "execution_count": null,
   "id": "87768178-e22e-4072-9ac0-ed951c8d351c",
   "metadata": {},
   "outputs": [],
   "source": [
    "sc.pl.matrixplot(Treg[Treg.obs[\"stage\"]=='02mo'], ['Ikzf2', 'Tnfrsf4', 'Foxp3', 'Ctla4', 'Itgav', 'Tnfrsf9', 'Ifi27l2a',\n",
    "       'Il2ra', 'Izumo1r', 'Ikzf4', 'Tox', 'Tff1', 'Tnfrsf18', 'Nrp1',\n",
    "       'Zfp36l1', 'Bmyc', 'Rora', 'Maf',  'Icos', 'Cd81', 'Cd74', \n",
    "       'Areg'], groupby=[\"day\",],standard_scale=\"var\", swap_axes=True)"
   ]
  },
  {
   "cell_type": "code",
   "execution_count": null,
   "id": "3f760014-72d7-4abf-8822-346f26f6843c",
   "metadata": {},
   "outputs": [],
   "source": [
    "sc.pl.matrixplot(Treg[Treg.obs[\"stage\"]=='18mo'], ['Ikzf2', 'Tnfrsf4', 'Foxp3', 'Ctla4', 'Itgav', 'Tnfrsf9', 'Ifi27l2a',\n",
    "       'Il2ra', 'Izumo1r', 'Ikzf4', 'Tox', 'Tff1', 'Tnfrsf18', 'Nrp1',\n",
    "       'Zfp36l1', 'Bmyc', 'Rora', 'Maf',  'Icos', 'Cd81', 'Cd74', \n",
    "       'Areg'], groupby=[\"day\",],standard_scale=\"var\", swap_axes=True)"
   ]
  },
  {
   "cell_type": "code",
   "execution_count": null,
   "id": "92797130-93f3-41fd-8455-86a4bd151ad2",
   "metadata": {},
   "outputs": [],
   "source": [
    "treg_activation_genes = ['Foxp3', 'Ctla4', 'Il2ra', 'Tox', 'Icos', 'Tnfrsf4', 'Tnfrsf9', 'Tnfrsf18']\n",
    "cell_stability_genes = ['Ikzf2', 'Ikzf4', 'Zfp36l1', 'Rora', 'Maf', 'Cd81', 'Cd74', 'Bmyc',]\n",
    "regeneration_genes = ['Areg','Tff1', 'Nrp1', 'Itgav', 'Ifi27l2a', 'Izumo1r', ]\n"
   ]
  },
  {
   "cell_type": "code",
   "execution_count": null,
   "id": "66f44de9-0d7d-4dca-892e-1276a9d860c8",
   "metadata": {},
   "outputs": [],
   "source": [
    "Treg=T[T.obs[\"cell_type_subset\"]=='Tregs']"
   ]
  },
  {
   "cell_type": "code",
   "execution_count": null,
   "id": "75d02b49",
   "metadata": {},
   "outputs": [],
   "source": [
    "\n",
    "import tensorflow as tf\n",
    "\n",
    "import matplotlib.pyplot as plt\n",
    "import matplotlib\n",
    "import seaborn as sns\n",
    "import altair as alt\n",
    "import pertpy as pt"
   ]
  },
  {
   "cell_type": "code",
   "execution_count": null,
   "id": "35c39420",
   "metadata": {},
   "outputs": [],
   "source": [
    "adataold= adata[adata.obs[\"stage\"] == \"18mo\",:]\n",
    "adatayoung= adata[adata.obs[\"stage\"] == \"02mo\",:]\n"
   ]
  },
  {
   "cell_type": "code",
   "execution_count": null,
   "id": "4f40bd02",
   "metadata": {},
   "outputs": [],
   "source": [
    "sccoda_model = pt.tl.Sccoda()\n",
    "sccoda_data = sccoda_model.load(\n",
    "    adatayoung,\n",
    "    type=\"cell_level\",\n",
    "    generate_sample_level=True,\n",
    "    cell_type_identifier=\"cell_type_subset\",\n",
    "    sample_identifier=\"sample\",\n",
    "    covariate_obs=[\"day\"],\n",
    ")\n",
    "sccoda_data"
   ]
  },
  {
   "cell_type": "code",
   "execution_count": null,
   "id": "bd679f92",
   "metadata": {},
   "outputs": [],
   "source": [
    "pt.pl.coda.boxplots(\n",
    "    sccoda_data,\n",
    "    modality_key='coda',\n",
    "    feature_name=\"day\",\n",
    "    figsize=(12, 5),\n",
    "    add_dots=True,\n",
    "    args_swarmplot={\"palette\": [\"red\"]},\n",
    ")\n",
    "plt.show()"
   ]
  },
  {
   "cell_type": "code",
   "execution_count": null,
   "id": "65644fb8",
   "metadata": {},
   "outputs": [],
   "source": [
    "sccoda_model = pt.tl.Sccoda()\n",
    "sccoda_data = sccoda_model.load(\n",
    "    adataold,\n",
    "    type=\"cell_level\",\n",
    "    generate_sample_level=True,\n",
    "    cell_type_identifier=\"cell_type_subset\",\n",
    "    sample_identifier=\"sample\",\n",
    "    covariate_obs=[\"day\"],\n",
    ")\n",
    "sccoda_data"
   ]
  },
  {
   "cell_type": "code",
   "execution_count": null,
   "id": "f77778ff",
   "metadata": {},
   "outputs": [],
   "source": [
    "pt.pl.coda.boxplots(\n",
    "    sccoda_data,\n",
    "    modality_key='coda',\n",
    "    feature_name=\"day\",\n",
    "    figsize=(12, 5),\n",
    "    add_dots=True,\n",
    "    args_swarmplot={\"palette\": [\"red\"]},\n",
    ")\n",
    "plt.show()"
   ]
  },
  {
   "cell_type": "code",
   "execution_count": null,
   "id": "6ebc8e87",
   "metadata": {},
   "outputs": [],
   "source": [
    "crosstb_T = pd.crosstab(T.obs['stage'], T.obs['cell_type_subset'], normalize='index')\n",
    "diffcrosstb_T = ((crosstb_T.loc[\"18mo\"] - crosstb_T.loc[\"02mo\"]) / (crosstb_T.loc[\"18mo\"] + crosstb_T.loc[\"02mo\"]))*100\n",
    "crosstb_T"
   ]
  },
  {
   "cell_type": "code",
   "execution_count": null,
   "id": "61fc019f",
   "metadata": {},
   "outputs": [],
   "source": [
    "crosstb_DC = pd.crosstab(DC.obs['stage'], DC.obs['cell_type_subset'], normalize='index')\n",
    "diffcrosstb_DC = ((crosstb_DC.loc[\"18mo\"] - crosstb_DC.loc[\"02mo\"]) / (crosstb_DC.loc[\"18mo\"] + crosstb_DC.loc[\"02mo\"]))*100\n",
    "crosstb_DC"
   ]
  },
  {
   "cell_type": "code",
   "execution_count": null,
   "id": "eb5477ec",
   "metadata": {},
   "outputs": [],
   "source": [
    "crosstb_NKT = pd.crosstab(NKT.obs['stage'], NKT.obs['cell_type_subset'],  normalize='index')\n",
    "diffcrosstb_NK = ((crosstb_NKT.loc[\"18mo\"] - crosstb_NKT.loc[\"02mo\"]) / (crosstb_NKT.loc[\"18mo\"] + crosstb_NKT.loc[\"02mo\"]))*100\n",
    "crosstb_NKT"
   ]
  },
  {
   "cell_type": "code",
   "execution_count": null,
   "id": "ff68e680",
   "metadata": {},
   "outputs": [],
   "source": [
    "crosstb_B = pd.crosstab(B.obs['stage'], B.obs['cell_type'],  normalize='index')\n",
    "diffcrosstb_B = ((crosstb_B.loc[\"18mo\"] - crosstb_B.loc[\"02mo\"]) / (crosstb_B.loc[\"18mo\"] + crosstb_B.loc[\"02mo\"]))*100\n",
    "crosstb_B"
   ]
  },
  {
   "cell_type": "code",
   "execution_count": null,
   "id": "98f54328",
   "metadata": {},
   "outputs": [],
   "source": [
    "crosstb_adata = pd.crosstab(adata.obs['stage'], adata.obs['cell_type_subset'],  normalize='index')\n",
    "diffcrosstb_adata = ((crosstb_adata.loc[\"18mo\"] - crosstb_adata.loc[\"02mo\"]) / (crosstb_adata.loc[\"18mo\"] + crosstb_adata.loc[\"02mo\"]))*100\n",
    "crosstb_adata"
   ]
  },
  {
   "cell_type": "code",
   "execution_count": null,
   "id": "36e4833f",
   "metadata": {},
   "outputs": [],
   "source": [
    "diffcrosstb = pd.concat([diffcrosstb_T, diffcrosstb_DC,  diffcrosstb_NK ,diffcrosstb_B])"
   ]
  },
  {
   "cell_type": "code",
   "execution_count": null,
   "id": "b031b474",
   "metadata": {},
   "outputs": [],
   "source": [
    "diffcrosstb = pd.concat([diffcrosstb_adata])"
   ]
  },
  {
   "cell_type": "code",
   "execution_count": null,
   "id": "1647d495",
   "metadata": {},
   "outputs": [],
   "source": [
    "subset_palette = ['#2ED9FF', '#c1c119', '#8b0000', '#FE00FA',  '#1CFFCE', '#325A9B', '#3283FE', '#FEAF16', '#3B00FB', '#F6222E', '#16FF32', '#BDCDFF',  '#C075A6',  '#AA0DFE', \"#F8A19F\", '#1CBE4F','#B5EFB5'][::-1]\n",
    "with rc_context({'figure.figsize': (3, 7)}):\n",
    "    ax = diffcrosstb.sort_values(ascending=True).plot(kind=\"barh\", stacked=True, edgecolor = \"black\", color=subset_palette)\n",
    "    ax.grid(False)\n",
    "    ax.add_artist(lines.Line2D([0,0], [0,100], color='black',  lw=1,  ls='--'))\n",
    "    ax.plot(legend=None)\n",
    "    #plt.savefig('proportions.pdf')"
   ]
  },
  {
   "cell_type": "code",
   "execution_count": null,
   "id": "0fcb2899",
   "metadata": {},
   "outputs": [],
   "source": [
    "sc.pl.umap(adata,color=[\"cell_type_subset\"])"
   ]
  },
  {
   "cell_type": "markdown",
   "id": "fe39575a",
   "metadata": {},
   "source": [
    "## Data for Fig. 1 [pt1]"
   ]
  },
  {
   "cell_type": "markdown",
   "id": "450b6249",
   "metadata": {},
   "source": [
    "## T cells"
   ]
  },
  {
   "cell_type": "code",
   "execution_count": null,
   "id": "4255d2ea",
   "metadata": {},
   "outputs": [],
   "source": [
    "adatayoung= adata[adata.obs['stage'].isin(['02mo'])]"
   ]
  },
  {
   "cell_type": "code",
   "execution_count": null,
   "id": "a9e2abe9",
   "metadata": {},
   "outputs": [],
   "source": [
    "Tyoung = adatayoung[adatayoung.obs['cell_type'].isin(['T cells'])]"
   ]
  },
  {
   "cell_type": "code",
   "execution_count": null,
   "id": "34f59c35",
   "metadata": {},
   "outputs": [],
   "source": [
    "TyoungD0 = Tyoung[Tyoung.obs['day'].isin(['d0'])]"
   ]
  },
  {
   "cell_type": "code",
   "execution_count": null,
   "id": "28a99c1a",
   "metadata": {},
   "outputs": [],
   "source": [
    "# Remove columns with all 0s\n",
    "sc.pp.filter_genes(TyoungD0, min_cells=1)"
   ]
  },
  {
   "cell_type": "code",
   "execution_count": null,
   "id": "10dabca2",
   "metadata": {},
   "outputs": [],
   "source": [
    "sc.pp.highly_variable_genes(TyoungD0, n_top_genes=3000, n_bins=20, flavor='seurat_v3')"
   ]
  },
  {
   "cell_type": "code",
   "execution_count": null,
   "id": "0ba68bd2",
   "metadata": {},
   "outputs": [],
   "source": [
    "rng = np.random.RandomState(42)\n",
    "sc.tl.pca(TyoungD0, n_comps=80, svd_solver='arpack', random_state=rng, use_highly_variable=True)"
   ]
  },
  {
   "cell_type": "code",
   "execution_count": null,
   "id": "47a3e957",
   "metadata": {},
   "outputs": [],
   "source": [
    "def observe_variance(anndata_object):\n",
    "    fig = plt.figure(figsize=(10,5))\n",
    "    ax1 = fig.add_subplot(121)\n",
    "    ax2 = fig.add_subplot(122)\n",
    "    # variance per principal component\n",
    "    x = range(len(anndata_object.uns['pca']['variance_ratio']))\n",
    "    y = anndata_object.uns['pca']['variance_ratio']\n",
    "    ax1.scatter(x,y,s=4)\n",
    "    ax1.set_xlabel('PC')\n",
    "    ax1.set_ylabel('Fraction of variance explained\\n')\n",
    "    ax1.set_title('Fraction of variance explained per PC\\n')\n",
    "    # cumulative variance explained\n",
    "    cml_var_explained = np.cumsum(anndata_object.uns['pca']['variance_ratio'])\n",
    "    x = range(len(anndata_object.uns['pca']['variance_ratio']))\n",
    "    y = cml_var_explained\n",
    "    ax2.scatter(x,y,s=4)\n",
    "    ax2.set_xlabel('PC')\n",
    "    ax2.set_ylabel('Cumulative fraction of variance\\nexplained')\n",
    "    ax2.set_title('Cumulative fraction of variance\\nexplained by PCs')\n",
    "    fig.tight_layout()\n",
    "    plot = plt.show\n",
    "    return(plot)\n",
    "observe_variance(TyoungD0)"
   ]
  },
  {
   "cell_type": "code",
   "execution_count": null,
   "id": "8c49a363",
   "metadata": {},
   "outputs": [],
   "source": [
    "sc.pp.neighbors(TyoungD0, n_neighbors=30, n_pcs=30)\n",
    "sc.tl.umap(TyoungD0, min_dist=0.2)"
   ]
  },
  {
   "cell_type": "code",
   "execution_count": null,
   "id": "a6aa9519-071a-4ac2-8496-87f59569069e",
   "metadata": {},
   "outputs": [],
   "source": [
    "sc.pl.umap(TyoungD0)"
   ]
  },
  {
   "cell_type": "markdown",
   "id": "6436edfc",
   "metadata": {},
   "source": [
    "### T cells clustering and annotation\n"
   ]
  },
  {
   "cell_type": "code",
   "execution_count": null,
   "id": "74a0e73f",
   "metadata": {},
   "outputs": [],
   "source": [
    "for resolution_parameter in [0.1, 0.2, 0.3, 0.4, 0.5, 0.6, 0.7, 0.8, 0.9, 1.0]:\n",
    "    sc.tl.leiden(TyoungD0, resolution=resolution_parameter, random_state=42, \n",
    "                        key_added='leiden_'+str(resolution_parameter))"
   ]
  },
  {
   "cell_type": "code",
   "execution_count": null,
   "id": "767a6efd",
   "metadata": {},
   "outputs": [],
   "source": [
    "sc.set_figure_params(dpi=80, dpi_save=300, color_map='viridis', vector_friendly=True, transparent=True)\n",
    "sc.pl.umap(\n",
    "    TyoungD0, \n",
    "    color=['leiden_0.1', 'leiden_0.2', 'leiden_0.3', 'leiden_0.4', 'leiden_0.5', \n",
    "           'leiden_0.6', 'leiden_0.7', 'leiden_0.8','leiden_0.9', 'leiden_1.0'], \n",
    "    palette=user_defined_palette,  \n",
    "    color_map='Spectral_r', \n",
    "    use_raw=False,\n",
    "    ncols=5,\n",
    "    wspace = 0.7,\n",
    "    outline_width=[0.6, 0.05],\n",
    "    frameon=False,\n",
    "    add_outline=True,\n",
    "    sort_order = False\n",
    ")"
   ]
  },
  {
   "cell_type": "code",
   "execution_count": null,
   "id": "27ef8a3c",
   "metadata": {},
   "outputs": [],
   "source": [
    "#Tyoung.obs['cell_type_subset'] = ['Tregs' if (x=='1' ) else \n",
    "#                                'Naive CD4' if (x=='3'or x=='5' ) else\n",
    "#                                'Cytotoxic CD8' if (x=='0') else\n",
    "#                                'Naive CD8' if (x=='2' ) else\n",
    "#                                'Memory CD8' if (x=='4' ) else\n",
    "#                               'ERROR' for x in T.obs['leiden_0.3']] "
   ]
  },
  {
   "cell_type": "code",
   "execution_count": null,
   "id": "13d201ec",
   "metadata": {},
   "outputs": [],
   "source": [
    "sc.tl.rank_genes_groups(T, 'cell_type_subset', method='wilcoxon', use_raw=False)\n",
    "sc.pl.rank_genes_groups(T, n_genes=25, sharey=False) "
   ]
  },
  {
   "cell_type": "code",
   "execution_count": null,
   "id": "08f36f2a",
   "metadata": {},
   "outputs": [],
   "source": [
    "sc.set_figure_params(dpi=80, dpi_save=300, color_map='viridis', vector_friendly=True, transparent=True)\n",
    "\n",
    "sc.pl.umap(\n",
    "    TyoungD0, \n",
    "    color=[\"Cd4\",\"Cd8a\",'Foxp3',\"Il2ra\",\"Cd40lg\",\"Ctla4\",\"Lef1\",\"Gzmk\",\"Klrc1\",\"Klrd1\", \"Sox4\",\"stage\",\"Ifng\",'day',\"cell_type_subset\"], \n",
    "    ncols=6,\n",
    "    outline_width=[0.6, 0.05],\n",
    "    frameon=False,\n",
    "    cmap='Spectral_r',\n",
    "    wspace = 0.1,\n",
    "    use_raw=False,\n",
    "    add_outline=True\n",
    ")"
   ]
  },
  {
   "cell_type": "code",
   "execution_count": null,
   "id": "4808e474",
   "metadata": {},
   "outputs": [],
   "source": [
    "sc.set_figure_params(dpi=80, dpi_save=300, color_map='viridis', vector_friendly=True, transparent=True)\n",
    "\n",
    "sc.pl.umap(\n",
    "    TyoungD0, \n",
    "    color=[ 'cell_type_subset','day',], \n",
    "    ncols=6,\n",
    "  #  outline_width=[0.6, 0.05],\n",
    "    frameon=False,\n",
    " #   cmap='Spectral_r',\n",
    "    wspace = 0.4,\n",
    "    use_raw=False,\n",
    "    add_outline=True\n",
    ")"
   ]
  },
  {
   "cell_type": "markdown",
   "id": "2ab1edf8",
   "metadata": {},
   "source": [
    "## All days young T cells"
   ]
  },
  {
   "cell_type": "code",
   "execution_count": null,
   "id": "4e6eab7d",
   "metadata": {
    "scrolled": true
   },
   "outputs": [],
   "source": [
    "# Remove columns with all 0s\n",
    "sc.pp.filter_genes(Tyoung, min_cells=1)"
   ]
  },
  {
   "cell_type": "code",
   "execution_count": null,
   "id": "06ce9dba",
   "metadata": {},
   "outputs": [],
   "source": [
    "sc.pp.highly_variable_genes(Tyoung, n_top_genes=5000, n_bins=20, flavor='seurat_v3')"
   ]
  },
  {
   "cell_type": "code",
   "execution_count": null,
   "id": "474b0418",
   "metadata": {},
   "outputs": [],
   "source": [
    "rng = np.random.RandomState(42)\n",
    "sc.tl.pca(Tyoung, n_comps=80, svd_solver='arpack', random_state=rng, use_highly_variable=True)"
   ]
  },
  {
   "cell_type": "code",
   "execution_count": null,
   "id": "dadb2fc2",
   "metadata": {},
   "outputs": [],
   "source": [
    "def observe_variance(anndata_object):\n",
    "    fig = plt.figure(figsize=(10,5))\n",
    "    ax1 = fig.add_subplot(121)\n",
    "    ax2 = fig.add_subplot(122)\n",
    "    # variance per principal component\n",
    "    x = range(len(anndata_object.uns['pca']['variance_ratio']))\n",
    "    y = anndata_object.uns['pca']['variance_ratio']\n",
    "    ax1.scatter(x,y,s=4)\n",
    "    ax1.set_xlabel('PC')\n",
    "    ax1.set_ylabel('Fraction of variance explained\\n')\n",
    "    ax1.set_title('Fraction of variance explained per PC\\n')\n",
    "    # cumulative variance explained\n",
    "    cml_var_explained = np.cumsum(anndata_object.uns['pca']['variance_ratio'])\n",
    "    x = range(len(anndata_object.uns['pca']['variance_ratio']))\n",
    "    y = cml_var_explained\n",
    "    ax2.scatter(x,y,s=4)\n",
    "    ax2.set_xlabel('PC')\n",
    "    ax2.set_ylabel('Cumulative fraction of variance\\nexplained')\n",
    "    ax2.set_title('Cumulative fraction of variance\\nexplained by PCs')\n",
    "    fig.tight_layout()\n",
    "    plot = plt.show\n",
    "    return(plot)\n",
    "observe_variance(Tyoung)"
   ]
  },
  {
   "cell_type": "code",
   "execution_count": null,
   "id": "a3026d02",
   "metadata": {},
   "outputs": [],
   "source": [
    "sc.pp.neighbors(Tyoung, n_neighbors=15, n_pcs=20)\n",
    "sc.tl.umap(Tyoung, min_dist=0.5)"
   ]
  },
  {
   "cell_type": "markdown",
   "id": "d3238e77",
   "metadata": {},
   "source": [
    "### T cells clustering and annotation\n"
   ]
  },
  {
   "cell_type": "code",
   "execution_count": null,
   "id": "2256a423",
   "metadata": {},
   "outputs": [],
   "source": [
    "for resolution_parameter in [0.1, 0.2, 0.3, 0.4, 0.5, 0.6, 0.7, 0.8, 0.9, 1.0]:\n",
    "    sc.tl.leiden(Tyoung, resolution=resolution_parameter, random_state=42, \n",
    "                        key_added='leiden_'+str(resolution_parameter))"
   ]
  },
  {
   "cell_type": "code",
   "execution_count": null,
   "id": "6fe06995",
   "metadata": {},
   "outputs": [],
   "source": [
    "sc.set_figure_params(dpi=80, dpi_save=300, color_map='viridis', vector_friendly=True, transparent=True)\n",
    "sc.pl.umap(\n",
    "    Tyoung, \n",
    "    color=['leiden_0.1', 'leiden_0.2', 'leiden_0.3', 'leiden_0.4', 'leiden_0.5', \n",
    "           'leiden_0.6', 'leiden_0.7', 'leiden_0.8','leiden_0.9', 'leiden_1.0'], \n",
    "    palette=user_defined_palette,  \n",
    "    color_map='Spectral_r', \n",
    "    use_raw=False,\n",
    "    ncols=5,\n",
    "    wspace = 0.7,\n",
    "    outline_width=[0.6, 0.05],\n",
    "    frameon=False,\n",
    "    add_outline=True,\n",
    "    sort_order = False\n",
    ")"
   ]
  },
  {
   "cell_type": "code",
   "execution_count": null,
   "id": "aa17de30",
   "metadata": {},
   "outputs": [],
   "source": [
    "#Tyoung.obs['cell_type_subset'] = ['Tregs' if (x=='1' ) else \n",
    "#                                'Naive CD4' if (x=='3'or x=='5' ) else\n",
    "#                                'Cytotoxic CD8' if (x=='0') else\n",
    "#                                'Naive CD8' if (x=='2' ) else\n",
    "#                                'Memory CD8' if (x=='4' ) else\n",
    "#                               'ERROR' for x in T.obs['leiden_0.3']] "
   ]
  },
  {
   "cell_type": "code",
   "execution_count": null,
   "id": "9dbcdf04-f73a-45dc-b094-af7bc1faf25a",
   "metadata": {},
   "outputs": [],
   "source": [
    "sc.tl.rank_genes_groups(T, 'leiden_0.1', method='wilcoxon', use_raw=False)\n",
    "sc.pl.rank_genes_groups(T, n_genes=25, sharey=False) "
   ]
  },
  {
   "cell_type": "code",
   "execution_count": null,
   "id": "6a8048a4",
   "metadata": {},
   "outputs": [],
   "source": [
    "sc.tl.rank_genes_groups(T, 'cell_type_subset', method='wilcoxon', use_raw=False)\n",
    "sc.pl.rank_genes_groups(T, n_genes=25, sharey=False) "
   ]
  },
  {
   "cell_type": "code",
   "execution_count": null,
   "id": "1cd37d7e",
   "metadata": {},
   "outputs": [],
   "source": [
    "sc.set_figure_params(dpi=80, dpi_save=300, color_map='viridis', vector_friendly=True, transparent=True)\n",
    "\n",
    "sc.pl.umap(\n",
    "    Tyoung, \n",
    "    color=[\"Cd4\",\"Cd8a\",'Foxp3',\"Il2ra\",\"Cd40lg\",\"Ctla4\",\"Lef1\",\"Gzmk\",\"Klrc1\",\"Klrd1\", \"Sox4\",\"stage\",\"Ifng\",'day',\"cell_type_subset\"], \n",
    "    ncols=6,\n",
    "    outline_width=[0.6, 0.05],\n",
    "    frameon=False,\n",
    "    cmap='Spectral_r',\n",
    "    wspace = 0.1,\n",
    "    use_raw=False,\n",
    "    add_outline=True\n",
    ")"
   ]
  },
  {
   "cell_type": "code",
   "execution_count": null,
   "id": "d25db2ea",
   "metadata": {},
   "outputs": [],
   "source": [
    "sc.set_figure_params(dpi=80, dpi_save=300, color_map='viridis', vector_friendly=True, transparent=True)\n",
    "\n",
    "sc.pl.umap(\n",
    "    Told, \n",
    "    color=[ 'cell_type_subset','day',], \n",
    "    ncols=6,\n",
    "  #  outline_width=[0.6, 0.05],\n",
    "    frameon=False,\n",
    " #   cmap='Spectral_r',\n",
    "    wspace = 0.4,\n",
    "    use_raw=False,\n",
    "    add_outline=True\n",
    ")"
   ]
  },
  {
   "cell_type": "markdown",
   "id": "02e450cf",
   "metadata": {},
   "source": [
    "## All days T cells"
   ]
  },
  {
   "cell_type": "code",
   "execution_count": null,
   "id": "f66e75a2",
   "metadata": {},
   "outputs": [],
   "source": [
    "sc.pl.umap(adata,color= ['cell_type_subset','day'])"
   ]
  },
  {
   "cell_type": "code",
   "execution_count": null,
   "id": "b9cbe23b",
   "metadata": {},
   "outputs": [],
   "source": [
    "sc.pl.umap(T,color= ['cell_type_subset',\"day\",\"Cd8a\",\"Cd4\"])"
   ]
  },
  {
   "cell_type": "code",
   "execution_count": null,
   "id": "654e9a75",
   "metadata": {},
   "outputs": [],
   "source": [
    "Told = T[T.obs['stage'].isin(['18mo'])]"
   ]
  },
  {
   "cell_type": "code",
   "execution_count": null,
   "id": "10cbd677",
   "metadata": {
    "scrolled": true
   },
   "outputs": [],
   "source": [
    "# Remove columns with all 0s\n",
    "sc.pp.filter_genes(Told, min_cells=1)"
   ]
  },
  {
   "cell_type": "code",
   "execution_count": null,
   "id": "90c9c942",
   "metadata": {},
   "outputs": [],
   "source": [
    "sc.pp.highly_variable_genes(Told, n_top_genes=3000, n_bins=20, flavor='seurat_v3')"
   ]
  },
  {
   "cell_type": "code",
   "execution_count": null,
   "id": "e61b1d42",
   "metadata": {},
   "outputs": [],
   "source": [
    "rng = np.random.RandomState(42)\n",
    "sc.tl.pca(Told, n_comps=80, svd_solver='arpack', random_state=rng, use_highly_variable=True)"
   ]
  },
  {
   "cell_type": "code",
   "execution_count": null,
   "id": "259fb7c0",
   "metadata": {},
   "outputs": [],
   "source": [
    "def observe_variance(anndata_object):\n",
    "    fig = plt.figure(figsize=(10,5))\n",
    "    ax1 = fig.add_subplot(121)\n",
    "    ax2 = fig.add_subplot(122)\n",
    "    # variance per principal component\n",
    "    x = range(len(anndata_object.uns['pca']['variance_ratio']))\n",
    "    y = anndata_object.uns['pca']['variance_ratio']\n",
    "    ax1.scatter(x,y,s=4)\n",
    "    ax1.set_xlabel('PC')\n",
    "    ax1.set_ylabel('Fraction of variance explained\\n')\n",
    "    ax1.set_title('Fraction of variance explained per PC\\n')\n",
    "    # cumulative variance explained\n",
    "    cml_var_explained = np.cumsum(anndata_object.uns['pca']['variance_ratio'])\n",
    "    x = range(len(anndata_object.uns['pca']['variance_ratio']))\n",
    "    y = cml_var_explained\n",
    "    ax2.scatter(x,y,s=4)\n",
    "    ax2.set_xlabel('PC')\n",
    "    ax2.set_ylabel('Cumulative fraction of variance\\nexplained')\n",
    "    ax2.set_title('Cumulative fraction of variance\\nexplained by PCs')\n",
    "    fig.tight_layout()\n",
    "    plot = plt.show\n",
    "    return(plot)\n",
    "observe_variance(Told)"
   ]
  },
  {
   "cell_type": "code",
   "execution_count": null,
   "id": "18e97958",
   "metadata": {},
   "outputs": [],
   "source": [
    "sc.pp.neighbors(Told, n_neighbors=15, n_pcs=30)\n",
    "sc.tl.umap(Told, min_dist=0.2)"
   ]
  },
  {
   "cell_type": "markdown",
   "id": "f5eb3ffe",
   "metadata": {},
   "source": [
    "### T cells clustering and annotation\n"
   ]
  },
  {
   "cell_type": "code",
   "execution_count": null,
   "id": "3c949170",
   "metadata": {},
   "outputs": [],
   "source": [
    "for resolution_parameter in [0.1, 0.2, 0.3, 0.4, 0.5, 0.6, 0.7, 0.8, 0.9, 1.0]:\n",
    "    sc.tl.leiden(Told, resolution=resolution_parameter, random_state=42, \n",
    "                        key_added='leiden_'+str(resolution_parameter))"
   ]
  },
  {
   "cell_type": "code",
   "execution_count": null,
   "id": "9db3d722",
   "metadata": {},
   "outputs": [],
   "source": [
    "sc.set_figure_params(dpi=80, dpi_save=300, color_map='viridis', vector_friendly=True, transparent=True)\n",
    "sc.pl.umap(\n",
    "    Told, \n",
    "    color=['leiden_0.1', 'leiden_0.2', 'leiden_0.3', 'leiden_0.4', 'leiden_0.5', \n",
    "           'leiden_0.6', 'leiden_0.7', 'leiden_0.8','leiden_0.9', 'leiden_1.0'], \n",
    "    palette=user_defined_palette,  \n",
    "    color_map='Spectral_r', \n",
    "    use_raw=False,\n",
    "    ncols=5,\n",
    "    wspace = 0.7,\n",
    "    outline_width=[0.6, 0.05],\n",
    "    frameon=False,\n",
    "    add_outline=True,\n",
    "    sort_order = False\n",
    ")"
   ]
  },
  {
   "cell_type": "code",
   "execution_count": null,
   "id": "77d756be",
   "metadata": {},
   "outputs": [],
   "source": [
    "#Told.obs['cell_type_subset'] = ['Tregs' if (x=='1' ) else \n",
    "#                                'Naive CD4' if (x=='3'or x=='5' ) else\n",
    "#                                'Cytotoxic CD8' if (x=='0') else\n",
    "#                                'Naive CD8' if (x=='2' ) else\n",
    "#                                'Memory CD8' if (x=='4' ) else\n",
    "#                               'ERROR' for x in T.obs['leiden_0.3']] "
   ]
  },
  {
   "cell_type": "code",
   "execution_count": null,
   "id": "b782f354",
   "metadata": {},
   "outputs": [],
   "source": [
    "sc.tl.rank_genes_groups(T, 'cell_type_subset', method='wilcoxon', use_raw=False)\n",
    "sc.pl.rank_genes_groups(T, n_genes=25, sharey=False) "
   ]
  },
  {
   "cell_type": "code",
   "execution_count": null,
   "id": "f725ead3",
   "metadata": {},
   "outputs": [],
   "source": [
    "sc.set_figure_params(dpi=80, dpi_save=300, color_map='viridis', vector_friendly=True, transparent=True)\n",
    "\n",
    "sc.pl.umap(\n",
    "    Told, \n",
    "    color=[\"Cd4\",\"Cd8a\",'Foxp3',\"Il2ra\",\"Cd40lg\",\"Ctla4\",\"Lef1\",\"Gzmk\",\"Klrc1\",\"Klrd1\", \"Sox4\",\"stage\",\"Ifng\",'day',\"cell_type_subset\"], \n",
    "    ncols=6,\n",
    "    outline_width=[0.6, 0.05],\n",
    "    frameon=False,\n",
    "    cmap='Spectral_r',\n",
    "    wspace = 0.1,\n",
    "    use_raw=False,\n",
    "    add_outline=True\n",
    ")"
   ]
  },
  {
   "cell_type": "code",
   "execution_count": null,
   "id": "6ddfb1dd",
   "metadata": {},
   "outputs": [],
   "source": [
    "colors = Told.uns['cell_type_subset_colors']\n",
    "\n",
    "tmp = pd.crosstab(Told[Told.obs['stage']==\"18mo\"].obs['day'],Told.obs[\"cell_type_subset\"], normalize='index', )\n",
    "tmp.plot.area(stacked=True, color=colors).legend(loc='center left', bbox_to_anchor=(1, 0.5),frameon=False)\n",
    "plt.grid(False)\n",
    "plt.title(\"2 month-old\")\n"
   ]
  },
  {
   "cell_type": "code",
   "execution_count": null,
   "id": "ca47deb1",
   "metadata": {},
   "outputs": [],
   "source": [
    "colors = T.uns['cell_type_subset_colors']\n",
    "\n",
    "tmp = pd.crosstab(T[T.obs['stage']==\"18mo\"].obs['day'],T.obs[\"cell_type_subset\"], normalize='index', )\n",
    "tmp.plot.area(stacked=True, color=colors).legend(loc='center left', bbox_to_anchor=(1, 0.5),frameon=False)\n",
    "plt.grid(False)\n",
    "plt.title(\"2 month-old\")\n"
   ]
  },
  {
   "cell_type": "code",
   "execution_count": null,
   "id": "2ca0db63",
   "metadata": {},
   "outputs": [],
   "source": [
    "sc.set_figure_params(dpi=80, dpi_save=300, color_map='viridis', vector_friendly=True, transparent=True)\n",
    "\n",
    "sc.pl.umap(\n",
    "    Told, \n",
    "    color=[ 'cell_type_subset','day',], \n",
    "    ncols=6,\n",
    "  #  outline_width=[0.6, 0.05],\n",
    "    frameon=False,\n",
    " #   cmap='Spectral_r',\n",
    "    wspace = 0.4,\n",
    "    use_raw=False,\n",
    "    add_outline=True\n",
    ")"
   ]
  },
  {
   "cell_type": "code",
   "execution_count": null,
   "id": "940ea4ad",
   "metadata": {},
   "outputs": [],
   "source": [
    "sc.set_figure_params(dpi=80, dpi_save=300, color_map='viridis', vector_friendly=True, transparent=True)\n",
    "\n",
    "sc.pl.umap(\n",
    "    adata, \n",
    "    color=[ 'cell_type_subset','day','stage'], \n",
    "    ncols=6,\n",
    "  #  outline_width=[0.6, 0.05],\n",
    "    frameon=False,\n",
    " #   cmap='Spectral_r',\n",
    "    wspace = 0.7,\n",
    "    use_raw=False,\n",
    "    add_outline=True\n",
    ")"
   ]
  },
  {
   "cell_type": "code",
   "execution_count": null,
   "id": "3f077e8f",
   "metadata": {},
   "outputs": [],
   "source": [
    "Tyoung"
   ]
  },
  {
   "cell_type": "code",
   "execution_count": null,
   "id": "fe0fbe40",
   "metadata": {},
   "outputs": [],
   "source": [
    "#path_to_h5ad = '/Users/xleana/Desktop/CD45/CD45new/CD45pos_02mo18mo_SLTBIall_Tyoung.h5ad'\n",
    "\n",
    "#Tyoung.write(path_to_h5ad)"
   ]
  },
  {
   "cell_type": "code",
   "execution_count": null,
   "id": "a1c62c84",
   "metadata": {},
   "outputs": [],
   "source": [
    "df_temp = pd.DataFrame({'umap_x': T.obsm['X_umap'][:, 0], 'umap_y': T.obsm['X_umap'][:, 1], \n",
    "                        'stage': T.obs['stage'], 'day': T.obs['day']}, index = T.obs.index)\n",
    "\n",
    "\n"
   ]
  },
  {
   "cell_type": "code",
   "execution_count": null,
   "id": "2eab8abb",
   "metadata": {},
   "outputs": [],
   "source": [
    "T.obs[\"stage\"]"
   ]
  },
  {
   "cell_type": "code",
   "execution_count": null,
   "id": "b195d742",
   "metadata": {},
   "outputs": [],
   "source": [
    "import seaborn as sns\n",
    "fig = plt.figure(figsize = (8*2, 6))\n",
    "ax = fig.add_subplot(1, 2, 1)\n",
    "sns.scatterplot(data = df_temp, x = 'umap_x', y = 'umap_y', s = 1, ax = ax)\n",
    "sns.kdeplot(data=df_temp[df_temp['stage'] == '02mo'], x=\"umap_x\", y=\"umap_y\",\n",
    "    fill=True, thresh=0, levels=10, cmap=\"Purples\", ax = ax, cut = 4)\n",
    "ax.set_xticks([]);\n",
    "ax.set_yticks([]);\n",
    "ax.set_title('young', fontsize = 16)\n",
    "ax.set_xlabel('UMAP-1')\n",
    "ax.set_ylabel('UMAP-2')\n",
    "ax.spines['right'].set_visible(False)\n",
    "ax.spines['top'].set_visible(False)\n",
    "ax.spines['left'].set_visible(False)\n",
    "ax.spines['bottom'].set_visible(False)\n",
    "\n",
    "ax = fig.add_subplot(1, 2, 2)\n",
    "sns.scatterplot(data = df_temp, x = 'umap_x', y = 'umap_y', s = 0, ax = ax)\n",
    "sns.kdeplot(data=df_temp[df_temp['stage'] == '18mo'], x=\"umap_x\", y=\"umap_y\",\n",
    "    fill=True, thresh=0, levels=10, cmap=\"Purples\", ax = ax, cut = 4)\n",
    "ax.set_xticks([]);\n",
    "ax.set_yticks([]);\n",
    "ax.set_title('old', fontsize = 16)\n",
    "ax.set_xlabel('UMAP-1')\n",
    "ax.set_ylabel('UMAP-2')\n",
    "ax.spines['right'].set_visible(False)\n",
    "ax.spines['top'].set_visible(False)\n",
    "ax.spines['left'].set_visible(False)\n",
    "ax.spines['bottom'].set_visible(False)\n",
    "\n",
    "#fig.savefig(outbase + 'Ctrl_DT_kdeplot_endo.png', dpi = 150, bbox_inches = 'tight')"
   ]
  },
  {
   "cell_type": "code",
   "execution_count": null,
   "id": "6accf394",
   "metadata": {},
   "outputs": [],
   "source": [
    "# anndata2ri interconverts AnnData and Single Cell Experiment objects\n",
    "anndata2ri.activate()\n",
    "%load_ext rpy2.ipython\n",
    "#%reload_ext rpy2.ipython"
   ]
  },
  {
   "cell_type": "code",
   "execution_count": null,
   "id": "d2157382",
   "metadata": {},
   "outputs": [],
   "source": [
    "T.layers['norm_counts'] = T.X.copy()"
   ]
  },
  {
   "cell_type": "code",
   "execution_count": null,
   "id": "40a8d002",
   "metadata": {},
   "outputs": [],
   "source": [
    "adata_milo = sc.AnnData(T.layers['norm_counts'].copy(), \n",
    "                        obs = T.obs[['stage', 'day', 'cell_type_subset',\"sample\"]], \n",
    "                        var = T.var)\n",
    "adata_milo.obsm['X_pca'] = T.obsm['X_pca']\n",
    "adata_milo.obsm['X_umap'] = T.obsm['X_umap']"
   ]
  },
  {
   "cell_type": "code",
   "execution_count": null,
   "id": "6555a10a",
   "metadata": {},
   "outputs": [],
   "source": [
    "%%R\n",
    "library(igraph)\n",
    "\n",
    "library(miloR)"
   ]
  },
  {
   "cell_type": "code",
   "execution_count": null,
   "id": "00e432df",
   "metadata": {},
   "outputs": [],
   "source": [
    "%%R -i adata_milo\n",
    "adata_milo"
   ]
  },
  {
   "cell_type": "code",
   "execution_count": null,
   "id": "02dabb28",
   "metadata": {},
   "outputs": [],
   "source": [
    "%%R \n",
    "myeloid_milo <- Milo(adata_milo)\n",
    "myeloid_milo"
   ]
  },
  {
   "cell_type": "code",
   "execution_count": null,
   "id": "b14363f9",
   "metadata": {},
   "outputs": [],
   "source": [
    "%%R \n",
    "myeloid_milo <- buildGraph(myeloid_milo, k=30, d=30, reduced.dim = \"PCA\")"
   ]
  },
  {
   "cell_type": "code",
   "execution_count": null,
   "id": "25ec6e1c",
   "metadata": {},
   "outputs": [],
   "source": [
    "design_df = adata_milo.obs[['sample',\"stage\",\"day\",]].copy()\n",
    "design_df.drop_duplicates(inplace=True)\n",
    "design_df.index = design_df['sample']\n",
    "design_df"
   ]
  },
  {
   "cell_type": "code",
   "execution_count": null,
   "id": "2384a01b",
   "metadata": {},
   "outputs": [],
   "source": [
    "%%R -i design_df -o DA_results_myeloid\n",
    "## Define neighbourhoods\n",
    "myeloid_milo <- makeNhoods(myeloid_milo, prop = 0.1, k = 30, d=30, refined = TRUE, reduced_dims = \"PCA\")\n",
    "\n",
    "## Count cells in neighbourhoods\n",
    "myeloid_milo <- countCells(myeloid_milo, meta.data = data.frame(colData(myeloid_milo)), sample=\"sample\")\n",
    "\n",
    "## Calculate distances between cells in neighbourhoods\n",
    "## for spatial FDR correction\n",
    "myeloid_milo <- calcNhoodDistance(myeloid_milo, d=30, reduced.dim = \"PCA\")\n",
    "\n",
    "\n",
    "## Test for differential abundance\n",
    "DA_results_myeloid <- testNhoods(myeloid_milo, design = ~stage, design.df = design_df)\n"
   ]
  },
  {
   "cell_type": "code",
   "execution_count": null,
   "id": "faa25acc",
   "metadata": {},
   "outputs": [],
   "source": [
    "DA_results_myeloid.head()"
   ]
  },
  {
   "cell_type": "code",
   "execution_count": null,
   "id": "6124aa9f",
   "metadata": {},
   "outputs": [],
   "source": [
    "plt.plot(DA_results_myeloid.logFC, -np.log10(DA_results_myeloid.SpatialFDR), '.');\n",
    "plt.xlabel(\"log-Fold Change\");\n",
    "plt.ylabel(\"- log10(Spatial FDR)\")"
   ]
  },
  {
   "cell_type": "code",
   "execution_count": null,
   "id": "40344b9b",
   "metadata": {},
   "outputs": [],
   "source": [
    "%%R\n",
    "myeloid_milo <- buildNhoodGraph(myeloid_milo)"
   ]
  },
  {
   "cell_type": "code",
   "execution_count": null,
   "id": "0b81235f",
   "metadata": {},
   "outputs": [],
   "source": [
    "%%R \n",
    "head(DA_results_myeloid)"
   ]
  },
  {
   "cell_type": "code",
   "execution_count": null,
   "id": "ff4f4774",
   "metadata": {},
   "outputs": [],
   "source": [
    "%%R -w 800 -h 600\n",
    "alpha_val = 1\n",
    "library(ggplot2)\n",
    "p1 <- plotNhoodGraphDA(myeloid_milo, DA_results_myeloid, res_column = 'SpatialFDR', alpha=alpha_val, \n",
    "                 layout=\"UMAP\", size_range = c(2, 8), node_stroke =0.8)\n",
    "p1"
   ]
  },
  {
   "cell_type": "code",
   "execution_count": null,
   "id": "5ec48920",
   "metadata": {},
   "outputs": [],
   "source": [
    "%%R -w 800 -h 600\n",
    "alpha_val = 1\n",
    "library(ggplot2)\n",
    "p1 <- plotNhoodGraphDA(myeloid_milo, DA_results_myeloid, res_column = 'logFC', alpha=alpha_val, \n",
    "                 layout=\"UMAP\", size_range = c(2, 8), node_stroke =0.8)\n",
    "p1"
   ]
  },
  {
   "cell_type": "code",
   "execution_count": null,
   "id": "c3baf433",
   "metadata": {},
   "outputs": [],
   "source": [
    "%%R\n",
    "myeloid_milo"
   ]
  },
  {
   "cell_type": "code",
   "execution_count": null,
   "id": "47141177",
   "metadata": {},
   "outputs": [],
   "source": [
    "%%R \n",
    "DA_results_myeloid <- annotateNhoods(myeloid_milo, DA_results_myeloid, coldata_col = 'cell_type_subset')\n",
    "head(DA_results_myeloid)"
   ]
  },
  {
   "cell_type": "code",
   "execution_count": null,
   "id": "91c14fbd",
   "metadata": {},
   "outputs": [],
   "source": [
    "%%R\n",
    "library(ggplot2)\n",
    "ggplot(DA_results_myeloid, aes(cell_type_subset_fraction)) + geom_histogram(bins=50)"
   ]
  },
  {
   "cell_type": "code",
   "execution_count": null,
   "id": "f2e8e230",
   "metadata": {},
   "outputs": [],
   "source": [
    "%%R -o DA_results_myeloid\n",
    "DA_results_myeloid$Celltypes <- ifelse(DA_results_myeloid$cell_type_subset_fraction < 0.8, \"Mixed\", DA_results_myeloid$cell_type_subset)\n",
    "head(DA_results_myeloid)"
   ]
  },
  {
   "cell_type": "code",
   "execution_count": null,
   "id": "0635865b",
   "metadata": {},
   "outputs": [],
   "source": [
    "%%R\n",
    "plotDAbeeswarm(DA_results_myeloid, group.by = \"cell_type_subset\", alpha = 1)"
   ]
  },
  {
   "cell_type": "code",
   "execution_count": null,
   "id": "7fa5d5cc",
   "metadata": {},
   "outputs": [],
   "source": [
    "import matplotlib.colors as mcolors\n",
    "import matplotlib.cm as cm\n",
    "\n",
    "\n",
    "for j, item in enumerate(['FDR', 'SpatialFDR', 'PValue']):\n",
    "    fig = plt.figure(figsize = (8, 12))\n",
    "    DA_results_myeloid['log_' + item] = -np.log10(DA_results_myeloid[item])\n",
    "    ax = fig.add_subplot(1, 1, 1)\n",
    "    plot = sns.stripplot(x='logFC', y=\"cell_type_subset\", hue='log_' + item, data=DA_results_myeloid, size = 6, \n",
    "              palette='cividis', \n",
    "              jitter=0.2, edgecolor='none', ax = ax)\n",
    "    plot.get_legend().set_visible(False)\n",
    "    #ax.set_xticklabels(ax.get_xticks(), fontsize = 18)\n",
    "    #ax.set_yticklabels(ax.get_yticks(), fontsize = 18)\n",
    "    ax.tick_params(axis='both', which='major', labelsize=18)\n",
    "    ax.set_ylabel('T cell subsets', fontsize = 18)\n",
    "    ax.set_xlabel('logFC', fontsize = 18)\n",
    "    sns.despine()\n",
    "\n",
    "\n",
    "    # Drawing the side color bar\n",
    "    normalize = mcolors.Normalize(vmin=DA_results_myeloid['log_' + item].min(), \n",
    "                              vmax=DA_results_myeloid['log_' + item].max())\n",
    "    colormap = cm.cividis\n",
    "\n",
    "    for n in DA_results_myeloid['log_' + item]:\n",
    "        plt.plot(color=colormap(normalize(n)))\n",
    "\n",
    "    scalarmappaple = cm.ScalarMappable(norm=normalize, cmap=colormap)\n",
    "    scalarmappaple.set_array(DA_results_myeloid['log_' + item])\n",
    "    cbar = fig.colorbar(scalarmappaple)\n",
    "    cbar.ax.set_yticklabels(cbar.ax.get_yticks(), fontsize = 18)\n",
    "    cbar.ax.set_ylabel('-log10(' + item + ')',  labelpad = 20, rotation=90, fontsize = 18)\n",
    "    ax.grid(False)\n",
    "    #fig.savefig(outbase + 'milor_myeloid_swarmplot_colored_by_log_' + item + '.pdf', dpi = 300, \n",
    "                #bbox_inches = 'tight')"
   ]
  },
  {
   "cell_type": "code",
   "execution_count": null,
   "id": "895cccfc",
   "metadata": {},
   "outputs": [],
   "source": [
    "colors = T.uns['cell_type_subset_colors']\n",
    "\n",
    "tmp = pd.crosstab(T[T.obs['stage']==\"02mo\"].obs['day'],T.obs[\"cell_type_subset\"], normalize='index', )\n",
    "tmp.plot.area(stacked=True, color=colors).legend(loc='center left', bbox_to_anchor=(1, 0.5),frameon=False)\n",
    "plt.grid(False)\n",
    "plt.title(\"2 month-old\")\n"
   ]
  },
  {
   "cell_type": "code",
   "execution_count": null,
   "id": "667e97af",
   "metadata": {},
   "outputs": [],
   "source": [
    "tmp = pd.crosstab(T[T.obs['stage']==\"18mo\"].obs['day'],T.obs[\"cell_type_subset\"], normalize='index')\n",
    "tmp.plot.area(stacked=True,color=colors).legend(loc='center left', bbox_to_anchor=(1, 0.5),frameon=False)\n",
    "plt.grid(False)\n",
    "plt.title(\"18 month-old\")\n"
   ]
  },
  {
   "cell_type": "code",
   "execution_count": null,
   "id": "7c093774",
   "metadata": {},
   "outputs": [],
   "source": [
    "sc.pl.umap(T,color=\"cell_type_subset\")"
   ]
  },
  {
   "cell_type": "code",
   "execution_count": null,
   "id": "747085ce",
   "metadata": {},
   "outputs": [],
   "source": [
    "sc.pl.umap(adata,color=\"cell_type\")"
   ]
  },
  {
   "cell_type": "code",
   "execution_count": null,
   "id": "a8773c24",
   "metadata": {},
   "outputs": [],
   "source": []
  },
  {
   "cell_type": "code",
   "execution_count": null,
   "id": "8e4e2709",
   "metadata": {},
   "outputs": [],
   "source": []
  },
  {
   "cell_type": "code",
   "execution_count": null,
   "id": "f85693f9",
   "metadata": {},
   "outputs": [],
   "source": []
  },
  {
   "cell_type": "code",
   "execution_count": null,
   "id": "d2cba943",
   "metadata": {},
   "outputs": [],
   "source": []
  },
  {
   "cell_type": "code",
   "execution_count": null,
   "id": "e5b61947",
   "metadata": {},
   "outputs": [],
   "source": [
    "adata_d0 = adata[(adata.obs['day']=='d0')]"
   ]
  },
  {
   "cell_type": "code",
   "execution_count": null,
   "id": "27db1c9d",
   "metadata": {},
   "outputs": [],
   "source": [
    "# Remove columns with all 0s\n",
    "sc.pp.filter_genes(adata_d0, min_cells=1)"
   ]
  },
  {
   "cell_type": "code",
   "execution_count": null,
   "id": "a98de2db",
   "metadata": {},
   "outputs": [],
   "source": [
    "sc.pp.highly_variable_genes(adata_d0, n_top_genes=2000, n_bins=20, flavor='seurat_v3',  inplace=True)"
   ]
  },
  {
   "cell_type": "code",
   "execution_count": null,
   "id": "b35ba854",
   "metadata": {},
   "outputs": [],
   "source": [
    "rng = np.random.RandomState(42)\n",
    "sc.tl.pca(adata_d0, n_comps=100, svd_solver='arpack', random_state=rng, use_highly_variable=True)"
   ]
  },
  {
   "cell_type": "code",
   "execution_count": null,
   "id": "9d4e1d62",
   "metadata": {},
   "outputs": [],
   "source": [
    "observe_variance(adata_d0)"
   ]
  },
  {
   "cell_type": "code",
   "execution_count": null,
   "id": "dafd6348",
   "metadata": {},
   "outputs": [],
   "source": [
    "rng = np.random.RandomState(42)\n",
    "sc.tl.pca(adata_d0, n_comps=60, svd_solver='arpack', random_state=rng, use_highly_variable=True)"
   ]
  },
  {
   "cell_type": "code",
   "execution_count": null,
   "id": "d2b330a6",
   "metadata": {},
   "outputs": [],
   "source": [
    "sc.pp.neighbors(adata_d0, n_neighbors=15)\n",
    "sc.tl.umap(adata_d0)"
   ]
  },
  {
   "cell_type": "code",
   "execution_count": null,
   "id": "785a02c4",
   "metadata": {},
   "outputs": [],
   "source": [
    "sc.pl.umap(adata_d0, color=['stage', 'day', 'sample'], \n",
    "                        color_map='Spectral_r',  use_raw=False, ncols=4, wspace = 0.3,\n",
    "                        outline_width=[0.6, 0.05], size=15,  frameon=False, add_outline=True, sort_order = False)"
   ]
  },
  {
   "cell_type": "code",
   "execution_count": null,
   "id": "d55fa04e",
   "metadata": {
    "scrolled": true
   },
   "outputs": [],
   "source": [
    "for resolution_parameter in [0.1, 0.2, 0.3, 0.4, 0.5, 0.6, 0.7, 0.8, 0.9, 1.0]:\n",
    "    sc.tl.leiden(adata_d0, resolution=resolution_parameter, random_state=42, \n",
    "                        key_added='leiden_'+str(resolution_parameter))"
   ]
  },
  {
   "cell_type": "code",
   "execution_count": null,
   "id": "120231ed",
   "metadata": {},
   "outputs": [],
   "source": [
    "sc.set_figure_params(dpi=80, dpi_save=300, color_map='viridis', vector_friendly=False, transparent=True)\n",
    "sc.pl.umap(\n",
    "    adata_d0, \n",
    "    color=['leiden_0.1', 'leiden_0.2', 'leiden_0.3', 'leiden_0.4', 'leiden_0.5', \n",
    "           'leiden_0.6', 'leiden_0.7', 'leiden_0.8','leiden_0.9', 'leiden_1.0'], \n",
    "    palette=user_defined_palette,  \n",
    "    color_map='Spectral_r', \n",
    "    use_raw=False,\n",
    "    ncols=5,\n",
    "    wspace = 0.7,\n",
    "    outline_width=[0.6, 0.05],\n",
    "    size=15,\n",
    "    frameon=False,\n",
    "    add_outline=True,\n",
    "    sort_order = False\n",
    ")"
   ]
  },
  {
   "cell_type": "code",
   "execution_count": null,
   "id": "af35ab89",
   "metadata": {},
   "outputs": [],
   "source": [
    "sc.set_figure_params(dpi=80, dpi_save=300, color_map='viridis', vector_friendly=False, transparent=True)\n",
    "sc.pl.umap(\n",
    "    adata_d0, \n",
    "    color=[\"Sox4\",\"Rorc\",\"Ncr1\",\"Klrk1\",\"Cxcr6\", 'Cd8b1',\"Cd4\",'Tnfrsf4',\"Foxp3\",\"H2-Aa\",\"Clec9a\",\"Xcr1\",\n",
    "           \"Sirpa\",\"Ccr7\",\"Fscn1\",'Cd79a', 'Ms4a1',\"Xbp1\",\"Igkc\",\"Msrb1\"], \n",
    "    palette=user_defined_palette,  \n",
    "    color_map='Spectral_r', \n",
    "    use_raw=False,\n",
    "    ncols=5,\n",
    "    wspace = 0.1,\n",
    "    outline_width=[0.6, 0.05],\n",
    "    size=15,\n",
    "    frameon=False,\n",
    "    add_outline=True,\n",
    "    sort_order = False\n",
    ")"
   ]
  },
  {
   "cell_type": "markdown",
   "id": "eda74428",
   "metadata": {},
   "source": [
    "### Create group annotation"
   ]
  },
  {
   "cell_type": "code",
   "execution_count": null,
   "id": "73e2abed",
   "metadata": {},
   "outputs": [],
   "source": [
    "sc.tl.rank_genes_groups(adata_d0, 'leiden_0.1', method='wilcoxon', use_raw=False)\n",
    "sc.pl.rank_genes_groups(adata_d0, n_genes=25, sharey=False) "
   ]
  },
  {
   "cell_type": "code",
   "execution_count": null,
   "id": "5c7213fb",
   "metadata": {},
   "outputs": [],
   "source": [
    "adata_d0.obs['cell_type'] = ['B cells' if (x=='2'  ) else \n",
    "                             'NKT cells' if (x=='0' ) else\n",
    "                             'NK cells' if (x=='5' ) else \n",
    "                             'T cells' if x=='3'or x=='1'    else\n",
    "                             'DCs' if x=='7'  else                             \n",
    "                             'DN/DPs' if x=='6'\n",
    "                              else 'ERROR' for x in adata_d0.obs['leiden_0.3']] "
   ]
  },
  {
   "cell_type": "code",
   "execution_count": null,
   "id": "c6923c98",
   "metadata": {},
   "outputs": [],
   "source": [
    "sc.set_figure_params(dpi=80, dpi_save=300, color_map='viridis', vector_friendly=True, transparent=True)\n",
    "sc.pl.umap(\n",
    "    adata_d0, \n",
    "    color=['leiden_0.1','cell_type'], \n",
    "    palette=user_defined_palette,  \n",
    "    color_map='Spectral_r', \n",
    "    use_raw=False,\n",
    "    ncols=5,\n",
    "    wspace = 0.1,\n",
    "    outline_width=[0.3, 0.05],\n",
    "    size=15,\n",
    "    frameon=False,\n",
    "    add_outline=True,\n",
    "    sort_order = False,\n",
    "    legend_loc=\"on data\"\n",
    ")"
   ]
  },
  {
   "cell_type": "code",
   "execution_count": null,
   "id": "cf4591bc",
   "metadata": {},
   "outputs": [],
   "source": [
    "sc.set_figure_params(dpi=80, dpi_save=300, color_map='viridis', vector_friendly=True, transparent=True)\n",
    "sc.pl.umap(\n",
    "    adata_d0, \n",
    "    color=['log10_original_total_counts', 'n_genes_by_counts','ribo_frac', 'mito_frac' ], \n",
    "    palette=user_defined_palette,  \n",
    "    color_map='Spectral_r',\n",
    "    use_raw=False,\n",
    "    ncols=4,\n",
    "    wspace = 0.1,\n",
    "    outline_width=[0.6, 0.05],\n",
    "    size=15,\n",
    "    frameon=False,\n",
    "    add_outline=True,\n",
    "    sort_order = False,\n",
    "    save='_contaminants_S1.pdf'\n",
    ")"
   ]
  },
  {
   "cell_type": "code",
   "execution_count": null,
   "id": "0b81ec82",
   "metadata": {},
   "outputs": [],
   "source": [
    "adata_d0.uns['cell_type_colors'] = [\"#A42820\", \"#5F5647\", \"#9B110E\", \"#3F5151\", ]\n",
    " #'#d62728','#19c9b3', '#FFA5D2', '#ff7f0e','#199919', '#aa40fc'"
   ]
  },
  {
   "cell_type": "code",
   "execution_count": null,
   "id": "252b75de",
   "metadata": {},
   "outputs": [],
   "source": [
    "adata_d0"
   ]
  },
  {
   "cell_type": "code",
   "execution_count": null,
   "id": "20102837",
   "metadata": {},
   "outputs": [],
   "source": [
    "sc.pl.umap(adata_d0, color=['cell_type', 'stage', 'day'], \n",
    "                        color_map='Spectral_r',  use_raw=False, ncols=4, wspace = 0.3,\n",
    "                            outline_width=[0.3, 0.05], size=15,  frameon=False, add_outline=True, sort_order = False)"
   ]
  },
  {
   "cell_type": "code",
   "execution_count": null,
   "id": "0e08cc6c",
   "metadata": {},
   "outputs": [],
   "source": [
    "sc.pl.umap(adata_d0, color=[ 'stage','cell_type',\"day\"], \n",
    "                        color_map='Spectral_r',  use_raw=False, ncols=4, wspace = 0.3,\n",
    "                        outline_width=[0.3, 0.05], size=15,  frameon=False, add_outline=True, sort_order = False)"
   ]
  },
  {
   "cell_type": "code",
   "execution_count": null,
   "id": "39261aff",
   "metadata": {},
   "outputs": [],
   "source": [
    "path_to_h5ad = '/Users/xleana/Desktop/CD45/CD45new/Fig1pt1.h5ad'"
   ]
  },
  {
   "cell_type": "code",
   "execution_count": null,
   "id": "79d6b226",
   "metadata": {},
   "outputs": [],
   "source": [
    "adata_d0.write(path_to_h5ad)"
   ]
  },
  {
   "cell_type": "code",
   "execution_count": null,
   "id": "f3b7e6d1",
   "metadata": {},
   "outputs": [],
   "source": [
    "adata_d0 = sc.read_h5ad(path_to_h5ad)\n",
    "adata_d0.uns['log1p'][\"base\"] = None"
   ]
  },
  {
   "cell_type": "code",
   "execution_count": null,
   "id": "75b62781",
   "metadata": {},
   "outputs": [],
   "source": [
    "adata_d0"
   ]
  },
  {
   "cell_type": "markdown",
   "id": "7e9f4d49",
   "metadata": {},
   "source": [
    "## Data for fig. S5"
   ]
  },
  {
   "cell_type": "code",
   "execution_count": null,
   "id": "78accf98",
   "metadata": {},
   "outputs": [],
   "source": [
    "adata_d147 = adata[(adata.obs['day']!='d0')]"
   ]
  },
  {
   "cell_type": "code",
   "execution_count": null,
   "id": "3413ee95",
   "metadata": {},
   "outputs": [],
   "source": [
    "# Remove columns with all 0s\n",
    "sc.pp.filter_genes(adata_d147, min_cells=1)"
   ]
  },
  {
   "cell_type": "code",
   "execution_count": null,
   "id": "5b6cc021",
   "metadata": {},
   "outputs": [],
   "source": [
    "adata_d47 = adata_d147[adata_d147.obs['day']!='d1']"
   ]
  },
  {
   "cell_type": "code",
   "execution_count": null,
   "id": "6a38c729",
   "metadata": {},
   "outputs": [],
   "source": [
    "# Remove genes that are not expressed in any cells (remove columns with all 0s)\n",
    "sc.pp.filter_genes(adata_d47, min_cells=1)"
   ]
  },
  {
   "cell_type": "code",
   "execution_count": null,
   "id": "1e8b3569",
   "metadata": {},
   "outputs": [],
   "source": [
    "sc.pp.highly_variable_genes(adata_d47, n_top_genes=3000, flavor='seurat_v3',)"
   ]
  },
  {
   "cell_type": "code",
   "execution_count": null,
   "id": "3f855a52",
   "metadata": {},
   "outputs": [],
   "source": [
    "hvgs = adata_d47.var[adata_d47.var['highly_variable']==True].index"
   ]
  },
  {
   "cell_type": "code",
   "execution_count": null,
   "id": "399328bb",
   "metadata": {},
   "outputs": [],
   "source": [
    "adata_d147.var['highly_variable'] = ''"
   ]
  },
  {
   "cell_type": "code",
   "execution_count": null,
   "id": "eb0367de",
   "metadata": {},
   "outputs": [],
   "source": [
    "adata_d147.var['highly_variable'] = [True if x in hvgs else False for x in adata_d147.var['highly_variable'].index]"
   ]
  },
  {
   "cell_type": "code",
   "execution_count": null,
   "id": "41241d8f",
   "metadata": {},
   "outputs": [],
   "source": [
    "rng = np.random.RandomState(42)\n",
    "sc.tl.pca(adata_d147, n_comps=100, svd_solver='arpack', random_state=rng, use_highly_variable=True)"
   ]
  },
  {
   "cell_type": "code",
   "execution_count": null,
   "id": "e2b99eaa",
   "metadata": {},
   "outputs": [],
   "source": [
    "observe_variance(adata_d147)"
   ]
  },
  {
   "cell_type": "code",
   "execution_count": null,
   "id": "89ef1ede",
   "metadata": {},
   "outputs": [],
   "source": [
    "sc.tl.pca(adata_d147, n_comps=30, svd_solver='arpack', random_state=rng, use_highly_variable=True) "
   ]
  },
  {
   "cell_type": "code",
   "execution_count": null,
   "id": "338ac394",
   "metadata": {},
   "outputs": [],
   "source": [
    "sc.pp.neighbors(adata_d147, n_neighbors=15)\n",
    "sc.tl.umap(adata_d147)"
   ]
  },
  {
   "cell_type": "code",
   "execution_count": null,
   "id": "9268ce43",
   "metadata": {},
   "outputs": [],
   "source": [
    "#65\n",
    "sc.set_figure_params(dpi=80, dpi_save=300, color_map='viridis', vector_friendly=True, transparent=True)\n",
    "\n",
    "sc.pl.umap(\n",
    "    adata_d147, \n",
    "    color=['stage', 'day', 'sample', 'S100b'], \n",
    "    ncols=6,\n",
    "    outline_width=[0.6, 0.05],\n",
    "    size=15,\n",
    "    frameon=False,\n",
    "    cmap='Spectral_r',\n",
    "    wspace = 0.3,\n",
    "    add_outline=True\n",
    ")"
   ]
  },
  {
   "cell_type": "code",
   "execution_count": null,
   "id": "5cdd68e5",
   "metadata": {
    "scrolled": true
   },
   "outputs": [],
   "source": [
    "for resolution_parameter in [0.1, 0.2, 0.3, 0.4, 0.5, 0.6, 0.7, 0.8, 0.9, 1.0, 1.1, 1.2, 1.3, 1.4, 1.5]:\n",
    "    sc.tl.leiden(adata_d147, resolution=resolution_parameter, random_state=42, \n",
    "                        key_added='leiden_'+str(resolution_parameter))"
   ]
  },
  {
   "cell_type": "code",
   "execution_count": null,
   "id": "c106e1ae",
   "metadata": {},
   "outputs": [],
   "source": [
    "sc.set_figure_params(dpi=80, dpi_save=300, color_map='viridis', vector_friendly=False, transparent=True)\n",
    "sc.pl.umap(\n",
    "    adata_d147, \n",
    "    color=['leiden_0.1', 'leiden_0.2', 'leiden_0.3', 'leiden_0.4', 'leiden_0.5', \n",
    "           'leiden_0.6', 'leiden_0.7', 'leiden_0.8','leiden_0.9', 'leiden_1.0',\n",
    "           'leiden_1.1', 'leiden_1.2', 'leiden_1.3','leiden_1.4', 'leiden_1.5'], \n",
    "    palette=user_defined_palette,  \n",
    "    color_map='Spectral_r', \n",
    "    use_raw=False,\n",
    "    ncols=5,\n",
    "    wspace = 0.7,\n",
    "    outline_width=[0.6, 0.05],\n",
    "    size=15,\n",
    "    frameon=False,\n",
    "    add_outline=True,\n",
    "    sort_order = False\n",
    ")"
   ]
  },
  {
   "cell_type": "code",
   "execution_count": null,
   "id": "a1b682eb",
   "metadata": {},
   "outputs": [],
   "source": [
    "sc.set_figure_params(dpi=80, dpi_save=300, color_map='viridis', vector_friendly=False, transparent=True)\n",
    "sc.pl.umap(\n",
    "    adata_d147,\n",
    "    color=[\"Sox4\",\"Rorc\",\"Ncr1\",\"Klrk1\",\"Cxcr6\", 'Cd8b1',\"Cd4\",'Tnfrsf4',\"Foxp3\",\"H2-Aa\",\"Clec9a\",\"Xcr1\",\n",
    "           \"Sirpa\",\"Ccr7\",\"Fscn1\",'Cd79a', 'Ms4a1',\"Xbp1\",\"Igkc\",\"Msrb1\"], \n",
    "    palette=user_defined_palette,  \n",
    "    color_map='Spectral_r', \n",
    "    use_raw=False,\n",
    "    ncols=5,\n",
    "    wspace = 0.1,\n",
    "    outline_width=[0.6, 0.05],\n",
    "    size=15,\n",
    "    frameon=False,\n",
    "    add_outline=True,\n",
    "    sort_order = False\n",
    ")"
   ]
  },
  {
   "cell_type": "markdown",
   "id": "79c610c5",
   "metadata": {},
   "source": [
    "### Create group annotation"
   ]
  },
  {
   "cell_type": "code",
   "execution_count": null,
   "id": "2f8c7b91",
   "metadata": {},
   "outputs": [],
   "source": [
    "sc.tl.rank_genes_groups(adata_d147, 'leiden_0.3', method='wilcoxon', use_raw=False)\n",
    "sc.pl.rank_genes_groups(adata_d147, n_genes=25, sharey=False) "
   ]
  },
  {
   "cell_type": "code",
   "execution_count": null,
   "id": "7878e487",
   "metadata": {},
   "outputs": [],
   "source": [
    "adata_d147.obs['cell_type'] = ['B cells' if (x=='6' or x=='12') else \n",
    "                             'NKT cells' if (x=='0'or x=='4'or x=='2' ) else\n",
    "                             'NK cells' if (x=='9' ) else \n",
    "                             'CD4' if (x=='1'   ) else \n",
    "                             'CD8' if x=='5'or x=='11'  or x=='3'  else\n",
    "                             'DCs' if x=='10'or x=='13' else                             \n",
    "                             'ILCs' if x=='7' else\n",
    "                             'DN/DPs' if x=='8'\n",
    "                              else 'ERROR' for x in adata_d147.obs['leiden_0.3']] "
   ]
  },
  {
   "cell_type": "code",
   "execution_count": null,
   "id": "cbfad7bb",
   "metadata": {},
   "outputs": [],
   "source": [
    "sc.set_figure_params(dpi=80, dpi_save=300, color_map='viridis', vector_friendly=True, transparent=True)\n",
    "sc.pl.umap(\n",
    "    adata_d147, \n",
    "    color=['leiden_0.3','cell_type'], \n",
    "    palette=user_defined_palette,  \n",
    "    color_map='Spectral_r', \n",
    "    use_raw=False,\n",
    "    ncols=5,\n",
    "    wspace = 0.1,\n",
    "    outline_width=[0.3, 0.05],\n",
    "    size=15,\n",
    "    frameon=False,\n",
    "    add_outline=True,\n",
    "    sort_order = False,\n",
    "    legend_loc=\"on data\"\n",
    ")"
   ]
  },
  {
   "cell_type": "code",
   "execution_count": null,
   "id": "f190d4ed",
   "metadata": {},
   "outputs": [],
   "source": [
    "adata_d147.uns['cell_type_colors'] = ['#d62728','#19c9b3', '#FFA5D2', '#ff7f0e','#199919', '#aa40fc']"
   ]
  },
  {
   "cell_type": "code",
   "execution_count": null,
   "id": "d9486f65",
   "metadata": {},
   "outputs": [],
   "source": [
    "sc.pl.umap(adata_d147, color=['cell_type', 'stage', 'day'], \n",
    "                        color_map='Spectral_r',  use_raw=False, ncols=4, wspace = 0.3,\n",
    "                        outline_width=[0.6, 0.05], size=15,  frameon=False, add_outline=True, sort_order = False)"
   ]
  },
  {
   "cell_type": "code",
   "execution_count": null,
   "id": "21a5c684",
   "metadata": {},
   "outputs": [],
   "source": [
    "sc.pl.umap(adata_d147, color=['cell_type', 'stage', 'day'], \n",
    "                        color_map='Spectral_r',  use_raw=False, ncols=4, wspace = 0.3,\n",
    "                        outline_width=[0.6, 0.05], size=15,  frameon=False, add_outline=True, sort_order = False)"
   ]
  },
  {
   "cell_type": "code",
   "execution_count": null,
   "id": "c9c8bae0",
   "metadata": {},
   "outputs": [],
   "source": [
    "path_to_h5ad = '/Users/xleana/Desktop/CD45/CD45new/figS5.h5ad'"
   ]
  },
  {
   "cell_type": "code",
   "execution_count": null,
   "id": "47183944",
   "metadata": {},
   "outputs": [],
   "source": [
    "adata_d147.write(path_to_h5ad)"
   ]
  },
  {
   "cell_type": "markdown",
   "id": "23a0a494",
   "metadata": {},
   "source": [
    "## Data for Fig. 3"
   ]
  },
  {
   "cell_type": "code",
   "execution_count": null,
   "id": "4a9cb05b",
   "metadata": {},
   "outputs": [],
   "source": [
    "adata_d0147 = adata"
   ]
  },
  {
   "cell_type": "code",
   "execution_count": null,
   "id": "8abbe9e3",
   "metadata": {},
   "outputs": [],
   "source": [
    "# Remove columns with all 0s\n",
    "sc.pp.filter_genes(adata_d0147, min_cells=1)"
   ]
  },
  {
   "cell_type": "code",
   "execution_count": null,
   "id": "503caa4f",
   "metadata": {},
   "outputs": [],
   "source": [
    "adata_d047 = adata_d0147[adata_d0147.obs['day']!='d1']"
   ]
  },
  {
   "cell_type": "code",
   "execution_count": null,
   "id": "b2ed1314",
   "metadata": {},
   "outputs": [],
   "source": [
    "# Remove genes that are not expressed in any cells (remove columns with all 0s)\n",
    "sc.pp.filter_genes(adata_d047, min_cells=1)"
   ]
  },
  {
   "cell_type": "code",
   "execution_count": null,
   "id": "42f48f58",
   "metadata": {},
   "outputs": [],
   "source": [
    "sc.pp.highly_variable_genes(adata_d047, n_top_genes=3500, flavor='seurat_v3')"
   ]
  },
  {
   "cell_type": "code",
   "execution_count": null,
   "id": "77ebe4f5",
   "metadata": {},
   "outputs": [],
   "source": [
    "hvgs = adata_d047.var[adata_d047.var['highly_variable']==True].index"
   ]
  },
  {
   "cell_type": "code",
   "execution_count": null,
   "id": "411a8952",
   "metadata": {},
   "outputs": [],
   "source": [
    "adata_d0147.var['highly_variable'] = ''"
   ]
  },
  {
   "cell_type": "code",
   "execution_count": null,
   "id": "96a1c72b",
   "metadata": {},
   "outputs": [],
   "source": [
    "adata_d0147.var['highly_variable'] = [True if x in hvgs else False for x in adata_d0147.var['highly_variable'].index]"
   ]
  },
  {
   "cell_type": "code",
   "execution_count": null,
   "id": "e656a463",
   "metadata": {},
   "outputs": [],
   "source": [
    "rng = np.random.RandomState(42)\n",
    "sc.tl.pca(adata_d0147, n_comps=100, svd_solver='arpack', random_state=rng, use_highly_variable=True)"
   ]
  },
  {
   "cell_type": "code",
   "execution_count": null,
   "id": "83a4a6a1",
   "metadata": {},
   "outputs": [],
   "source": [
    "observe_variance(adata_d0147)"
   ]
  },
  {
   "cell_type": "code",
   "execution_count": null,
   "id": "bb61b4ce",
   "metadata": {},
   "outputs": [],
   "source": [
    "sc.tl.pca(adata_d0147, n_comps=65, svd_solver='arpack', random_state=rng, use_highly_variable=True) "
   ]
  },
  {
   "cell_type": "code",
   "execution_count": null,
   "id": "5b692ce2",
   "metadata": {},
   "outputs": [],
   "source": [
    "sc.pp.neighbors(adata_d0147, n_neighbors=15)\n",
    "sc.tl.umap(adata_d0147)"
   ]
  },
  {
   "cell_type": "code",
   "execution_count": null,
   "id": "9afcc4a7",
   "metadata": {},
   "outputs": [],
   "source": [
    "sc.set_figure_params(dpi=80, dpi_save=300, color_map='viridis', vector_friendly=True, transparent=True)\n",
    "\n",
    "sc.pl.umap(\n",
    "    adata_d0147, \n",
    "    color=['stage', 'day', 'sample'], \n",
    "    ncols=6,\n",
    "    outline_width=[0.6, 0.05],\n",
    "    size=15,\n",
    "    frameon=False,\n",
    "    cmap='Spectral_r',\n",
    "    wspace = 0.3,\n",
    "    add_outline=True\n",
    ")"
   ]
  },
  {
   "cell_type": "code",
   "execution_count": null,
   "id": "773d809c",
   "metadata": {},
   "outputs": [],
   "source": [
    "path_to_h5ad = '/Users/xleana/Desktop/CD45/CD45new/Fig3.h5ad'"
   ]
  },
  {
   "cell_type": "code",
   "execution_count": null,
   "id": "12269039",
   "metadata": {},
   "outputs": [],
   "source": [
    "adata_d0147.write(path_to_h5ad)"
   ]
  },
  {
   "cell_type": "code",
   "execution_count": null,
   "id": "e7efd2ed",
   "metadata": {},
   "outputs": [],
   "source": [
    "path_to_teichman_data = '/Users/xleana/Desktop/CD45/HTA08_v02_A04_Science_mouse_total.h5ad'"
   ]
  },
  {
   "cell_type": "code",
   "execution_count": null,
   "id": "ea4b183d",
   "metadata": {},
   "outputs": [],
   "source": [
    "teichman = sc.read_h5ad(path_to_teichman_data)\n"
   ]
  },
  {
   "cell_type": "code",
   "execution_count": null,
   "id": "7fb70141",
   "metadata": {},
   "outputs": [],
   "source": [
    "teichman.obs[\"cell_\"]"
   ]
  },
  {
   "cell_type": "code",
   "execution_count": null,
   "id": "cf82173d",
   "metadata": {},
   "outputs": [],
   "source": [
    "teichman_postnatal=teichman[teichman.obs[\"stage\"].isin([\"postnatal\"])]\n"
   ]
  },
  {
   "cell_type": "code",
   "execution_count": null,
   "id": "9a906d8f",
   "metadata": {},
   "outputs": [],
   "source": [
    "teichman_8W=teichman[teichman.obs[\"age\"].isin([\"8W\",\"4W\"])]\n"
   ]
  },
  {
   "cell_type": "code",
   "execution_count": null,
   "id": "27389e1d",
   "metadata": {},
   "outputs": [],
   "source": [
    "adata_d0"
   ]
  },
  {
   "cell_type": "code",
   "execution_count": null,
   "id": "ca9d8923",
   "metadata": {},
   "outputs": [],
   "source": [
    "teichman_8W_2 = teichman_8W[teichman_8W.obs['cell types'].isin(['B',\"CD4+T\",\"CD8+T\",\"DN(P)\",\"DN(Q)\"\n",
    "                                                               ,\"DP(P)\",\"DP(Q)\",\"Treg\",\"αβT(entry)\",\"γδT\",])]"
   ]
  },
  {
   "cell_type": "code",
   "execution_count": null,
   "id": "22ccf909",
   "metadata": {},
   "outputs": [],
   "source": [
    "teichman_8W"
   ]
  },
  {
   "cell_type": "code",
   "execution_count": null,
   "id": "736ff4de",
   "metadata": {},
   "outputs": [],
   "source": [
    "sc.pl.umap(teichman_8W_2, color=[\"Foxp3\",\"Cd8a\",\"Cd4\",\"cell types\",])"
   ]
  },
  {
   "cell_type": "code",
   "execution_count": null,
   "id": "af82a14d",
   "metadata": {},
   "outputs": [],
   "source": [
    "teichman_8W_2.obs[\"cell_type_subset\"]=teichman_8W_2.obs[\"cell types\"]"
   ]
  },
  {
   "cell_type": "code",
   "execution_count": null,
   "id": "c21efffc",
   "metadata": {},
   "outputs": [],
   "source": [
    "adata_d0annotated =sc.read_h5ad(\"/Users/xleana/Desktop/CD45/CD45new/Fig1pt1_annotated.h5ad\")"
   ]
  },
  {
   "cell_type": "code",
   "execution_count": null,
   "id": "121d2a11",
   "metadata": {},
   "outputs": [],
   "source": [
    "adata_d0annotated = adata_d0annotated[(adata_d0annotated.obs['stage'].isin([\"02mo\"]))]"
   ]
  },
  {
   "cell_type": "code",
   "execution_count": null,
   "id": "4cc07521",
   "metadata": {
    "scrolled": true
   },
   "outputs": [],
   "source": [
    "adata2 = sc.concat([adata_d0annotated,teichman_8W_2])"
   ]
  },
  {
   "cell_type": "code",
   "execution_count": null,
   "id": "76c8c2a9",
   "metadata": {},
   "outputs": [],
   "source": [
    "sc.pl.umap(adata2, color=\"cell_type_subset\")"
   ]
  },
  {
   "cell_type": "code",
   "execution_count": null,
   "id": "fe4c4695",
   "metadata": {},
   "outputs": [],
   "source": [
    "# Remove columns with all 0s\n",
    "sc.pp.filter_genes(adata2, min_cells=1)"
   ]
  },
  {
   "cell_type": "code",
   "execution_count": null,
   "id": "748bda93",
   "metadata": {},
   "outputs": [],
   "source": [
    "sc.pp.highly_variable_genes(adata2, n_top_genes=2000, n_bins=20, flavor='seurat_v3',  inplace=True)"
   ]
  },
  {
   "cell_type": "code",
   "execution_count": null,
   "id": "cf88452f",
   "metadata": {},
   "outputs": [],
   "source": [
    "rng = np.random.RandomState(42)\n",
    "sc.tl.pca(adata2, n_comps=100, svd_solver='arpack', random_state=rng, use_highly_variable=True)"
   ]
  },
  {
   "cell_type": "code",
   "execution_count": null,
   "id": "127c5663",
   "metadata": {},
   "outputs": [],
   "source": [
    "rng = np.random.RandomState(42)\n",
    "sc.tl.pca(adata2, n_comps=60, svd_solver='arpack', random_state=rng, use_highly_variable=True)"
   ]
  },
  {
   "cell_type": "code",
   "execution_count": null,
   "id": "cfd65e9e",
   "metadata": {},
   "outputs": [],
   "source": [
    "sc.pp.neighbors(adata2, n_neighbors=15)\n",
    "sc.tl.umap(adata2)"
   ]
  },
  {
   "cell_type": "code",
   "execution_count": null,
   "id": "aa55c9f8",
   "metadata": {},
   "outputs": [],
   "source": [
    "sc.pl.umap(adata2, color=['stage',\"cell_type_subset\"], \n",
    "                        color_map='Spectral_r',  use_raw=False, ncols=4, wspace = 0.3,\n",
    "                        outline_width=[0.6, 0.05], size=15,  frameon=False, add_outline=True, sort_order = False)"
   ]
  },
  {
   "cell_type": "code",
   "execution_count": null,
   "id": "ecefe58e",
   "metadata": {},
   "outputs": [],
   "source": [
    "import scanorama\n",
    "import numpy as np"
   ]
  },
  {
   "cell_type": "code",
   "execution_count": null,
   "id": "52f48a93",
   "metadata": {},
   "outputs": [],
   "source": [
    "YoungD0 = sc.read_h5ad('/Users/xleana/Desktop/ThymusVisium/results/003.h5ad')\n",
    "YoungD1 = sc.read_h5ad('/Users/xleana/Desktop/ThymusVisium/results/008.h5ad')\n",
    "YoungD4 = sc.read_h5ad('/Users/xleana/Desktop/ThymusVisium/results/011.h5ad')\n",
    "YoungD7 = sc.read_h5ad('/Users/xleana/Desktop/ThymusVisium/results/016.h5ad')\n",
    "\n",
    "AgedD0 = sc.read_h5ad('/Users/xleana/Desktop/ThymusVisium/results/019.h5ad')\n",
    "AgedD1 = sc.read_h5ad('/Users/xleana/Desktop/ThymusVisium/results/021.h5ad')\n",
    "AgedD4 = sc.read_h5ad('/Users/xleana/Desktop/ThymusVisium/results/023.h5ad')\n",
    "AgedD7 = sc.read_h5ad('/Users/xleana/Desktop/ThymusVisium/results/026.h5ad')"
   ]
  },
  {
   "cell_type": "code",
   "execution_count": null,
   "id": "f1282618",
   "metadata": {},
   "outputs": [],
   "source": [
    "# Adding some metadata\n",
    "YoungD0.obs['sample']=\"003\"\n",
    "YoungD1.obs['sample']=\"008\"\n",
    "YoungD4.obs['sample']=\"011\"\n",
    "YoungD7.obs['sample']=\"016\"\n",
    "\n",
    "AgedD0.obs['sample']=\"019\"\n",
    "AgedD1.obs['sample']=\"021\"\n",
    "AgedD4.obs['sample']=\"023\"\n",
    "AgedD7.obs['sample']=\"026\"\n",
    "\n",
    "\n",
    "YoungD0.obs['Age']=\"Young\"\n",
    "YoungD1.obs['Age']=\"Young\"\n",
    "YoungD4.obs['Age']=\"Young\"\n",
    "YoungD7.obs['Age']=\"Young\"\n",
    "AgedD0.obs['Age']=\"Old\"\n",
    "AgedD1.obs['Age']=\"Old\"\n",
    "AgedD4.obs['Age']=\"Old\"\n",
    "AgedD7.obs['Age']=\"Old\"\n",
    "\n",
    "\n",
    "YoungD0.obs['Day']=\"D0\"\n",
    "YoungD1.obs['Day']=\"D1\"\n",
    "YoungD4.obs['Day']=\"D4\"\n",
    "YoungD7.obs['Day']=\"D7\"\n",
    "\n",
    "AgedD0.obs['Day']=\"D0\"\n",
    "AgedD1.obs['Day']=\"D1\"\n",
    "AgedD4.obs['Day']=\"D4\"\n",
    "AgedD7.obs['Day']=\"D7\"\n"
   ]
  },
  {
   "cell_type": "code",
   "execution_count": null,
   "id": "4a0a8837",
   "metadata": {},
   "outputs": [],
   "source": [
    "new_cluster_names_YoungD0 = [\"Cortex\",\"Medulla\",\"CMJ\",\"B cell\",]\n",
    "YoungD0.rename_categories('leiden_0.4', new_cluster_names_YoungD0 ) \n",
    "YoungD0.uns['leiden_0.4_colors'] = [\"#0340a5\" ,\"#d62828\" ,\"#ff7f0f\" ,\"#007f00\" \n",
    "                                    ]\n",
    "sc.pl.spatial(YoungD0, color = [\"leiden_0.4\"])\n"
   ]
  },
  {
   "cell_type": "code",
   "execution_count": null,
   "id": "35eb4e92",
   "metadata": {},
   "outputs": [],
   "source": [
    "from mousipy import translate"
   ]
  },
  {
   "cell_type": "code",
   "execution_count": null,
   "id": "26dc0142",
   "metadata": {},
   "outputs": [],
   "source": [
    "humanized_mouse_adata = translate(adata2)"
   ]
  },
  {
   "cell_type": "code",
   "execution_count": null,
   "id": "cf0ae177",
   "metadata": {},
   "outputs": [],
   "source": [
    "humanized_mouse_visiumYoungD0 = translate(YoungD0)\n"
   ]
  },
  {
   "cell_type": "code",
   "execution_count": null,
   "id": "46773ef6",
   "metadata": {},
   "outputs": [],
   "source": [
    "humanized_mouse_adata "
   ]
  },
  {
   "cell_type": "code",
   "execution_count": null,
   "id": "23ff47db",
   "metadata": {},
   "outputs": [],
   "source": [
    "# List of datasets:\n",
    "adatas = [humanized_mouse_adata, humanized_mouse_visiumYoungD0 ]\n",
    "\n",
    "# Integration. \n",
    "scanorama.integrate_scanpy(adatas)\n"
   ]
  },
  {
   "cell_type": "code",
   "execution_count": null,
   "id": "6685d6d2",
   "metadata": {},
   "outputs": [],
   "source": [
    "total = humanized_mouse_adata.concatenate(\n",
    "    humanized_mouse_visiumYoungD0,\n",
    "    batch_key=\"dataset\",\n",
    "    batch_categories=[\"10x_Chromium\", \"10x_Visium\"],\n",
    "    join=\"outer\",\n",
    "    uns_merge=\"first\",\n",
    ")"
   ]
  },
  {
   "cell_type": "code",
   "execution_count": null,
   "id": "74814afa",
   "metadata": {},
   "outputs": [],
   "source": [
    "# Get all the integrated matrices.\n",
    "scanorama_int = [ad.obsm['X_scanorama'] for ad in adatas]\n",
    "\n",
    "# make into one matrix.\n",
    "all_s = np.concatenate(scanorama_int)\n",
    "print(all_s.shape)\n",
    "\n",
    "# add to the AnnData object\n",
    "total.obsm[\"scanorama_embedding\"] = all_s"
   ]
  },
  {
   "cell_type": "code",
   "execution_count": null,
   "id": "17b2ca8a",
   "metadata": {},
   "outputs": [],
   "source": [
    "from sklearn.metrics.pairwise import cosine_distances\n",
    "\n",
    "distances = 1 - cosine_distances(\n",
    "    total[total.obs.dataset == \"10x_Chromium\"].obsm[\n",
    "        \"scanorama_embedding\"\n",
    "    ],\n",
    "    total[total.obs.dataset == \"10x_Visium\"].obsm[\n",
    "        \"scanorama_embedding\"\n",
    "    ],\n",
    ")"
   ]
  },
  {
   "cell_type": "code",
   "execution_count": null,
   "id": "d948a2da",
   "metadata": {},
   "outputs": [],
   "source": [
    "humanized_mouse_adata"
   ]
  },
  {
   "cell_type": "code",
   "execution_count": null,
   "id": "6838d2d4",
   "metadata": {},
   "outputs": [],
   "source": [
    "def label_transfer(dist, labels):\n",
    "    lab = pd.get_dummies(labels).to_numpy().T\n",
    "    class_prob = lab @ dist\n",
    "    norm = np.linalg.norm(class_prob, 2, axis=0)\n",
    "    class_prob = class_prob / norm\n",
    "    class_prob = (class_prob.T - class_prob.min(1)) / class_prob.ptp(1)\n",
    "    return class_prob\n",
    "\n",
    "class_prob = label_transfer(distances, humanized_mouse_adata.obs[\"cell_type_subset\"])\n",
    "\n"
   ]
  },
  {
   "cell_type": "code",
   "execution_count": null,
   "id": "fa60bb98",
   "metadata": {},
   "outputs": [],
   "source": [
    "cp_df = pd.DataFrame(\n",
    "    class_prob, columns=np.sort(humanized_mouse_adata.obs[\"cell_type_subset\"].unique())\n",
    ")\n",
    "\n",
    "cp_df.index =  humanized_mouse_visiumYoungD0.obs.index"
   ]
  },
  {
   "cell_type": "code",
   "execution_count": null,
   "id": "898b1e9a",
   "metadata": {},
   "outputs": [],
   "source": [
    "adata_transferYoungD0 =  humanized_mouse_visiumYoungD0.copy()\n",
    "adata_transferYoungD0.obs = pd.concat(\n",
    "    [ humanized_mouse_visiumYoungD0.obs, cp_df], axis=1\n",
    ")"
   ]
  },
  {
   "cell_type": "code",
   "execution_count": null,
   "id": "5584c917",
   "metadata": {},
   "outputs": [],
   "source": [
    "adata_transferYoungD0.uns['regions_colors'] = [\"#007f00\" ,\"#ff7f0f\" ,\"#0340a5\" ,\"#d62828\" ,]\n"
   ]
  },
  {
   "cell_type": "code",
   "execution_count": null,
   "id": "bd735834",
   "metadata": {},
   "outputs": [],
   "source": [
    "adata_transferYoungD0.obs['regions'] = adata_transferYoungD0.obs[['leiden_0.4']]"
   ]
  },
  {
   "cell_type": "code",
   "execution_count": null,
   "id": "aad3e96e",
   "metadata": {},
   "outputs": [],
   "source": [
    "list(adata_transferYoungD0.obs)"
   ]
  },
  {
   "cell_type": "code",
   "execution_count": null,
   "id": "51a0da82",
   "metadata": {},
   "outputs": [],
   "source": [
    "sc.set_figure_params(dpi=80, dpi_save=300, color_map='viridis', vector_friendly=True, transparent=True)\n",
    "\n",
    "sc.pl.spatial(adata_transferYoungD0,\n",
    "                  img_key=\"hires\",\n",
    "                  color = [\"regions\",'DN(P)', 'DP(P)','αβT(entry)',\n",
    " 'γδT','CD4+T', 'Tregs', 'Treg', 'TFH',\n",
    " 'CD8+T',  'Cytotoxic CD8','CTLA4+ CD8','Memory B cells', 'Plasmacells', 'cDC1',\n",
    " 'cDC2', 'CCR7+ cDC', 'ILC3','NK',\n",
    " 'NKT1',\n",
    " \n",
    "\n",
    "\n",
    "\n",
    " ],\n",
    "                  size=1.5,\n",
    "                  use_raw=False,\n",
    "                  color_map='Spectral_r', \n",
    "                  ncols=5,\n",
    "                  vmax=[1.0,0.8,1.2,1.6,1.0,1.5,1.8,1.2,1.2,1.2,1.4,1.0,1.0,1.0,1.0,1.2,1.0,1.2,],\n",
    "                  vmin=0.4\n",
    "                  #save='_visium_18mo_d0_vmin-vmax.pdf'\n",
    "                 )"
   ]
  },
  {
   "cell_type": "code",
   "execution_count": null,
   "id": "07bcd797",
   "metadata": {
    "scrolled": true
   },
   "outputs": [],
   "source": [
    "sc.set_figure_params(dpi=80, dpi_save=300, color_map='viridis', vector_friendly=True, transparent=True)\n",
    "\n",
    "sc.pl.spatial(adata_transferYoungD0,\n",
    "                  img_key=\"hires\",\n",
    "                  color = ['Tregs', \"regions\"\n",
    " \n",
    "\n",
    "\n",
    "\n",
    " ],\n",
    "                  size=1.5,\n",
    "                  use_raw=False,\n",
    "                  color_map='Spectral_r', \n",
    "                  ncols=5,\n",
    "                  vmax=[1.0,0.8,1.2,1.6,1.0,1.5,1.8,1.2,1.2,1.2,1.4,1.0,1.0,1.0,1.0,1.2,1.0,1.2,],\n",
    "                  vmin=0.4\n",
    "                  #save='_visium_18mo_d0_vmin-vmax.pdf'\n",
    "                 )"
   ]
  },
  {
   "cell_type": "code",
   "execution_count": null,
   "id": "e235ad57",
   "metadata": {},
   "outputs": [],
   "source": [
    "Cortex= adata_transferYoungD0[adata_transferYoungD0.obs['regions'].isin([\"Cortex\"])]"
   ]
  },
  {
   "cell_type": "code",
   "execution_count": null,
   "id": "d30eeb6d",
   "metadata": {},
   "outputs": [],
   "source": [
    "sc.set_figure_params(dpi=80, dpi_save=300, color_map='viridis', vector_friendly=True, transparent=True)\n",
    "\n",
    "sc.pl.spatial(Cortex,\n",
    "                  img_key=\"hires\",\n",
    "                  color = ['Tregs', \"regions\"\n",
    " \n",
    "\n",
    "\n",
    "\n",
    " ],\n",
    "                  size=1.5,\n",
    "                  use_raw=False,\n",
    "                  color_map='Spectral_r', \n",
    "                  ncols=5,\n",
    "                  vmax=[1.0,0.8,1.2,1.6,1.0,1.5,1.8,1.2,1.2,1.2,1.4,1.0,1.0,1.0,1.0,1.2,1.0,1.2,],\n",
    "                  vmin=0.4\n",
    "                  #save='_visium_18mo_d0_vmin-vmax.pdf'\n",
    "                 )"
   ]
  },
  {
   "cell_type": "code",
   "execution_count": null,
   "id": "573b9b1d",
   "metadata": {},
   "outputs": [],
   "source": [
    "Cortex.obs[\"Tregs2\"]=Cortex.obs[\"Tregs\"].astype('category')\n"
   ]
  },
  {
   "cell_type": "code",
   "execution_count": null,
   "id": "f8f38296",
   "metadata": {},
   "outputs": [],
   "source": [
    "Cortex.obs[\"Tregs2\"].apply(str)\n"
   ]
  },
  {
   "cell_type": "code",
   "execution_count": null,
   "id": "81a7faff",
   "metadata": {},
   "outputs": [],
   "source": [
    "Cortex.obs['Tregspos'] = ['Positive' if (x>'0.5') else \n",
    "                             \"Negative\" if (x<'0.5')\n",
    "                              else 'ERROR' for x in Cortex.obs['Tregs'].apply(str)] "
   ]
  },
  {
   "cell_type": "code",
   "execution_count": null,
   "id": "42939595",
   "metadata": {},
   "outputs": [],
   "source": [
    "sc.pp.log1p(Cortex)\n",
    "\n",
    "sc.tl.rank_genes_groups(Cortex, 'Tregspos', method='wilcoxon')\n",
    "sc.pl.rank_genes_groups(Cortex, n_genes=25, sharey=False)"
   ]
  },
  {
   "cell_type": "code",
   "execution_count": null,
   "id": "259dcf5e",
   "metadata": {},
   "outputs": [],
   "source": [
    "sc.pl.rank_genes_groups_matrixplot(Cortex,\n",
    "                                n_genes=20, use_raw=False, swap_axes=False, standard_scale=\"var\",       \n",
    "                           \n",
    "                                figsize=(12,1),show=False);"
   ]
  },
  {
   "cell_type": "code",
   "execution_count": null,
   "id": "fc4e5329",
   "metadata": {},
   "outputs": [],
   "source": [
    "sc.set_figure_params(dpi=80, dpi_save=300, color_map='viridis', vector_friendly=True, transparent=True)\n",
    "\n",
    "sc.pl.spatial(Cortex,\n",
    "                  img_key=\"hires\",\n",
    "                  color = ['Tregs', \"regions\",'Tregspos'\n",
    " \n",
    "\n",
    "\n",
    "\n",
    " ],\n",
    "                  size=1.5,\n",
    "                  use_raw=False,\n",
    "                  color_map='Spectral_r', \n",
    "                  ncols=5,\n",
    "                  vmax=[1.0,0.8,1.2,1.6,1.0,1.5,1.8,1.2,1.2,1.2,1.4,1.0,1.0,1.0,1.0,1.2,1.0,1.2,],\n",
    "                  vmin=0.4\n",
    "                  #save='_visium_18mo_d0_vmin-vmax.pdf'\n",
    "                 )"
   ]
  },
  {
   "cell_type": "code",
   "execution_count": null,
   "id": "40185439",
   "metadata": {},
   "outputs": [],
   "source": [
    "sc.tl.rank_genes_groups(cl0, 'Age', method='wilcoxon', key_added = \"wilcoxon\")\n",
    "sc.pl.rank_genes_groups(cl0, n_genes=25, sharey=False, key=\"wilcoxon\")\n"
   ]
  },
  {
   "cell_type": "code",
   "execution_count": null,
   "id": "c4587302",
   "metadata": {
    "scrolled": true
   },
   "outputs": [],
   "source": [
    "for resolution_parameter in [0.1, 0.2, 0.3, 0.4, 0.5, 0.6, 0.7, 0.8, 0.9, 1.0]:\n",
    "    sc.tl.leiden(adata2, resolution=resolution_parameter, random_state=42, \n",
    "                        key_added='leiden_'+str(resolution_parameter))"
   ]
  },
  {
   "cell_type": "code",
   "execution_count": null,
   "id": "054b3056",
   "metadata": {},
   "outputs": [],
   "source": [
    "sc.set_figure_params(dpi=80, dpi_save=300, color_map='viridis', vector_friendly=False, transparent=True)\n",
    "sc.pl.umap(\n",
    "    adata2, \n",
    "    color=['leiden_0.1', 'leiden_0.2', 'leiden_0.3', 'leiden_0.4', 'leiden_0.5', \n",
    "           'leiden_0.6', 'leiden_0.7', 'leiden_0.8','leiden_0.9', 'leiden_1.0'], \n",
    "    palette=user_defined_palette,  \n",
    "    color_map='Spectral_r', \n",
    "    use_raw=False,\n",
    "    ncols=5,\n",
    "    wspace = 0.7,\n",
    "    outline_width=[0.6, 0.05],\n",
    "    size=15,\n",
    "    frameon=False,\n",
    "    add_outline=True,\n",
    "    sort_order = False\n",
    ")"
   ]
  },
  {
   "cell_type": "code",
   "execution_count": null,
   "id": "2d9a608b",
   "metadata": {},
   "outputs": [],
   "source": [
    "sc.set_figure_params(dpi=80, dpi_save=300, color_map='viridis', vector_friendly=False, transparent=True)\n",
    "sc.pl.umap(\n",
    "    adata2, \n",
    "    color=[\"Sox4\",\"Rorc\",\"Ncr1\",\"Klrk1\",\"Cxcr6\", 'Cd8b1',\"Cd4\",'Tnfrsf4',\"Foxp3\",\"H2-Aa\",\"Clec9a\",\"Xcr1\",\n",
    "           \"Sirpa\",\"Ccr7\",\"Fscn1\",'Cd79a', 'Ms4a1',\"Xbp1\",\"Msrb1\"],  \n",
    "\n",
    ")"
   ]
  }
 ],
 "metadata": {
  "kernelspec": {
   "display_name": "Python [conda env:anaconda3-workshop_2023]",
   "language": "python",
   "name": "conda-env-anaconda3-workshop_2023-py"
  },
  "language_info": {
   "codemirror_mode": {
    "name": "ipython",
    "version": 3
   },
   "file_extension": ".py",
   "mimetype": "text/x-python",
   "name": "python",
   "nbconvert_exporter": "python",
   "pygments_lexer": "ipython3",
   "version": "3.8.16"
  }
 },
 "nbformat": 4,
 "nbformat_minor": 5
}
